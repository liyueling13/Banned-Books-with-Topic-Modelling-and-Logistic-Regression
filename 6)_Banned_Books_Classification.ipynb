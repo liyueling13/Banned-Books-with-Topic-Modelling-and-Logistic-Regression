{
  "nbformat": 4,
  "nbformat_minor": 0,
  "metadata": {
    "colab": {
      "provenance": [],
      "authorship_tag": "ABX9TyNznHsrZ/066mgOnGJ1HXWG",
      "include_colab_link": true
    },
    "kernelspec": {
      "name": "python3",
      "display_name": "Python 3"
    },
    "language_info": {
      "name": "python"
    }
  },
  "cells": [
    {
      "cell_type": "markdown",
      "metadata": {
        "id": "view-in-github",
        "colab_type": "text"
      },
      "source": [
        "<a href=\"https://colab.research.google.com/github/liyueling13/Predicting-Banned-Books/blob/main/6)_Banned_Books_Classification.ipynb\" target=\"_parent\"><img src=\"https://colab.research.google.com/assets/colab-badge.svg\" alt=\"Open In Colab\"/></a>"
      ]
    },
    {
      "cell_type": "markdown",
      "source": [
        "# 6) Banned Books - Classification\n",
        "\n",
        "Let's see if we can use the features we engineered from book desriptions to predict whether a book is banned.\n",
        "\n",
        "11/10/23"
      ],
      "metadata": {
        "id": "3QXae-vw9uVs"
      }
    },
    {
      "cell_type": "markdown",
      "source": [
        "## Setup"
      ],
      "metadata": {
        "id": "NS3lmpAH95Qi"
      }
    },
    {
      "cell_type": "code",
      "execution_count": 1,
      "metadata": {
        "id": "RnVIuxGZ2ITr"
      },
      "outputs": [],
      "source": [
        "# this performs line wrapping on output text in Colab\n",
        "\n",
        "from IPython.display import HTML, display\n",
        "\n",
        "def set_css():\n",
        "  display(HTML('''\n",
        "  <style>\n",
        "    pre {\n",
        "        white-space: pre-wrap;\n",
        "    }\n",
        "  </style>\n",
        "  '''))\n",
        "get_ipython().events.register('pre_run_cell', set_css)"
      ]
    },
    {
      "cell_type": "code",
      "source": [
        "# mount drive\n",
        "from google.colab import drive\n",
        "drive.mount('/content/drive')\n",
        "import os\n",
        "os.chdir('/content/drive/My Drive/Data Science/Springboard assignments/Capstone Three/Banned Books')"
      ],
      "metadata": {
        "colab": {
          "base_uri": "https://localhost:8080/",
          "height": 34
        },
        "id": "YxEPylQC96ld",
        "outputId": "269f57a4-4ff2-4bc6-acc3-4a84eeecaf10"
      },
      "execution_count": 2,
      "outputs": [
        {
          "output_type": "display_data",
          "data": {
            "text/plain": [
              "<IPython.core.display.HTML object>"
            ],
            "text/html": [
              "\n",
              "  <style>\n",
              "    pre {\n",
              "        white-space: pre-wrap;\n",
              "    }\n",
              "  </style>\n",
              "  "
            ]
          },
          "metadata": {}
        },
        {
          "output_type": "stream",
          "name": "stdout",
          "text": [
            "Mounted at /content/drive\n"
          ]
        }
      ]
    },
    {
      "cell_type": "code",
      "source": [
        "import numpy as np\n",
        "import pandas as pd"
      ],
      "metadata": {
        "colab": {
          "base_uri": "https://localhost:8080/",
          "height": 17
        },
        "id": "j3OcV8SH9719",
        "outputId": "3491deeb-75ff-4cea-8534-abe2bf6d7471"
      },
      "execution_count": 3,
      "outputs": [
        {
          "output_type": "display_data",
          "data": {
            "text/plain": [
              "<IPython.core.display.HTML object>"
            ],
            "text/html": [
              "\n",
              "  <style>\n",
              "    pre {\n",
              "        white-space: pre-wrap;\n",
              "    }\n",
              "  </style>\n",
              "  "
            ]
          },
          "metadata": {}
        }
      ]
    },
    {
      "cell_type": "code",
      "source": [
        "import matplotlib.pyplot as plt\n",
        "import seaborn as sns"
      ],
      "metadata": {
        "colab": {
          "base_uri": "https://localhost:8080/",
          "height": 17
        },
        "id": "HP3VBgO69_eF",
        "outputId": "8b350b40-5ea9-4902-b55b-2c076cc788cd"
      },
      "execution_count": 4,
      "outputs": [
        {
          "output_type": "display_data",
          "data": {
            "text/plain": [
              "<IPython.core.display.HTML object>"
            ],
            "text/html": [
              "\n",
              "  <style>\n",
              "    pre {\n",
              "        white-space: pre-wrap;\n",
              "    }\n",
              "  </style>\n",
              "  "
            ]
          },
          "metadata": {}
        }
      ]
    },
    {
      "cell_type": "markdown",
      "source": [
        "## Train/Test Split and Dummy Classifier Baseline"
      ],
      "metadata": {
        "id": "v3U6aYqmFO0x"
      }
    },
    {
      "cell_type": "code",
      "source": [
        "prediction_df = pd.read_csv('prediction_df.csv')\n",
        "prediction_df"
      ],
      "metadata": {
        "colab": {
          "base_uri": "https://localhost:8080/",
          "height": 1000
        },
        "id": "nvACaf7s-hKb",
        "outputId": "4e97673f-bed1-48b8-e7e5-14016a6662d0"
      },
      "execution_count": 5,
      "outputs": [
        {
          "output_type": "display_data",
          "data": {
            "text/plain": [
              "<IPython.core.display.HTML object>"
            ],
            "text/html": [
              "\n",
              "  <style>\n",
              "    pre {\n",
              "        white-space: pre-wrap;\n",
              "    }\n",
              "  </style>\n",
              "  "
            ]
          },
          "metadata": {}
        },
        {
          "output_type": "execute_result",
          "data": {
            "text/plain": [
              "                    author                     title  label  \\\n",
              "0            Arundhati Roy   The God of Small Things      1   \n",
              "1     Kevin Noble Maillard                 Fry Bread      1   \n",
              "2                 Oge Mora                  Saturday      1   \n",
              "3           Jeffery Deaver        The Bone Collector      0   \n",
              "4          Jennifer Probst      The Marriage Bargain      0   \n",
              "...                    ...                       ...    ...   \n",
              "1472          Arvin Ahmadi        How It All Blew Up      1   \n",
              "1473      Jaye Robin Brown     The Key to You and Me      1   \n",
              "1474     Victoria Jamieson  When Stars Are Scattered      1   \n",
              "1475          Megan Atwood          Raise the Stakes      1   \n",
              "1476   Niccolo Machiavelli                The Prince      0   \n",
              "\n",
              "                                            description  nyt_author  \\\n",
              "0     debut novel affluent indian family fateful day...     0.03021   \n",
              "1     winner robert sibert informational book medal ...     0.03985   \n",
              "2                 special saturday plan mother way time     0.04611   \n",
              "3     miss television series lincoln rhyme hunt bone...     0.05074   \n",
              "4     order selfish need bookstore owner billionaire...     0.00000   \n",
              "...                                                 ...         ...   \n",
              "1472  simon homo sapiens agenda italy ahmadi newest ...     0.00737   \n",
              "1473  sweet funny lgbtq romance perfect fan becky al...     0.00872   \n",
              "1474  national book award finalist remarkable graphi...     0.02666   \n",
              "1475  audisee audio combine professional narration s...     0.00365   \n",
              "1476  machiavelli influential treatise political pow...     0.00000   \n",
              "\n",
              "      middle_and_high_school  award_winning_childrens  gender_and_sexuality  \\\n",
              "0                    0.00000                  0.00000               0.00000   \n",
              "1                    0.01887                  0.19760               0.00000   \n",
              "2                    0.00214                  0.00000               0.00000   \n",
              "3                    0.00196                  0.00000               0.00000   \n",
              "4                    0.00000                  0.00000               0.00000   \n",
              "...                      ...                      ...                   ...   \n",
              "1472                 0.00000                  0.00000               0.01545   \n",
              "1473                 0.00000                  0.00616               0.00000   \n",
              "1474                 0.03437                  0.01576               0.00000   \n",
              "1475                 0.00000                  0.00000               0.01220   \n",
              "1476                 0.00000                  0.00000               0.00000   \n",
              "\n",
              "      families_and_home  race_and_america  growing_up  young_woman_meets_man  \\\n",
              "0               0.08918           0.00000     0.04075                0.00000   \n",
              "1               0.03409           0.02503     0.00571                0.00000   \n",
              "2               0.03452           0.00000     0.01626                0.00000   \n",
              "3               0.00000           0.00357     0.00000                0.00000   \n",
              "4               0.00000           0.00000     0.06071                0.00000   \n",
              "...                 ...               ...         ...                    ...   \n",
              "1472            0.03822           0.01567     0.09490                0.02039   \n",
              "1473            0.00000           0.00021     0.00000                0.00000   \n",
              "1474            0.09213           0.00000     0.00724                0.01363   \n",
              "1475            0.00931           0.00000     0.00791                0.00322   \n",
              "1476            0.00000           0.00000     0.00398                0.00000   \n",
              "\n",
              "      classics  boy_girl_story  book_series  lgbtq_sexuality  friendship  \\\n",
              "0      0.05655         0.01540      0.01050          0.00000     0.01384   \n",
              "1      0.00000         0.00000      0.00000          0.00000     0.00000   \n",
              "2      0.00000         0.00769      0.00000          0.00306     0.01487   \n",
              "3      0.01026         0.00323      0.06275          0.00000     0.00000   \n",
              "4      0.00000         0.00000      0.00000          0.00000     0.10148   \n",
              "...        ...             ...          ...              ...         ...   \n",
              "1472   0.00000         0.00000      0.00716          0.00206     0.06154   \n",
              "1473   0.00000         0.04664      0.00000          0.00235     0.12218   \n",
              "1474   0.00000         0.02665      0.00188          0.00375     0.00623   \n",
              "1475   0.00882         0.01792      0.01367          0.03065     0.00817   \n",
              "1476   0.34751         0.00000      0.00126          0.00000     0.00211   \n",
              "\n",
              "      prize_novel  \n",
              "0         0.10782  \n",
              "1         0.00016  \n",
              "2         0.00000  \n",
              "3         0.01957  \n",
              "4         0.00222  \n",
              "...           ...  \n",
              "1472      0.02668  \n",
              "1473      0.03016  \n",
              "1474      0.10011  \n",
              "1475      0.00476  \n",
              "1476      0.00000  \n",
              "\n",
              "[1477 rows x 18 columns]"
            ],
            "text/html": [
              "\n",
              "  <div id=\"df-31bb7e32-0fa7-457f-822d-2ef467b4f9f9\" class=\"colab-df-container\">\n",
              "    <div>\n",
              "<style scoped>\n",
              "    .dataframe tbody tr th:only-of-type {\n",
              "        vertical-align: middle;\n",
              "    }\n",
              "\n",
              "    .dataframe tbody tr th {\n",
              "        vertical-align: top;\n",
              "    }\n",
              "\n",
              "    .dataframe thead th {\n",
              "        text-align: right;\n",
              "    }\n",
              "</style>\n",
              "<table border=\"1\" class=\"dataframe\">\n",
              "  <thead>\n",
              "    <tr style=\"text-align: right;\">\n",
              "      <th></th>\n",
              "      <th>author</th>\n",
              "      <th>title</th>\n",
              "      <th>label</th>\n",
              "      <th>description</th>\n",
              "      <th>nyt_author</th>\n",
              "      <th>middle_and_high_school</th>\n",
              "      <th>award_winning_childrens</th>\n",
              "      <th>gender_and_sexuality</th>\n",
              "      <th>families_and_home</th>\n",
              "      <th>race_and_america</th>\n",
              "      <th>growing_up</th>\n",
              "      <th>young_woman_meets_man</th>\n",
              "      <th>classics</th>\n",
              "      <th>boy_girl_story</th>\n",
              "      <th>book_series</th>\n",
              "      <th>lgbtq_sexuality</th>\n",
              "      <th>friendship</th>\n",
              "      <th>prize_novel</th>\n",
              "    </tr>\n",
              "  </thead>\n",
              "  <tbody>\n",
              "    <tr>\n",
              "      <th>0</th>\n",
              "      <td>Arundhati Roy</td>\n",
              "      <td>The God of Small Things</td>\n",
              "      <td>1</td>\n",
              "      <td>debut novel affluent indian family fateful day...</td>\n",
              "      <td>0.03021</td>\n",
              "      <td>0.00000</td>\n",
              "      <td>0.00000</td>\n",
              "      <td>0.00000</td>\n",
              "      <td>0.08918</td>\n",
              "      <td>0.00000</td>\n",
              "      <td>0.04075</td>\n",
              "      <td>0.00000</td>\n",
              "      <td>0.05655</td>\n",
              "      <td>0.01540</td>\n",
              "      <td>0.01050</td>\n",
              "      <td>0.00000</td>\n",
              "      <td>0.01384</td>\n",
              "      <td>0.10782</td>\n",
              "    </tr>\n",
              "    <tr>\n",
              "      <th>1</th>\n",
              "      <td>Kevin Noble Maillard</td>\n",
              "      <td>Fry Bread</td>\n",
              "      <td>1</td>\n",
              "      <td>winner robert sibert informational book medal ...</td>\n",
              "      <td>0.03985</td>\n",
              "      <td>0.01887</td>\n",
              "      <td>0.19760</td>\n",
              "      <td>0.00000</td>\n",
              "      <td>0.03409</td>\n",
              "      <td>0.02503</td>\n",
              "      <td>0.00571</td>\n",
              "      <td>0.00000</td>\n",
              "      <td>0.00000</td>\n",
              "      <td>0.00000</td>\n",
              "      <td>0.00000</td>\n",
              "      <td>0.00000</td>\n",
              "      <td>0.00000</td>\n",
              "      <td>0.00016</td>\n",
              "    </tr>\n",
              "    <tr>\n",
              "      <th>2</th>\n",
              "      <td>Oge Mora</td>\n",
              "      <td>Saturday</td>\n",
              "      <td>1</td>\n",
              "      <td>special saturday plan mother way time</td>\n",
              "      <td>0.04611</td>\n",
              "      <td>0.00214</td>\n",
              "      <td>0.00000</td>\n",
              "      <td>0.00000</td>\n",
              "      <td>0.03452</td>\n",
              "      <td>0.00000</td>\n",
              "      <td>0.01626</td>\n",
              "      <td>0.00000</td>\n",
              "      <td>0.00000</td>\n",
              "      <td>0.00769</td>\n",
              "      <td>0.00000</td>\n",
              "      <td>0.00306</td>\n",
              "      <td>0.01487</td>\n",
              "      <td>0.00000</td>\n",
              "    </tr>\n",
              "    <tr>\n",
              "      <th>3</th>\n",
              "      <td>Jeffery Deaver</td>\n",
              "      <td>The Bone Collector</td>\n",
              "      <td>0</td>\n",
              "      <td>miss television series lincoln rhyme hunt bone...</td>\n",
              "      <td>0.05074</td>\n",
              "      <td>0.00196</td>\n",
              "      <td>0.00000</td>\n",
              "      <td>0.00000</td>\n",
              "      <td>0.00000</td>\n",
              "      <td>0.00357</td>\n",
              "      <td>0.00000</td>\n",
              "      <td>0.00000</td>\n",
              "      <td>0.01026</td>\n",
              "      <td>0.00323</td>\n",
              "      <td>0.06275</td>\n",
              "      <td>0.00000</td>\n",
              "      <td>0.00000</td>\n",
              "      <td>0.01957</td>\n",
              "    </tr>\n",
              "    <tr>\n",
              "      <th>4</th>\n",
              "      <td>Jennifer Probst</td>\n",
              "      <td>The Marriage Bargain</td>\n",
              "      <td>0</td>\n",
              "      <td>order selfish need bookstore owner billionaire...</td>\n",
              "      <td>0.00000</td>\n",
              "      <td>0.00000</td>\n",
              "      <td>0.00000</td>\n",
              "      <td>0.00000</td>\n",
              "      <td>0.00000</td>\n",
              "      <td>0.00000</td>\n",
              "      <td>0.06071</td>\n",
              "      <td>0.00000</td>\n",
              "      <td>0.00000</td>\n",
              "      <td>0.00000</td>\n",
              "      <td>0.00000</td>\n",
              "      <td>0.00000</td>\n",
              "      <td>0.10148</td>\n",
              "      <td>0.00222</td>\n",
              "    </tr>\n",
              "    <tr>\n",
              "      <th>...</th>\n",
              "      <td>...</td>\n",
              "      <td>...</td>\n",
              "      <td>...</td>\n",
              "      <td>...</td>\n",
              "      <td>...</td>\n",
              "      <td>...</td>\n",
              "      <td>...</td>\n",
              "      <td>...</td>\n",
              "      <td>...</td>\n",
              "      <td>...</td>\n",
              "      <td>...</td>\n",
              "      <td>...</td>\n",
              "      <td>...</td>\n",
              "      <td>...</td>\n",
              "      <td>...</td>\n",
              "      <td>...</td>\n",
              "      <td>...</td>\n",
              "      <td>...</td>\n",
              "    </tr>\n",
              "    <tr>\n",
              "      <th>1472</th>\n",
              "      <td>Arvin Ahmadi</td>\n",
              "      <td>How It All Blew Up</td>\n",
              "      <td>1</td>\n",
              "      <td>simon homo sapiens agenda italy ahmadi newest ...</td>\n",
              "      <td>0.00737</td>\n",
              "      <td>0.00000</td>\n",
              "      <td>0.00000</td>\n",
              "      <td>0.01545</td>\n",
              "      <td>0.03822</td>\n",
              "      <td>0.01567</td>\n",
              "      <td>0.09490</td>\n",
              "      <td>0.02039</td>\n",
              "      <td>0.00000</td>\n",
              "      <td>0.00000</td>\n",
              "      <td>0.00716</td>\n",
              "      <td>0.00206</td>\n",
              "      <td>0.06154</td>\n",
              "      <td>0.02668</td>\n",
              "    </tr>\n",
              "    <tr>\n",
              "      <th>1473</th>\n",
              "      <td>Jaye Robin Brown</td>\n",
              "      <td>The Key to You and Me</td>\n",
              "      <td>1</td>\n",
              "      <td>sweet funny lgbtq romance perfect fan becky al...</td>\n",
              "      <td>0.00872</td>\n",
              "      <td>0.00000</td>\n",
              "      <td>0.00616</td>\n",
              "      <td>0.00000</td>\n",
              "      <td>0.00000</td>\n",
              "      <td>0.00021</td>\n",
              "      <td>0.00000</td>\n",
              "      <td>0.00000</td>\n",
              "      <td>0.00000</td>\n",
              "      <td>0.04664</td>\n",
              "      <td>0.00000</td>\n",
              "      <td>0.00235</td>\n",
              "      <td>0.12218</td>\n",
              "      <td>0.03016</td>\n",
              "    </tr>\n",
              "    <tr>\n",
              "      <th>1474</th>\n",
              "      <td>Victoria Jamieson</td>\n",
              "      <td>When Stars Are Scattered</td>\n",
              "      <td>1</td>\n",
              "      <td>national book award finalist remarkable graphi...</td>\n",
              "      <td>0.02666</td>\n",
              "      <td>0.03437</td>\n",
              "      <td>0.01576</td>\n",
              "      <td>0.00000</td>\n",
              "      <td>0.09213</td>\n",
              "      <td>0.00000</td>\n",
              "      <td>0.00724</td>\n",
              "      <td>0.01363</td>\n",
              "      <td>0.00000</td>\n",
              "      <td>0.02665</td>\n",
              "      <td>0.00188</td>\n",
              "      <td>0.00375</td>\n",
              "      <td>0.00623</td>\n",
              "      <td>0.10011</td>\n",
              "    </tr>\n",
              "    <tr>\n",
              "      <th>1475</th>\n",
              "      <td>Megan Atwood</td>\n",
              "      <td>Raise the Stakes</td>\n",
              "      <td>1</td>\n",
              "      <td>audisee audio combine professional narration s...</td>\n",
              "      <td>0.00365</td>\n",
              "      <td>0.00000</td>\n",
              "      <td>0.00000</td>\n",
              "      <td>0.01220</td>\n",
              "      <td>0.00931</td>\n",
              "      <td>0.00000</td>\n",
              "      <td>0.00791</td>\n",
              "      <td>0.00322</td>\n",
              "      <td>0.00882</td>\n",
              "      <td>0.01792</td>\n",
              "      <td>0.01367</td>\n",
              "      <td>0.03065</td>\n",
              "      <td>0.00817</td>\n",
              "      <td>0.00476</td>\n",
              "    </tr>\n",
              "    <tr>\n",
              "      <th>1476</th>\n",
              "      <td>Niccolo Machiavelli</td>\n",
              "      <td>The Prince</td>\n",
              "      <td>0</td>\n",
              "      <td>machiavelli influential treatise political pow...</td>\n",
              "      <td>0.00000</td>\n",
              "      <td>0.00000</td>\n",
              "      <td>0.00000</td>\n",
              "      <td>0.00000</td>\n",
              "      <td>0.00000</td>\n",
              "      <td>0.00000</td>\n",
              "      <td>0.00398</td>\n",
              "      <td>0.00000</td>\n",
              "      <td>0.34751</td>\n",
              "      <td>0.00000</td>\n",
              "      <td>0.00126</td>\n",
              "      <td>0.00000</td>\n",
              "      <td>0.00211</td>\n",
              "      <td>0.00000</td>\n",
              "    </tr>\n",
              "  </tbody>\n",
              "</table>\n",
              "<p>1477 rows × 18 columns</p>\n",
              "</div>\n",
              "    <div class=\"colab-df-buttons\">\n",
              "\n",
              "  <div class=\"colab-df-container\">\n",
              "    <button class=\"colab-df-convert\" onclick=\"convertToInteractive('df-31bb7e32-0fa7-457f-822d-2ef467b4f9f9')\"\n",
              "            title=\"Convert this dataframe to an interactive table.\"\n",
              "            style=\"display:none;\">\n",
              "\n",
              "  <svg xmlns=\"http://www.w3.org/2000/svg\" height=\"24px\" viewBox=\"0 -960 960 960\">\n",
              "    <path d=\"M120-120v-720h720v720H120Zm60-500h600v-160H180v160Zm220 220h160v-160H400v160Zm0 220h160v-160H400v160ZM180-400h160v-160H180v160Zm440 0h160v-160H620v160ZM180-180h160v-160H180v160Zm440 0h160v-160H620v160Z\"/>\n",
              "  </svg>\n",
              "    </button>\n",
              "\n",
              "  <style>\n",
              "    .colab-df-container {\n",
              "      display:flex;\n",
              "      gap: 12px;\n",
              "    }\n",
              "\n",
              "    .colab-df-convert {\n",
              "      background-color: #E8F0FE;\n",
              "      border: none;\n",
              "      border-radius: 50%;\n",
              "      cursor: pointer;\n",
              "      display: none;\n",
              "      fill: #1967D2;\n",
              "      height: 32px;\n",
              "      padding: 0 0 0 0;\n",
              "      width: 32px;\n",
              "    }\n",
              "\n",
              "    .colab-df-convert:hover {\n",
              "      background-color: #E2EBFA;\n",
              "      box-shadow: 0px 1px 2px rgba(60, 64, 67, 0.3), 0px 1px 3px 1px rgba(60, 64, 67, 0.15);\n",
              "      fill: #174EA6;\n",
              "    }\n",
              "\n",
              "    .colab-df-buttons div {\n",
              "      margin-bottom: 4px;\n",
              "    }\n",
              "\n",
              "    [theme=dark] .colab-df-convert {\n",
              "      background-color: #3B4455;\n",
              "      fill: #D2E3FC;\n",
              "    }\n",
              "\n",
              "    [theme=dark] .colab-df-convert:hover {\n",
              "      background-color: #434B5C;\n",
              "      box-shadow: 0px 1px 3px 1px rgba(0, 0, 0, 0.15);\n",
              "      filter: drop-shadow(0px 1px 2px rgba(0, 0, 0, 0.3));\n",
              "      fill: #FFFFFF;\n",
              "    }\n",
              "  </style>\n",
              "\n",
              "    <script>\n",
              "      const buttonEl =\n",
              "        document.querySelector('#df-31bb7e32-0fa7-457f-822d-2ef467b4f9f9 button.colab-df-convert');\n",
              "      buttonEl.style.display =\n",
              "        google.colab.kernel.accessAllowed ? 'block' : 'none';\n",
              "\n",
              "      async function convertToInteractive(key) {\n",
              "        const element = document.querySelector('#df-31bb7e32-0fa7-457f-822d-2ef467b4f9f9');\n",
              "        const dataTable =\n",
              "          await google.colab.kernel.invokeFunction('convertToInteractive',\n",
              "                                                    [key], {});\n",
              "        if (!dataTable) return;\n",
              "\n",
              "        const docLinkHtml = 'Like what you see? Visit the ' +\n",
              "          '<a target=\"_blank\" href=https://colab.research.google.com/notebooks/data_table.ipynb>data table notebook</a>'\n",
              "          + ' to learn more about interactive tables.';\n",
              "        element.innerHTML = '';\n",
              "        dataTable['output_type'] = 'display_data';\n",
              "        await google.colab.output.renderOutput(dataTable, element);\n",
              "        const docLink = document.createElement('div');\n",
              "        docLink.innerHTML = docLinkHtml;\n",
              "        element.appendChild(docLink);\n",
              "      }\n",
              "    </script>\n",
              "  </div>\n",
              "\n",
              "\n",
              "<div id=\"df-85f5f0fe-418c-4cd7-934d-64a87f55d932\">\n",
              "  <button class=\"colab-df-quickchart\" onclick=\"quickchart('df-85f5f0fe-418c-4cd7-934d-64a87f55d932')\"\n",
              "            title=\"Suggest charts\"\n",
              "            style=\"display:none;\">\n",
              "\n",
              "<svg xmlns=\"http://www.w3.org/2000/svg\" height=\"24px\"viewBox=\"0 0 24 24\"\n",
              "     width=\"24px\">\n",
              "    <g>\n",
              "        <path d=\"M19 3H5c-1.1 0-2 .9-2 2v14c0 1.1.9 2 2 2h14c1.1 0 2-.9 2-2V5c0-1.1-.9-2-2-2zM9 17H7v-7h2v7zm4 0h-2V7h2v10zm4 0h-2v-4h2v4z\"/>\n",
              "    </g>\n",
              "</svg>\n",
              "  </button>\n",
              "\n",
              "<style>\n",
              "  .colab-df-quickchart {\n",
              "      --bg-color: #E8F0FE;\n",
              "      --fill-color: #1967D2;\n",
              "      --hover-bg-color: #E2EBFA;\n",
              "      --hover-fill-color: #174EA6;\n",
              "      --disabled-fill-color: #AAA;\n",
              "      --disabled-bg-color: #DDD;\n",
              "  }\n",
              "\n",
              "  [theme=dark] .colab-df-quickchart {\n",
              "      --bg-color: #3B4455;\n",
              "      --fill-color: #D2E3FC;\n",
              "      --hover-bg-color: #434B5C;\n",
              "      --hover-fill-color: #FFFFFF;\n",
              "      --disabled-bg-color: #3B4455;\n",
              "      --disabled-fill-color: #666;\n",
              "  }\n",
              "\n",
              "  .colab-df-quickchart {\n",
              "    background-color: var(--bg-color);\n",
              "    border: none;\n",
              "    border-radius: 50%;\n",
              "    cursor: pointer;\n",
              "    display: none;\n",
              "    fill: var(--fill-color);\n",
              "    height: 32px;\n",
              "    padding: 0;\n",
              "    width: 32px;\n",
              "  }\n",
              "\n",
              "  .colab-df-quickchart:hover {\n",
              "    background-color: var(--hover-bg-color);\n",
              "    box-shadow: 0 1px 2px rgba(60, 64, 67, 0.3), 0 1px 3px 1px rgba(60, 64, 67, 0.15);\n",
              "    fill: var(--button-hover-fill-color);\n",
              "  }\n",
              "\n",
              "  .colab-df-quickchart-complete:disabled,\n",
              "  .colab-df-quickchart-complete:disabled:hover {\n",
              "    background-color: var(--disabled-bg-color);\n",
              "    fill: var(--disabled-fill-color);\n",
              "    box-shadow: none;\n",
              "  }\n",
              "\n",
              "  .colab-df-spinner {\n",
              "    border: 2px solid var(--fill-color);\n",
              "    border-color: transparent;\n",
              "    border-bottom-color: var(--fill-color);\n",
              "    animation:\n",
              "      spin 1s steps(1) infinite;\n",
              "  }\n",
              "\n",
              "  @keyframes spin {\n",
              "    0% {\n",
              "      border-color: transparent;\n",
              "      border-bottom-color: var(--fill-color);\n",
              "      border-left-color: var(--fill-color);\n",
              "    }\n",
              "    20% {\n",
              "      border-color: transparent;\n",
              "      border-left-color: var(--fill-color);\n",
              "      border-top-color: var(--fill-color);\n",
              "    }\n",
              "    30% {\n",
              "      border-color: transparent;\n",
              "      border-left-color: var(--fill-color);\n",
              "      border-top-color: var(--fill-color);\n",
              "      border-right-color: var(--fill-color);\n",
              "    }\n",
              "    40% {\n",
              "      border-color: transparent;\n",
              "      border-right-color: var(--fill-color);\n",
              "      border-top-color: var(--fill-color);\n",
              "    }\n",
              "    60% {\n",
              "      border-color: transparent;\n",
              "      border-right-color: var(--fill-color);\n",
              "    }\n",
              "    80% {\n",
              "      border-color: transparent;\n",
              "      border-right-color: var(--fill-color);\n",
              "      border-bottom-color: var(--fill-color);\n",
              "    }\n",
              "    90% {\n",
              "      border-color: transparent;\n",
              "      border-bottom-color: var(--fill-color);\n",
              "    }\n",
              "  }\n",
              "</style>\n",
              "\n",
              "  <script>\n",
              "    async function quickchart(key) {\n",
              "      const quickchartButtonEl =\n",
              "        document.querySelector('#' + key + ' button');\n",
              "      quickchartButtonEl.disabled = true;  // To prevent multiple clicks.\n",
              "      quickchartButtonEl.classList.add('colab-df-spinner');\n",
              "      try {\n",
              "        const charts = await google.colab.kernel.invokeFunction(\n",
              "            'suggestCharts', [key], {});\n",
              "      } catch (error) {\n",
              "        console.error('Error during call to suggestCharts:', error);\n",
              "      }\n",
              "      quickchartButtonEl.classList.remove('colab-df-spinner');\n",
              "      quickchartButtonEl.classList.add('colab-df-quickchart-complete');\n",
              "    }\n",
              "    (() => {\n",
              "      let quickchartButtonEl =\n",
              "        document.querySelector('#df-85f5f0fe-418c-4cd7-934d-64a87f55d932 button');\n",
              "      quickchartButtonEl.style.display =\n",
              "        google.colab.kernel.accessAllowed ? 'block' : 'none';\n",
              "    })();\n",
              "  </script>\n",
              "</div>\n",
              "    </div>\n",
              "  </div>\n"
            ]
          },
          "metadata": {},
          "execution_count": 5
        }
      ]
    },
    {
      "cell_type": "code",
      "source": [
        "prediction_df.columns"
      ],
      "metadata": {
        "colab": {
          "base_uri": "https://localhost:8080/",
          "height": 121
        },
        "id": "ILydWF97-1-6",
        "outputId": "6b03ccde-2f74-41b3-a763-f033eaf4b65e"
      },
      "execution_count": 6,
      "outputs": [
        {
          "output_type": "display_data",
          "data": {
            "text/plain": [
              "<IPython.core.display.HTML object>"
            ],
            "text/html": [
              "\n",
              "  <style>\n",
              "    pre {\n",
              "        white-space: pre-wrap;\n",
              "    }\n",
              "  </style>\n",
              "  "
            ]
          },
          "metadata": {}
        },
        {
          "output_type": "execute_result",
          "data": {
            "text/plain": [
              "Index(['author', 'title', 'label', 'description', 'nyt_author',\n",
              "       'middle_and_high_school', 'award_winning_childrens',\n",
              "       'gender_and_sexuality', 'families_and_home', 'race_and_america',\n",
              "       'growing_up', 'young_woman_meets_man', 'classics', 'boy_girl_story',\n",
              "       'book_series', 'lgbtq_sexuality', 'friendship', 'prize_novel'],\n",
              "      dtype='object')"
            ]
          },
          "metadata": {},
          "execution_count": 6
        }
      ]
    },
    {
      "cell_type": "code",
      "source": [
        "prediction_df['label'].value_counts()"
      ],
      "metadata": {
        "colab": {
          "base_uri": "https://localhost:8080/",
          "height": 69
        },
        "id": "PEmwD4Id_XK6",
        "outputId": "24dec3d0-feaa-45a2-af8e-563fcebecf95"
      },
      "execution_count": 7,
      "outputs": [
        {
          "output_type": "display_data",
          "data": {
            "text/plain": [
              "<IPython.core.display.HTML object>"
            ],
            "text/html": [
              "\n",
              "  <style>\n",
              "    pre {\n",
              "        white-space: pre-wrap;\n",
              "    }\n",
              "  </style>\n",
              "  "
            ]
          },
          "metadata": {}
        },
        {
          "output_type": "execute_result",
          "data": {
            "text/plain": [
              "1    938\n",
              "0    539\n",
              "Name: label, dtype: int64"
            ]
          },
          "metadata": {},
          "execution_count": 7
        }
      ]
    },
    {
      "cell_type": "code",
      "source": [
        "# baseline: if we predicted all banned, we'd get 64% accuracy\n",
        "\n",
        "938/(938+539)"
      ],
      "metadata": {
        "colab": {
          "base_uri": "https://localhost:8080/",
          "height": 34
        },
        "id": "rGwwlg99_ldw",
        "outputId": "703a77cf-b6ed-47fb-d0d8-38d901f072b8"
      },
      "execution_count": 8,
      "outputs": [
        {
          "output_type": "display_data",
          "data": {
            "text/plain": [
              "<IPython.core.display.HTML object>"
            ],
            "text/html": [
              "\n",
              "  <style>\n",
              "    pre {\n",
              "        white-space: pre-wrap;\n",
              "    }\n",
              "  </style>\n",
              "  "
            ]
          },
          "metadata": {}
        },
        {
          "output_type": "execute_result",
          "data": {
            "text/plain": [
              "0.6350710900473934"
            ]
          },
          "metadata": {},
          "execution_count": 8
        }
      ]
    },
    {
      "cell_type": "code",
      "source": [
        "X = prediction_df.loc[:, 'nyt_author':]\n",
        "X"
      ],
      "metadata": {
        "colab": {
          "base_uri": "https://localhost:8080/",
          "height": 444
        },
        "id": "T7T1hIQ5-o2T",
        "outputId": "bf96ef2f-eb0d-427c-d85d-ebe92f044acb"
      },
      "execution_count": 9,
      "outputs": [
        {
          "output_type": "display_data",
          "data": {
            "text/plain": [
              "<IPython.core.display.HTML object>"
            ],
            "text/html": [
              "\n",
              "  <style>\n",
              "    pre {\n",
              "        white-space: pre-wrap;\n",
              "    }\n",
              "  </style>\n",
              "  "
            ]
          },
          "metadata": {}
        },
        {
          "output_type": "execute_result",
          "data": {
            "text/plain": [
              "      nyt_author  middle_and_high_school  award_winning_childrens  \\\n",
              "0        0.03021                 0.00000                  0.00000   \n",
              "1        0.03985                 0.01887                  0.19760   \n",
              "2        0.04611                 0.00214                  0.00000   \n",
              "3        0.05074                 0.00196                  0.00000   \n",
              "4        0.00000                 0.00000                  0.00000   \n",
              "...          ...                     ...                      ...   \n",
              "1472     0.00737                 0.00000                  0.00000   \n",
              "1473     0.00872                 0.00000                  0.00616   \n",
              "1474     0.02666                 0.03437                  0.01576   \n",
              "1475     0.00365                 0.00000                  0.00000   \n",
              "1476     0.00000                 0.00000                  0.00000   \n",
              "\n",
              "      gender_and_sexuality  families_and_home  race_and_america  growing_up  \\\n",
              "0                  0.00000            0.08918           0.00000     0.04075   \n",
              "1                  0.00000            0.03409           0.02503     0.00571   \n",
              "2                  0.00000            0.03452           0.00000     0.01626   \n",
              "3                  0.00000            0.00000           0.00357     0.00000   \n",
              "4                  0.00000            0.00000           0.00000     0.06071   \n",
              "...                    ...                ...               ...         ...   \n",
              "1472               0.01545            0.03822           0.01567     0.09490   \n",
              "1473               0.00000            0.00000           0.00021     0.00000   \n",
              "1474               0.00000            0.09213           0.00000     0.00724   \n",
              "1475               0.01220            0.00931           0.00000     0.00791   \n",
              "1476               0.00000            0.00000           0.00000     0.00398   \n",
              "\n",
              "      young_woman_meets_man  classics  boy_girl_story  book_series  \\\n",
              "0                   0.00000   0.05655         0.01540      0.01050   \n",
              "1                   0.00000   0.00000         0.00000      0.00000   \n",
              "2                   0.00000   0.00000         0.00769      0.00000   \n",
              "3                   0.00000   0.01026         0.00323      0.06275   \n",
              "4                   0.00000   0.00000         0.00000      0.00000   \n",
              "...                     ...       ...             ...          ...   \n",
              "1472                0.02039   0.00000         0.00000      0.00716   \n",
              "1473                0.00000   0.00000         0.04664      0.00000   \n",
              "1474                0.01363   0.00000         0.02665      0.00188   \n",
              "1475                0.00322   0.00882         0.01792      0.01367   \n",
              "1476                0.00000   0.34751         0.00000      0.00126   \n",
              "\n",
              "      lgbtq_sexuality  friendship  prize_novel  \n",
              "0             0.00000     0.01384      0.10782  \n",
              "1             0.00000     0.00000      0.00016  \n",
              "2             0.00306     0.01487      0.00000  \n",
              "3             0.00000     0.00000      0.01957  \n",
              "4             0.00000     0.10148      0.00222  \n",
              "...               ...         ...          ...  \n",
              "1472          0.00206     0.06154      0.02668  \n",
              "1473          0.00235     0.12218      0.03016  \n",
              "1474          0.00375     0.00623      0.10011  \n",
              "1475          0.03065     0.00817      0.00476  \n",
              "1476          0.00000     0.00211      0.00000  \n",
              "\n",
              "[1477 rows x 14 columns]"
            ],
            "text/html": [
              "\n",
              "  <div id=\"df-385eb184-171c-40b8-98a1-0a905dd56355\" class=\"colab-df-container\">\n",
              "    <div>\n",
              "<style scoped>\n",
              "    .dataframe tbody tr th:only-of-type {\n",
              "        vertical-align: middle;\n",
              "    }\n",
              "\n",
              "    .dataframe tbody tr th {\n",
              "        vertical-align: top;\n",
              "    }\n",
              "\n",
              "    .dataframe thead th {\n",
              "        text-align: right;\n",
              "    }\n",
              "</style>\n",
              "<table border=\"1\" class=\"dataframe\">\n",
              "  <thead>\n",
              "    <tr style=\"text-align: right;\">\n",
              "      <th></th>\n",
              "      <th>nyt_author</th>\n",
              "      <th>middle_and_high_school</th>\n",
              "      <th>award_winning_childrens</th>\n",
              "      <th>gender_and_sexuality</th>\n",
              "      <th>families_and_home</th>\n",
              "      <th>race_and_america</th>\n",
              "      <th>growing_up</th>\n",
              "      <th>young_woman_meets_man</th>\n",
              "      <th>classics</th>\n",
              "      <th>boy_girl_story</th>\n",
              "      <th>book_series</th>\n",
              "      <th>lgbtq_sexuality</th>\n",
              "      <th>friendship</th>\n",
              "      <th>prize_novel</th>\n",
              "    </tr>\n",
              "  </thead>\n",
              "  <tbody>\n",
              "    <tr>\n",
              "      <th>0</th>\n",
              "      <td>0.03021</td>\n",
              "      <td>0.00000</td>\n",
              "      <td>0.00000</td>\n",
              "      <td>0.00000</td>\n",
              "      <td>0.08918</td>\n",
              "      <td>0.00000</td>\n",
              "      <td>0.04075</td>\n",
              "      <td>0.00000</td>\n",
              "      <td>0.05655</td>\n",
              "      <td>0.01540</td>\n",
              "      <td>0.01050</td>\n",
              "      <td>0.00000</td>\n",
              "      <td>0.01384</td>\n",
              "      <td>0.10782</td>\n",
              "    </tr>\n",
              "    <tr>\n",
              "      <th>1</th>\n",
              "      <td>0.03985</td>\n",
              "      <td>0.01887</td>\n",
              "      <td>0.19760</td>\n",
              "      <td>0.00000</td>\n",
              "      <td>0.03409</td>\n",
              "      <td>0.02503</td>\n",
              "      <td>0.00571</td>\n",
              "      <td>0.00000</td>\n",
              "      <td>0.00000</td>\n",
              "      <td>0.00000</td>\n",
              "      <td>0.00000</td>\n",
              "      <td>0.00000</td>\n",
              "      <td>0.00000</td>\n",
              "      <td>0.00016</td>\n",
              "    </tr>\n",
              "    <tr>\n",
              "      <th>2</th>\n",
              "      <td>0.04611</td>\n",
              "      <td>0.00214</td>\n",
              "      <td>0.00000</td>\n",
              "      <td>0.00000</td>\n",
              "      <td>0.03452</td>\n",
              "      <td>0.00000</td>\n",
              "      <td>0.01626</td>\n",
              "      <td>0.00000</td>\n",
              "      <td>0.00000</td>\n",
              "      <td>0.00769</td>\n",
              "      <td>0.00000</td>\n",
              "      <td>0.00306</td>\n",
              "      <td>0.01487</td>\n",
              "      <td>0.00000</td>\n",
              "    </tr>\n",
              "    <tr>\n",
              "      <th>3</th>\n",
              "      <td>0.05074</td>\n",
              "      <td>0.00196</td>\n",
              "      <td>0.00000</td>\n",
              "      <td>0.00000</td>\n",
              "      <td>0.00000</td>\n",
              "      <td>0.00357</td>\n",
              "      <td>0.00000</td>\n",
              "      <td>0.00000</td>\n",
              "      <td>0.01026</td>\n",
              "      <td>0.00323</td>\n",
              "      <td>0.06275</td>\n",
              "      <td>0.00000</td>\n",
              "      <td>0.00000</td>\n",
              "      <td>0.01957</td>\n",
              "    </tr>\n",
              "    <tr>\n",
              "      <th>4</th>\n",
              "      <td>0.00000</td>\n",
              "      <td>0.00000</td>\n",
              "      <td>0.00000</td>\n",
              "      <td>0.00000</td>\n",
              "      <td>0.00000</td>\n",
              "      <td>0.00000</td>\n",
              "      <td>0.06071</td>\n",
              "      <td>0.00000</td>\n",
              "      <td>0.00000</td>\n",
              "      <td>0.00000</td>\n",
              "      <td>0.00000</td>\n",
              "      <td>0.00000</td>\n",
              "      <td>0.10148</td>\n",
              "      <td>0.00222</td>\n",
              "    </tr>\n",
              "    <tr>\n",
              "      <th>...</th>\n",
              "      <td>...</td>\n",
              "      <td>...</td>\n",
              "      <td>...</td>\n",
              "      <td>...</td>\n",
              "      <td>...</td>\n",
              "      <td>...</td>\n",
              "      <td>...</td>\n",
              "      <td>...</td>\n",
              "      <td>...</td>\n",
              "      <td>...</td>\n",
              "      <td>...</td>\n",
              "      <td>...</td>\n",
              "      <td>...</td>\n",
              "      <td>...</td>\n",
              "    </tr>\n",
              "    <tr>\n",
              "      <th>1472</th>\n",
              "      <td>0.00737</td>\n",
              "      <td>0.00000</td>\n",
              "      <td>0.00000</td>\n",
              "      <td>0.01545</td>\n",
              "      <td>0.03822</td>\n",
              "      <td>0.01567</td>\n",
              "      <td>0.09490</td>\n",
              "      <td>0.02039</td>\n",
              "      <td>0.00000</td>\n",
              "      <td>0.00000</td>\n",
              "      <td>0.00716</td>\n",
              "      <td>0.00206</td>\n",
              "      <td>0.06154</td>\n",
              "      <td>0.02668</td>\n",
              "    </tr>\n",
              "    <tr>\n",
              "      <th>1473</th>\n",
              "      <td>0.00872</td>\n",
              "      <td>0.00000</td>\n",
              "      <td>0.00616</td>\n",
              "      <td>0.00000</td>\n",
              "      <td>0.00000</td>\n",
              "      <td>0.00021</td>\n",
              "      <td>0.00000</td>\n",
              "      <td>0.00000</td>\n",
              "      <td>0.00000</td>\n",
              "      <td>0.04664</td>\n",
              "      <td>0.00000</td>\n",
              "      <td>0.00235</td>\n",
              "      <td>0.12218</td>\n",
              "      <td>0.03016</td>\n",
              "    </tr>\n",
              "    <tr>\n",
              "      <th>1474</th>\n",
              "      <td>0.02666</td>\n",
              "      <td>0.03437</td>\n",
              "      <td>0.01576</td>\n",
              "      <td>0.00000</td>\n",
              "      <td>0.09213</td>\n",
              "      <td>0.00000</td>\n",
              "      <td>0.00724</td>\n",
              "      <td>0.01363</td>\n",
              "      <td>0.00000</td>\n",
              "      <td>0.02665</td>\n",
              "      <td>0.00188</td>\n",
              "      <td>0.00375</td>\n",
              "      <td>0.00623</td>\n",
              "      <td>0.10011</td>\n",
              "    </tr>\n",
              "    <tr>\n",
              "      <th>1475</th>\n",
              "      <td>0.00365</td>\n",
              "      <td>0.00000</td>\n",
              "      <td>0.00000</td>\n",
              "      <td>0.01220</td>\n",
              "      <td>0.00931</td>\n",
              "      <td>0.00000</td>\n",
              "      <td>0.00791</td>\n",
              "      <td>0.00322</td>\n",
              "      <td>0.00882</td>\n",
              "      <td>0.01792</td>\n",
              "      <td>0.01367</td>\n",
              "      <td>0.03065</td>\n",
              "      <td>0.00817</td>\n",
              "      <td>0.00476</td>\n",
              "    </tr>\n",
              "    <tr>\n",
              "      <th>1476</th>\n",
              "      <td>0.00000</td>\n",
              "      <td>0.00000</td>\n",
              "      <td>0.00000</td>\n",
              "      <td>0.00000</td>\n",
              "      <td>0.00000</td>\n",
              "      <td>0.00000</td>\n",
              "      <td>0.00398</td>\n",
              "      <td>0.00000</td>\n",
              "      <td>0.34751</td>\n",
              "      <td>0.00000</td>\n",
              "      <td>0.00126</td>\n",
              "      <td>0.00000</td>\n",
              "      <td>0.00211</td>\n",
              "      <td>0.00000</td>\n",
              "    </tr>\n",
              "  </tbody>\n",
              "</table>\n",
              "<p>1477 rows × 14 columns</p>\n",
              "</div>\n",
              "    <div class=\"colab-df-buttons\">\n",
              "\n",
              "  <div class=\"colab-df-container\">\n",
              "    <button class=\"colab-df-convert\" onclick=\"convertToInteractive('df-385eb184-171c-40b8-98a1-0a905dd56355')\"\n",
              "            title=\"Convert this dataframe to an interactive table.\"\n",
              "            style=\"display:none;\">\n",
              "\n",
              "  <svg xmlns=\"http://www.w3.org/2000/svg\" height=\"24px\" viewBox=\"0 -960 960 960\">\n",
              "    <path d=\"M120-120v-720h720v720H120Zm60-500h600v-160H180v160Zm220 220h160v-160H400v160Zm0 220h160v-160H400v160ZM180-400h160v-160H180v160Zm440 0h160v-160H620v160ZM180-180h160v-160H180v160Zm440 0h160v-160H620v160Z\"/>\n",
              "  </svg>\n",
              "    </button>\n",
              "\n",
              "  <style>\n",
              "    .colab-df-container {\n",
              "      display:flex;\n",
              "      gap: 12px;\n",
              "    }\n",
              "\n",
              "    .colab-df-convert {\n",
              "      background-color: #E8F0FE;\n",
              "      border: none;\n",
              "      border-radius: 50%;\n",
              "      cursor: pointer;\n",
              "      display: none;\n",
              "      fill: #1967D2;\n",
              "      height: 32px;\n",
              "      padding: 0 0 0 0;\n",
              "      width: 32px;\n",
              "    }\n",
              "\n",
              "    .colab-df-convert:hover {\n",
              "      background-color: #E2EBFA;\n",
              "      box-shadow: 0px 1px 2px rgba(60, 64, 67, 0.3), 0px 1px 3px 1px rgba(60, 64, 67, 0.15);\n",
              "      fill: #174EA6;\n",
              "    }\n",
              "\n",
              "    .colab-df-buttons div {\n",
              "      margin-bottom: 4px;\n",
              "    }\n",
              "\n",
              "    [theme=dark] .colab-df-convert {\n",
              "      background-color: #3B4455;\n",
              "      fill: #D2E3FC;\n",
              "    }\n",
              "\n",
              "    [theme=dark] .colab-df-convert:hover {\n",
              "      background-color: #434B5C;\n",
              "      box-shadow: 0px 1px 3px 1px rgba(0, 0, 0, 0.15);\n",
              "      filter: drop-shadow(0px 1px 2px rgba(0, 0, 0, 0.3));\n",
              "      fill: #FFFFFF;\n",
              "    }\n",
              "  </style>\n",
              "\n",
              "    <script>\n",
              "      const buttonEl =\n",
              "        document.querySelector('#df-385eb184-171c-40b8-98a1-0a905dd56355 button.colab-df-convert');\n",
              "      buttonEl.style.display =\n",
              "        google.colab.kernel.accessAllowed ? 'block' : 'none';\n",
              "\n",
              "      async function convertToInteractive(key) {\n",
              "        const element = document.querySelector('#df-385eb184-171c-40b8-98a1-0a905dd56355');\n",
              "        const dataTable =\n",
              "          await google.colab.kernel.invokeFunction('convertToInteractive',\n",
              "                                                    [key], {});\n",
              "        if (!dataTable) return;\n",
              "\n",
              "        const docLinkHtml = 'Like what you see? Visit the ' +\n",
              "          '<a target=\"_blank\" href=https://colab.research.google.com/notebooks/data_table.ipynb>data table notebook</a>'\n",
              "          + ' to learn more about interactive tables.';\n",
              "        element.innerHTML = '';\n",
              "        dataTable['output_type'] = 'display_data';\n",
              "        await google.colab.output.renderOutput(dataTable, element);\n",
              "        const docLink = document.createElement('div');\n",
              "        docLink.innerHTML = docLinkHtml;\n",
              "        element.appendChild(docLink);\n",
              "      }\n",
              "    </script>\n",
              "  </div>\n",
              "\n",
              "\n",
              "<div id=\"df-24611f4f-945b-49e5-b16b-7ba8517eec1b\">\n",
              "  <button class=\"colab-df-quickchart\" onclick=\"quickchart('df-24611f4f-945b-49e5-b16b-7ba8517eec1b')\"\n",
              "            title=\"Suggest charts\"\n",
              "            style=\"display:none;\">\n",
              "\n",
              "<svg xmlns=\"http://www.w3.org/2000/svg\" height=\"24px\"viewBox=\"0 0 24 24\"\n",
              "     width=\"24px\">\n",
              "    <g>\n",
              "        <path d=\"M19 3H5c-1.1 0-2 .9-2 2v14c0 1.1.9 2 2 2h14c1.1 0 2-.9 2-2V5c0-1.1-.9-2-2-2zM9 17H7v-7h2v7zm4 0h-2V7h2v10zm4 0h-2v-4h2v4z\"/>\n",
              "    </g>\n",
              "</svg>\n",
              "  </button>\n",
              "\n",
              "<style>\n",
              "  .colab-df-quickchart {\n",
              "      --bg-color: #E8F0FE;\n",
              "      --fill-color: #1967D2;\n",
              "      --hover-bg-color: #E2EBFA;\n",
              "      --hover-fill-color: #174EA6;\n",
              "      --disabled-fill-color: #AAA;\n",
              "      --disabled-bg-color: #DDD;\n",
              "  }\n",
              "\n",
              "  [theme=dark] .colab-df-quickchart {\n",
              "      --bg-color: #3B4455;\n",
              "      --fill-color: #D2E3FC;\n",
              "      --hover-bg-color: #434B5C;\n",
              "      --hover-fill-color: #FFFFFF;\n",
              "      --disabled-bg-color: #3B4455;\n",
              "      --disabled-fill-color: #666;\n",
              "  }\n",
              "\n",
              "  .colab-df-quickchart {\n",
              "    background-color: var(--bg-color);\n",
              "    border: none;\n",
              "    border-radius: 50%;\n",
              "    cursor: pointer;\n",
              "    display: none;\n",
              "    fill: var(--fill-color);\n",
              "    height: 32px;\n",
              "    padding: 0;\n",
              "    width: 32px;\n",
              "  }\n",
              "\n",
              "  .colab-df-quickchart:hover {\n",
              "    background-color: var(--hover-bg-color);\n",
              "    box-shadow: 0 1px 2px rgba(60, 64, 67, 0.3), 0 1px 3px 1px rgba(60, 64, 67, 0.15);\n",
              "    fill: var(--button-hover-fill-color);\n",
              "  }\n",
              "\n",
              "  .colab-df-quickchart-complete:disabled,\n",
              "  .colab-df-quickchart-complete:disabled:hover {\n",
              "    background-color: var(--disabled-bg-color);\n",
              "    fill: var(--disabled-fill-color);\n",
              "    box-shadow: none;\n",
              "  }\n",
              "\n",
              "  .colab-df-spinner {\n",
              "    border: 2px solid var(--fill-color);\n",
              "    border-color: transparent;\n",
              "    border-bottom-color: var(--fill-color);\n",
              "    animation:\n",
              "      spin 1s steps(1) infinite;\n",
              "  }\n",
              "\n",
              "  @keyframes spin {\n",
              "    0% {\n",
              "      border-color: transparent;\n",
              "      border-bottom-color: var(--fill-color);\n",
              "      border-left-color: var(--fill-color);\n",
              "    }\n",
              "    20% {\n",
              "      border-color: transparent;\n",
              "      border-left-color: var(--fill-color);\n",
              "      border-top-color: var(--fill-color);\n",
              "    }\n",
              "    30% {\n",
              "      border-color: transparent;\n",
              "      border-left-color: var(--fill-color);\n",
              "      border-top-color: var(--fill-color);\n",
              "      border-right-color: var(--fill-color);\n",
              "    }\n",
              "    40% {\n",
              "      border-color: transparent;\n",
              "      border-right-color: var(--fill-color);\n",
              "      border-top-color: var(--fill-color);\n",
              "    }\n",
              "    60% {\n",
              "      border-color: transparent;\n",
              "      border-right-color: var(--fill-color);\n",
              "    }\n",
              "    80% {\n",
              "      border-color: transparent;\n",
              "      border-right-color: var(--fill-color);\n",
              "      border-bottom-color: var(--fill-color);\n",
              "    }\n",
              "    90% {\n",
              "      border-color: transparent;\n",
              "      border-bottom-color: var(--fill-color);\n",
              "    }\n",
              "  }\n",
              "</style>\n",
              "\n",
              "  <script>\n",
              "    async function quickchart(key) {\n",
              "      const quickchartButtonEl =\n",
              "        document.querySelector('#' + key + ' button');\n",
              "      quickchartButtonEl.disabled = true;  // To prevent multiple clicks.\n",
              "      quickchartButtonEl.classList.add('colab-df-spinner');\n",
              "      try {\n",
              "        const charts = await google.colab.kernel.invokeFunction(\n",
              "            'suggestCharts', [key], {});\n",
              "      } catch (error) {\n",
              "        console.error('Error during call to suggestCharts:', error);\n",
              "      }\n",
              "      quickchartButtonEl.classList.remove('colab-df-spinner');\n",
              "      quickchartButtonEl.classList.add('colab-df-quickchart-complete');\n",
              "    }\n",
              "    (() => {\n",
              "      let quickchartButtonEl =\n",
              "        document.querySelector('#df-24611f4f-945b-49e5-b16b-7ba8517eec1b button');\n",
              "      quickchartButtonEl.style.display =\n",
              "        google.colab.kernel.accessAllowed ? 'block' : 'none';\n",
              "    })();\n",
              "  </script>\n",
              "</div>\n",
              "    </div>\n",
              "  </div>\n"
            ]
          },
          "metadata": {},
          "execution_count": 9
        }
      ]
    },
    {
      "cell_type": "code",
      "source": [
        "y = prediction_df['label']\n",
        "y"
      ],
      "metadata": {
        "colab": {
          "base_uri": "https://localhost:8080/",
          "height": 225
        },
        "id": "gU_siwx_--aj",
        "outputId": "c97e1c0b-7b8e-44f4-ac61-43301d906b98"
      },
      "execution_count": 10,
      "outputs": [
        {
          "output_type": "display_data",
          "data": {
            "text/plain": [
              "<IPython.core.display.HTML object>"
            ],
            "text/html": [
              "\n",
              "  <style>\n",
              "    pre {\n",
              "        white-space: pre-wrap;\n",
              "    }\n",
              "  </style>\n",
              "  "
            ]
          },
          "metadata": {}
        },
        {
          "output_type": "execute_result",
          "data": {
            "text/plain": [
              "0       1\n",
              "1       1\n",
              "2       1\n",
              "3       0\n",
              "4       0\n",
              "       ..\n",
              "1472    1\n",
              "1473    1\n",
              "1474    1\n",
              "1475    1\n",
              "1476    0\n",
              "Name: label, Length: 1477, dtype: int64"
            ]
          },
          "metadata": {},
          "execution_count": 10
        }
      ]
    },
    {
      "cell_type": "code",
      "source": [
        "# train test split\n",
        "\n",
        "from sklearn.model_selection import train_test_split\n",
        "X_train, X_test, y_train, y_test = train_test_split(X, y, test_size = .2)"
      ],
      "metadata": {
        "colab": {
          "base_uri": "https://localhost:8080/",
          "height": 17
        },
        "id": "hgrjEM2U_F1S",
        "outputId": "17f715b0-29b1-4598-d5ec-af20317e83ec"
      },
      "execution_count": 11,
      "outputs": [
        {
          "output_type": "display_data",
          "data": {
            "text/plain": [
              "<IPython.core.display.HTML object>"
            ],
            "text/html": [
              "\n",
              "  <style>\n",
              "    pre {\n",
              "        white-space: pre-wrap;\n",
              "    }\n",
              "  </style>\n",
              "  "
            ]
          },
          "metadata": {}
        }
      ]
    },
    {
      "cell_type": "code",
      "source": [
        "from sklearn.dummy import DummyClassifier\n",
        "dummy = DummyClassifier(strategy=\"most_frequent\")\n",
        "dummy.fit(X_train, y_train)\n",
        "print(f\"Accuracy Score on Training Set for Dummy Classifier: {dummy.score(X_train, y_train):.3f}\")\n",
        "print(f\"Accuracy Score on Test Set for Dummy Classifier: {dummy.score(X_test, y_test):.3f}\")\n",
        "\n",
        "# the dummy classifier indeed gives 60%ish accuracy"
      ],
      "metadata": {
        "colab": {
          "base_uri": "https://localhost:8080/",
          "height": 52
        },
        "id": "HQVnniiiB3tC",
        "outputId": "7359932c-9ecf-4c38-c7de-e03c6b143985"
      },
      "execution_count": 12,
      "outputs": [
        {
          "output_type": "display_data",
          "data": {
            "text/plain": [
              "<IPython.core.display.HTML object>"
            ],
            "text/html": [
              "\n",
              "  <style>\n",
              "    pre {\n",
              "        white-space: pre-wrap;\n",
              "    }\n",
              "  </style>\n",
              "  "
            ]
          },
          "metadata": {}
        },
        {
          "output_type": "stream",
          "name": "stdout",
          "text": [
            "Accuracy Score on Training Set for Dummy Classifier: 0.636\n",
            "Accuracy Score on Test Set for Dummy Classifier: 0.632\n"
          ]
        }
      ]
    },
    {
      "cell_type": "markdown",
      "source": [
        "## Logistic Regression"
      ],
      "metadata": {
        "id": "oHxz_zvE-Wfa"
      }
    },
    {
      "cell_type": "code",
      "source": [
        "from sklearn.linear_model import LogisticRegression\n",
        "from sklearn.model_selection import KFold, cross_val_score\n",
        "from sklearn.model_selection import RandomizedSearchCV\n",
        "from sklearn.metrics import confusion_matrix, ConfusionMatrixDisplay"
      ],
      "metadata": {
        "colab": {
          "base_uri": "https://localhost:8080/",
          "height": 17
        },
        "id": "YeTyHU-6-VJs",
        "outputId": "6d62ee4d-a659-439d-bef2-783925af27de"
      },
      "execution_count": 13,
      "outputs": [
        {
          "output_type": "display_data",
          "data": {
            "text/plain": [
              "<IPython.core.display.HTML object>"
            ],
            "text/html": [
              "\n",
              "  <style>\n",
              "    pre {\n",
              "        white-space: pre-wrap;\n",
              "    }\n",
              "  </style>\n",
              "  "
            ]
          },
          "metadata": {}
        }
      ]
    },
    {
      "cell_type": "code",
      "source": [
        "# we'll use class_weight = \"balanced\"\n",
        "# since our data is not completely balanced\n",
        "\n",
        "logreg = LogisticRegression(class_weight='balanced')\n",
        "logreg.fit(X_train, y_train)\n",
        "print(f\"Accuracy Score on Training Set for Logistic Regression: {logreg.score(X_train, y_train):.3f}\")\n",
        "print(f\"Accuracy Score on Test Set for Logistic Regression: {logreg.score(X_test, y_test):.3f}\")\n",
        "\n",
        "# well at 77%-81%, this is already a lot better!"
      ],
      "metadata": {
        "colab": {
          "base_uri": "https://localhost:8080/",
          "height": 52
        },
        "id": "dSE3xst8_s7A",
        "outputId": "4bae8f65-1dcd-4a05-9691-becc46dbb165"
      },
      "execution_count": 14,
      "outputs": [
        {
          "output_type": "display_data",
          "data": {
            "text/plain": [
              "<IPython.core.display.HTML object>"
            ],
            "text/html": [
              "\n",
              "  <style>\n",
              "    pre {\n",
              "        white-space: pre-wrap;\n",
              "    }\n",
              "  </style>\n",
              "  "
            ]
          },
          "metadata": {}
        },
        {
          "output_type": "stream",
          "name": "stdout",
          "text": [
            "Accuracy Score on Training Set for Logistic Regression: 0.806\n",
            "Accuracy Score on Test Set for Logistic Regression: 0.774\n"
          ]
        }
      ]
    },
    {
      "cell_type": "code",
      "source": [
        "# params for logreg: penalty = l2, C: 1, solver=lbfgs"
      ],
      "metadata": {
        "id": "qhu5eQOFKZ49"
      },
      "execution_count": null,
      "outputs": []
    },
    {
      "cell_type": "code",
      "source": [
        "# let's try finding best params with cv\n",
        "\n",
        "kf = KFold(n_splits=5, shuffle=True, random_state=111)\n",
        "\n",
        "params = {'C': [0.001, 0.01, 0.1, 1, 10, 100],\n",
        "          'solver': ['liblinear', 'newton-cg', 'lbfgs'],\n",
        "          \"class_weight\": ['balanced']}\n",
        "\n",
        "logreg_cv = RandomizedSearchCV(logreg, params, cv=kf)\n",
        "logreg_cv.fit(X_train, y_train)\n",
        "\n",
        "print(f\"Tuned Logistic Regression Parameters: {logreg_cv.best_params_}\")\n",
        "print(f\"Tuned Logistic Regression Best Accuracy Score: {logreg_cv.best_score_}\")\n",
        "print(f\"Tuned Logistic Regression Test Set Accuracy Score: {logreg_cv.score(X_test, y_test):.3f}\")\n",
        "\n",
        "# it's not a dramatic improvement\n",
        "# let's keep our earlier parameters but change C=0.1"
      ],
      "metadata": {
        "colab": {
          "base_uri": "https://localhost:8080/",
          "height": 69
        },
        "id": "BfiOavbAJY4n",
        "outputId": "d882f344-366d-4c20-aef0-9cd2cd71d1b0"
      },
      "execution_count": 15,
      "outputs": [
        {
          "output_type": "display_data",
          "data": {
            "text/plain": [
              "<IPython.core.display.HTML object>"
            ],
            "text/html": [
              "\n",
              "  <style>\n",
              "    pre {\n",
              "        white-space: pre-wrap;\n",
              "    }\n",
              "  </style>\n",
              "  "
            ]
          },
          "metadata": {}
        },
        {
          "output_type": "stream",
          "name": "stdout",
          "text": [
            "Tuned Logistic Regression Parameters: {'solver': 'liblinear', 'class_weight': 'balanced', 'C': 0.01}\n",
            "Tuned Logistic Regression Best Accuracy Score: 0.8009726095973683\n",
            "Tuned Logistic Regression Test Set Accuracy Score: 0.784\n"
          ]
        }
      ]
    },
    {
      "cell_type": "code",
      "source": [
        "# we'll keep our earlier parameters but change C=0.1\n",
        "# this is our final logreg model\n",
        "\n",
        "logreg = LogisticRegression(C=0.1, class_weight='balanced')\n",
        "logreg.fit(X_train, y_train)\n",
        "print(f\"Accuracy Score on Training Set for Logistic Regression: {logreg.score(X_train, y_train):.3f}\")\n",
        "print(f\"Accuracy Score on Test Set for Logistic Regression: {logreg.score(X_test, y_test):.3f}\")"
      ],
      "metadata": {
        "colab": {
          "base_uri": "https://localhost:8080/",
          "height": 52
        },
        "id": "ffUMzXhLLXf2",
        "outputId": "a1ad1273-976c-4ae6-c124-10ff73130d7c"
      },
      "execution_count": 16,
      "outputs": [
        {
          "output_type": "display_data",
          "data": {
            "text/plain": [
              "<IPython.core.display.HTML object>"
            ],
            "text/html": [
              "\n",
              "  <style>\n",
              "    pre {\n",
              "        white-space: pre-wrap;\n",
              "    }\n",
              "  </style>\n",
              "  "
            ]
          },
          "metadata": {}
        },
        {
          "output_type": "stream",
          "name": "stdout",
          "text": [
            "Accuracy Score on Training Set for Logistic Regression: 0.804\n",
            "Accuracy Score on Test Set for Logistic Regression: 0.780\n"
          ]
        }
      ]
    },
    {
      "cell_type": "markdown",
      "source": [
        "## K Nearest Neighbors"
      ],
      "metadata": {
        "id": "2Vmk8FU8Oefx"
      }
    },
    {
      "cell_type": "code",
      "source": [
        "# no way to balance classes here\n",
        "\n",
        "from sklearn.neighbors import KNeighborsClassifier\n",
        "knn = KNeighborsClassifier()\n",
        "params = {\"n_neighbors\": np.arange(1, 50, 2),\n",
        "        \"weights\": ['uniform', 'distance'],\n",
        "         'p': [1, 2]}\n",
        "knn_cv = RandomizedSearchCV(knn, params, cv=5)\n",
        "knn_cv.fit(X_train, y_train)"
      ],
      "metadata": {
        "colab": {
          "base_uri": "https://localhost:8080/",
          "height": 117
        },
        "id": "gKohw0aoNH7W",
        "outputId": "fdbfc3a3-ec30-499f-b7c5-7d48f8308be6"
      },
      "execution_count": 17,
      "outputs": [
        {
          "output_type": "display_data",
          "data": {
            "text/plain": [
              "<IPython.core.display.HTML object>"
            ],
            "text/html": [
              "\n",
              "  <style>\n",
              "    pre {\n",
              "        white-space: pre-wrap;\n",
              "    }\n",
              "  </style>\n",
              "  "
            ]
          },
          "metadata": {}
        },
        {
          "output_type": "execute_result",
          "data": {
            "text/plain": [
              "RandomizedSearchCV(cv=5, estimator=KNeighborsClassifier(),\n",
              "                   param_distributions={'n_neighbors': array([ 1,  3,  5,  7,  9, 11, 13, 15, 17, 19, 21, 23, 25, 27, 29, 31, 33,\n",
              "       35, 37, 39, 41, 43, 45, 47, 49]),\n",
              "                                        'p': [1, 2],\n",
              "                                        'weights': ['uniform', 'distance']})"
            ],
            "text/html": [
              "<style>#sk-container-id-1 {color: black;background-color: white;}#sk-container-id-1 pre{padding: 0;}#sk-container-id-1 div.sk-toggleable {background-color: white;}#sk-container-id-1 label.sk-toggleable__label {cursor: pointer;display: block;width: 100%;margin-bottom: 0;padding: 0.3em;box-sizing: border-box;text-align: center;}#sk-container-id-1 label.sk-toggleable__label-arrow:before {content: \"▸\";float: left;margin-right: 0.25em;color: #696969;}#sk-container-id-1 label.sk-toggleable__label-arrow:hover:before {color: black;}#sk-container-id-1 div.sk-estimator:hover label.sk-toggleable__label-arrow:before {color: black;}#sk-container-id-1 div.sk-toggleable__content {max-height: 0;max-width: 0;overflow: hidden;text-align: left;background-color: #f0f8ff;}#sk-container-id-1 div.sk-toggleable__content pre {margin: 0.2em;color: black;border-radius: 0.25em;background-color: #f0f8ff;}#sk-container-id-1 input.sk-toggleable__control:checked~div.sk-toggleable__content {max-height: 200px;max-width: 100%;overflow: auto;}#sk-container-id-1 input.sk-toggleable__control:checked~label.sk-toggleable__label-arrow:before {content: \"▾\";}#sk-container-id-1 div.sk-estimator input.sk-toggleable__control:checked~label.sk-toggleable__label {background-color: #d4ebff;}#sk-container-id-1 div.sk-label input.sk-toggleable__control:checked~label.sk-toggleable__label {background-color: #d4ebff;}#sk-container-id-1 input.sk-hidden--visually {border: 0;clip: rect(1px 1px 1px 1px);clip: rect(1px, 1px, 1px, 1px);height: 1px;margin: -1px;overflow: hidden;padding: 0;position: absolute;width: 1px;}#sk-container-id-1 div.sk-estimator {font-family: monospace;background-color: #f0f8ff;border: 1px dotted black;border-radius: 0.25em;box-sizing: border-box;margin-bottom: 0.5em;}#sk-container-id-1 div.sk-estimator:hover {background-color: #d4ebff;}#sk-container-id-1 div.sk-parallel-item::after {content: \"\";width: 100%;border-bottom: 1px solid gray;flex-grow: 1;}#sk-container-id-1 div.sk-label:hover label.sk-toggleable__label {background-color: #d4ebff;}#sk-container-id-1 div.sk-serial::before {content: \"\";position: absolute;border-left: 1px solid gray;box-sizing: border-box;top: 0;bottom: 0;left: 50%;z-index: 0;}#sk-container-id-1 div.sk-serial {display: flex;flex-direction: column;align-items: center;background-color: white;padding-right: 0.2em;padding-left: 0.2em;position: relative;}#sk-container-id-1 div.sk-item {position: relative;z-index: 1;}#sk-container-id-1 div.sk-parallel {display: flex;align-items: stretch;justify-content: center;background-color: white;position: relative;}#sk-container-id-1 div.sk-item::before, #sk-container-id-1 div.sk-parallel-item::before {content: \"\";position: absolute;border-left: 1px solid gray;box-sizing: border-box;top: 0;bottom: 0;left: 50%;z-index: -1;}#sk-container-id-1 div.sk-parallel-item {display: flex;flex-direction: column;z-index: 1;position: relative;background-color: white;}#sk-container-id-1 div.sk-parallel-item:first-child::after {align-self: flex-end;width: 50%;}#sk-container-id-1 div.sk-parallel-item:last-child::after {align-self: flex-start;width: 50%;}#sk-container-id-1 div.sk-parallel-item:only-child::after {width: 0;}#sk-container-id-1 div.sk-dashed-wrapped {border: 1px dashed gray;margin: 0 0.4em 0.5em 0.4em;box-sizing: border-box;padding-bottom: 0.4em;background-color: white;}#sk-container-id-1 div.sk-label label {font-family: monospace;font-weight: bold;display: inline-block;line-height: 1.2em;}#sk-container-id-1 div.sk-label-container {text-align: center;}#sk-container-id-1 div.sk-container {/* jupyter's `normalize.less` sets `[hidden] { display: none; }` but bootstrap.min.css set `[hidden] { display: none !important; }` so we also need the `!important` here to be able to override the default hidden behavior on the sphinx rendered scikit-learn.org. See: https://github.com/scikit-learn/scikit-learn/issues/21755 */display: inline-block !important;position: relative;}#sk-container-id-1 div.sk-text-repr-fallback {display: none;}</style><div id=\"sk-container-id-1\" class=\"sk-top-container\"><div class=\"sk-text-repr-fallback\"><pre>RandomizedSearchCV(cv=5, estimator=KNeighborsClassifier(),\n",
              "                   param_distributions={&#x27;n_neighbors&#x27;: array([ 1,  3,  5,  7,  9, 11, 13, 15, 17, 19, 21, 23, 25, 27, 29, 31, 33,\n",
              "       35, 37, 39, 41, 43, 45, 47, 49]),\n",
              "                                        &#x27;p&#x27;: [1, 2],\n",
              "                                        &#x27;weights&#x27;: [&#x27;uniform&#x27;, &#x27;distance&#x27;]})</pre><b>In a Jupyter environment, please rerun this cell to show the HTML representation or trust the notebook. <br />On GitHub, the HTML representation is unable to render, please try loading this page with nbviewer.org.</b></div><div class=\"sk-container\" hidden><div class=\"sk-item sk-dashed-wrapped\"><div class=\"sk-label-container\"><div class=\"sk-label sk-toggleable\"><input class=\"sk-toggleable__control sk-hidden--visually\" id=\"sk-estimator-id-1\" type=\"checkbox\" ><label for=\"sk-estimator-id-1\" class=\"sk-toggleable__label sk-toggleable__label-arrow\">RandomizedSearchCV</label><div class=\"sk-toggleable__content\"><pre>RandomizedSearchCV(cv=5, estimator=KNeighborsClassifier(),\n",
              "                   param_distributions={&#x27;n_neighbors&#x27;: array([ 1,  3,  5,  7,  9, 11, 13, 15, 17, 19, 21, 23, 25, 27, 29, 31, 33,\n",
              "       35, 37, 39, 41, 43, 45, 47, 49]),\n",
              "                                        &#x27;p&#x27;: [1, 2],\n",
              "                                        &#x27;weights&#x27;: [&#x27;uniform&#x27;, &#x27;distance&#x27;]})</pre></div></div></div><div class=\"sk-parallel\"><div class=\"sk-parallel-item\"><div class=\"sk-item\"><div class=\"sk-label-container\"><div class=\"sk-label sk-toggleable\"><input class=\"sk-toggleable__control sk-hidden--visually\" id=\"sk-estimator-id-2\" type=\"checkbox\" ><label for=\"sk-estimator-id-2\" class=\"sk-toggleable__label sk-toggleable__label-arrow\">estimator: KNeighborsClassifier</label><div class=\"sk-toggleable__content\"><pre>KNeighborsClassifier()</pre></div></div></div><div class=\"sk-serial\"><div class=\"sk-item\"><div class=\"sk-estimator sk-toggleable\"><input class=\"sk-toggleable__control sk-hidden--visually\" id=\"sk-estimator-id-3\" type=\"checkbox\" ><label for=\"sk-estimator-id-3\" class=\"sk-toggleable__label sk-toggleable__label-arrow\">KNeighborsClassifier</label><div class=\"sk-toggleable__content\"><pre>KNeighborsClassifier()</pre></div></div></div></div></div></div></div></div></div></div>"
            ]
          },
          "metadata": {},
          "execution_count": 17
        }
      ]
    },
    {
      "cell_type": "code",
      "source": [
        "print(f\"Tuned KNN Classifier Best Parameters: {knn_cv.best_params_}\")\n",
        "print(f\"Tuned KNN Classifier Best Accuracy Score: {knn_cv.best_score_:.3f}\")\n",
        "print(f\"Tuned KNN Classifier Best Accuracy on Test Set: {knn_cv.score(X_test, y_test):.3f}\")\n",
        "\n",
        "# accuracy scores are very close to LogReg"
      ],
      "metadata": {
        "colab": {
          "base_uri": "https://localhost:8080/",
          "height": 69
        },
        "id": "8EHWZaNeUEPF",
        "outputId": "561593cb-83a1-402c-da05-870f4268eb8e"
      },
      "execution_count": 18,
      "outputs": [
        {
          "output_type": "display_data",
          "data": {
            "text/plain": [
              "<IPython.core.display.HTML object>"
            ],
            "text/html": [
              "\n",
              "  <style>\n",
              "    pre {\n",
              "        white-space: pre-wrap;\n",
              "    }\n",
              "  </style>\n",
              "  "
            ]
          },
          "metadata": {}
        },
        {
          "output_type": "stream",
          "name": "stdout",
          "text": [
            "Tuned KNN Classifier Best Parameters: {'weights': 'distance', 'p': 2, 'n_neighbors': 47}\n",
            "Tuned KNN Classifier Best Accuracy Score: 0.784\n",
            "Tuned KNN Classifier Best Accuracy on Test Set: 0.804\n"
          ]
        }
      ]
    },
    {
      "cell_type": "code",
      "source": [
        "# saving our best model\n",
        "\n",
        "knn = knn_cv.best_estimator_"
      ],
      "metadata": {
        "colab": {
          "base_uri": "https://localhost:8080/",
          "height": 17
        },
        "id": "WiEqeLYJWDHC",
        "outputId": "053c0a30-995d-4ee2-ad3f-bab02fb135b0"
      },
      "execution_count": 19,
      "outputs": [
        {
          "output_type": "display_data",
          "data": {
            "text/plain": [
              "<IPython.core.display.HTML object>"
            ],
            "text/html": [
              "\n",
              "  <style>\n",
              "    pre {\n",
              "        white-space: pre-wrap;\n",
              "    }\n",
              "  </style>\n",
              "  "
            ]
          },
          "metadata": {}
        }
      ]
    },
    {
      "cell_type": "code",
      "source": [
        "# we want to see if the feature coefficients are similar\n",
        "# but KNN doesn't have features in the same way\n",
        "\n",
        "from sklearn.inspection import permutation_importance\n",
        "perm_importance = permutation_importance(knn, X_test, y_test, n_repeats=30, random_state=42)\n",
        "perm_importance.importances_mean"
      ],
      "metadata": {
        "colab": {
          "base_uri": "https://localhost:8080/",
          "height": 69
        },
        "id": "cT_J1NQbV9Qv",
        "outputId": "35e40468-fc4c-4b90-bb2a-8051fd21ea37"
      },
      "execution_count": 20,
      "outputs": [
        {
          "output_type": "display_data",
          "data": {
            "text/plain": [
              "<IPython.core.display.HTML object>"
            ],
            "text/html": [
              "\n",
              "  <style>\n",
              "    pre {\n",
              "        white-space: pre-wrap;\n",
              "    }\n",
              "  </style>\n",
              "  "
            ]
          },
          "metadata": {}
        },
        {
          "output_type": "execute_result",
          "data": {
            "text/plain": [
              "array([0.02015766, 0.01328829, 0.0152027 , 0.00822072, 0.02207207,\n",
              "       0.02072072, 0.00867117, 0.01238739, 0.03727477, 0.01936937,\n",
              "       0.04977477, 0.01711712, 0.02477477, 0.01509009])"
            ]
          },
          "metadata": {},
          "execution_count": 20
        }
      ]
    },
    {
      "cell_type": "code",
      "source": [
        "knn_coefs = [x for x in perm_importance.importances_mean]\n",
        "knn_coefs"
      ],
      "metadata": {
        "colab": {
          "base_uri": "https://localhost:8080/",
          "height": 260
        },
        "id": "qEJH47oBW77V",
        "outputId": "1c392c0e-18a6-4e2b-aade-b77066ff2052"
      },
      "execution_count": 21,
      "outputs": [
        {
          "output_type": "display_data",
          "data": {
            "text/plain": [
              "<IPython.core.display.HTML object>"
            ],
            "text/html": [
              "\n",
              "  <style>\n",
              "    pre {\n",
              "        white-space: pre-wrap;\n",
              "    }\n",
              "  </style>\n",
              "  "
            ]
          },
          "metadata": {}
        },
        {
          "output_type": "execute_result",
          "data": {
            "text/plain": [
              "[0.020157657657657667,\n",
              " 0.013288288288288286,\n",
              " 0.015202702702702709,\n",
              " 0.008220720720720717,\n",
              " 0.02207207207207208,\n",
              " 0.020720720720720724,\n",
              " 0.008671171171171166,\n",
              " 0.012387387387387387,\n",
              " 0.03727477477477478,\n",
              " 0.019369369369369373,\n",
              " 0.04977477477477478,\n",
              " 0.01711711711711712,\n",
              " 0.024774774774774785,\n",
              " 0.015090090090090092]"
            ]
          },
          "metadata": {},
          "execution_count": 21
        }
      ]
    },
    {
      "cell_type": "code",
      "source": [
        "knn_feature_names = [x for x in knn.feature_names_in_]\n",
        "# knn_coefs = [x for x in perm_importance.importances_mean]\n",
        "\n",
        "knn_feats = {}\n",
        "\n",
        "for i in range(len(knn_feature_names)):\n",
        "  knn_feats[knn_feature_names[i]] = knn_coefs[i]\n",
        "\n",
        "knn_feats"
      ],
      "metadata": {
        "colab": {
          "base_uri": "https://localhost:8080/",
          "height": 260
        },
        "id": "59tqyMGEUXHF",
        "outputId": "151a6de3-8a79-43ee-c4a2-d25cc472ee57"
      },
      "execution_count": 22,
      "outputs": [
        {
          "output_type": "display_data",
          "data": {
            "text/plain": [
              "<IPython.core.display.HTML object>"
            ],
            "text/html": [
              "\n",
              "  <style>\n",
              "    pre {\n",
              "        white-space: pre-wrap;\n",
              "    }\n",
              "  </style>\n",
              "  "
            ]
          },
          "metadata": {}
        },
        {
          "output_type": "execute_result",
          "data": {
            "text/plain": [
              "{'nyt_author': 0.020157657657657667,\n",
              " 'middle_and_high_school': 0.013288288288288286,\n",
              " 'award_winning_childrens': 0.015202702702702709,\n",
              " 'gender_and_sexuality': 0.008220720720720717,\n",
              " 'families_and_home': 0.02207207207207208,\n",
              " 'race_and_america': 0.020720720720720724,\n",
              " 'growing_up': 0.008671171171171166,\n",
              " 'young_woman_meets_man': 0.012387387387387387,\n",
              " 'classics': 0.03727477477477478,\n",
              " 'boy_girl_story': 0.019369369369369373,\n",
              " 'book_series': 0.04977477477477478,\n",
              " 'lgbtq_sexuality': 0.01711711711711712,\n",
              " 'friendship': 0.024774774774774785,\n",
              " 'prize_novel': 0.015090090090090092}"
            ]
          },
          "metadata": {},
          "execution_count": 22
        }
      ]
    },
    {
      "cell_type": "code",
      "source": [
        "names = list(knn_feats.keys())\n",
        "values = list(knn_feats.values())\n",
        "\n",
        "plt.barh(range(len(knn_feats)), values, tick_label=names)\n",
        "plt.title('Best Predictors for Banned Books (KNN)')\n",
        "plt.ylabel('Book Description Topics')\n",
        "# plt.savefig('Banned_KNN_Coefficients.png', bbox_inches='tight')\n",
        "plt.show()"
      ],
      "metadata": {
        "colab": {
          "base_uri": "https://localhost:8080/",
          "height": 452
        },
        "id": "g6_JOoivU2Is",
        "outputId": "7b72d54a-e5d9-4d3f-e17c-ef8b8f63246d"
      },
      "execution_count": 23,
      "outputs": [
        {
          "output_type": "display_data",
          "data": {
            "text/plain": [
              "<IPython.core.display.HTML object>"
            ],
            "text/html": [
              "\n",
              "  <style>\n",
              "    pre {\n",
              "        white-space: pre-wrap;\n",
              "    }\n",
              "  </style>\n",
              "  "
            ]
          },
          "metadata": {}
        },
        {
          "output_type": "display_data",
          "data": {
            "text/plain": [
              "<Figure size 640x480 with 1 Axes>"
            ],
            "image/png": "[encoded data removed]"
          },
          "metadata": {}
        }
      ]
    },
    {
      "cell_type": "code",
      "source": [
        "# interesting, these predictors are a bit different\n",
        "# book series and classics seem the highest"
      ],
      "metadata": {
        "id": "DbD09FjCXglF"
      },
      "execution_count": null,
      "outputs": []
    },
    {
      "cell_type": "markdown",
      "source": [
        "## Decision Tree and Random Forest"
      ],
      "metadata": {
        "id": "QavK8QBOX80j"
      }
    },
    {
      "cell_type": "code",
      "source": [
        "from sklearn.tree import DecisionTreeClassifier\n",
        "dtc = DecisionTreeClassifier()\n",
        "params = {\"criterion\": ['gini', 'entropy', 'log_loss'],\n",
        "        \"splitter\": ['best', 'random'],\n",
        "         'max_depth': [5, 10, 25, 50, None]}\n",
        "dtc_cv = RandomizedSearchCV(dtc, params, cv=5)\n",
        "dtc_cv.fit(X_train, y_train)"
      ],
      "metadata": {
        "colab": {
          "base_uri": "https://localhost:8080/",
          "height": 117
        },
        "id": "nRgDBtzPX-Hg",
        "outputId": "e0e1862a-b5aa-473e-f19f-356fca2ded9d"
      },
      "execution_count": 24,
      "outputs": [
        {
          "output_type": "display_data",
          "data": {
            "text/plain": [
              "<IPython.core.display.HTML object>"
            ],
            "text/html": [
              "\n",
              "  <style>\n",
              "    pre {\n",
              "        white-space: pre-wrap;\n",
              "    }\n",
              "  </style>\n",
              "  "
            ]
          },
          "metadata": {}
        },
        {
          "output_type": "execute_result",
          "data": {
            "text/plain": [
              "RandomizedSearchCV(cv=5, estimator=DecisionTreeClassifier(),\n",
              "                   param_distributions={'criterion': ['gini', 'entropy',\n",
              "                                                      'log_loss'],\n",
              "                                        'max_depth': [5, 10, 25, 50, None],\n",
              "                                        'splitter': ['best', 'random']})"
            ],
            "text/html": [
              "<style>#sk-container-id-2 {color: black;background-color: white;}#sk-container-id-2 pre{padding: 0;}#sk-container-id-2 div.sk-toggleable {background-color: white;}#sk-container-id-2 label.sk-toggleable__label {cursor: pointer;display: block;width: 100%;margin-bottom: 0;padding: 0.3em;box-sizing: border-box;text-align: center;}#sk-container-id-2 label.sk-toggleable__label-arrow:before {content: \"▸\";float: left;margin-right: 0.25em;color: #696969;}#sk-container-id-2 label.sk-toggleable__label-arrow:hover:before {color: black;}#sk-container-id-2 div.sk-estimator:hover label.sk-toggleable__label-arrow:before {color: black;}#sk-container-id-2 div.sk-toggleable__content {max-height: 0;max-width: 0;overflow: hidden;text-align: left;background-color: #f0f8ff;}#sk-container-id-2 div.sk-toggleable__content pre {margin: 0.2em;color: black;border-radius: 0.25em;background-color: #f0f8ff;}#sk-container-id-2 input.sk-toggleable__control:checked~div.sk-toggleable__content {max-height: 200px;max-width: 100%;overflow: auto;}#sk-container-id-2 input.sk-toggleable__control:checked~label.sk-toggleable__label-arrow:before {content: \"▾\";}#sk-container-id-2 div.sk-estimator input.sk-toggleable__control:checked~label.sk-toggleable__label {background-color: #d4ebff;}#sk-container-id-2 div.sk-label input.sk-toggleable__control:checked~label.sk-toggleable__label {background-color: #d4ebff;}#sk-container-id-2 input.sk-hidden--visually {border: 0;clip: rect(1px 1px 1px 1px);clip: rect(1px, 1px, 1px, 1px);height: 1px;margin: -1px;overflow: hidden;padding: 0;position: absolute;width: 1px;}#sk-container-id-2 div.sk-estimator {font-family: monospace;background-color: #f0f8ff;border: 1px dotted black;border-radius: 0.25em;box-sizing: border-box;margin-bottom: 0.5em;}#sk-container-id-2 div.sk-estimator:hover {background-color: #d4ebff;}#sk-container-id-2 div.sk-parallel-item::after {content: \"\";width: 100%;border-bottom: 1px solid gray;flex-grow: 1;}#sk-container-id-2 div.sk-label:hover label.sk-toggleable__label {background-color: #d4ebff;}#sk-container-id-2 div.sk-serial::before {content: \"\";position: absolute;border-left: 1px solid gray;box-sizing: border-box;top: 0;bottom: 0;left: 50%;z-index: 0;}#sk-container-id-2 div.sk-serial {display: flex;flex-direction: column;align-items: center;background-color: white;padding-right: 0.2em;padding-left: 0.2em;position: relative;}#sk-container-id-2 div.sk-item {position: relative;z-index: 1;}#sk-container-id-2 div.sk-parallel {display: flex;align-items: stretch;justify-content: center;background-color: white;position: relative;}#sk-container-id-2 div.sk-item::before, #sk-container-id-2 div.sk-parallel-item::before {content: \"\";position: absolute;border-left: 1px solid gray;box-sizing: border-box;top: 0;bottom: 0;left: 50%;z-index: -1;}#sk-container-id-2 div.sk-parallel-item {display: flex;flex-direction: column;z-index: 1;position: relative;background-color: white;}#sk-container-id-2 div.sk-parallel-item:first-child::after {align-self: flex-end;width: 50%;}#sk-container-id-2 div.sk-parallel-item:last-child::after {align-self: flex-start;width: 50%;}#sk-container-id-2 div.sk-parallel-item:only-child::after {width: 0;}#sk-container-id-2 div.sk-dashed-wrapped {border: 1px dashed gray;margin: 0 0.4em 0.5em 0.4em;box-sizing: border-box;padding-bottom: 0.4em;background-color: white;}#sk-container-id-2 div.sk-label label {font-family: monospace;font-weight: bold;display: inline-block;line-height: 1.2em;}#sk-container-id-2 div.sk-label-container {text-align: center;}#sk-container-id-2 div.sk-container {/* jupyter's `normalize.less` sets `[hidden] { display: none; }` but bootstrap.min.css set `[hidden] { display: none !important; }` so we also need the `!important` here to be able to override the default hidden behavior on the sphinx rendered scikit-learn.org. See: https://github.com/scikit-learn/scikit-learn/issues/21755 */display: inline-block !important;position: relative;}#sk-container-id-2 div.sk-text-repr-fallback {display: none;}</style><div id=\"sk-container-id-2\" class=\"sk-top-container\"><div class=\"sk-text-repr-fallback\"><pre>RandomizedSearchCV(cv=5, estimator=DecisionTreeClassifier(),\n",
              "                   param_distributions={&#x27;criterion&#x27;: [&#x27;gini&#x27;, &#x27;entropy&#x27;,\n",
              "                                                      &#x27;log_loss&#x27;],\n",
              "                                        &#x27;max_depth&#x27;: [5, 10, 25, 50, None],\n",
              "                                        &#x27;splitter&#x27;: [&#x27;best&#x27;, &#x27;random&#x27;]})</pre><b>In a Jupyter environment, please rerun this cell to show the HTML representation or trust the notebook. <br />On GitHub, the HTML representation is unable to render, please try loading this page with nbviewer.org.</b></div><div class=\"sk-container\" hidden><div class=\"sk-item sk-dashed-wrapped\"><div class=\"sk-label-container\"><div class=\"sk-label sk-toggleable\"><input class=\"sk-toggleable__control sk-hidden--visually\" id=\"sk-estimator-id-4\" type=\"checkbox\" ><label for=\"sk-estimator-id-4\" class=\"sk-toggleable__label sk-toggleable__label-arrow\">RandomizedSearchCV</label><div class=\"sk-toggleable__content\"><pre>RandomizedSearchCV(cv=5, estimator=DecisionTreeClassifier(),\n",
              "                   param_distributions={&#x27;criterion&#x27;: [&#x27;gini&#x27;, &#x27;entropy&#x27;,\n",
              "                                                      &#x27;log_loss&#x27;],\n",
              "                                        &#x27;max_depth&#x27;: [5, 10, 25, 50, None],\n",
              "                                        &#x27;splitter&#x27;: [&#x27;best&#x27;, &#x27;random&#x27;]})</pre></div></div></div><div class=\"sk-parallel\"><div class=\"sk-parallel-item\"><div class=\"sk-item\"><div class=\"sk-label-container\"><div class=\"sk-label sk-toggleable\"><input class=\"sk-toggleable__control sk-hidden--visually\" id=\"sk-estimator-id-5\" type=\"checkbox\" ><label for=\"sk-estimator-id-5\" class=\"sk-toggleable__label sk-toggleable__label-arrow\">estimator: DecisionTreeClassifier</label><div class=\"sk-toggleable__content\"><pre>DecisionTreeClassifier()</pre></div></div></div><div class=\"sk-serial\"><div class=\"sk-item\"><div class=\"sk-estimator sk-toggleable\"><input class=\"sk-toggleable__control sk-hidden--visually\" id=\"sk-estimator-id-6\" type=\"checkbox\" ><label for=\"sk-estimator-id-6\" class=\"sk-toggleable__label sk-toggleable__label-arrow\">DecisionTreeClassifier</label><div class=\"sk-toggleable__content\"><pre>DecisionTreeClassifier()</pre></div></div></div></div></div></div></div></div></div></div>"
            ]
          },
          "metadata": {},
          "execution_count": 24
        }
      ]
    },
    {
      "cell_type": "code",
      "source": [
        "print(f\"Tuned Decision Tree Classifier Best Parameters: {dtc_cv.best_params_}\")\n",
        "print(f\"Tuned Decision Tree Classifier Best Accuracy Score: {dtc_cv.best_score_:.3f}\")\n",
        "print(f\"Tuned Decision Tree Classifier Best Accuracy on Test Set: {dtc_cv.score(X_test, y_test):.3f}\")\n",
        "\n",
        "# not as good as before!"
      ],
      "metadata": {
        "colab": {
          "base_uri": "https://localhost:8080/",
          "height": 69
        },
        "id": "KhSLcUVEYZd2",
        "outputId": "3c936651-d27d-44ef-d84c-5c379af5fe02"
      },
      "execution_count": 25,
      "outputs": [
        {
          "output_type": "display_data",
          "data": {
            "text/plain": [
              "<IPython.core.display.HTML object>"
            ],
            "text/html": [
              "\n",
              "  <style>\n",
              "    pre {\n",
              "        white-space: pre-wrap;\n",
              "    }\n",
              "  </style>\n",
              "  "
            ]
          },
          "metadata": {}
        },
        {
          "output_type": "stream",
          "name": "stdout",
          "text": [
            "Tuned Decision Tree Classifier Best Parameters: {'splitter': 'random', 'max_depth': 5, 'criterion': 'entropy'}\n",
            "Tuned Decision Tree Classifier Best Accuracy Score: 0.735\n",
            "Tuned Decision Tree Classifier Best Accuracy on Test Set: 0.720\n"
          ]
        }
      ]
    },
    {
      "cell_type": "code",
      "source": [
        "# can we get something much better with RF?\n",
        "\n",
        "from sklearn.ensemble import RandomForestClassifier\n",
        "RF = RandomForestClassifier(class_weight='balanced')\n",
        "RF.fit(X_train, y_train)"
      ],
      "metadata": {
        "colab": {
          "base_uri": "https://localhost:8080/",
          "height": 74
        },
        "id": "0hIO-ivHYsGe",
        "outputId": "bb9de49b-2edf-425d-fb5c-6b62e5190b65"
      },
      "execution_count": 26,
      "outputs": [
        {
          "output_type": "display_data",
          "data": {
            "text/plain": [
              "<IPython.core.display.HTML object>"
            ],
            "text/html": [
              "\n",
              "  <style>\n",
              "    pre {\n",
              "        white-space: pre-wrap;\n",
              "    }\n",
              "  </style>\n",
              "  "
            ]
          },
          "metadata": {}
        },
        {
          "output_type": "execute_result",
          "data": {
            "text/plain": [
              "RandomForestClassifier(class_weight='balanced')"
            ],
            "text/html": [
              "<style>#sk-container-id-3 {color: black;background-color: white;}#sk-container-id-3 pre{padding: 0;}#sk-container-id-3 div.sk-toggleable {background-color: white;}#sk-container-id-3 label.sk-toggleable__label {cursor: pointer;display: block;width: 100%;margin-bottom: 0;padding: 0.3em;box-sizing: border-box;text-align: center;}#sk-container-id-3 label.sk-toggleable__label-arrow:before {content: \"▸\";float: left;margin-right: 0.25em;color: #696969;}#sk-container-id-3 label.sk-toggleable__label-arrow:hover:before {color: black;}#sk-container-id-3 div.sk-estimator:hover label.sk-toggleable__label-arrow:before {color: black;}#sk-container-id-3 div.sk-toggleable__content {max-height: 0;max-width: 0;overflow: hidden;text-align: left;background-color: #f0f8ff;}#sk-container-id-3 div.sk-toggleable__content pre {margin: 0.2em;color: black;border-radius: 0.25em;background-color: #f0f8ff;}#sk-container-id-3 input.sk-toggleable__control:checked~div.sk-toggleable__content {max-height: 200px;max-width: 100%;overflow: auto;}#sk-container-id-3 input.sk-toggleable__control:checked~label.sk-toggleable__label-arrow:before {content: \"▾\";}#sk-container-id-3 div.sk-estimator input.sk-toggleable__control:checked~label.sk-toggleable__label {background-color: #d4ebff;}#sk-container-id-3 div.sk-label input.sk-toggleable__control:checked~label.sk-toggleable__label {background-color: #d4ebff;}#sk-container-id-3 input.sk-hidden--visually {border: 0;clip: rect(1px 1px 1px 1px);clip: rect(1px, 1px, 1px, 1px);height: 1px;margin: -1px;overflow: hidden;padding: 0;position: absolute;width: 1px;}#sk-container-id-3 div.sk-estimator {font-family: monospace;background-color: #f0f8ff;border: 1px dotted black;border-radius: 0.25em;box-sizing: border-box;margin-bottom: 0.5em;}#sk-container-id-3 div.sk-estimator:hover {background-color: #d4ebff;}#sk-container-id-3 div.sk-parallel-item::after {content: \"\";width: 100%;border-bottom: 1px solid gray;flex-grow: 1;}#sk-container-id-3 div.sk-label:hover label.sk-toggleable__label {background-color: #d4ebff;}#sk-container-id-3 div.sk-serial::before {content: \"\";position: absolute;border-left: 1px solid gray;box-sizing: border-box;top: 0;bottom: 0;left: 50%;z-index: 0;}#sk-container-id-3 div.sk-serial {display: flex;flex-direction: column;align-items: center;background-color: white;padding-right: 0.2em;padding-left: 0.2em;position: relative;}#sk-container-id-3 div.sk-item {position: relative;z-index: 1;}#sk-container-id-3 div.sk-parallel {display: flex;align-items: stretch;justify-content: center;background-color: white;position: relative;}#sk-container-id-3 div.sk-item::before, #sk-container-id-3 div.sk-parallel-item::before {content: \"\";position: absolute;border-left: 1px solid gray;box-sizing: border-box;top: 0;bottom: 0;left: 50%;z-index: -1;}#sk-container-id-3 div.sk-parallel-item {display: flex;flex-direction: column;z-index: 1;position: relative;background-color: white;}#sk-container-id-3 div.sk-parallel-item:first-child::after {align-self: flex-end;width: 50%;}#sk-container-id-3 div.sk-parallel-item:last-child::after {align-self: flex-start;width: 50%;}#sk-container-id-3 div.sk-parallel-item:only-child::after {width: 0;}#sk-container-id-3 div.sk-dashed-wrapped {border: 1px dashed gray;margin: 0 0.4em 0.5em 0.4em;box-sizing: border-box;padding-bottom: 0.4em;background-color: white;}#sk-container-id-3 div.sk-label label {font-family: monospace;font-weight: bold;display: inline-block;line-height: 1.2em;}#sk-container-id-3 div.sk-label-container {text-align: center;}#sk-container-id-3 div.sk-container {/* jupyter's `normalize.less` sets `[hidden] { display: none; }` but bootstrap.min.css set `[hidden] { display: none !important; }` so we also need the `!important` here to be able to override the default hidden behavior on the sphinx rendered scikit-learn.org. See: https://github.com/scikit-learn/scikit-learn/issues/21755 */display: inline-block !important;position: relative;}#sk-container-id-3 div.sk-text-repr-fallback {display: none;}</style><div id=\"sk-container-id-3\" class=\"sk-top-container\"><div class=\"sk-text-repr-fallback\"><pre>RandomForestClassifier(class_weight=&#x27;balanced&#x27;)</pre><b>In a Jupyter environment, please rerun this cell to show the HTML representation or trust the notebook. <br />On GitHub, the HTML representation is unable to render, please try loading this page with nbviewer.org.</b></div><div class=\"sk-container\" hidden><div class=\"sk-item\"><div class=\"sk-estimator sk-toggleable\"><input class=\"sk-toggleable__control sk-hidden--visually\" id=\"sk-estimator-id-7\" type=\"checkbox\" checked><label for=\"sk-estimator-id-7\" class=\"sk-toggleable__label sk-toggleable__label-arrow\">RandomForestClassifier</label><div class=\"sk-toggleable__content\"><pre>RandomForestClassifier(class_weight=&#x27;balanced&#x27;)</pre></div></div></div></div></div>"
            ]
          },
          "metadata": {},
          "execution_count": 26
        }
      ]
    },
    {
      "cell_type": "code",
      "source": [
        "print(f\"Tuned Random Forest Classifier Best Accuracy Score: {RF.score(X_train, y_train):.3f}\")\n",
        "print(f\"Tuned Random Forest Classifier Best Accuracy on Test Set: {RF.score(X_test, y_test):.3f}\")\n",
        "\n",
        "# overfits on training set!"
      ],
      "metadata": {
        "colab": {
          "base_uri": "https://localhost:8080/",
          "height": 52
        },
        "id": "IbBi5s8nY9H0",
        "outputId": "883763f7-1cfb-4efc-f8c2-738a71f92d28"
      },
      "execution_count": 27,
      "outputs": [
        {
          "output_type": "display_data",
          "data": {
            "text/plain": [
              "<IPython.core.display.HTML object>"
            ],
            "text/html": [
              "\n",
              "  <style>\n",
              "    pre {\n",
              "        white-space: pre-wrap;\n",
              "    }\n",
              "  </style>\n",
              "  "
            ]
          },
          "metadata": {}
        },
        {
          "output_type": "stream",
          "name": "stdout",
          "text": [
            "Tuned Random Forest Classifier Best Accuracy Score: 1.000\n",
            "Tuned Random Forest Classifier Best Accuracy on Test Set: 0.764\n"
          ]
        }
      ]
    },
    {
      "cell_type": "code",
      "source": [
        "# RF with Randomized Search CV\n",
        "\n",
        "params = {\"criterion\": ['gini', 'entropy', 'log_loss'],\n",
        "        'max_depth': [5, 10, 25, 50, None],\n",
        "          'max_features': ['sqrt', 'log2', None],\n",
        "          'class_weight': ['balanced']}\n",
        "RF_cv = RandomizedSearchCV(RF, params, cv=5)\n",
        "RF_cv.fit(X_train, y_train)"
      ],
      "metadata": {
        "colab": {
          "base_uri": "https://localhost:8080/",
          "height": 117
        },
        "id": "zW8rXfblZa_L",
        "outputId": "c1cd7648-341e-4699-89ec-97b67afb5806"
      },
      "execution_count": 28,
      "outputs": [
        {
          "output_type": "display_data",
          "data": {
            "text/plain": [
              "<IPython.core.display.HTML object>"
            ],
            "text/html": [
              "\n",
              "  <style>\n",
              "    pre {\n",
              "        white-space: pre-wrap;\n",
              "    }\n",
              "  </style>\n",
              "  "
            ]
          },
          "metadata": {}
        },
        {
          "output_type": "execute_result",
          "data": {
            "text/plain": [
              "RandomizedSearchCV(cv=5,\n",
              "                   estimator=RandomForestClassifier(class_weight='balanced'),\n",
              "                   param_distributions={'class_weight': ['balanced'],\n",
              "                                        'criterion': ['gini', 'entropy',\n",
              "                                                      'log_loss'],\n",
              "                                        'max_depth': [5, 10, 25, 50, None],\n",
              "                                        'max_features': ['sqrt', 'log2', None]})"
            ],
            "text/html": [
              "<style>#sk-container-id-4 {color: black;background-color: white;}#sk-container-id-4 pre{padding: 0;}#sk-container-id-4 div.sk-toggleable {background-color: white;}#sk-container-id-4 label.sk-toggleable__label {cursor: pointer;display: block;width: 100%;margin-bottom: 0;padding: 0.3em;box-sizing: border-box;text-align: center;}#sk-container-id-4 label.sk-toggleable__label-arrow:before {content: \"▸\";float: left;margin-right: 0.25em;color: #696969;}#sk-container-id-4 label.sk-toggleable__label-arrow:hover:before {color: black;}#sk-container-id-4 div.sk-estimator:hover label.sk-toggleable__label-arrow:before {color: black;}#sk-container-id-4 div.sk-toggleable__content {max-height: 0;max-width: 0;overflow: hidden;text-align: left;background-color: #f0f8ff;}#sk-container-id-4 div.sk-toggleable__content pre {margin: 0.2em;color: black;border-radius: 0.25em;background-color: #f0f8ff;}#sk-container-id-4 input.sk-toggleable__control:checked~div.sk-toggleable__content {max-height: 200px;max-width: 100%;overflow: auto;}#sk-container-id-4 input.sk-toggleable__control:checked~label.sk-toggleable__label-arrow:before {content: \"▾\";}#sk-container-id-4 div.sk-estimator input.sk-toggleable__control:checked~label.sk-toggleable__label {background-color: #d4ebff;}#sk-container-id-4 div.sk-label input.sk-toggleable__control:checked~label.sk-toggleable__label {background-color: #d4ebff;}#sk-container-id-4 input.sk-hidden--visually {border: 0;clip: rect(1px 1px 1px 1px);clip: rect(1px, 1px, 1px, 1px);height: 1px;margin: -1px;overflow: hidden;padding: 0;position: absolute;width: 1px;}#sk-container-id-4 div.sk-estimator {font-family: monospace;background-color: #f0f8ff;border: 1px dotted black;border-radius: 0.25em;box-sizing: border-box;margin-bottom: 0.5em;}#sk-container-id-4 div.sk-estimator:hover {background-color: #d4ebff;}#sk-container-id-4 div.sk-parallel-item::after {content: \"\";width: 100%;border-bottom: 1px solid gray;flex-grow: 1;}#sk-container-id-4 div.sk-label:hover label.sk-toggleable__label {background-color: #d4ebff;}#sk-container-id-4 div.sk-serial::before {content: \"\";position: absolute;border-left: 1px solid gray;box-sizing: border-box;top: 0;bottom: 0;left: 50%;z-index: 0;}#sk-container-id-4 div.sk-serial {display: flex;flex-direction: column;align-items: center;background-color: white;padding-right: 0.2em;padding-left: 0.2em;position: relative;}#sk-container-id-4 div.sk-item {position: relative;z-index: 1;}#sk-container-id-4 div.sk-parallel {display: flex;align-items: stretch;justify-content: center;background-color: white;position: relative;}#sk-container-id-4 div.sk-item::before, #sk-container-id-4 div.sk-parallel-item::before {content: \"\";position: absolute;border-left: 1px solid gray;box-sizing: border-box;top: 0;bottom: 0;left: 50%;z-index: -1;}#sk-container-id-4 div.sk-parallel-item {display: flex;flex-direction: column;z-index: 1;position: relative;background-color: white;}#sk-container-id-4 div.sk-parallel-item:first-child::after {align-self: flex-end;width: 50%;}#sk-container-id-4 div.sk-parallel-item:last-child::after {align-self: flex-start;width: 50%;}#sk-container-id-4 div.sk-parallel-item:only-child::after {width: 0;}#sk-container-id-4 div.sk-dashed-wrapped {border: 1px dashed gray;margin: 0 0.4em 0.5em 0.4em;box-sizing: border-box;padding-bottom: 0.4em;background-color: white;}#sk-container-id-4 div.sk-label label {font-family: monospace;font-weight: bold;display: inline-block;line-height: 1.2em;}#sk-container-id-4 div.sk-label-container {text-align: center;}#sk-container-id-4 div.sk-container {/* jupyter's `normalize.less` sets `[hidden] { display: none; }` but bootstrap.min.css set `[hidden] { display: none !important; }` so we also need the `!important` here to be able to override the default hidden behavior on the sphinx rendered scikit-learn.org. See: https://github.com/scikit-learn/scikit-learn/issues/21755 */display: inline-block !important;position: relative;}#sk-container-id-4 div.sk-text-repr-fallback {display: none;}</style><div id=\"sk-container-id-4\" class=\"sk-top-container\"><div class=\"sk-text-repr-fallback\"><pre>RandomizedSearchCV(cv=5,\n",
              "                   estimator=RandomForestClassifier(class_weight=&#x27;balanced&#x27;),\n",
              "                   param_distributions={&#x27;class_weight&#x27;: [&#x27;balanced&#x27;],\n",
              "                                        &#x27;criterion&#x27;: [&#x27;gini&#x27;, &#x27;entropy&#x27;,\n",
              "                                                      &#x27;log_loss&#x27;],\n",
              "                                        &#x27;max_depth&#x27;: [5, 10, 25, 50, None],\n",
              "                                        &#x27;max_features&#x27;: [&#x27;sqrt&#x27;, &#x27;log2&#x27;, None]})</pre><b>In a Jupyter environment, please rerun this cell to show the HTML representation or trust the notebook. <br />On GitHub, the HTML representation is unable to render, please try loading this page with nbviewer.org.</b></div><div class=\"sk-container\" hidden><div class=\"sk-item sk-dashed-wrapped\"><div class=\"sk-label-container\"><div class=\"sk-label sk-toggleable\"><input class=\"sk-toggleable__control sk-hidden--visually\" id=\"sk-estimator-id-8\" type=\"checkbox\" ><label for=\"sk-estimator-id-8\" class=\"sk-toggleable__label sk-toggleable__label-arrow\">RandomizedSearchCV</label><div class=\"sk-toggleable__content\"><pre>RandomizedSearchCV(cv=5,\n",
              "                   estimator=RandomForestClassifier(class_weight=&#x27;balanced&#x27;),\n",
              "                   param_distributions={&#x27;class_weight&#x27;: [&#x27;balanced&#x27;],\n",
              "                                        &#x27;criterion&#x27;: [&#x27;gini&#x27;, &#x27;entropy&#x27;,\n",
              "                                                      &#x27;log_loss&#x27;],\n",
              "                                        &#x27;max_depth&#x27;: [5, 10, 25, 50, None],\n",
              "                                        &#x27;max_features&#x27;: [&#x27;sqrt&#x27;, &#x27;log2&#x27;, None]})</pre></div></div></div><div class=\"sk-parallel\"><div class=\"sk-parallel-item\"><div class=\"sk-item\"><div class=\"sk-label-container\"><div class=\"sk-label sk-toggleable\"><input class=\"sk-toggleable__control sk-hidden--visually\" id=\"sk-estimator-id-9\" type=\"checkbox\" ><label for=\"sk-estimator-id-9\" class=\"sk-toggleable__label sk-toggleable__label-arrow\">estimator: RandomForestClassifier</label><div class=\"sk-toggleable__content\"><pre>RandomForestClassifier(class_weight=&#x27;balanced&#x27;)</pre></div></div></div><div class=\"sk-serial\"><div class=\"sk-item\"><div class=\"sk-estimator sk-toggleable\"><input class=\"sk-toggleable__control sk-hidden--visually\" id=\"sk-estimator-id-10\" type=\"checkbox\" ><label for=\"sk-estimator-id-10\" class=\"sk-toggleable__label sk-toggleable__label-arrow\">RandomForestClassifier</label><div class=\"sk-toggleable__content\"><pre>RandomForestClassifier(class_weight=&#x27;balanced&#x27;)</pre></div></div></div></div></div></div></div></div></div></div>"
            ]
          },
          "metadata": {},
          "execution_count": 28
        }
      ]
    },
    {
      "cell_type": "code",
      "source": [
        "print(f\"Tuned Decision Tree Classifier Best Parameters: {RF_cv.best_params_}\")\n",
        "print(f\"Tuned Random Forest Classifier Best Accuracy Score: {RF_cv.best_score_:.3f}\")\n",
        "print(f\"Tuned Random Forest Classifier Best Accuracy on Test Set: {RF_cv.score(X_test, y_test):.3f}\")"
      ],
      "metadata": {
        "colab": {
          "base_uri": "https://localhost:8080/",
          "height": 69
        },
        "id": "xKoc_EW0Zruc",
        "outputId": "65e4a1e7-6ce2-4b4d-88e4-0cc12ec256e8"
      },
      "execution_count": 29,
      "outputs": [
        {
          "output_type": "display_data",
          "data": {
            "text/plain": [
              "<IPython.core.display.HTML object>"
            ],
            "text/html": [
              "\n",
              "  <style>\n",
              "    pre {\n",
              "        white-space: pre-wrap;\n",
              "    }\n",
              "  </style>\n",
              "  "
            ]
          },
          "metadata": {}
        },
        {
          "output_type": "stream",
          "name": "stdout",
          "text": [
            "Tuned Decision Tree Classifier Best Parameters: {'max_features': 'sqrt', 'max_depth': None, 'criterion': 'gini', 'class_weight': 'balanced'}\n",
            "Tuned Random Forest Classifier Best Accuracy Score: 0.797\n",
            "Tuned Random Forest Classifier Best Accuracy on Test Set: 0.784\n"
          ]
        }
      ]
    },
    {
      "cell_type": "code",
      "source": [
        "# not too much of an improvement!\n",
        "# we'll stick with logreg for interpretability"
      ],
      "metadata": {
        "id": "HDA6-xlvaOBc"
      },
      "execution_count": null,
      "outputs": []
    },
    {
      "cell_type": "markdown",
      "source": [
        "## Exploring LogReg\n",
        "\n",
        "All of our models performed roughly the same. For maximum interpretability, we'll move forward with our Logreg model.\n",
        "\n",
        "*   Which features are most important?\n",
        "*   Which books in the test set were predicted incorrectly?\n",
        "\n"
      ],
      "metadata": {
        "id": "fuwMwHmnn9nJ"
      }
    },
    {
      "cell_type": "code",
      "source": [
        "print(logreg.feature_names_in_)\n",
        "print(logreg.coef_)"
      ],
      "metadata": {
        "colab": {
          "base_uri": "https://localhost:8080/",
          "height": 139
        },
        "id": "wxR8jeCpHZm_",
        "outputId": "1f9f8848-9466-4ca0-e77b-799128dd505a"
      },
      "execution_count": 30,
      "outputs": [
        {
          "output_type": "display_data",
          "data": {
            "text/plain": [
              "<IPython.core.display.HTML object>"
            ],
            "text/html": [
              "\n",
              "  <style>\n",
              "    pre {\n",
              "        white-space: pre-wrap;\n",
              "    }\n",
              "  </style>\n",
              "  "
            ]
          },
          "metadata": {}
        },
        {
          "output_type": "stream",
          "name": "stdout",
          "text": [
            "['nyt_author' 'middle_and_high_school' 'award_winning_childrens'\n",
            " 'gender_and_sexuality' 'families_and_home' 'race_and_america'\n",
            " 'growing_up' 'young_woman_meets_man' 'classics' 'boy_girl_story'\n",
            " 'book_series' 'lgbtq_sexuality' 'friendship' 'prize_novel']\n",
            "[[-0.26893064  0.50492072  0.28571969  0.37992979  0.22499652  0.28285085\n",
            "   0.04732952 -0.15900568 -0.51433839  0.38353892 -0.73867627  0.38072844\n",
            "   0.42264897 -0.24803819]]\n"
          ]
        }
      ]
    },
    {
      "cell_type": "code",
      "source": [
        "logreg_feature_names = [x for x in logreg.feature_names_in_]\n",
        "logreg_coefs = [x for x in logreg.coef_]"
      ],
      "metadata": {
        "colab": {
          "base_uri": "https://localhost:8080/",
          "height": 17
        },
        "id": "HnoHmQM9GROf",
        "outputId": "211a807a-bf94-4b69-b3f0-5d484a3bceac"
      },
      "execution_count": 31,
      "outputs": [
        {
          "output_type": "display_data",
          "data": {
            "text/plain": [
              "<IPython.core.display.HTML object>"
            ],
            "text/html": [
              "\n",
              "  <style>\n",
              "    pre {\n",
              "        white-space: pre-wrap;\n",
              "    }\n",
              "  </style>\n",
              "  "
            ]
          },
          "metadata": {}
        }
      ]
    },
    {
      "cell_type": "code",
      "source": [
        "logreg_coefs[0][1]"
      ],
      "metadata": {
        "colab": {
          "base_uri": "https://localhost:8080/",
          "height": 34
        },
        "id": "7AZcYkqoMhup",
        "outputId": "2b255ebf-b700-4353-dd20-6b71c6db9fcd"
      },
      "execution_count": 32,
      "outputs": [
        {
          "output_type": "display_data",
          "data": {
            "text/plain": [
              "<IPython.core.display.HTML object>"
            ],
            "text/html": [
              "\n",
              "  <style>\n",
              "    pre {\n",
              "        white-space: pre-wrap;\n",
              "    }\n",
              "  </style>\n",
              "  "
            ]
          },
          "metadata": {}
        },
        {
          "output_type": "execute_result",
          "data": {
            "text/plain": [
              "0.5049207211220316"
            ]
          },
          "metadata": {},
          "execution_count": 32
        }
      ]
    },
    {
      "cell_type": "code",
      "source": [
        "logreg_feats = {}\n",
        "\n",
        "for i in range(len(logreg_feature_names)):\n",
        "  logreg_feats[logreg_feature_names[i]] = logreg_coefs[0][i]\n",
        "\n",
        "logreg_feats"
      ],
      "metadata": {
        "colab": {
          "base_uri": "https://localhost:8080/",
          "height": 260
        },
        "id": "_-zDdQUnEFn7",
        "outputId": "ca947c61-b290-4026-a810-edd45cac06dc"
      },
      "execution_count": 33,
      "outputs": [
        {
          "output_type": "display_data",
          "data": {
            "text/plain": [
              "<IPython.core.display.HTML object>"
            ],
            "text/html": [
              "\n",
              "  <style>\n",
              "    pre {\n",
              "        white-space: pre-wrap;\n",
              "    }\n",
              "  </style>\n",
              "  "
            ]
          },
          "metadata": {}
        },
        {
          "output_type": "execute_result",
          "data": {
            "text/plain": [
              "{'nyt_author': -0.26893064355288215,\n",
              " 'middle_and_high_school': 0.5049207211220316,\n",
              " 'award_winning_childrens': 0.28571968547213833,\n",
              " 'gender_and_sexuality': 0.37992979489400897,\n",
              " 'families_and_home': 0.22499652134122655,\n",
              " 'race_and_america': 0.2828508478800924,\n",
              " 'growing_up': 0.04732952079457312,\n",
              " 'young_woman_meets_man': -0.15900567607941177,\n",
              " 'classics': -0.5143383914960924,\n",
              " 'boy_girl_story': 0.3835389192840016,\n",
              " 'book_series': -0.7386762708601015,\n",
              " 'lgbtq_sexuality': 0.3807284398889175,\n",
              " 'friendship': 0.42264897129004086,\n",
              " 'prize_novel': -0.24803818657231638}"
            ]
          },
          "metadata": {},
          "execution_count": 33
        }
      ]
    },
    {
      "cell_type": "code",
      "source": [
        "names = list(logreg_feats.keys())\n",
        "values = list(logreg_feats.values())\n",
        "\n",
        "plt.barh(range(len(logreg_feats)), values, tick_label=names,\n",
        "         color=('0.7',\n",
        "                'turquoise',\n",
        "                '0.7',\n",
        "                '0.7',\n",
        "                '0.7',\n",
        "                '0.7',\n",
        "                '0.7',\n",
        "                '0.7',\n",
        "                'green',\n",
        "                '0.7',\n",
        "                'green',\n",
        "                '0.7',\n",
        "                '0.7',\n",
        "                '0.7'))\n",
        "plt.title('Best Predictors for Banned Books (Logreg)')\n",
        "plt.xlabel('Non-Banned Predictors (negative) vs. Banned Predictors (positive)')\n",
        "plt.ylabel('Book Description Topics')\n",
        "# plt.savefig('Banned_Logreg_Coefficients.png', bbox_inches='tight')\n",
        "plt.show()"
      ],
      "metadata": {
        "colab": {
          "base_uri": "https://localhost:8080/",
          "height": 472
        },
        "id": "LGs9XM1YMe7u",
        "outputId": "7ebecd01-4229-4829-a928-3aab1e0c012d"
      },
      "execution_count": 43,
      "outputs": [
        {
          "output_type": "display_data",
          "data": {
            "text/plain": [
              "<IPython.core.display.HTML object>"
            ],
            "text/html": [
              "\n",
              "  <style>\n",
              "    pre {\n",
              "        white-space: pre-wrap;\n",
              "    }\n",
              "  </style>\n",
              "  "
            ]
          },
          "metadata": {}
        },
        {
          "output_type": "display_data",
          "data": {
            "text/plain": [
              "<Figure size 640x480 with 1 Axes>"
            ],
            "image/png": "[encoded data removed]"
          },
          "metadata": {}
        }
      ]
    },
    {
      "cell_type": "code",
      "source": [
        "y_pred = logreg.predict(X_test)\n",
        "y_probs = logreg.predict_proba(X_test)\n",
        "confusion_matrix(y_test, y_pred)"
      ],
      "metadata": {
        "colab": {
          "base_uri": "https://localhost:8080/",
          "height": 52
        },
        "id": "l68dBsKpOlJU",
        "outputId": "bc8b1495-2355-470a-ad3b-77b8edf8e9dc"
      },
      "execution_count": 37,
      "outputs": [
        {
          "output_type": "display_data",
          "data": {
            "text/plain": [
              "<IPython.core.display.HTML object>"
            ],
            "text/html": [
              "\n",
              "  <style>\n",
              "    pre {\n",
              "        white-space: pre-wrap;\n",
              "    }\n",
              "  </style>\n",
              "  "
            ]
          },
          "metadata": {}
        },
        {
          "output_type": "execute_result",
          "data": {
            "text/plain": [
              "array([[ 88,  21],\n",
              "       [ 44, 143]])"
            ]
          },
          "metadata": {},
          "execution_count": 37
        }
      ]
    },
    {
      "cell_type": "code",
      "source": [
        "# vis of confusion matrix\n",
        "cm = confusion_matrix(y_test, y_pred, labels=logreg.classes_)\n",
        "disp = ConfusionMatrixDisplay(confusion_matrix=cm, display_labels=logreg.classes_)\n",
        "disp.plot(cmap=plt.cm.Greens)\n",
        "plt.show()"
      ],
      "metadata": {
        "colab": {
          "base_uri": "https://localhost:8080/",
          "height": 449
        },
        "id": "J6cDkECDO71d",
        "outputId": "e0ab963e-e0d4-40a0-b35f-c3996abbb925"
      },
      "execution_count": 38,
      "outputs": [
        {
          "output_type": "display_data",
          "data": {
            "text/plain": [
              "<IPython.core.display.HTML object>"
            ],
            "text/html": [
              "\n",
              "  <style>\n",
              "    pre {\n",
              "        white-space: pre-wrap;\n",
              "    }\n",
              "  </style>\n",
              "  "
            ]
          },
          "metadata": {}
        },
        {
          "output_type": "display_data",
          "data": {
            "text/plain": [
              "<Figure size 640x480 with 2 Axes>"
            ],
            "image/png": "[encoded data removed]"
          },
          "metadata": {}
        }
      ]
    },
    {
      "cell_type": "code",
      "source": [
        "y_probs"
      ],
      "metadata": {
        "colab": {
          "base_uri": "https://localhost:8080/",
          "height": 1000
        },
        "id": "Q4MGT1aJwPo3",
        "outputId": "dc7a0cef-284f-4f09-96a4-feb0017dbfff"
      },
      "execution_count": 44,
      "outputs": [
        {
          "output_type": "display_data",
          "data": {
            "text/plain": [
              "<IPython.core.display.HTML object>"
            ],
            "text/html": [
              "\n",
              "  <style>\n",
              "    pre {\n",
              "        white-space: pre-wrap;\n",
              "    }\n",
              "  </style>\n",
              "  "
            ]
          },
          "metadata": {}
        },
        {
          "output_type": "execute_result",
          "data": {
            "text/plain": [
              "array([[0.49945197, 0.50054803],\n",
              "       [0.49467113, 0.50532887],\n",
              "       [0.50101368, 0.49898632],\n",
              "       [0.50408743, 0.49591257],\n",
              "       [0.52004387, 0.47995613],\n",
              "       [0.46462062, 0.53537938],\n",
              "       [0.49162466, 0.50837534],\n",
              "       [0.49929012, 0.50070988],\n",
              "       [0.51029487, 0.48970513],\n",
              "       [0.4869902 , 0.5130098 ],\n",
              "       [0.48320541, 0.51679459],\n",
              "       [0.47766172, 0.52233828],\n",
              "       [0.51716556, 0.48283444],\n",
              "       [0.50963255, 0.49036745],\n",
              "       [0.49407421, 0.50592579],\n",
              "       [0.52163274, 0.47836726],\n",
              "       [0.50955941, 0.49044059],\n",
              "       [0.48611653, 0.51388347],\n",
              "       [0.51545692, 0.48454308],\n",
              "       [0.48965589, 0.51034411],\n",
              "       [0.47914729, 0.52085271],\n",
              "       [0.47747125, 0.52252875],\n",
              "       [0.47864008, 0.52135992],\n",
              "       [0.51579339, 0.48420661],\n",
              "       [0.50913519, 0.49086481],\n",
              "       [0.5215984 , 0.4784016 ],\n",
              "       [0.52063215, 0.47936785],\n",
              "       [0.48628433, 0.51371567],\n",
              "       [0.50610298, 0.49389702],\n",
              "       [0.50461959, 0.49538041],\n",
              "       [0.49781893, 0.50218107],\n",
              "       [0.50887229, 0.49112771],\n",
              "       [0.49910151, 0.50089849],\n",
              "       [0.49922993, 0.50077007],\n",
              "       [0.4720599 , 0.5279401 ],\n",
              "       [0.50156161, 0.49843839],\n",
              "       [0.48305335, 0.51694665],\n",
              "       [0.47450106, 0.52549894],\n",
              "       [0.48232989, 0.51767011],\n",
              "       [0.47398437, 0.52601563],\n",
              "       [0.50560813, 0.49439187],\n",
              "       [0.50398267, 0.49601733],\n",
              "       [0.49083305, 0.50916695],\n",
              "       [0.48388365, 0.51611635],\n",
              "       [0.51510686, 0.48489314],\n",
              "       [0.50324646, 0.49675354],\n",
              "       [0.49597949, 0.50402051],\n",
              "       [0.49773829, 0.50226171],\n",
              "       [0.46971286, 0.53028714],\n",
              "       [0.49499708, 0.50500292],\n",
              "       [0.50379522, 0.49620478],\n",
              "       [0.49980069, 0.50019931],\n",
              "       [0.4986536 , 0.5013464 ],\n",
              "       [0.50860125, 0.49139875],\n",
              "       [0.49604518, 0.50395482],\n",
              "       [0.50501063, 0.49498937],\n",
              "       [0.49327295, 0.50672705],\n",
              "       [0.4971453 , 0.5028547 ],\n",
              "       [0.50725672, 0.49274328],\n",
              "       [0.5117983 , 0.4882017 ],\n",
              "       [0.517311  , 0.482689  ],\n",
              "       [0.4991582 , 0.5008418 ],\n",
              "       [0.51196078, 0.48803922],\n",
              "       [0.52127724, 0.47872276],\n",
              "       [0.50028725, 0.49971275],\n",
              "       [0.51546267, 0.48453733],\n",
              "       [0.50961558, 0.49038442],\n",
              "       [0.4999653 , 0.5000347 ],\n",
              "       [0.4782021 , 0.5217979 ],\n",
              "       [0.46534374, 0.53465626],\n",
              "       [0.48840811, 0.51159189],\n",
              "       [0.5108743 , 0.4891257 ],\n",
              "       [0.47441621, 0.52558379],\n",
              "       [0.48181611, 0.51818389],\n",
              "       [0.48867626, 0.51132374],\n",
              "       [0.4838243 , 0.5161757 ],\n",
              "       [0.50152542, 0.49847458],\n",
              "       [0.50683618, 0.49316382],\n",
              "       [0.49301696, 0.50698304],\n",
              "       [0.48122044, 0.51877956],\n",
              "       [0.50003683, 0.49996317],\n",
              "       [0.51102146, 0.48897854],\n",
              "       [0.49386922, 0.50613078],\n",
              "       [0.49355161, 0.50644839],\n",
              "       [0.5098646 , 0.4901354 ],\n",
              "       [0.49588183, 0.50411817],\n",
              "       [0.51359075, 0.48640925],\n",
              "       [0.49100692, 0.50899308],\n",
              "       [0.52305919, 0.47694081],\n",
              "       [0.48157567, 0.51842433],\n",
              "       [0.52727511, 0.47272489],\n",
              "       [0.48594935, 0.51405065],\n",
              "       [0.47846853, 0.52153147],\n",
              "       [0.4979746 , 0.5020254 ],\n",
              "       [0.51136389, 0.48863611],\n",
              "       [0.48126923, 0.51873077],\n",
              "       [0.5123798 , 0.4876202 ],\n",
              "       [0.51691547, 0.48308453],\n",
              "       [0.49600636, 0.50399364],\n",
              "       [0.47969033, 0.52030967],\n",
              "       [0.48983317, 0.51016683],\n",
              "       [0.52043668, 0.47956332],\n",
              "       [0.48143767, 0.51856233],\n",
              "       [0.48258475, 0.51741525],\n",
              "       [0.51264904, 0.48735096],\n",
              "       [0.49310025, 0.50689975],\n",
              "       [0.51401868, 0.48598132],\n",
              "       [0.46606308, 0.53393692],\n",
              "       [0.50848631, 0.49151369],\n",
              "       [0.49592478, 0.50407522],\n",
              "       [0.47963697, 0.52036303],\n",
              "       [0.47756836, 0.52243164],\n",
              "       [0.54689451, 0.45310549],\n",
              "       [0.49525835, 0.50474165],\n",
              "       [0.48557041, 0.51442959],\n",
              "       [0.48601743, 0.51398257],\n",
              "       [0.50498228, 0.49501772],\n",
              "       [0.48369071, 0.51630929],\n",
              "       [0.50221591, 0.49778409],\n",
              "       [0.50629281, 0.49370719],\n",
              "       [0.51677869, 0.48322131],\n",
              "       [0.47911867, 0.52088133],\n",
              "       [0.51298473, 0.48701527],\n",
              "       [0.46589969, 0.53410031],\n",
              "       [0.47926224, 0.52073776],\n",
              "       [0.51302058, 0.48697942],\n",
              "       [0.49246604, 0.50753396],\n",
              "       [0.50022022, 0.49977978],\n",
              "       [0.48223721, 0.51776279],\n",
              "       [0.49388589, 0.50611411],\n",
              "       [0.51126137, 0.48873863],\n",
              "       [0.49142704, 0.50857296],\n",
              "       [0.51062047, 0.48937953],\n",
              "       [0.50193053, 0.49806947],\n",
              "       [0.50132726, 0.49867274],\n",
              "       [0.4997553 , 0.5002447 ],\n",
              "       [0.49678641, 0.50321359],\n",
              "       [0.48810598, 0.51189402],\n",
              "       [0.50305259, 0.49694741],\n",
              "       [0.48839969, 0.51160031],\n",
              "       [0.50847295, 0.49152705],\n",
              "       [0.46374777, 0.53625223],\n",
              "       [0.48797513, 0.51202487],\n",
              "       [0.52683048, 0.47316952],\n",
              "       [0.51086734, 0.48913266],\n",
              "       [0.49853875, 0.50146125],\n",
              "       [0.49741771, 0.50258229],\n",
              "       [0.49315361, 0.50684639],\n",
              "       [0.50351823, 0.49648177],\n",
              "       [0.50320919, 0.49679081],\n",
              "       [0.49276911, 0.50723089],\n",
              "       [0.49054746, 0.50945254],\n",
              "       [0.51421115, 0.48578885],\n",
              "       [0.50459054, 0.49540946],\n",
              "       [0.47158223, 0.52841777],\n",
              "       [0.4879887 , 0.5120113 ],\n",
              "       [0.48752352, 0.51247648],\n",
              "       [0.49178476, 0.50821524],\n",
              "       [0.49905785, 0.50094215],\n",
              "       [0.50754322, 0.49245678],\n",
              "       [0.49423455, 0.50576545],\n",
              "       [0.50300374, 0.49699626],\n",
              "       [0.53392158, 0.46607842],\n",
              "       [0.51674899, 0.48325101],\n",
              "       [0.47862238, 0.52137762],\n",
              "       [0.5007096 , 0.4992904 ],\n",
              "       [0.50644757, 0.49355243],\n",
              "       [0.4967498 , 0.5032502 ],\n",
              "       [0.50047381, 0.49952619],\n",
              "       [0.48558527, 0.51441473],\n",
              "       [0.4814726 , 0.5185274 ],\n",
              "       [0.47634896, 0.52365104],\n",
              "       [0.53279885, 0.46720115],\n",
              "       [0.49741354, 0.50258646],\n",
              "       [0.49728197, 0.50271803],\n",
              "       [0.48250683, 0.51749317],\n",
              "       [0.4861186 , 0.5138814 ],\n",
              "       [0.51229198, 0.48770802],\n",
              "       [0.5181903 , 0.4818097 ],\n",
              "       [0.49195252, 0.50804748],\n",
              "       [0.51282307, 0.48717693],\n",
              "       [0.4874199 , 0.5125801 ],\n",
              "       [0.47930691, 0.52069309],\n",
              "       [0.47432983, 0.52567017],\n",
              "       [0.49850827, 0.50149173],\n",
              "       [0.4912819 , 0.5087181 ],\n",
              "       [0.47403761, 0.52596239],\n",
              "       [0.47988856, 0.52011144],\n",
              "       [0.4773591 , 0.5226409 ],\n",
              "       [0.4923506 , 0.5076494 ],\n",
              "       [0.50824505, 0.49175495],\n",
              "       [0.49596984, 0.50403016],\n",
              "       [0.51106738, 0.48893262],\n",
              "       [0.52000614, 0.47999386],\n",
              "       [0.51864721, 0.48135279],\n",
              "       [0.49661288, 0.50338712],\n",
              "       [0.51300915, 0.48699085],\n",
              "       [0.51737213, 0.48262787],\n",
              "       [0.50849   , 0.49151   ],\n",
              "       [0.48442041, 0.51557959],\n",
              "       [0.50707148, 0.49292852],\n",
              "       [0.51551381, 0.48448619],\n",
              "       [0.52697959, 0.47302041],\n",
              "       [0.48775537, 0.51224463],\n",
              "       [0.48197504, 0.51802496],\n",
              "       [0.45988039, 0.54011961],\n",
              "       [0.50036299, 0.49963701],\n",
              "       [0.48607234, 0.51392766],\n",
              "       [0.50134663, 0.49865337],\n",
              "       [0.49726499, 0.50273501],\n",
              "       [0.48620536, 0.51379464],\n",
              "       [0.49076108, 0.50923892],\n",
              "       [0.51326398, 0.48673602],\n",
              "       [0.51477501, 0.48522499],\n",
              "       [0.51271515, 0.48728485],\n",
              "       [0.48958319, 0.51041681],\n",
              "       [0.50909324, 0.49090676],\n",
              "       [0.47119131, 0.52880869],\n",
              "       [0.52226629, 0.47773371],\n",
              "       [0.52859502, 0.47140498],\n",
              "       [0.50242306, 0.49757694],\n",
              "       [0.50151401, 0.49848599],\n",
              "       [0.4975294 , 0.5024706 ],\n",
              "       [0.48279822, 0.51720178],\n",
              "       [0.52153579, 0.47846421],\n",
              "       [0.50318283, 0.49681717],\n",
              "       [0.51713027, 0.48286973],\n",
              "       [0.4958529 , 0.5041471 ],\n",
              "       [0.50710207, 0.49289793],\n",
              "       [0.49631603, 0.50368397],\n",
              "       [0.48374548, 0.51625452],\n",
              "       [0.47018347, 0.52981653],\n",
              "       [0.50466556, 0.49533444],\n",
              "       [0.53831941, 0.46168059],\n",
              "       [0.490591  , 0.509409  ],\n",
              "       [0.49459397, 0.50540603],\n",
              "       [0.49747578, 0.50252422],\n",
              "       [0.53218677, 0.46781323],\n",
              "       [0.50575564, 0.49424436],\n",
              "       [0.47344456, 0.52655544],\n",
              "       [0.47438652, 0.52561348],\n",
              "       [0.49835255, 0.50164745],\n",
              "       [0.50053281, 0.49946719],\n",
              "       [0.49621337, 0.50378663],\n",
              "       [0.5079664 , 0.4920336 ],\n",
              "       [0.48019276, 0.51980724],\n",
              "       [0.49402758, 0.50597242],\n",
              "       [0.49397574, 0.50602426],\n",
              "       [0.49383089, 0.50616911],\n",
              "       [0.49520659, 0.50479341],\n",
              "       [0.49394037, 0.50605963],\n",
              "       [0.49907495, 0.50092505],\n",
              "       [0.50506207, 0.49493793],\n",
              "       [0.49888447, 0.50111553],\n",
              "       [0.51809214, 0.48190786],\n",
              "       [0.47737037, 0.52262963],\n",
              "       [0.50375169, 0.49624831],\n",
              "       [0.49184528, 0.50815472],\n",
              "       [0.47442349, 0.52557651],\n",
              "       [0.51767619, 0.48232381],\n",
              "       [0.4946516 , 0.5053484 ],\n",
              "       [0.49582213, 0.50417787],\n",
              "       [0.48574766, 0.51425234],\n",
              "       [0.4957047 , 0.5042953 ],\n",
              "       [0.51628599, 0.48371401],\n",
              "       [0.48546462, 0.51453538],\n",
              "       [0.50656421, 0.49343579],\n",
              "       [0.50316333, 0.49683667],\n",
              "       [0.50844317, 0.49155683],\n",
              "       [0.50005391, 0.49994609],\n",
              "       [0.51150409, 0.48849591],\n",
              "       [0.49525671, 0.50474329],\n",
              "       [0.47350043, 0.52649957],\n",
              "       [0.49164475, 0.50835525],\n",
              "       [0.48571273, 0.51428727],\n",
              "       [0.53316421, 0.46683579],\n",
              "       [0.51608904, 0.48391096],\n",
              "       [0.54283125, 0.45716875],\n",
              "       [0.5035585 , 0.4964415 ],\n",
              "       [0.49027375, 0.50972625],\n",
              "       [0.51726495, 0.48273505],\n",
              "       [0.50273148, 0.49726852],\n",
              "       [0.48076845, 0.51923155],\n",
              "       [0.50023141, 0.49976859],\n",
              "       [0.50949584, 0.49050416],\n",
              "       [0.49048816, 0.50951184],\n",
              "       [0.50896211, 0.49103789],\n",
              "       [0.48351976, 0.51648024],\n",
              "       [0.49665345, 0.50334655],\n",
              "       [0.52193619, 0.47806381],\n",
              "       [0.48404438, 0.51595562],\n",
              "       [0.48602724, 0.51397276],\n",
              "       [0.50388561, 0.49611439],\n",
              "       [0.50886609, 0.49113391],\n",
              "       [0.50128738, 0.49871262],\n",
              "       [0.49103702, 0.50896298]])"
            ]
          },
          "metadata": {},
          "execution_count": 44
        }
      ]
    },
    {
      "cell_type": "code",
      "source": [
        "y_proba = y_probs[:, 1]"
      ],
      "metadata": {
        "colab": {
          "base_uri": "https://localhost:8080/",
          "height": 17
        },
        "id": "AA8j0RO6wfGA",
        "outputId": "3331c51a-c16b-471b-8cb9-d9c4859096d9"
      },
      "execution_count": 45,
      "outputs": [
        {
          "output_type": "display_data",
          "data": {
            "text/plain": [
              "<IPython.core.display.HTML object>"
            ],
            "text/html": [
              "\n",
              "  <style>\n",
              "    pre {\n",
              "        white-space: pre-wrap;\n",
              "    }\n",
              "  </style>\n",
              "  "
            ]
          },
          "metadata": {}
        }
      ]
    },
    {
      "cell_type": "code",
      "source": [
        "from sklearn.metrics import accuracy_score, precision_score, recall_score, f1_score, roc_auc_score\n",
        "print(f\"Accuracy Score on Test Set for Logistic Regression Classifier: {accuracy_score(y_test, y_pred):.3f}\")\n",
        "print(f\"Precision Score on Test Set for Logistic Regression Classifier: {precision_score(y_test, y_pred):.3f}\")\n",
        "print(f\"Recall Score on Test Set for Logistic Regression Classifier: {recall_score(y_test, y_pred):.3f}\")\n",
        "print(f\"F1 Score on Test Set for Logistic Regression Classifier: {f1_score(y_test, y_pred):.3f}\")\n",
        "print(f\"ROC-AUC score on Test Set for Logistic Regression Classifier: {roc_auc_score(y_test, y_proba):.3f}\")"
      ],
      "metadata": {
        "colab": {
          "base_uri": "https://localhost:8080/",
          "height": 104
        },
        "id": "_t64px9tu9Fr",
        "outputId": "ed168494-fcd5-4583-bdcb-647ec354e4bf"
      },
      "execution_count": 46,
      "outputs": [
        {
          "output_type": "display_data",
          "data": {
            "text/plain": [
              "<IPython.core.display.HTML object>"
            ],
            "text/html": [
              "\n",
              "  <style>\n",
              "    pre {\n",
              "        white-space: pre-wrap;\n",
              "    }\n",
              "  </style>\n",
              "  "
            ]
          },
          "metadata": {}
        },
        {
          "output_type": "stream",
          "name": "stdout",
          "text": [
            "Accuracy Score on Test Set for Logistic Regression Classifier: 0.780\n",
            "Precision Score on Test Set for Logistic Regression Classifier: 0.872\n",
            "Recall Score on Test Set for Logistic Regression Classifier: 0.765\n",
            "F1 Score on Test Set for Logistic Regression Classifier: 0.815\n",
            "ROC-AUC score on Test Set for Logistic Regression Classifier: 0.853\n"
          ]
        }
      ]
    },
    {
      "cell_type": "code",
      "source": [
        "from sklearn.metrics import roc_curve, auc\n",
        "\n",
        "fpr, tpr, thresholds = roc_curve(y_test, y_proba)\n",
        "roc_auc = auc(fpr, tpr)\n",
        "\n",
        "plt.figure(figsize=(8, 8))\n",
        "plt.plot(fpr, tpr, color='darkorange', lw=2, label=f'ROC curve (AUC = {roc_auc:.2f})')\n",
        "plt.plot([0, 1], [0, 1], color='navy', lw=2, linestyle='--', label='Random Guess')\n",
        "plt.xlabel('False Positive Rate')\n",
        "plt.ylabel('True Positive Rate')\n",
        "plt.title('Receiver Operating Characteristic (ROC) Curve')\n",
        "plt.legend(loc='lower right')\n",
        "plt.show()"
      ],
      "metadata": {
        "colab": {
          "base_uri": "https://localhost:8080/",
          "height": 718
        },
        "id": "RVm89Xeqw1PR",
        "outputId": "445ccbfa-22d6-4246-829e-9d9b60c8dfbc"
      },
      "execution_count": 51,
      "outputs": [
        {
          "output_type": "display_data",
          "data": {
            "text/plain": [
              "<IPython.core.display.HTML object>"
            ],
            "text/html": [
              "\n",
              "  <style>\n",
              "    pre {\n",
              "        white-space: pre-wrap;\n",
              "    }\n",
              "  </style>\n",
              "  "
            ]
          },
          "metadata": {}
        },
        {
          "output_type": "display_data",
          "data": {
            "text/plain": [
              "<Figure size 800x800 with 1 Axes>"
            ],
            "image/png": "[encoded data removed]"
          },
          "metadata": {}
        }
      ]
    },
    {
      "cell_type": "code",
      "source": [
        "roc_auc"
      ],
      "metadata": {
        "colab": {
          "base_uri": "https://localhost:8080/",
          "height": 34
        },
        "id": "sQZDoODExKSC",
        "outputId": "68231774-e227-453e-be9c-8358ef6256e6"
      },
      "execution_count": 52,
      "outputs": [
        {
          "output_type": "display_data",
          "data": {
            "text/plain": [
              "<IPython.core.display.HTML object>"
            ],
            "text/html": [
              "\n",
              "  <style>\n",
              "    pre {\n",
              "        white-space: pre-wrap;\n",
              "    }\n",
              "  </style>\n",
              "  "
            ]
          },
          "metadata": {}
        },
        {
          "output_type": "execute_result",
          "data": {
            "text/plain": [
              "0.8525732227836923"
            ]
          },
          "metadata": {},
          "execution_count": 52
        }
      ]
    },
    {
      "cell_type": "code",
      "source": [
        "optimal_idx = np.argmax(tpr - fpr)\n",
        "optimal_threshold = thresholds[optimal_idx]\n",
        "optimal_threshold\n",
        "\n",
        "# obviously this is extremely close to 0.5"
      ],
      "metadata": {
        "colab": {
          "base_uri": "https://localhost:8080/",
          "height": 34
        },
        "id": "Fk5MnoEcyZlt",
        "outputId": "f47a0115-c8db-4760-8722-9bdf8698dcb4"
      },
      "execution_count": 53,
      "outputs": [
        {
          "output_type": "display_data",
          "data": {
            "text/plain": [
              "<IPython.core.display.HTML object>"
            ],
            "text/html": [
              "\n",
              "  <style>\n",
              "    pre {\n",
              "        white-space: pre-wrap;\n",
              "    }\n",
              "  </style>\n",
              "  "
            ]
          },
          "metadata": {}
        },
        {
          "output_type": "execute_result",
          "data": {
            "text/plain": [
              "0.4997685866031148"
            ]
          },
          "metadata": {},
          "execution_count": 53
        }
      ]
    },
    {
      "cell_type": "code",
      "source": [
        "y_pred_optimal = (y_proba > optimal_threshold).astype(int)\n",
        "y_pred_optimal"
      ],
      "metadata": {
        "colab": {
          "base_uri": "https://localhost:8080/",
          "height": 260
        },
        "id": "OhwWtaF7ySun",
        "outputId": "b74bd673-18f5-4835-dec1-a08c5beee17a"
      },
      "execution_count": 54,
      "outputs": [
        {
          "output_type": "display_data",
          "data": {
            "text/plain": [
              "<IPython.core.display.HTML object>"
            ],
            "text/html": [
              "\n",
              "  <style>\n",
              "    pre {\n",
              "        white-space: pre-wrap;\n",
              "    }\n",
              "  </style>\n",
              "  "
            ]
          },
          "metadata": {}
        },
        {
          "output_type": "execute_result",
          "data": {
            "text/plain": [
              "array([1, 1, 0, 0, 0, 1, 1, 1, 0, 1, 1, 1, 0, 0, 1, 0, 0, 1, 0, 1, 1, 1,\n",
              "       1, 0, 0, 0, 0, 1, 0, 0, 1, 0, 1, 1, 1, 0, 1, 1, 1, 1, 0, 0, 1, 1,\n",
              "       0, 0, 1, 1, 1, 1, 0, 1, 1, 0, 1, 0, 1, 1, 0, 0, 0, 1, 0, 0, 0, 0,\n",
              "       0, 1, 1, 1, 1, 0, 1, 1, 1, 1, 0, 0, 1, 1, 1, 0, 1, 1, 0, 1, 0, 1,\n",
              "       0, 1, 0, 1, 1, 1, 0, 1, 0, 0, 1, 1, 1, 0, 1, 1, 0, 1, 0, 1, 0, 1,\n",
              "       1, 1, 0, 1, 1, 1, 0, 1, 0, 0, 0, 1, 0, 1, 1, 0, 1, 1, 1, 1, 0, 1,\n",
              "       0, 0, 0, 1, 1, 1, 0, 1, 0, 1, 1, 0, 0, 1, 1, 1, 0, 0, 1, 1, 0, 0,\n",
              "       1, 1, 1, 1, 1, 0, 1, 0, 0, 0, 1, 0, 0, 1, 0, 1, 1, 1, 0, 1, 1, 1,\n",
              "       1, 0, 0, 1, 0, 1, 1, 1, 1, 1, 1, 1, 1, 1, 0, 1, 0, 0, 0, 1, 0, 0,\n",
              "       0, 1, 0, 0, 0, 1, 1, 1, 0, 1, 0, 1, 1, 1, 0, 0, 0, 1, 0, 1, 0, 0,\n",
              "       0, 0, 1, 1, 0, 0, 0, 1, 0, 1, 1, 1, 0, 0, 1, 1, 1, 0, 0, 1, 1, 1,\n",
              "       0, 1, 0, 1, 1, 1, 1, 1, 1, 1, 0, 1, 0, 1, 0, 1, 1, 0, 1, 1, 1, 1,\n",
              "       0, 1, 0, 0, 0, 1, 0, 1, 1, 1, 1, 0, 0, 0, 0, 1, 0, 0, 1, 0, 0, 1,\n",
              "       0, 1, 1, 0, 1, 1, 0, 0, 0, 1])"
            ]
          },
          "metadata": {},
          "execution_count": 54
        }
      ]
    },
    {
      "cell_type": "code",
      "source": [
        "print(f\"Accuracy Score for LogReg with Optimal Threshold: {accuracy_score(y_test, y_pred_optimal):.3f}\")\n",
        "\n",
        "# this is pretty much the same so we'll stick with our original model"
      ],
      "metadata": {
        "colab": {
          "base_uri": "https://localhost:8080/",
          "height": 34
        },
        "id": "-5Db5BWWzZel",
        "outputId": "bb138174-d8eb-4b9e-cf63-34a93c0b9d1f"
      },
      "execution_count": 55,
      "outputs": [
        {
          "output_type": "display_data",
          "data": {
            "text/plain": [
              "<IPython.core.display.HTML object>"
            ],
            "text/html": [
              "\n",
              "  <style>\n",
              "    pre {\n",
              "        white-space: pre-wrap;\n",
              "    }\n",
              "  </style>\n",
              "  "
            ]
          },
          "metadata": {}
        },
        {
          "output_type": "stream",
          "name": "stdout",
          "text": [
            "Accuracy Score for LogReg with Optimal Threshold: 0.784\n"
          ]
        }
      ]
    },
    {
      "cell_type": "code",
      "source": [
        "# which books were incorrectly predicted in the test set?\n",
        "\n",
        "different_preds = [i for i, (true, pred) in enumerate(zip(y_test, y_pred)) if true != pred]\n",
        "different_preds"
      ],
      "metadata": {
        "colab": {
          "base_uri": "https://localhost:8080/",
          "height": 1000
        },
        "id": "iMdV1DkxQCZY",
        "outputId": "b7ff2629-2fa6-4b8b-dc7c-c32594003231"
      },
      "execution_count": 56,
      "outputs": [
        {
          "output_type": "display_data",
          "data": {
            "text/plain": [
              "<IPython.core.display.HTML object>"
            ],
            "text/html": [
              "\n",
              "  <style>\n",
              "    pre {\n",
              "        white-space: pre-wrap;\n",
              "    }\n",
              "  </style>\n",
              "  "
            ]
          },
          "metadata": {}
        },
        {
          "output_type": "execute_result",
          "data": {
            "text/plain": [
              "[1,\n",
              " 3,\n",
              " 9,\n",
              " 14,\n",
              " 15,\n",
              " 18,\n",
              " 23,\n",
              " 24,\n",
              " 26,\n",
              " 30,\n",
              " 35,\n",
              " 40,\n",
              " 44,\n",
              " 47,\n",
              " 49,\n",
              " 52,\n",
              " 53,\n",
              " 55,\n",
              " 62,\n",
              " 71,\n",
              " 76,\n",
              " 81,\n",
              " 85,\n",
              " 97,\n",
              " 98,\n",
              " 101,\n",
              " 104,\n",
              " 118,\n",
              " 127,\n",
              " 130,\n",
              " 133,\n",
              " 138,\n",
              " 144,\n",
              " 147,\n",
              " 151,\n",
              " 160,\n",
              " 161,\n",
              " 165,\n",
              " 168,\n",
              " 191,\n",
              " 196,\n",
              " 198,\n",
              " 201,\n",
              " 207,\n",
              " 208,\n",
              " 221,\n",
              " 223,\n",
              " 225,\n",
              " 232,\n",
              " 244,\n",
              " 248,\n",
              " 250,\n",
              " 251,\n",
              " 252,\n",
              " 253,\n",
              " 256,\n",
              " 263,\n",
              " 264,\n",
              " 269,\n",
              " 276,\n",
              " 278,\n",
              " 281,\n",
              " 283,\n",
              " 284,\n",
              " 285]"
            ]
          },
          "metadata": {},
          "execution_count": 56
        }
      ]
    },
    {
      "cell_type": "code",
      "source": [
        "# now we have to match these different predictions\n",
        "# to the correct index number in y_test\n",
        "\n",
        "y_test"
      ],
      "metadata": {
        "colab": {
          "base_uri": "https://localhost:8080/",
          "height": 225
        },
        "id": "FJgJZT5DQwky",
        "outputId": "0ea884b5-5f40-459e-80f7-d1b2c8001dc2"
      },
      "execution_count": 57,
      "outputs": [
        {
          "output_type": "display_data",
          "data": {
            "text/plain": [
              "<IPython.core.display.HTML object>"
            ],
            "text/html": [
              "\n",
              "  <style>\n",
              "    pre {\n",
              "        white-space: pre-wrap;\n",
              "    }\n",
              "  </style>\n",
              "  "
            ]
          },
          "metadata": {}
        },
        {
          "output_type": "execute_result",
          "data": {
            "text/plain": [
              "1122    1\n",
              "1168    0\n",
              "485     0\n",
              "870     1\n",
              "523     0\n",
              "       ..\n",
              "856     1\n",
              "880     0\n",
              "740     0\n",
              "203     0\n",
              "1077    1\n",
              "Name: label, Length: 296, dtype: int64"
            ]
          },
          "metadata": {},
          "execution_count": 57
        }
      ]
    },
    {
      "cell_type": "code",
      "source": [
        "# here are all the index numbers in y_test\n",
        "\n",
        "y_list = list(y_test.index)\n",
        "y_list"
      ],
      "metadata": {
        "colab": {
          "base_uri": "https://localhost:8080/",
          "height": 1000
        },
        "id": "e8WRoDxfRk7p",
        "outputId": "400a57c0-54ec-437b-8c1d-3c19e5ba1862"
      },
      "execution_count": 58,
      "outputs": [
        {
          "output_type": "display_data",
          "data": {
            "text/plain": [
              "<IPython.core.display.HTML object>"
            ],
            "text/html": [
              "\n",
              "  <style>\n",
              "    pre {\n",
              "        white-space: pre-wrap;\n",
              "    }\n",
              "  </style>\n",
              "  "
            ]
          },
          "metadata": {}
        },
        {
          "output_type": "execute_result",
          "data": {
            "text/plain": [
              "[1122,\n",
              " 1168,\n",
              " 485,\n",
              " 870,\n",
              " 523,\n",
              " 896,\n",
              " 253,\n",
              " 264,\n",
              " 68,\n",
              " 127,\n",
              " 1068,\n",
              " 994,\n",
              " 262,\n",
              " 1219,\n",
              " 1229,\n",
              " 1296,\n",
              " 848,\n",
              " 1377,\n",
              " 413,\n",
              " 590,\n",
              " 1019,\n",
              " 623,\n",
              " 305,\n",
              " 778,\n",
              " 541,\n",
              " 160,\n",
              " 1304,\n",
              " 1022,\n",
              " 942,\n",
              " 367,\n",
              " 236,\n",
              " 726,\n",
              " 1309,\n",
              " 406,\n",
              " 399,\n",
              " 781,\n",
              " 814,\n",
              " 1186,\n",
              " 562,\n",
              " 339,\n",
              " 322,\n",
              " 677,\n",
              " 530,\n",
              " 109,\n",
              " 787,\n",
              " 1051,\n",
              " 1474,\n",
              " 745,\n",
              " 307,\n",
              " 18,\n",
              " 976,\n",
              " 155,\n",
              " 500,\n",
              " 784,\n",
              " 201,\n",
              " 1092,\n",
              " 1070,\n",
              " 1016,\n",
              " 674,\n",
              " 918,\n",
              " 1390,\n",
              " 139,\n",
              " 678,\n",
              " 751,\n",
              " 884,\n",
              " 14,\n",
              " 1036,\n",
              " 827,\n",
              " 269,\n",
              " 351,\n",
              " 666,\n",
              " 179,\n",
              " 1303,\n",
              " 158,\n",
              " 765,\n",
              " 732,\n",
              " 100,\n",
              " 465,\n",
              " 24,\n",
              " 670,\n",
              " 506,\n",
              " 692,\n",
              " 1012,\n",
              " 148,\n",
              " 403,\n",
              " 1335,\n",
              " 1137,\n",
              " 1119,\n",
              " 263,\n",
              " 876,\n",
              " 427,\n",
              " 1349,\n",
              " 1345,\n",
              " 548,\n",
              " 1336,\n",
              " 431,\n",
              " 343,\n",
              " 234,\n",
              " 1448,\n",
              " 10,\n",
              " 1268,\n",
              " 875,\n",
              " 1327,\n",
              " 377,\n",
              " 534,\n",
              " 766,\n",
              " 91,\n",
              " 514,\n",
              " 902,\n",
              " 764,\n",
              " 1328,\n",
              " 1372,\n",
              " 145,\n",
              " 372,\n",
              " 805,\n",
              " 1192,\n",
              " 881,\n",
              " 611,\n",
              " 932,\n",
              " 368,\n",
              " 702,\n",
              " 1146,\n",
              " 641,\n",
              " 374,\n",
              " 409,\n",
              " 1097,\n",
              " 1018,\n",
              " 577,\n",
              " 607,\n",
              " 152,\n",
              " 1222,\n",
              " 525,\n",
              " 205,\n",
              " 1279,\n",
              " 1079,\n",
              " 831,\n",
              " 650,\n",
              " 823,\n",
              " 800,\n",
              " 575,\n",
              " 120,\n",
              " 672,\n",
              " 66,\n",
              " 887,\n",
              " 347,\n",
              " 1361,\n",
              " 404,\n",
              " 1341,\n",
              " 588,\n",
              " 364,\n",
              " 365,\n",
              " 1266,\n",
              " 898,\n",
              " 1298,\n",
              " 1056,\n",
              " 1021,\n",
              " 571,\n",
              " 1013,\n",
              " 231,\n",
              " 878,\n",
              " 477,\n",
              " 1313,\n",
              " 1340,\n",
              " 617,\n",
              " 601,\n",
              " 496,\n",
              " 86,\n",
              " 1081,\n",
              " 1310,\n",
              " 369,\n",
              " 195,\n",
              " 596,\n",
              " 387,\n",
              " 355,\n",
              " 539,\n",
              " 773,\n",
              " 512,\n",
              " 289,\n",
              " 767,\n",
              " 400,\n",
              " 131,\n",
              " 663,\n",
              " 1316,\n",
              " 173,\n",
              " 1006,\n",
              " 1165,\n",
              " 1466,\n",
              " 841,\n",
              " 1437,\n",
              " 415,\n",
              " 1164,\n",
              " 297,\n",
              " 1290,\n",
              " 385,\n",
              " 794,\n",
              " 378,\n",
              " 1029,\n",
              " 1452,\n",
              " 925,\n",
              " 420,\n",
              " 1231,\n",
              " 685,\n",
              " 566,\n",
              " 703,\n",
              " 1202,\n",
              " 1062,\n",
              " 268,\n",
              " 319,\n",
              " 1460,\n",
              " 660,\n",
              " 381,\n",
              " 709,\n",
              " 468,\n",
              " 874,\n",
              " 959,\n",
              " 314,\n",
              " 48,\n",
              " 286,\n",
              " 511,\n",
              " 613,\n",
              " 731,\n",
              " 780,\n",
              " 939,\n",
              " 1438,\n",
              " 1075,\n",
              " 235,\n",
              " 90,\n",
              " 208,\n",
              " 567,\n",
              " 1230,\n",
              " 1260,\n",
              " 1084,\n",
              " 1232,\n",
              " 519,\n",
              " 1009,\n",
              " 330,\n",
              " 1190,\n",
              " 813,\n",
              " 1140,\n",
              " 275,\n",
              " 747,\n",
              " 605,\n",
              " 885,\n",
              " 809,\n",
              " 1454,\n",
              " 1432,\n",
              " 561,\n",
              " 699,\n",
              " 935,\n",
              " 104,\n",
              " 948,\n",
              " 1045,\n",
              " 419,\n",
              " 238,\n",
              " 533,\n",
              " 517,\n",
              " 207,\n",
              " 353,\n",
              " 592,\n",
              " 1163,\n",
              " 1317,\n",
              " 791,\n",
              " 529,\n",
              " 105,\n",
              " 244,\n",
              " 405,\n",
              " 162,\n",
              " 836,\n",
              " 1256,\n",
              " 693,\n",
              " 1348,\n",
              " 619,\n",
              " 233,\n",
              " 1393,\n",
              " 1469,\n",
              " 772,\n",
              " 1457,\n",
              " 1050,\n",
              " 453,\n",
              " 1326,\n",
              " 1453,\n",
              " 288,\n",
              " 1445,\n",
              " 1005,\n",
              " 956,\n",
              " 116,\n",
              " 95,\n",
              " 882,\n",
              " 360,\n",
              " 1102,\n",
              " 380,\n",
              " 856,\n",
              " 880,\n",
              " 740,\n",
              " 203,\n",
              " 1077]"
            ]
          },
          "metadata": {},
          "execution_count": 58
        }
      ]
    },
    {
      "cell_type": "code",
      "source": [
        "# now we want the index numbers in y_test (put into the list y_list)\n",
        "# which were predicted to be a different result\n",
        "\n",
        "different_inds = []\n",
        "\n",
        "for i in different_preds:\n",
        "  different_inds.append(y_list[i])\n",
        "\n",
        "different_inds"
      ],
      "metadata": {
        "colab": {
          "base_uri": "https://localhost:8080/",
          "height": 1000
        },
        "id": "kOVi4BglQbAF",
        "outputId": "2bf19336-5f29-4c98-adc9-b2c9f097a328"
      },
      "execution_count": 59,
      "outputs": [
        {
          "output_type": "display_data",
          "data": {
            "text/plain": [
              "<IPython.core.display.HTML object>"
            ],
            "text/html": [
              "\n",
              "  <style>\n",
              "    pre {\n",
              "        white-space: pre-wrap;\n",
              "    }\n",
              "  </style>\n",
              "  "
            ]
          },
          "metadata": {}
        },
        {
          "output_type": "execute_result",
          "data": {
            "text/plain": [
              "[1168,\n",
              " 870,\n",
              " 127,\n",
              " 1229,\n",
              " 1296,\n",
              " 413,\n",
              " 778,\n",
              " 541,\n",
              " 1304,\n",
              " 236,\n",
              " 781,\n",
              " 322,\n",
              " 787,\n",
              " 745,\n",
              " 18,\n",
              " 500,\n",
              " 784,\n",
              " 1092,\n",
              " 678,\n",
              " 179,\n",
              " 100,\n",
              " 692,\n",
              " 1335,\n",
              " 234,\n",
              " 1448,\n",
              " 875,\n",
              " 534,\n",
              " 932,\n",
              " 577,\n",
              " 1222,\n",
              " 1279,\n",
              " 800,\n",
              " 347,\n",
              " 1341,\n",
              " 1266,\n",
              " 477,\n",
              " 1313,\n",
              " 496,\n",
              " 1310,\n",
              " 297,\n",
              " 1029,\n",
              " 925,\n",
              " 685,\n",
              " 319,\n",
              " 1460,\n",
              " 780,\n",
              " 1438,\n",
              " 235,\n",
              " 1232,\n",
              " 1454,\n",
              " 935,\n",
              " 948,\n",
              " 1045,\n",
              " 419,\n",
              " 238,\n",
              " 207,\n",
              " 105,\n",
              " 244,\n",
              " 693,\n",
              " 1457,\n",
              " 453,\n",
              " 288,\n",
              " 1005,\n",
              " 956,\n",
              " 116]"
            ]
          },
          "metadata": {},
          "execution_count": 59
        }
      ]
    },
    {
      "cell_type": "code",
      "source": [
        "print(len(different_preds))\n",
        "print(len(y_test))\n",
        "print(len(y_list))\n",
        "print(len(different_inds))"
      ],
      "metadata": {
        "colab": {
          "base_uri": "https://localhost:8080/",
          "height": 86
        },
        "id": "pKXCSPRQSK9u",
        "outputId": "4a913a6d-8004-4834-ba37-149ca0b5fb98"
      },
      "execution_count": 60,
      "outputs": [
        {
          "output_type": "display_data",
          "data": {
            "text/plain": [
              "<IPython.core.display.HTML object>"
            ],
            "text/html": [
              "\n",
              "  <style>\n",
              "    pre {\n",
              "        white-space: pre-wrap;\n",
              "    }\n",
              "  </style>\n",
              "  "
            ]
          },
          "metadata": {}
        },
        {
          "output_type": "stream",
          "name": "stdout",
          "text": [
            "65\n",
            "296\n",
            "296\n",
            "65\n"
          ]
        }
      ]
    },
    {
      "cell_type": "code",
      "source": [
        "# these are the books in y_test that were incorrectly predicted\n",
        "# by the logreg classifier"
      ],
      "metadata": {
        "id": "d_gGDFmfTsJc",
        "colab": {
          "base_uri": "https://localhost:8080/",
          "height": 17
        },
        "outputId": "6a39d67d-ad89-4638-e234-81b85c66903a"
      },
      "execution_count": 61,
      "outputs": [
        {
          "output_type": "display_data",
          "data": {
            "text/plain": [
              "<IPython.core.display.HTML object>"
            ],
            "text/html": [
              "\n",
              "  <style>\n",
              "    pre {\n",
              "        white-space: pre-wrap;\n",
              "    }\n",
              "  </style>\n",
              "  "
            ]
          },
          "metadata": {}
        }
      ]
    },
    {
      "cell_type": "code",
      "source": [
        "different_books = []\n",
        "\n",
        "for i in different_inds:\n",
        "  different_books.append((prediction_df.loc[i].author, prediction_df.loc[i].title))\n",
        "\n",
        "different_books"
      ],
      "metadata": {
        "colab": {
          "base_uri": "https://localhost:8080/",
          "height": 1000
        },
        "id": "NL-9TtuSTdcq",
        "outputId": "d17be5ef-614d-44bc-877c-db9853c0d254"
      },
      "execution_count": 62,
      "outputs": [
        {
          "output_type": "display_data",
          "data": {
            "text/plain": [
              "<IPython.core.display.HTML object>"
            ],
            "text/html": [
              "\n",
              "  <style>\n",
              "    pre {\n",
              "        white-space: pre-wrap;\n",
              "    }\n",
              "  </style>\n",
              "  "
            ]
          },
          "metadata": {}
        },
        {
          "output_type": "execute_result",
          "data": {
            "text/plain": [
              "[('S.C. Stephens', 'Effortless'),\n",
              " ('George Takei', 'They Called Us Enemy'),\n",
              " ('Jason Fried', 'Rework'),\n",
              " ('Walter Isaacson', 'Steve Jobs'),\n",
              " ('Jim Ottaviani', 'The Imitation Game'),\n",
              " ('Cynthia Chin-Lee', 'Amelia to Zora'),\n",
              " ('Allison Lassieur', '25 Women Who Dared to Go'),\n",
              " ('Alicia Jasinska', 'The Dark Tide'),\n",
              " ('Kurt Vonnegut Jr.', 'Slaughterhouse-Five'),\n",
              " ('Christina Lauren', 'Beautiful Bastard'),\n",
              " ('Lucas Rocha', 'Where We Go From Here'),\n",
              " ('Deb Vanasse', 'Totem Tale'),\n",
              " ('Jonathan Safran Foer', 'Extremely Loud & Incredibly Close'),\n",
              " ('Lemony Snicket', 'The Wide Window'),\n",
              " ('Jojo Moyes', 'One Plus One'),\n",
              " ('Lisa See', 'Snow Flower and the Secret Fan'),\n",
              " ('Abigail Tarttelin', 'Golden Boy'),\n",
              " ('Katherine Paterson', 'Bridge to Terabithia'),\n",
              " ('Susann Cokal', 'The Kingdom of Little Wounds'),\n",
              " ('Carolina de Robertis', 'The Gods of Tango'),\n",
              " ('Alice Sebold', 'The Lovely Bones'),\n",
              " ('Neal Shusterman', 'Game Changer'),\n",
              " ('Sophie Kinsella', 'Shopaholic & Baby'),\n",
              " ('Jill Sherman', '25 Women Who Fought Back'),\n",
              " ('B.A. Paris', 'Behind Closed Doors'),\n",
              " ('Tim Federle', 'The Great American Whatever'),\n",
              " ('Ernest J. Gaines', 'A Lesson Before Dying'),\n",
              " ('Yaa Gyasi', 'Homegoing'),\n",
              " ('Kiese Laymon', 'Heavy'),\n",
              " ('Beatrice Sparks', 'Go Ask Alice'),\n",
              " ('Jeffrey Eugenides', 'Middlesex'),\n",
              " ('Julie Otsuka', 'When the Emperor Was Divine'),\n",
              " ('R. Kikuo Johnson', 'The Shark King'),\n",
              " ('Tahereh Mafi', 'Unravel Me'),\n",
              " ('Celeste Ng', 'Everything I Never Told You'),\n",
              " ('Trenton Lee Stewart', 'The Mysterious Benedict Society'),\n",
              " ('Liz Garton Scanlon', 'All the World'),\n",
              " ('F.N. Monjo', 'The Drinking Gourd'),\n",
              " ('Bernardine Evaristo', 'Girl, Woman, Other'),\n",
              " ('Simone Ekleles', 'Perfect Chemistry'),\n",
              " ('Sandra Cisneros', 'The House on Mango Street'),\n",
              " ('F. T. Lukens', 'In Deeper Waters'),\n",
              " ('Sylvia Plath', 'The Bell Jar'),\n",
              " ('Lionel Shriver', 'We Need to Talk About Kevin'),\n",
              " ('Sally Rooney', 'Normal People'),\n",
              " ('Julia Finley Mosca', 'The Girl with a Mind for Math'),\n",
              " ('Jeffrey Eugenides', 'The Virgin Suicides'),\n",
              " ('Andrea Cheng', 'Etched in Clay'),\n",
              " ('Lisa Jewell', 'Invisible Girl'),\n",
              " ('Cheryl Bardoe', 'Nothing Stopped Sophie'),\n",
              " ('J. Lynn', 'Wait for You'),\n",
              " ('Margaret Peterson Haddix', 'Among the Hidden'),\n",
              " ('Jennifer L. Armentrout', 'Onyx'),\n",
              " ('James Matthew Barrie', 'Peter Pan'),\n",
              " ('Mindy Kaling', 'Why Not Me?'),\n",
              " ('Tim Floreen', 'Tattoo Atlas'),\n",
              " ('Jodi Picould', 'The Pact'),\n",
              " ('Francene Sabin', 'Elizabeth Blackwell, the First Woman Doctor'),\n",
              " ('Gary Soto', 'Too Many Tamales'),\n",
              " ('Cristina García', 'Dreaming in Cuban'),\n",
              " ('Saundra Mitchell', 'All the Things We Do in the Dark'),\n",
              " ('S. E. Hinton', 'The Outsiders'),\n",
              " ('Maria Ingrande Mora', 'Fragile Remedy'),\n",
              " ('Lauren Groff', 'Fates and Furies'),\n",
              " ('Gary Paulsen', 'Hatchet')]"
            ]
          },
          "metadata": {},
          "execution_count": 62
        }
      ]
    },
    {
      "cell_type": "code",
      "source": [
        "prediction_df[prediction_df.index.isin(different_inds)]"
      ],
      "metadata": {
        "colab": {
          "base_uri": "https://localhost:8080/",
          "height": 1000
        },
        "id": "hM-eEfRAfTBU",
        "outputId": "f0060a52-c7f0-42dc-fb30-fc657eaa0ffd"
      },
      "execution_count": 63,
      "outputs": [
        {
          "output_type": "display_data",
          "data": {
            "text/plain": [
              "<IPython.core.display.HTML object>"
            ],
            "text/html": [
              "\n",
              "  <style>\n",
              "    pre {\n",
              "        white-space: pre-wrap;\n",
              "    }\n",
              "  </style>\n",
              "  "
            ]
          },
          "metadata": {}
        },
        {
          "output_type": "execute_result",
          "data": {
            "text/plain": [
              "                 author                   title  label  \\\n",
              "18           Jojo Moyes            One Plus One      0   \n",
              "100        Alice Sebold        The Lovely Bones      1   \n",
              "105        Jodi Picould                The Pact      0   \n",
              "116        Gary Paulsen                 Hatchet      0   \n",
              "127         Jason Fried                  Rework      0   \n",
              "...                 ...                     ...    ...   \n",
              "1438  Jeffrey Eugenides     The Virgin Suicides      0   \n",
              "1448         B.A. Paris     Behind Closed Doors      0   \n",
              "1454      Cheryl Bardoe  Nothing Stopped Sophie      1   \n",
              "1457    Cristina García       Dreaming in Cuban      1   \n",
              "1460       Sally Rooney           Normal People      1   \n",
              "\n",
              "                                            description  nyt_author  \\\n",
              "18    single mom chaotic family quirky stranger irre...     0.03085   \n",
              "100   spirit fourteen year old susie salmon murder n...     0.01213   \n",
              "105   pact reading people heart rending tale love fr...     0.00000   \n",
              "116   year old boy crashlands canadian wilderness ha...     0.00000   \n",
              "127   rework show easier way business business book ...     0.01292   \n",
              "...                                                 ...         ...   \n",
              "1438  virgin suicide story disintegration american f...     0.00000   \n",
              "1448  friend perfect socialite couple begin crack re...     0.00000   \n",
              "1454  true story eighteenth century mathematician so...     0.00076   \n",
              "1457  impressive cristina garcía story generation wo...     0.05324   \n",
              "1460  emmy nominated hulu original series new york t...     0.14692   \n",
              "\n",
              "      middle_and_high_school  award_winning_childrens  gender_and_sexuality  \\\n",
              "18                   0.00000                  0.00000               0.00000   \n",
              "100                  0.00408                  0.00000               0.02168   \n",
              "105                  0.03775                  0.00000               0.00000   \n",
              "116                  0.00000                  0.00000               0.00000   \n",
              "127                  0.00249                  0.04670               0.00322   \n",
              "...                      ...                      ...                   ...   \n",
              "1438                 0.00000                  0.00000               0.00000   \n",
              "1448                 0.00000                  0.00000               0.00000   \n",
              "1454                 0.00000                  0.03379               0.00604   \n",
              "1457                 0.00000                  0.00041               0.00000   \n",
              "1460                 0.01689                  0.05263               0.00000   \n",
              "\n",
              "      families_and_home  race_and_america  growing_up  young_woman_meets_man  \\\n",
              "18              0.09224           0.00000     0.00000                0.01313   \n",
              "100             0.06718           0.00000     0.10473                0.04121   \n",
              "105             0.07300           0.00000     0.02123                0.00320   \n",
              "116             0.00000           0.00000     0.14936                0.00000   \n",
              "127             0.00000           0.00000     0.01465                0.00054   \n",
              "...                 ...               ...         ...                    ...   \n",
              "1438            0.08586           0.05019     0.04887                0.00000   \n",
              "1448            0.00295           0.00000     0.00000                0.00000   \n",
              "1454            0.00545           0.00000     0.01185                0.14566   \n",
              "1457            0.06226           0.00000     0.00000                0.04734   \n",
              "1460            0.00000           0.00000     0.02166                0.00000   \n",
              "\n",
              "      classics  boy_girl_story  book_series  lgbtq_sexuality  friendship  \\\n",
              "18     0.01399         0.00000      0.00000          0.00000     0.05915   \n",
              "100    0.02016         0.00000      0.00000          0.00000     0.00000   \n",
              "105    0.00000         0.00000      0.03651          0.01996     0.04067   \n",
              "116    0.00000         0.08154      0.00000          0.01387     0.00000   \n",
              "127    0.00000         0.00000      0.00000          0.05887     0.05265   \n",
              "...        ...             ...          ...              ...         ...   \n",
              "1438   0.00000         0.10109      0.00000          0.00000     0.00000   \n",
              "1448   0.00000         0.00000      0.00000          0.00000     0.05644   \n",
              "1454   0.02394         0.02028      0.00891          0.00000     0.00000   \n",
              "1457   0.07440         0.01207      0.00000          0.00000     0.00000   \n",
              "1460   0.00000         0.00000      0.00663          0.04611     0.02257   \n",
              "\n",
              "      prize_novel  \n",
              "18        0.01044  \n",
              "100       0.04320  \n",
              "105       0.04454  \n",
              "116       0.00000  \n",
              "127       0.00000  \n",
              "...           ...  \n",
              "1438      0.00078  \n",
              "1448      0.01198  \n",
              "1454      0.02238  \n",
              "1457      0.07035  \n",
              "1460      0.02859  \n",
              "\n",
              "[65 rows x 18 columns]"
            ],
            "text/html": [
              "\n",
              "  <div id=\"df-3bf37dd7-b545-4744-8286-5fad958207b5\" class=\"colab-df-container\">\n",
              "    <div>\n",
              "<style scoped>\n",
              "    .dataframe tbody tr th:only-of-type {\n",
              "        vertical-align: middle;\n",
              "    }\n",
              "\n",
              "    .dataframe tbody tr th {\n",
              "        vertical-align: top;\n",
              "    }\n",
              "\n",
              "    .dataframe thead th {\n",
              "        text-align: right;\n",
              "    }\n",
              "</style>\n",
              "<table border=\"1\" class=\"dataframe\">\n",
              "  <thead>\n",
              "    <tr style=\"text-align: right;\">\n",
              "      <th></th>\n",
              "      <th>author</th>\n",
              "      <th>title</th>\n",
              "      <th>label</th>\n",
              "      <th>description</th>\n",
              "      <th>nyt_author</th>\n",
              "      <th>middle_and_high_school</th>\n",
              "      <th>award_winning_childrens</th>\n",
              "      <th>gender_and_sexuality</th>\n",
              "      <th>families_and_home</th>\n",
              "      <th>race_and_america</th>\n",
              "      <th>growing_up</th>\n",
              "      <th>young_woman_meets_man</th>\n",
              "      <th>classics</th>\n",
              "      <th>boy_girl_story</th>\n",
              "      <th>book_series</th>\n",
              "      <th>lgbtq_sexuality</th>\n",
              "      <th>friendship</th>\n",
              "      <th>prize_novel</th>\n",
              "    </tr>\n",
              "  </thead>\n",
              "  <tbody>\n",
              "    <tr>\n",
              "      <th>18</th>\n",
              "      <td>Jojo Moyes</td>\n",
              "      <td>One Plus One</td>\n",
              "      <td>0</td>\n",
              "      <td>single mom chaotic family quirky stranger irre...</td>\n",
              "      <td>0.03085</td>\n",
              "      <td>0.00000</td>\n",
              "      <td>0.00000</td>\n",
              "      <td>0.00000</td>\n",
              "      <td>0.09224</td>\n",
              "      <td>0.00000</td>\n",
              "      <td>0.00000</td>\n",
              "      <td>0.01313</td>\n",
              "      <td>0.01399</td>\n",
              "      <td>0.00000</td>\n",
              "      <td>0.00000</td>\n",
              "      <td>0.00000</td>\n",
              "      <td>0.05915</td>\n",
              "      <td>0.01044</td>\n",
              "    </tr>\n",
              "    <tr>\n",
              "      <th>100</th>\n",
              "      <td>Alice Sebold</td>\n",
              "      <td>The Lovely Bones</td>\n",
              "      <td>1</td>\n",
              "      <td>spirit fourteen year old susie salmon murder n...</td>\n",
              "      <td>0.01213</td>\n",
              "      <td>0.00408</td>\n",
              "      <td>0.00000</td>\n",
              "      <td>0.02168</td>\n",
              "      <td>0.06718</td>\n",
              "      <td>0.00000</td>\n",
              "      <td>0.10473</td>\n",
              "      <td>0.04121</td>\n",
              "      <td>0.02016</td>\n",
              "      <td>0.00000</td>\n",
              "      <td>0.00000</td>\n",
              "      <td>0.00000</td>\n",
              "      <td>0.00000</td>\n",
              "      <td>0.04320</td>\n",
              "    </tr>\n",
              "    <tr>\n",
              "      <th>105</th>\n",
              "      <td>Jodi Picould</td>\n",
              "      <td>The Pact</td>\n",
              "      <td>0</td>\n",
              "      <td>pact reading people heart rending tale love fr...</td>\n",
              "      <td>0.00000</td>\n",
              "      <td>0.03775</td>\n",
              "      <td>0.00000</td>\n",
              "      <td>0.00000</td>\n",
              "      <td>0.07300</td>\n",
              "      <td>0.00000</td>\n",
              "      <td>0.02123</td>\n",
              "      <td>0.00320</td>\n",
              "      <td>0.00000</td>\n",
              "      <td>0.00000</td>\n",
              "      <td>0.03651</td>\n",
              "      <td>0.01996</td>\n",
              "      <td>0.04067</td>\n",
              "      <td>0.04454</td>\n",
              "    </tr>\n",
              "    <tr>\n",
              "      <th>116</th>\n",
              "      <td>Gary Paulsen</td>\n",
              "      <td>Hatchet</td>\n",
              "      <td>0</td>\n",
              "      <td>year old boy crashlands canadian wilderness ha...</td>\n",
              "      <td>0.00000</td>\n",
              "      <td>0.00000</td>\n",
              "      <td>0.00000</td>\n",
              "      <td>0.00000</td>\n",
              "      <td>0.00000</td>\n",
              "      <td>0.00000</td>\n",
              "      <td>0.14936</td>\n",
              "      <td>0.00000</td>\n",
              "      <td>0.00000</td>\n",
              "      <td>0.08154</td>\n",
              "      <td>0.00000</td>\n",
              "      <td>0.01387</td>\n",
              "      <td>0.00000</td>\n",
              "      <td>0.00000</td>\n",
              "    </tr>\n",
              "    <tr>\n",
              "      <th>127</th>\n",
              "      <td>Jason Fried</td>\n",
              "      <td>Rework</td>\n",
              "      <td>0</td>\n",
              "      <td>rework show easier way business business book ...</td>\n",
              "      <td>0.01292</td>\n",
              "      <td>0.00249</td>\n",
              "      <td>0.04670</td>\n",
              "      <td>0.00322</td>\n",
              "      <td>0.00000</td>\n",
              "      <td>0.00000</td>\n",
              "      <td>0.01465</td>\n",
              "      <td>0.00054</td>\n",
              "      <td>0.00000</td>\n",
              "      <td>0.00000</td>\n",
              "      <td>0.00000</td>\n",
              "      <td>0.05887</td>\n",
              "      <td>0.05265</td>\n",
              "      <td>0.00000</td>\n",
              "    </tr>\n",
              "    <tr>\n",
              "      <th>...</th>\n",
              "      <td>...</td>\n",
              "      <td>...</td>\n",
              "      <td>...</td>\n",
              "      <td>...</td>\n",
              "      <td>...</td>\n",
              "      <td>...</td>\n",
              "      <td>...</td>\n",
              "      <td>...</td>\n",
              "      <td>...</td>\n",
              "      <td>...</td>\n",
              "      <td>...</td>\n",
              "      <td>...</td>\n",
              "      <td>...</td>\n",
              "      <td>...</td>\n",
              "      <td>...</td>\n",
              "      <td>...</td>\n",
              "      <td>...</td>\n",
              "      <td>...</td>\n",
              "    </tr>\n",
              "    <tr>\n",
              "      <th>1438</th>\n",
              "      <td>Jeffrey Eugenides</td>\n",
              "      <td>The Virgin Suicides</td>\n",
              "      <td>0</td>\n",
              "      <td>virgin suicide story disintegration american f...</td>\n",
              "      <td>0.00000</td>\n",
              "      <td>0.00000</td>\n",
              "      <td>0.00000</td>\n",
              "      <td>0.00000</td>\n",
              "      <td>0.08586</td>\n",
              "      <td>0.05019</td>\n",
              "      <td>0.04887</td>\n",
              "      <td>0.00000</td>\n",
              "      <td>0.00000</td>\n",
              "      <td>0.10109</td>\n",
              "      <td>0.00000</td>\n",
              "      <td>0.00000</td>\n",
              "      <td>0.00000</td>\n",
              "      <td>0.00078</td>\n",
              "    </tr>\n",
              "    <tr>\n",
              "      <th>1448</th>\n",
              "      <td>B.A. Paris</td>\n",
              "      <td>Behind Closed Doors</td>\n",
              "      <td>0</td>\n",
              "      <td>friend perfect socialite couple begin crack re...</td>\n",
              "      <td>0.00000</td>\n",
              "      <td>0.00000</td>\n",
              "      <td>0.00000</td>\n",
              "      <td>0.00000</td>\n",
              "      <td>0.00295</td>\n",
              "      <td>0.00000</td>\n",
              "      <td>0.00000</td>\n",
              "      <td>0.00000</td>\n",
              "      <td>0.00000</td>\n",
              "      <td>0.00000</td>\n",
              "      <td>0.00000</td>\n",
              "      <td>0.00000</td>\n",
              "      <td>0.05644</td>\n",
              "      <td>0.01198</td>\n",
              "    </tr>\n",
              "    <tr>\n",
              "      <th>1454</th>\n",
              "      <td>Cheryl Bardoe</td>\n",
              "      <td>Nothing Stopped Sophie</td>\n",
              "      <td>1</td>\n",
              "      <td>true story eighteenth century mathematician so...</td>\n",
              "      <td>0.00076</td>\n",
              "      <td>0.00000</td>\n",
              "      <td>0.03379</td>\n",
              "      <td>0.00604</td>\n",
              "      <td>0.00545</td>\n",
              "      <td>0.00000</td>\n",
              "      <td>0.01185</td>\n",
              "      <td>0.14566</td>\n",
              "      <td>0.02394</td>\n",
              "      <td>0.02028</td>\n",
              "      <td>0.00891</td>\n",
              "      <td>0.00000</td>\n",
              "      <td>0.00000</td>\n",
              "      <td>0.02238</td>\n",
              "    </tr>\n",
              "    <tr>\n",
              "      <th>1457</th>\n",
              "      <td>Cristina García</td>\n",
              "      <td>Dreaming in Cuban</td>\n",
              "      <td>1</td>\n",
              "      <td>impressive cristina garcía story generation wo...</td>\n",
              "      <td>0.05324</td>\n",
              "      <td>0.00000</td>\n",
              "      <td>0.00041</td>\n",
              "      <td>0.00000</td>\n",
              "      <td>0.06226</td>\n",
              "      <td>0.00000</td>\n",
              "      <td>0.00000</td>\n",
              "      <td>0.04734</td>\n",
              "      <td>0.07440</td>\n",
              "      <td>0.01207</td>\n",
              "      <td>0.00000</td>\n",
              "      <td>0.00000</td>\n",
              "      <td>0.00000</td>\n",
              "      <td>0.07035</td>\n",
              "    </tr>\n",
              "    <tr>\n",
              "      <th>1460</th>\n",
              "      <td>Sally Rooney</td>\n",
              "      <td>Normal People</td>\n",
              "      <td>1</td>\n",
              "      <td>emmy nominated hulu original series new york t...</td>\n",
              "      <td>0.14692</td>\n",
              "      <td>0.01689</td>\n",
              "      <td>0.05263</td>\n",
              "      <td>0.00000</td>\n",
              "      <td>0.00000</td>\n",
              "      <td>0.00000</td>\n",
              "      <td>0.02166</td>\n",
              "      <td>0.00000</td>\n",
              "      <td>0.00000</td>\n",
              "      <td>0.00000</td>\n",
              "      <td>0.00663</td>\n",
              "      <td>0.04611</td>\n",
              "      <td>0.02257</td>\n",
              "      <td>0.02859</td>\n",
              "    </tr>\n",
              "  </tbody>\n",
              "</table>\n",
              "<p>65 rows × 18 columns</p>\n",
              "</div>\n",
              "    <div class=\"colab-df-buttons\">\n",
              "\n",
              "  <div class=\"colab-df-container\">\n",
              "    <button class=\"colab-df-convert\" onclick=\"convertToInteractive('df-3bf37dd7-b545-4744-8286-5fad958207b5')\"\n",
              "            title=\"Convert this dataframe to an interactive table.\"\n",
              "            style=\"display:none;\">\n",
              "\n",
              "  <svg xmlns=\"http://www.w3.org/2000/svg\" height=\"24px\" viewBox=\"0 -960 960 960\">\n",
              "    <path d=\"M120-120v-720h720v720H120Zm60-500h600v-160H180v160Zm220 220h160v-160H400v160Zm0 220h160v-160H400v160ZM180-400h160v-160H180v160Zm440 0h160v-160H620v160ZM180-180h160v-160H180v160Zm440 0h160v-160H620v160Z\"/>\n",
              "  </svg>\n",
              "    </button>\n",
              "\n",
              "  <style>\n",
              "    .colab-df-container {\n",
              "      display:flex;\n",
              "      gap: 12px;\n",
              "    }\n",
              "\n",
              "    .colab-df-convert {\n",
              "      background-color: #E8F0FE;\n",
              "      border: none;\n",
              "      border-radius: 50%;\n",
              "      cursor: pointer;\n",
              "      display: none;\n",
              "      fill: #1967D2;\n",
              "      height: 32px;\n",
              "      padding: 0 0 0 0;\n",
              "      width: 32px;\n",
              "    }\n",
              "\n",
              "    .colab-df-convert:hover {\n",
              "      background-color: #E2EBFA;\n",
              "      box-shadow: 0px 1px 2px rgba(60, 64, 67, 0.3), 0px 1px 3px 1px rgba(60, 64, 67, 0.15);\n",
              "      fill: #174EA6;\n",
              "    }\n",
              "\n",
              "    .colab-df-buttons div {\n",
              "      margin-bottom: 4px;\n",
              "    }\n",
              "\n",
              "    [theme=dark] .colab-df-convert {\n",
              "      background-color: #3B4455;\n",
              "      fill: #D2E3FC;\n",
              "    }\n",
              "\n",
              "    [theme=dark] .colab-df-convert:hover {\n",
              "      background-color: #434B5C;\n",
              "      box-shadow: 0px 1px 3px 1px rgba(0, 0, 0, 0.15);\n",
              "      filter: drop-shadow(0px 1px 2px rgba(0, 0, 0, 0.3));\n",
              "      fill: #FFFFFF;\n",
              "    }\n",
              "  </style>\n",
              "\n",
              "    <script>\n",
              "      const buttonEl =\n",
              "        document.querySelector('#df-3bf37dd7-b545-4744-8286-5fad958207b5 button.colab-df-convert');\n",
              "      buttonEl.style.display =\n",
              "        google.colab.kernel.accessAllowed ? 'block' : 'none';\n",
              "\n",
              "      async function convertToInteractive(key) {\n",
              "        const element = document.querySelector('#df-3bf37dd7-b545-4744-8286-5fad958207b5');\n",
              "        const dataTable =\n",
              "          await google.colab.kernel.invokeFunction('convertToInteractive',\n",
              "                                                    [key], {});\n",
              "        if (!dataTable) return;\n",
              "\n",
              "        const docLinkHtml = 'Like what you see? Visit the ' +\n",
              "          '<a target=\"_blank\" href=https://colab.research.google.com/notebooks/data_table.ipynb>data table notebook</a>'\n",
              "          + ' to learn more about interactive tables.';\n",
              "        element.innerHTML = '';\n",
              "        dataTable['output_type'] = 'display_data';\n",
              "        await google.colab.output.renderOutput(dataTable, element);\n",
              "        const docLink = document.createElement('div');\n",
              "        docLink.innerHTML = docLinkHtml;\n",
              "        element.appendChild(docLink);\n",
              "      }\n",
              "    </script>\n",
              "  </div>\n",
              "\n",
              "\n",
              "<div id=\"df-67105e97-c654-4e65-b8fe-5a66aacc188b\">\n",
              "  <button class=\"colab-df-quickchart\" onclick=\"quickchart('df-67105e97-c654-4e65-b8fe-5a66aacc188b')\"\n",
              "            title=\"Suggest charts\"\n",
              "            style=\"display:none;\">\n",
              "\n",
              "<svg xmlns=\"http://www.w3.org/2000/svg\" height=\"24px\"viewBox=\"0 0 24 24\"\n",
              "     width=\"24px\">\n",
              "    <g>\n",
              "        <path d=\"M19 3H5c-1.1 0-2 .9-2 2v14c0 1.1.9 2 2 2h14c1.1 0 2-.9 2-2V5c0-1.1-.9-2-2-2zM9 17H7v-7h2v7zm4 0h-2V7h2v10zm4 0h-2v-4h2v4z\"/>\n",
              "    </g>\n",
              "</svg>\n",
              "  </button>\n",
              "\n",
              "<style>\n",
              "  .colab-df-quickchart {\n",
              "      --bg-color: #E8F0FE;\n",
              "      --fill-color: #1967D2;\n",
              "      --hover-bg-color: #E2EBFA;\n",
              "      --hover-fill-color: #174EA6;\n",
              "      --disabled-fill-color: #AAA;\n",
              "      --disabled-bg-color: #DDD;\n",
              "  }\n",
              "\n",
              "  [theme=dark] .colab-df-quickchart {\n",
              "      --bg-color: #3B4455;\n",
              "      --fill-color: #D2E3FC;\n",
              "      --hover-bg-color: #434B5C;\n",
              "      --hover-fill-color: #FFFFFF;\n",
              "      --disabled-bg-color: #3B4455;\n",
              "      --disabled-fill-color: #666;\n",
              "  }\n",
              "\n",
              "  .colab-df-quickchart {\n",
              "    background-color: var(--bg-color);\n",
              "    border: none;\n",
              "    border-radius: 50%;\n",
              "    cursor: pointer;\n",
              "    display: none;\n",
              "    fill: var(--fill-color);\n",
              "    height: 32px;\n",
              "    padding: 0;\n",
              "    width: 32px;\n",
              "  }\n",
              "\n",
              "  .colab-df-quickchart:hover {\n",
              "    background-color: var(--hover-bg-color);\n",
              "    box-shadow: 0 1px 2px rgba(60, 64, 67, 0.3), 0 1px 3px 1px rgba(60, 64, 67, 0.15);\n",
              "    fill: var(--button-hover-fill-color);\n",
              "  }\n",
              "\n",
              "  .colab-df-quickchart-complete:disabled,\n",
              "  .colab-df-quickchart-complete:disabled:hover {\n",
              "    background-color: var(--disabled-bg-color);\n",
              "    fill: var(--disabled-fill-color);\n",
              "    box-shadow: none;\n",
              "  }\n",
              "\n",
              "  .colab-df-spinner {\n",
              "    border: 2px solid var(--fill-color);\n",
              "    border-color: transparent;\n",
              "    border-bottom-color: var(--fill-color);\n",
              "    animation:\n",
              "      spin 1s steps(1) infinite;\n",
              "  }\n",
              "\n",
              "  @keyframes spin {\n",
              "    0% {\n",
              "      border-color: transparent;\n",
              "      border-bottom-color: var(--fill-color);\n",
              "      border-left-color: var(--fill-color);\n",
              "    }\n",
              "    20% {\n",
              "      border-color: transparent;\n",
              "      border-left-color: var(--fill-color);\n",
              "      border-top-color: var(--fill-color);\n",
              "    }\n",
              "    30% {\n",
              "      border-color: transparent;\n",
              "      border-left-color: var(--fill-color);\n",
              "      border-top-color: var(--fill-color);\n",
              "      border-right-color: var(--fill-color);\n",
              "    }\n",
              "    40% {\n",
              "      border-color: transparent;\n",
              "      border-right-color: var(--fill-color);\n",
              "      border-top-color: var(--fill-color);\n",
              "    }\n",
              "    60% {\n",
              "      border-color: transparent;\n",
              "      border-right-color: var(--fill-color);\n",
              "    }\n",
              "    80% {\n",
              "      border-color: transparent;\n",
              "      border-right-color: var(--fill-color);\n",
              "      border-bottom-color: var(--fill-color);\n",
              "    }\n",
              "    90% {\n",
              "      border-color: transparent;\n",
              "      border-bottom-color: var(--fill-color);\n",
              "    }\n",
              "  }\n",
              "</style>\n",
              "\n",
              "  <script>\n",
              "    async function quickchart(key) {\n",
              "      const quickchartButtonEl =\n",
              "        document.querySelector('#' + key + ' button');\n",
              "      quickchartButtonEl.disabled = true;  // To prevent multiple clicks.\n",
              "      quickchartButtonEl.classList.add('colab-df-spinner');\n",
              "      try {\n",
              "        const charts = await google.colab.kernel.invokeFunction(\n",
              "            'suggestCharts', [key], {});\n",
              "      } catch (error) {\n",
              "        console.error('Error during call to suggestCharts:', error);\n",
              "      }\n",
              "      quickchartButtonEl.classList.remove('colab-df-spinner');\n",
              "      quickchartButtonEl.classList.add('colab-df-quickchart-complete');\n",
              "    }\n",
              "    (() => {\n",
              "      let quickchartButtonEl =\n",
              "        document.querySelector('#df-67105e97-c654-4e65-b8fe-5a66aacc188b button');\n",
              "      quickchartButtonEl.style.display =\n",
              "        google.colab.kernel.accessAllowed ? 'block' : 'none';\n",
              "    })();\n",
              "  </script>\n",
              "</div>\n",
              "    </div>\n",
              "  </div>\n"
            ]
          },
          "metadata": {},
          "execution_count": 63
        }
      ]
    },
    {
      "cell_type": "code",
      "source": [
        "wrong_test_preds = prediction_df[prediction_df.index.isin(different_inds)]\n",
        "wrong_test_preds = wrong_test_preds.loc[:, ['author', 'title', 'label']]\n",
        "wrong_test_preds"
      ],
      "metadata": {
        "colab": {
          "base_uri": "https://localhost:8080/",
          "height": 424
        },
        "id": "GSuiL2MEcws4",
        "outputId": "87c8f4c5-0e6f-4afa-ecf2-8d64b75118e9"
      },
      "execution_count": 64,
      "outputs": [
        {
          "output_type": "display_data",
          "data": {
            "text/plain": [
              "<IPython.core.display.HTML object>"
            ],
            "text/html": [
              "\n",
              "  <style>\n",
              "    pre {\n",
              "        white-space: pre-wrap;\n",
              "    }\n",
              "  </style>\n",
              "  "
            ]
          },
          "metadata": {}
        },
        {
          "output_type": "execute_result",
          "data": {
            "text/plain": [
              "                 author                   title  label\n",
              "18           Jojo Moyes            One Plus One      0\n",
              "100        Alice Sebold        The Lovely Bones      1\n",
              "105        Jodi Picould                The Pact      0\n",
              "116        Gary Paulsen                 Hatchet      0\n",
              "127         Jason Fried                  Rework      0\n",
              "...                 ...                     ...    ...\n",
              "1438  Jeffrey Eugenides     The Virgin Suicides      0\n",
              "1448         B.A. Paris     Behind Closed Doors      0\n",
              "1454      Cheryl Bardoe  Nothing Stopped Sophie      1\n",
              "1457    Cristina García       Dreaming in Cuban      1\n",
              "1460       Sally Rooney           Normal People      1\n",
              "\n",
              "[65 rows x 3 columns]"
            ],
            "text/html": [
              "\n",
              "  <div id=\"df-256c7f25-9753-43e0-9df9-5eb9d5a9aa52\" class=\"colab-df-container\">\n",
              "    <div>\n",
              "<style scoped>\n",
              "    .dataframe tbody tr th:only-of-type {\n",
              "        vertical-align: middle;\n",
              "    }\n",
              "\n",
              "    .dataframe tbody tr th {\n",
              "        vertical-align: top;\n",
              "    }\n",
              "\n",
              "    .dataframe thead th {\n",
              "        text-align: right;\n",
              "    }\n",
              "</style>\n",
              "<table border=\"1\" class=\"dataframe\">\n",
              "  <thead>\n",
              "    <tr style=\"text-align: right;\">\n",
              "      <th></th>\n",
              "      <th>author</th>\n",
              "      <th>title</th>\n",
              "      <th>label</th>\n",
              "    </tr>\n",
              "  </thead>\n",
              "  <tbody>\n",
              "    <tr>\n",
              "      <th>18</th>\n",
              "      <td>Jojo Moyes</td>\n",
              "      <td>One Plus One</td>\n",
              "      <td>0</td>\n",
              "    </tr>\n",
              "    <tr>\n",
              "      <th>100</th>\n",
              "      <td>Alice Sebold</td>\n",
              "      <td>The Lovely Bones</td>\n",
              "      <td>1</td>\n",
              "    </tr>\n",
              "    <tr>\n",
              "      <th>105</th>\n",
              "      <td>Jodi Picould</td>\n",
              "      <td>The Pact</td>\n",
              "      <td>0</td>\n",
              "    </tr>\n",
              "    <tr>\n",
              "      <th>116</th>\n",
              "      <td>Gary Paulsen</td>\n",
              "      <td>Hatchet</td>\n",
              "      <td>0</td>\n",
              "    </tr>\n",
              "    <tr>\n",
              "      <th>127</th>\n",
              "      <td>Jason Fried</td>\n",
              "      <td>Rework</td>\n",
              "      <td>0</td>\n",
              "    </tr>\n",
              "    <tr>\n",
              "      <th>...</th>\n",
              "      <td>...</td>\n",
              "      <td>...</td>\n",
              "      <td>...</td>\n",
              "    </tr>\n",
              "    <tr>\n",
              "      <th>1438</th>\n",
              "      <td>Jeffrey Eugenides</td>\n",
              "      <td>The Virgin Suicides</td>\n",
              "      <td>0</td>\n",
              "    </tr>\n",
              "    <tr>\n",
              "      <th>1448</th>\n",
              "      <td>B.A. Paris</td>\n",
              "      <td>Behind Closed Doors</td>\n",
              "      <td>0</td>\n",
              "    </tr>\n",
              "    <tr>\n",
              "      <th>1454</th>\n",
              "      <td>Cheryl Bardoe</td>\n",
              "      <td>Nothing Stopped Sophie</td>\n",
              "      <td>1</td>\n",
              "    </tr>\n",
              "    <tr>\n",
              "      <th>1457</th>\n",
              "      <td>Cristina García</td>\n",
              "      <td>Dreaming in Cuban</td>\n",
              "      <td>1</td>\n",
              "    </tr>\n",
              "    <tr>\n",
              "      <th>1460</th>\n",
              "      <td>Sally Rooney</td>\n",
              "      <td>Normal People</td>\n",
              "      <td>1</td>\n",
              "    </tr>\n",
              "  </tbody>\n",
              "</table>\n",
              "<p>65 rows × 3 columns</p>\n",
              "</div>\n",
              "    <div class=\"colab-df-buttons\">\n",
              "\n",
              "  <div class=\"colab-df-container\">\n",
              "    <button class=\"colab-df-convert\" onclick=\"convertToInteractive('df-256c7f25-9753-43e0-9df9-5eb9d5a9aa52')\"\n",
              "            title=\"Convert this dataframe to an interactive table.\"\n",
              "            style=\"display:none;\">\n",
              "\n",
              "  <svg xmlns=\"http://www.w3.org/2000/svg\" height=\"24px\" viewBox=\"0 -960 960 960\">\n",
              "    <path d=\"M120-120v-720h720v720H120Zm60-500h600v-160H180v160Zm220 220h160v-160H400v160Zm0 220h160v-160H400v160ZM180-400h160v-160H180v160Zm440 0h160v-160H620v160ZM180-180h160v-160H180v160Zm440 0h160v-160H620v160Z\"/>\n",
              "  </svg>\n",
              "    </button>\n",
              "\n",
              "  <style>\n",
              "    .colab-df-container {\n",
              "      display:flex;\n",
              "      gap: 12px;\n",
              "    }\n",
              "\n",
              "    .colab-df-convert {\n",
              "      background-color: #E8F0FE;\n",
              "      border: none;\n",
              "      border-radius: 50%;\n",
              "      cursor: pointer;\n",
              "      display: none;\n",
              "      fill: #1967D2;\n",
              "      height: 32px;\n",
              "      padding: 0 0 0 0;\n",
              "      width: 32px;\n",
              "    }\n",
              "\n",
              "    .colab-df-convert:hover {\n",
              "      background-color: #E2EBFA;\n",
              "      box-shadow: 0px 1px 2px rgba(60, 64, 67, 0.3), 0px 1px 3px 1px rgba(60, 64, 67, 0.15);\n",
              "      fill: #174EA6;\n",
              "    }\n",
              "\n",
              "    .colab-df-buttons div {\n",
              "      margin-bottom: 4px;\n",
              "    }\n",
              "\n",
              "    [theme=dark] .colab-df-convert {\n",
              "      background-color: #3B4455;\n",
              "      fill: #D2E3FC;\n",
              "    }\n",
              "\n",
              "    [theme=dark] .colab-df-convert:hover {\n",
              "      background-color: #434B5C;\n",
              "      box-shadow: 0px 1px 3px 1px rgba(0, 0, 0, 0.15);\n",
              "      filter: drop-shadow(0px 1px 2px rgba(0, 0, 0, 0.3));\n",
              "      fill: #FFFFFF;\n",
              "    }\n",
              "  </style>\n",
              "\n",
              "    <script>\n",
              "      const buttonEl =\n",
              "        document.querySelector('#df-256c7f25-9753-43e0-9df9-5eb9d5a9aa52 button.colab-df-convert');\n",
              "      buttonEl.style.display =\n",
              "        google.colab.kernel.accessAllowed ? 'block' : 'none';\n",
              "\n",
              "      async function convertToInteractive(key) {\n",
              "        const element = document.querySelector('#df-256c7f25-9753-43e0-9df9-5eb9d5a9aa52');\n",
              "        const dataTable =\n",
              "          await google.colab.kernel.invokeFunction('convertToInteractive',\n",
              "                                                    [key], {});\n",
              "        if (!dataTable) return;\n",
              "\n",
              "        const docLinkHtml = 'Like what you see? Visit the ' +\n",
              "          '<a target=\"_blank\" href=https://colab.research.google.com/notebooks/data_table.ipynb>data table notebook</a>'\n",
              "          + ' to learn more about interactive tables.';\n",
              "        element.innerHTML = '';\n",
              "        dataTable['output_type'] = 'display_data';\n",
              "        await google.colab.output.renderOutput(dataTable, element);\n",
              "        const docLink = document.createElement('div');\n",
              "        docLink.innerHTML = docLinkHtml;\n",
              "        element.appendChild(docLink);\n",
              "      }\n",
              "    </script>\n",
              "  </div>\n",
              "\n",
              "\n",
              "<div id=\"df-8c92aa91-7a8c-4d55-828e-33dbdd559c33\">\n",
              "  <button class=\"colab-df-quickchart\" onclick=\"quickchart('df-8c92aa91-7a8c-4d55-828e-33dbdd559c33')\"\n",
              "            title=\"Suggest charts\"\n",
              "            style=\"display:none;\">\n",
              "\n",
              "<svg xmlns=\"http://www.w3.org/2000/svg\" height=\"24px\"viewBox=\"0 0 24 24\"\n",
              "     width=\"24px\">\n",
              "    <g>\n",
              "        <path d=\"M19 3H5c-1.1 0-2 .9-2 2v14c0 1.1.9 2 2 2h14c1.1 0 2-.9 2-2V5c0-1.1-.9-2-2-2zM9 17H7v-7h2v7zm4 0h-2V7h2v10zm4 0h-2v-4h2v4z\"/>\n",
              "    </g>\n",
              "</svg>\n",
              "  </button>\n",
              "\n",
              "<style>\n",
              "  .colab-df-quickchart {\n",
              "      --bg-color: #E8F0FE;\n",
              "      --fill-color: #1967D2;\n",
              "      --hover-bg-color: #E2EBFA;\n",
              "      --hover-fill-color: #174EA6;\n",
              "      --disabled-fill-color: #AAA;\n",
              "      --disabled-bg-color: #DDD;\n",
              "  }\n",
              "\n",
              "  [theme=dark] .colab-df-quickchart {\n",
              "      --bg-color: #3B4455;\n",
              "      --fill-color: #D2E3FC;\n",
              "      --hover-bg-color: #434B5C;\n",
              "      --hover-fill-color: #FFFFFF;\n",
              "      --disabled-bg-color: #3B4455;\n",
              "      --disabled-fill-color: #666;\n",
              "  }\n",
              "\n",
              "  .colab-df-quickchart {\n",
              "    background-color: var(--bg-color);\n",
              "    border: none;\n",
              "    border-radius: 50%;\n",
              "    cursor: pointer;\n",
              "    display: none;\n",
              "    fill: var(--fill-color);\n",
              "    height: 32px;\n",
              "    padding: 0;\n",
              "    width: 32px;\n",
              "  }\n",
              "\n",
              "  .colab-df-quickchart:hover {\n",
              "    background-color: var(--hover-bg-color);\n",
              "    box-shadow: 0 1px 2px rgba(60, 64, 67, 0.3), 0 1px 3px 1px rgba(60, 64, 67, 0.15);\n",
              "    fill: var(--button-hover-fill-color);\n",
              "  }\n",
              "\n",
              "  .colab-df-quickchart-complete:disabled,\n",
              "  .colab-df-quickchart-complete:disabled:hover {\n",
              "    background-color: var(--disabled-bg-color);\n",
              "    fill: var(--disabled-fill-color);\n",
              "    box-shadow: none;\n",
              "  }\n",
              "\n",
              "  .colab-df-spinner {\n",
              "    border: 2px solid var(--fill-color);\n",
              "    border-color: transparent;\n",
              "    border-bottom-color: var(--fill-color);\n",
              "    animation:\n",
              "      spin 1s steps(1) infinite;\n",
              "  }\n",
              "\n",
              "  @keyframes spin {\n",
              "    0% {\n",
              "      border-color: transparent;\n",
              "      border-bottom-color: var(--fill-color);\n",
              "      border-left-color: var(--fill-color);\n",
              "    }\n",
              "    20% {\n",
              "      border-color: transparent;\n",
              "      border-left-color: var(--fill-color);\n",
              "      border-top-color: var(--fill-color);\n",
              "    }\n",
              "    30% {\n",
              "      border-color: transparent;\n",
              "      border-left-color: var(--fill-color);\n",
              "      border-top-color: var(--fill-color);\n",
              "      border-right-color: var(--fill-color);\n",
              "    }\n",
              "    40% {\n",
              "      border-color: transparent;\n",
              "      border-right-color: var(--fill-color);\n",
              "      border-top-color: var(--fill-color);\n",
              "    }\n",
              "    60% {\n",
              "      border-color: transparent;\n",
              "      border-right-color: var(--fill-color);\n",
              "    }\n",
              "    80% {\n",
              "      border-color: transparent;\n",
              "      border-right-color: var(--fill-color);\n",
              "      border-bottom-color: var(--fill-color);\n",
              "    }\n",
              "    90% {\n",
              "      border-color: transparent;\n",
              "      border-bottom-color: var(--fill-color);\n",
              "    }\n",
              "  }\n",
              "</style>\n",
              "\n",
              "  <script>\n",
              "    async function quickchart(key) {\n",
              "      const quickchartButtonEl =\n",
              "        document.querySelector('#' + key + ' button');\n",
              "      quickchartButtonEl.disabled = true;  // To prevent multiple clicks.\n",
              "      quickchartButtonEl.classList.add('colab-df-spinner');\n",
              "      try {\n",
              "        const charts = await google.colab.kernel.invokeFunction(\n",
              "            'suggestCharts', [key], {});\n",
              "      } catch (error) {\n",
              "        console.error('Error during call to suggestCharts:', error);\n",
              "      }\n",
              "      quickchartButtonEl.classList.remove('colab-df-spinner');\n",
              "      quickchartButtonEl.classList.add('colab-df-quickchart-complete');\n",
              "    }\n",
              "    (() => {\n",
              "      let quickchartButtonEl =\n",
              "        document.querySelector('#df-8c92aa91-7a8c-4d55-828e-33dbdd559c33 button');\n",
              "      quickchartButtonEl.style.display =\n",
              "        google.colab.kernel.accessAllowed ? 'block' : 'none';\n",
              "    })();\n",
              "  </script>\n",
              "</div>\n",
              "    </div>\n",
              "  </div>\n"
            ]
          },
          "metadata": {},
          "execution_count": 64
        }
      ]
    },
    {
      "cell_type": "code",
      "source": [
        "wrong_test_preds.to_csv('wrong_test_preds.csv', index=False)"
      ],
      "metadata": {
        "colab": {
          "base_uri": "https://localhost:8080/",
          "height": 17
        },
        "id": "5TeKfA7Wk-8l",
        "outputId": "3b777085-594f-4058-bdfa-35fcfbe8a93d"
      },
      "execution_count": 65,
      "outputs": [
        {
          "output_type": "display_data",
          "data": {
            "text/plain": [
              "<IPython.core.display.HTML object>"
            ],
            "text/html": [
              "\n",
              "  <style>\n",
              "    pre {\n",
              "        white-space: pre-wrap;\n",
              "    }\n",
              "  </style>\n",
              "  "
            ]
          },
          "metadata": {}
        }
      ]
    },
    {
      "cell_type": "code",
      "source": [
        "wrong_test_preds_full = prediction_df[prediction_df.index.isin(different_inds)]\n",
        "wrong_test_preds_full.to_csv('wrong_test_preds_full.csv', index=False)\n",
        "\n",
        "# in case we want to explore further"
      ],
      "metadata": {
        "colab": {
          "base_uri": "https://localhost:8080/",
          "height": 17
        },
        "id": "ByO1Wq3_lz6y",
        "outputId": "1504c985-d437-4cef-8064-ccc607f30b16"
      },
      "execution_count": 66,
      "outputs": [
        {
          "output_type": "display_data",
          "data": {
            "text/plain": [
              "<IPython.core.display.HTML object>"
            ],
            "text/html": [
              "\n",
              "  <style>\n",
              "    pre {\n",
              "        white-space: pre-wrap;\n",
              "    }\n",
              "  </style>\n",
              "  "
            ]
          },
          "metadata": {}
        }
      ]
    },
    {
      "cell_type": "markdown",
      "source": [
        "## Conclusion\n",
        "\n",
        "Our dummy classifier gave us 64ish% accuracy or under, our Logistic Regression model gives 78% on the test set. Moreover our other metrics also do well.\n",
        "\n",
        "Parameters: penalty = l2, C = 0.1, solver = lbfgs, class_weights = balanced"
      ],
      "metadata": {
        "id": "4siH_ehhbOiN"
      }
    },
    {
      "cell_type": "code",
      "source": [
        "print(f\"Accuracy Score on Training Set for Logistic Regression: {logreg.score(X_train, y_train):.3f}\")\n",
        "print(f\"Accuracy Score on Test Set for Logistic Regression: {logreg.score(X_test, y_test):.3f}\")\n",
        "\n",
        "# params for logreg: penalty = l2, C: 0.1, solver=lbfgs, class_weights=balanced"
      ],
      "metadata": {
        "colab": {
          "base_uri": "https://localhost:8080/",
          "height": 52
        },
        "id": "VljKTsypt0P6",
        "outputId": "8868136c-4826-4630-a70f-6479fd1ce0ce"
      },
      "execution_count": 67,
      "outputs": [
        {
          "output_type": "display_data",
          "data": {
            "text/plain": [
              "<IPython.core.display.HTML object>"
            ],
            "text/html": [
              "\n",
              "  <style>\n",
              "    pre {\n",
              "        white-space: pre-wrap;\n",
              "    }\n",
              "  </style>\n",
              "  "
            ]
          },
          "metadata": {}
        },
        {
          "output_type": "stream",
          "name": "stdout",
          "text": [
            "Accuracy Score on Training Set for Logistic Regression: 0.804\n",
            "Accuracy Score on Test Set for Logistic Regression: 0.780\n"
          ]
        }
      ]
    },
    {
      "cell_type": "code",
      "source": [
        "# from sklearn.metrics import accuracy_score, precision_score, recall_score, f1_score, roc_auc_score\n",
        "print(f\"Accuracy Score on Test Set for Logistic Regression Classifier: {accuracy_score(y_test, y_pred):.3f}\")\n",
        "print(f\"Precision Score on Test Set for Logistic Regression Classifier: {precision_score(y_test, y_pred):.3f}\")\n",
        "print(f\"Recall Score on Test Set for Logistic Regression Classifier: {recall_score(y_test, y_pred):.3f}\")\n",
        "print(f\"F1 Score on Test Set for Logistic Regression Classifier: {f1_score(y_test, y_pred):.3f}\")\n",
        "print(f\"ROC-AUC score on Test Set for Logistic Regression Classifier: {roc_auc_score(y_test, y_proba):.3f}\")"
      ],
      "metadata": {
        "colab": {
          "base_uri": "https://localhost:8080/",
          "height": 104
        },
        "id": "GRaXCj1w0G3O",
        "outputId": "b6b973cd-a20b-4a0b-e88c-82009a22c3e4"
      },
      "execution_count": 68,
      "outputs": [
        {
          "output_type": "display_data",
          "data": {
            "text/plain": [
              "<IPython.core.display.HTML object>"
            ],
            "text/html": [
              "\n",
              "  <style>\n",
              "    pre {\n",
              "        white-space: pre-wrap;\n",
              "    }\n",
              "  </style>\n",
              "  "
            ]
          },
          "metadata": {}
        },
        {
          "output_type": "stream",
          "name": "stdout",
          "text": [
            "Accuracy Score on Test Set for Logistic Regression Classifier: 0.780\n",
            "Precision Score on Test Set for Logistic Regression Classifier: 0.872\n",
            "Recall Score on Test Set for Logistic Regression Classifier: 0.765\n",
            "F1 Score on Test Set for Logistic Regression Classifier: 0.815\n",
            "ROC-AUC score on Test Set for Logistic Regression Classifier: 0.853\n"
          ]
        }
      ]
    },
    {
      "cell_type": "code",
      "source": [
        "# save this model\n",
        "\n",
        "from sklearn import __version__ as sklearn_version\n",
        "import datetime\n",
        "import pickle\n",
        "logreg.version = 1.0\n",
        "logreg.pandas_version = pd.__version__\n",
        "logreg.numpy_version = np.__version__\n",
        "logreg.sklearn_version = sklearn_version\n",
        "logreg.X_columns = [col for col in X_train.columns]\n",
        "logreg.build_datetime = datetime.datetime.now()"
      ],
      "metadata": {
        "colab": {
          "base_uri": "https://localhost:8080/",
          "height": 17
        },
        "id": "OLbRH_3-auaQ",
        "outputId": "bb85bea0-a207-43af-c111-f950c7af68a6"
      },
      "execution_count": 69,
      "outputs": [
        {
          "output_type": "display_data",
          "data": {
            "text/plain": [
              "<IPython.core.display.HTML object>"
            ],
            "text/html": [
              "\n",
              "  <style>\n",
              "    pre {\n",
              "        white-space: pre-wrap;\n",
              "    }\n",
              "  </style>\n",
              "  "
            ]
          },
          "metadata": {}
        }
      ]
    },
    {
      "cell_type": "code",
      "source": [
        "savedmodel = 'banned_logreg_predictions.pkl'\n",
        "pickle.dump(logreg, open(savedmodel, 'wb'))"
      ],
      "metadata": {
        "id": "2aXcV2ajbIE-",
        "colab": {
          "base_uri": "https://localhost:8080/",
          "height": 17
        },
        "outputId": "51bde340-63cc-4fa9-9198-3a7c2bb22a38"
      },
      "execution_count": 70,
      "outputs": [
        {
          "output_type": "display_data",
          "data": {
            "text/plain": [
              "<IPython.core.display.HTML object>"
            ],
            "text/html": [
              "\n",
              "  <style>\n",
              "    pre {\n",
              "        white-space: pre-wrap;\n",
              "    }\n",
              "  </style>\n",
              "  "
            ]
          },
          "metadata": {}
        }
      ]
    },
    {
      "cell_type": "code",
      "source": [],
      "metadata": {
        "id": "fh_QubcI3rYU"
      },
      "execution_count": null,
      "outputs": []
    }
  ]
}