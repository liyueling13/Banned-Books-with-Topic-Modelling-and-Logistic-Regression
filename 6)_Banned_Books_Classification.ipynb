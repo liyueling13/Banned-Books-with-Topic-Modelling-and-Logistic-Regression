{
  "nbformat": 4,
  "nbformat_minor": 0,
  "metadata": {
    "colab": {
      "provenance": [],
      "authorship_tag": "ABX9TyN45dAge86St1qDIGVyYat3",
      "include_colab_link": true
    },
    "kernelspec": {
      "name": "python3",
      "display_name": "Python 3"
    },
    "language_info": {
      "name": "python"
    }
  },
  "cells": [
    {
      "cell_type": "markdown",
      "metadata": {
        "id": "view-in-github",
        "colab_type": "text"
      },
      "source": [
        "<a href=\"https://colab.research.google.com/github/liyueling13/Predicting-Banned-Books/blob/main/6)_Banned_Books_Classification.ipynb\" target=\"_parent\"><img src=\"https://colab.research.google.com/assets/colab-badge.svg\" alt=\"Open In Colab\"/></a>"
      ]
    },
    {
      "cell_type": "markdown",
      "source": [
        "# 6) Banned Books - Classification\n",
        "\n",
        "Let's see if we can use the features we engineered from book desriptions to predict whether a book is banned.\n",
        "\n",
        "11/10/23"
      ],
      "metadata": {
        "id": "3QXae-vw9uVs"
      }
    },
    {
      "cell_type": "markdown",
      "source": [
        "## Setup"
      ],
      "metadata": {
        "id": "NS3lmpAH95Qi"
      }
    },
    {
      "cell_type": "code",
      "execution_count": 1,
      "metadata": {
        "id": "RnVIuxGZ2ITr"
      },
      "outputs": [],
      "source": [
        "# this performs line wrapping on output text in Colab\n",
        "\n",
        "from IPython.display import HTML, display\n",
        "\n",
        "def set_css():\n",
        "  display(HTML('''\n",
        "  <style>\n",
        "    pre {\n",
        "        white-space: pre-wrap;\n",
        "    }\n",
        "  </style>\n",
        "  '''))\n",
        "get_ipython().events.register('pre_run_cell', set_css)"
      ]
    },
    {
      "cell_type": "code",
      "source": [
        "# mount drive\n",
        "from google.colab import drive\n",
        "drive.mount('/content/drive')\n",
        "import os\n",
        "os.chdir('/content/drive/My Drive/Data Science/Springboard assignments/Capstone Three/Banned Books')"
      ],
      "metadata": {
        "colab": {
          "base_uri": "https://localhost:8080/",
          "height": 35
        },
        "id": "YxEPylQC96ld",
        "outputId": "f84353ca-c4d3-4574-92c9-63d673aacb0f"
      },
      "execution_count": 2,
      "outputs": [
        {
          "output_type": "display_data",
          "data": {
            "text/plain": [
              "<IPython.core.display.HTML object>"
            ],
            "text/html": [
              "\n",
              "  <style>\n",
              "    pre {\n",
              "        white-space: pre-wrap;\n",
              "    }\n",
              "  </style>\n",
              "  "
            ]
          },
          "metadata": {}
        },
        {
          "output_type": "stream",
          "name": "stdout",
          "text": [
            "Mounted at /content/drive\n"
          ]
        }
      ]
    },
    {
      "cell_type": "code",
      "source": [
        "import numpy as np\n",
        "import pandas as pd"
      ],
      "metadata": {
        "colab": {
          "base_uri": "https://localhost:8080/",
          "height": 17
        },
        "id": "j3OcV8SH9719",
        "outputId": "f7e5d580-364f-4e8e-d45d-e36a2a15a262"
      },
      "execution_count": 3,
      "outputs": [
        {
          "output_type": "display_data",
          "data": {
            "text/plain": [
              "<IPython.core.display.HTML object>"
            ],
            "text/html": [
              "\n",
              "  <style>\n",
              "    pre {\n",
              "        white-space: pre-wrap;\n",
              "    }\n",
              "  </style>\n",
              "  "
            ]
          },
          "metadata": {}
        }
      ]
    },
    {
      "cell_type": "code",
      "source": [
        "import matplotlib.pyplot as plt\n",
        "import seaborn as sns"
      ],
      "metadata": {
        "colab": {
          "base_uri": "https://localhost:8080/",
          "height": 17
        },
        "id": "HP3VBgO69_eF",
        "outputId": "1f1dd266-659e-47c7-b71d-e37d49a20771"
      },
      "execution_count": 4,
      "outputs": [
        {
          "output_type": "display_data",
          "data": {
            "text/plain": [
              "<IPython.core.display.HTML object>"
            ],
            "text/html": [
              "\n",
              "  <style>\n",
              "    pre {\n",
              "        white-space: pre-wrap;\n",
              "    }\n",
              "  </style>\n",
              "  "
            ]
          },
          "metadata": {}
        }
      ]
    },
    {
      "cell_type": "markdown",
      "source": [
        "## Train/Test Split and Dummy Classifier Baseline"
      ],
      "metadata": {
        "id": "v3U6aYqmFO0x"
      }
    },
    {
      "cell_type": "code",
      "source": [
        "prediction_df = pd.read_csv('prediction_df.csv')\n",
        "prediction_df"
      ],
      "metadata": {
        "colab": {
          "base_uri": "https://localhost:8080/",
          "height": 1000
        },
        "id": "nvACaf7s-hKb",
        "outputId": "6184fe53-0f3d-4a32-d6fa-e4b28964a855"
      },
      "execution_count": 6,
      "outputs": [
        {
          "output_type": "display_data",
          "data": {
            "text/plain": [
              "<IPython.core.display.HTML object>"
            ],
            "text/html": [
              "\n",
              "  <style>\n",
              "    pre {\n",
              "        white-space: pre-wrap;\n",
              "    }\n",
              "  </style>\n",
              "  "
            ]
          },
          "metadata": {}
        },
        {
          "output_type": "execute_result",
          "data": {
            "text/plain": [
              "                    author                     title  label  \\\n",
              "0            Arundhati Roy   The God of Small Things      1   \n",
              "1     Kevin Noble Maillard                 Fry Bread      1   \n",
              "2     Kevin Noble Maillard                 Fry Bread      1   \n",
              "3     Kevin Noble Maillard                 Fry Bread      1   \n",
              "4     Kevin Noble Maillard                 Fry Bread      1   \n",
              "...                    ...                       ...    ...   \n",
              "1730          Arvin Ahmadi        How It All Blew Up      1   \n",
              "1731      Jaye Robin Brown     The Key to You and Me      1   \n",
              "1732     Victoria Jamieson  When Stars Are Scattered      1   \n",
              "1733          Megan Atwood          Raise the Stakes      1   \n",
              "1734   Niccolo Machiavelli                The Prince      0   \n",
              "\n",
              "                                            description  nyt_author  \\\n",
              "0     debut novel affluent indian family fateful day...     0.03352   \n",
              "1     winner robert sibert informational book medal ...     0.01759   \n",
              "2     winner robert sibert informational book medal ...     0.01759   \n",
              "3     winner robert sibert informational book medal ...     0.01759   \n",
              "4     winner robert sibert informational book medal ...     0.01759   \n",
              "...                                                 ...         ...   \n",
              "1730  simon homo sapiens agenda italy ahmadi newest ...     0.01078   \n",
              "1731  sweet funny lgbtq romance perfect fan becky al...     0.00678   \n",
              "1732  national book award finalist remarkable graphi...     0.03275   \n",
              "1733  audisee audio combine professional narration s...     0.00454   \n",
              "1734  machiavelli influential treatise political pow...     0.00000   \n",
              "\n",
              "      school_friendship_and_love  award_winning_childrens  young_woman_protag  \\\n",
              "0                        0.02454                  0.01418             0.00123   \n",
              "1                        0.00000                  0.27830             0.00000   \n",
              "2                        0.00000                  0.27830             0.00000   \n",
              "3                        0.00000                  0.27830             0.00000   \n",
              "4                        0.00000                  0.27830             0.00000   \n",
              "...                          ...                      ...                 ...   \n",
              "1730                     0.07607                  0.00000             0.01401   \n",
              "1731                     0.10552                  0.01222             0.00000   \n",
              "1732                     0.00535                  0.02473             0.01480   \n",
              "1733                     0.00977                  0.00000             0.00000   \n",
              "1734                     0.00000                  0.00000             0.00000   \n",
              "\n",
              "      gender_and_sexuality  race_and_america  families_and_home  \\\n",
              "0                  0.00000           0.00000            0.08860   \n",
              "1                  0.00000           0.01119            0.00848   \n",
              "2                  0.00000           0.01119            0.00848   \n",
              "3                  0.00000           0.01119            0.00848   \n",
              "4                  0.00000           0.01119            0.00848   \n",
              "...                    ...               ...                ...   \n",
              "1730               0.01718           0.01964            0.08449   \n",
              "1731               0.00000           0.00244            0.00000   \n",
              "1732               0.00000           0.00000            0.07097   \n",
              "1733               0.01535           0.00000            0.00895   \n",
              "1734               0.00000           0.00000            0.00000   \n",
              "\n",
              "      middle_and_high_school  classics  vampire_novel  boy_protagonist  \\\n",
              "0                    0.00000   0.10248            0.0          0.02749   \n",
              "1                    0.00853   0.00000            0.0          0.00000   \n",
              "2                    0.00853   0.00000            0.0          0.00000   \n",
              "3                    0.00853   0.00000            0.0          0.00000   \n",
              "4                    0.00853   0.00000            0.0          0.00000   \n",
              "...                      ...       ...            ...              ...   \n",
              "1730                 0.00000   0.00000            0.0          0.00000   \n",
              "1731                 0.00000   0.00000            0.0          0.00000   \n",
              "1732                 0.03407   0.02942            0.0          0.01365   \n",
              "1733                 0.00000   0.01380            0.0          0.00867   \n",
              "1734                 0.00000   0.29218            0.0          0.00000   \n",
              "\n",
              "      fantasy  lgbtq_sexuality  girl_protagonist  \n",
              "0     0.00000          0.00000           0.00032  \n",
              "1     0.01092          0.00000           0.00000  \n",
              "2     0.01092          0.00000           0.00000  \n",
              "3     0.01092          0.00000           0.00000  \n",
              "4     0.01092          0.00000           0.00000  \n",
              "...       ...              ...               ...  \n",
              "1730  0.00000          0.00000           0.00000  \n",
              "1731  0.00000          0.00000           0.09311  \n",
              "1732  0.00000          0.00000           0.03165  \n",
              "1733  0.00000          0.02394           0.02217  \n",
              "1734  0.00000          0.00000           0.00000  \n",
              "\n",
              "[1735 rows x 18 columns]"
            ],
            "text/html": [
              "\n",
              "  <div id=\"df-8f09edda-3e52-4556-9c1d-b850f18f6926\" class=\"colab-df-container\">\n",
              "    <div>\n",
              "<style scoped>\n",
              "    .dataframe tbody tr th:only-of-type {\n",
              "        vertical-align: middle;\n",
              "    }\n",
              "\n",
              "    .dataframe tbody tr th {\n",
              "        vertical-align: top;\n",
              "    }\n",
              "\n",
              "    .dataframe thead th {\n",
              "        text-align: right;\n",
              "    }\n",
              "</style>\n",
              "<table border=\"1\" class=\"dataframe\">\n",
              "  <thead>\n",
              "    <tr style=\"text-align: right;\">\n",
              "      <th></th>\n",
              "      <th>author</th>\n",
              "      <th>title</th>\n",
              "      <th>label</th>\n",
              "      <th>description</th>\n",
              "      <th>nyt_author</th>\n",
              "      <th>school_friendship_and_love</th>\n",
              "      <th>award_winning_childrens</th>\n",
              "      <th>young_woman_protag</th>\n",
              "      <th>gender_and_sexuality</th>\n",
              "      <th>race_and_america</th>\n",
              "      <th>families_and_home</th>\n",
              "      <th>middle_and_high_school</th>\n",
              "      <th>classics</th>\n",
              "      <th>vampire_novel</th>\n",
              "      <th>boy_protagonist</th>\n",
              "      <th>fantasy</th>\n",
              "      <th>lgbtq_sexuality</th>\n",
              "      <th>girl_protagonist</th>\n",
              "    </tr>\n",
              "  </thead>\n",
              "  <tbody>\n",
              "    <tr>\n",
              "      <th>0</th>\n",
              "      <td>Arundhati Roy</td>\n",
              "      <td>The God of Small Things</td>\n",
              "      <td>1</td>\n",
              "      <td>debut novel affluent indian family fateful day...</td>\n",
              "      <td>0.03352</td>\n",
              "      <td>0.02454</td>\n",
              "      <td>0.01418</td>\n",
              "      <td>0.00123</td>\n",
              "      <td>0.00000</td>\n",
              "      <td>0.00000</td>\n",
              "      <td>0.08860</td>\n",
              "      <td>0.00000</td>\n",
              "      <td>0.10248</td>\n",
              "      <td>0.0</td>\n",
              "      <td>0.02749</td>\n",
              "      <td>0.00000</td>\n",
              "      <td>0.00000</td>\n",
              "      <td>0.00032</td>\n",
              "    </tr>\n",
              "    <tr>\n",
              "      <th>1</th>\n",
              "      <td>Kevin Noble Maillard</td>\n",
              "      <td>Fry Bread</td>\n",
              "      <td>1</td>\n",
              "      <td>winner robert sibert informational book medal ...</td>\n",
              "      <td>0.01759</td>\n",
              "      <td>0.00000</td>\n",
              "      <td>0.27830</td>\n",
              "      <td>0.00000</td>\n",
              "      <td>0.00000</td>\n",
              "      <td>0.01119</td>\n",
              "      <td>0.00848</td>\n",
              "      <td>0.00853</td>\n",
              "      <td>0.00000</td>\n",
              "      <td>0.0</td>\n",
              "      <td>0.00000</td>\n",
              "      <td>0.01092</td>\n",
              "      <td>0.00000</td>\n",
              "      <td>0.00000</td>\n",
              "    </tr>\n",
              "    <tr>\n",
              "      <th>2</th>\n",
              "      <td>Kevin Noble Maillard</td>\n",
              "      <td>Fry Bread</td>\n",
              "      <td>1</td>\n",
              "      <td>winner robert sibert informational book medal ...</td>\n",
              "      <td>0.01759</td>\n",
              "      <td>0.00000</td>\n",
              "      <td>0.27830</td>\n",
              "      <td>0.00000</td>\n",
              "      <td>0.00000</td>\n",
              "      <td>0.01119</td>\n",
              "      <td>0.00848</td>\n",
              "      <td>0.00853</td>\n",
              "      <td>0.00000</td>\n",
              "      <td>0.0</td>\n",
              "      <td>0.00000</td>\n",
              "      <td>0.01092</td>\n",
              "      <td>0.00000</td>\n",
              "      <td>0.00000</td>\n",
              "    </tr>\n",
              "    <tr>\n",
              "      <th>3</th>\n",
              "      <td>Kevin Noble Maillard</td>\n",
              "      <td>Fry Bread</td>\n",
              "      <td>1</td>\n",
              "      <td>winner robert sibert informational book medal ...</td>\n",
              "      <td>0.01759</td>\n",
              "      <td>0.00000</td>\n",
              "      <td>0.27830</td>\n",
              "      <td>0.00000</td>\n",
              "      <td>0.00000</td>\n",
              "      <td>0.01119</td>\n",
              "      <td>0.00848</td>\n",
              "      <td>0.00853</td>\n",
              "      <td>0.00000</td>\n",
              "      <td>0.0</td>\n",
              "      <td>0.00000</td>\n",
              "      <td>0.01092</td>\n",
              "      <td>0.00000</td>\n",
              "      <td>0.00000</td>\n",
              "    </tr>\n",
              "    <tr>\n",
              "      <th>4</th>\n",
              "      <td>Kevin Noble Maillard</td>\n",
              "      <td>Fry Bread</td>\n",
              "      <td>1</td>\n",
              "      <td>winner robert sibert informational book medal ...</td>\n",
              "      <td>0.01759</td>\n",
              "      <td>0.00000</td>\n",
              "      <td>0.27830</td>\n",
              "      <td>0.00000</td>\n",
              "      <td>0.00000</td>\n",
              "      <td>0.01119</td>\n",
              "      <td>0.00848</td>\n",
              "      <td>0.00853</td>\n",
              "      <td>0.00000</td>\n",
              "      <td>0.0</td>\n",
              "      <td>0.00000</td>\n",
              "      <td>0.01092</td>\n",
              "      <td>0.00000</td>\n",
              "      <td>0.00000</td>\n",
              "    </tr>\n",
              "    <tr>\n",
              "      <th>...</th>\n",
              "      <td>...</td>\n",
              "      <td>...</td>\n",
              "      <td>...</td>\n",
              "      <td>...</td>\n",
              "      <td>...</td>\n",
              "      <td>...</td>\n",
              "      <td>...</td>\n",
              "      <td>...</td>\n",
              "      <td>...</td>\n",
              "      <td>...</td>\n",
              "      <td>...</td>\n",
              "      <td>...</td>\n",
              "      <td>...</td>\n",
              "      <td>...</td>\n",
              "      <td>...</td>\n",
              "      <td>...</td>\n",
              "      <td>...</td>\n",
              "      <td>...</td>\n",
              "    </tr>\n",
              "    <tr>\n",
              "      <th>1730</th>\n",
              "      <td>Arvin Ahmadi</td>\n",
              "      <td>How It All Blew Up</td>\n",
              "      <td>1</td>\n",
              "      <td>simon homo sapiens agenda italy ahmadi newest ...</td>\n",
              "      <td>0.01078</td>\n",
              "      <td>0.07607</td>\n",
              "      <td>0.00000</td>\n",
              "      <td>0.01401</td>\n",
              "      <td>0.01718</td>\n",
              "      <td>0.01964</td>\n",
              "      <td>0.08449</td>\n",
              "      <td>0.00000</td>\n",
              "      <td>0.00000</td>\n",
              "      <td>0.0</td>\n",
              "      <td>0.00000</td>\n",
              "      <td>0.00000</td>\n",
              "      <td>0.00000</td>\n",
              "      <td>0.00000</td>\n",
              "    </tr>\n",
              "    <tr>\n",
              "      <th>1731</th>\n",
              "      <td>Jaye Robin Brown</td>\n",
              "      <td>The Key to You and Me</td>\n",
              "      <td>1</td>\n",
              "      <td>sweet funny lgbtq romance perfect fan becky al...</td>\n",
              "      <td>0.00678</td>\n",
              "      <td>0.10552</td>\n",
              "      <td>0.01222</td>\n",
              "      <td>0.00000</td>\n",
              "      <td>0.00000</td>\n",
              "      <td>0.00244</td>\n",
              "      <td>0.00000</td>\n",
              "      <td>0.00000</td>\n",
              "      <td>0.00000</td>\n",
              "      <td>0.0</td>\n",
              "      <td>0.00000</td>\n",
              "      <td>0.00000</td>\n",
              "      <td>0.00000</td>\n",
              "      <td>0.09311</td>\n",
              "    </tr>\n",
              "    <tr>\n",
              "      <th>1732</th>\n",
              "      <td>Victoria Jamieson</td>\n",
              "      <td>When Stars Are Scattered</td>\n",
              "      <td>1</td>\n",
              "      <td>national book award finalist remarkable graphi...</td>\n",
              "      <td>0.03275</td>\n",
              "      <td>0.00535</td>\n",
              "      <td>0.02473</td>\n",
              "      <td>0.01480</td>\n",
              "      <td>0.00000</td>\n",
              "      <td>0.00000</td>\n",
              "      <td>0.07097</td>\n",
              "      <td>0.03407</td>\n",
              "      <td>0.02942</td>\n",
              "      <td>0.0</td>\n",
              "      <td>0.01365</td>\n",
              "      <td>0.00000</td>\n",
              "      <td>0.00000</td>\n",
              "      <td>0.03165</td>\n",
              "    </tr>\n",
              "    <tr>\n",
              "      <th>1733</th>\n",
              "      <td>Megan Atwood</td>\n",
              "      <td>Raise the Stakes</td>\n",
              "      <td>1</td>\n",
              "      <td>audisee audio combine professional narration s...</td>\n",
              "      <td>0.00454</td>\n",
              "      <td>0.00977</td>\n",
              "      <td>0.00000</td>\n",
              "      <td>0.00000</td>\n",
              "      <td>0.01535</td>\n",
              "      <td>0.00000</td>\n",
              "      <td>0.00895</td>\n",
              "      <td>0.00000</td>\n",
              "      <td>0.01380</td>\n",
              "      <td>0.0</td>\n",
              "      <td>0.00867</td>\n",
              "      <td>0.00000</td>\n",
              "      <td>0.02394</td>\n",
              "      <td>0.02217</td>\n",
              "    </tr>\n",
              "    <tr>\n",
              "      <th>1734</th>\n",
              "      <td>Niccolo Machiavelli</td>\n",
              "      <td>The Prince</td>\n",
              "      <td>0</td>\n",
              "      <td>machiavelli influential treatise political pow...</td>\n",
              "      <td>0.00000</td>\n",
              "      <td>0.00000</td>\n",
              "      <td>0.00000</td>\n",
              "      <td>0.00000</td>\n",
              "      <td>0.00000</td>\n",
              "      <td>0.00000</td>\n",
              "      <td>0.00000</td>\n",
              "      <td>0.00000</td>\n",
              "      <td>0.29218</td>\n",
              "      <td>0.0</td>\n",
              "      <td>0.00000</td>\n",
              "      <td>0.00000</td>\n",
              "      <td>0.00000</td>\n",
              "      <td>0.00000</td>\n",
              "    </tr>\n",
              "  </tbody>\n",
              "</table>\n",
              "<p>1735 rows × 18 columns</p>\n",
              "</div>\n",
              "    <div class=\"colab-df-buttons\">\n",
              "\n",
              "  <div class=\"colab-df-container\">\n",
              "    <button class=\"colab-df-convert\" onclick=\"convertToInteractive('df-8f09edda-3e52-4556-9c1d-b850f18f6926')\"\n",
              "            title=\"Convert this dataframe to an interactive table.\"\n",
              "            style=\"display:none;\">\n",
              "\n",
              "  <svg xmlns=\"http://www.w3.org/2000/svg\" height=\"24px\" viewBox=\"0 -960 960 960\">\n",
              "    <path d=\"M120-120v-720h720v720H120Zm60-500h600v-160H180v160Zm220 220h160v-160H400v160Zm0 220h160v-160H400v160ZM180-400h160v-160H180v160Zm440 0h160v-160H620v160ZM180-180h160v-160H180v160Zm440 0h160v-160H620v160Z\"/>\n",
              "  </svg>\n",
              "    </button>\n",
              "\n",
              "  <style>\n",
              "    .colab-df-container {\n",
              "      display:flex;\n",
              "      gap: 12px;\n",
              "    }\n",
              "\n",
              "    .colab-df-convert {\n",
              "      background-color: #E8F0FE;\n",
              "      border: none;\n",
              "      border-radius: 50%;\n",
              "      cursor: pointer;\n",
              "      display: none;\n",
              "      fill: #1967D2;\n",
              "      height: 32px;\n",
              "      padding: 0 0 0 0;\n",
              "      width: 32px;\n",
              "    }\n",
              "\n",
              "    .colab-df-convert:hover {\n",
              "      background-color: #E2EBFA;\n",
              "      box-shadow: 0px 1px 2px rgba(60, 64, 67, 0.3), 0px 1px 3px 1px rgba(60, 64, 67, 0.15);\n",
              "      fill: #174EA6;\n",
              "    }\n",
              "\n",
              "    .colab-df-buttons div {\n",
              "      margin-bottom: 4px;\n",
              "    }\n",
              "\n",
              "    [theme=dark] .colab-df-convert {\n",
              "      background-color: #3B4455;\n",
              "      fill: #D2E3FC;\n",
              "    }\n",
              "\n",
              "    [theme=dark] .colab-df-convert:hover {\n",
              "      background-color: #434B5C;\n",
              "      box-shadow: 0px 1px 3px 1px rgba(0, 0, 0, 0.15);\n",
              "      filter: drop-shadow(0px 1px 2px rgba(0, 0, 0, 0.3));\n",
              "      fill: #FFFFFF;\n",
              "    }\n",
              "  </style>\n",
              "\n",
              "    <script>\n",
              "      const buttonEl =\n",
              "        document.querySelector('#df-8f09edda-3e52-4556-9c1d-b850f18f6926 button.colab-df-convert');\n",
              "      buttonEl.style.display =\n",
              "        google.colab.kernel.accessAllowed ? 'block' : 'none';\n",
              "\n",
              "      async function convertToInteractive(key) {\n",
              "        const element = document.querySelector('#df-8f09edda-3e52-4556-9c1d-b850f18f6926');\n",
              "        const dataTable =\n",
              "          await google.colab.kernel.invokeFunction('convertToInteractive',\n",
              "                                                    [key], {});\n",
              "        if (!dataTable) return;\n",
              "\n",
              "        const docLinkHtml = 'Like what you see? Visit the ' +\n",
              "          '<a target=\"_blank\" href=https://colab.research.google.com/notebooks/data_table.ipynb>data table notebook</a>'\n",
              "          + ' to learn more about interactive tables.';\n",
              "        element.innerHTML = '';\n",
              "        dataTable['output_type'] = 'display_data';\n",
              "        await google.colab.output.renderOutput(dataTable, element);\n",
              "        const docLink = document.createElement('div');\n",
              "        docLink.innerHTML = docLinkHtml;\n",
              "        element.appendChild(docLink);\n",
              "      }\n",
              "    </script>\n",
              "  </div>\n",
              "\n",
              "\n",
              "<div id=\"df-3d74350e-7c27-45cd-875e-80206813e226\">\n",
              "  <button class=\"colab-df-quickchart\" onclick=\"quickchart('df-3d74350e-7c27-45cd-875e-80206813e226')\"\n",
              "            title=\"Suggest charts\"\n",
              "            style=\"display:none;\">\n",
              "\n",
              "<svg xmlns=\"http://www.w3.org/2000/svg\" height=\"24px\"viewBox=\"0 0 24 24\"\n",
              "     width=\"24px\">\n",
              "    <g>\n",
              "        <path d=\"M19 3H5c-1.1 0-2 .9-2 2v14c0 1.1.9 2 2 2h14c1.1 0 2-.9 2-2V5c0-1.1-.9-2-2-2zM9 17H7v-7h2v7zm4 0h-2V7h2v10zm4 0h-2v-4h2v4z\"/>\n",
              "    </g>\n",
              "</svg>\n",
              "  </button>\n",
              "\n",
              "<style>\n",
              "  .colab-df-quickchart {\n",
              "      --bg-color: #E8F0FE;\n",
              "      --fill-color: #1967D2;\n",
              "      --hover-bg-color: #E2EBFA;\n",
              "      --hover-fill-color: #174EA6;\n",
              "      --disabled-fill-color: #AAA;\n",
              "      --disabled-bg-color: #DDD;\n",
              "  }\n",
              "\n",
              "  [theme=dark] .colab-df-quickchart {\n",
              "      --bg-color: #3B4455;\n",
              "      --fill-color: #D2E3FC;\n",
              "      --hover-bg-color: #434B5C;\n",
              "      --hover-fill-color: #FFFFFF;\n",
              "      --disabled-bg-color: #3B4455;\n",
              "      --disabled-fill-color: #666;\n",
              "  }\n",
              "\n",
              "  .colab-df-quickchart {\n",
              "    background-color: var(--bg-color);\n",
              "    border: none;\n",
              "    border-radius: 50%;\n",
              "    cursor: pointer;\n",
              "    display: none;\n",
              "    fill: var(--fill-color);\n",
              "    height: 32px;\n",
              "    padding: 0;\n",
              "    width: 32px;\n",
              "  }\n",
              "\n",
              "  .colab-df-quickchart:hover {\n",
              "    background-color: var(--hover-bg-color);\n",
              "    box-shadow: 0 1px 2px rgba(60, 64, 67, 0.3), 0 1px 3px 1px rgba(60, 64, 67, 0.15);\n",
              "    fill: var(--button-hover-fill-color);\n",
              "  }\n",
              "\n",
              "  .colab-df-quickchart-complete:disabled,\n",
              "  .colab-df-quickchart-complete:disabled:hover {\n",
              "    background-color: var(--disabled-bg-color);\n",
              "    fill: var(--disabled-fill-color);\n",
              "    box-shadow: none;\n",
              "  }\n",
              "\n",
              "  .colab-df-spinner {\n",
              "    border: 2px solid var(--fill-color);\n",
              "    border-color: transparent;\n",
              "    border-bottom-color: var(--fill-color);\n",
              "    animation:\n",
              "      spin 1s steps(1) infinite;\n",
              "  }\n",
              "\n",
              "  @keyframes spin {\n",
              "    0% {\n",
              "      border-color: transparent;\n",
              "      border-bottom-color: var(--fill-color);\n",
              "      border-left-color: var(--fill-color);\n",
              "    }\n",
              "    20% {\n",
              "      border-color: transparent;\n",
              "      border-left-color: var(--fill-color);\n",
              "      border-top-color: var(--fill-color);\n",
              "    }\n",
              "    30% {\n",
              "      border-color: transparent;\n",
              "      border-left-color: var(--fill-color);\n",
              "      border-top-color: var(--fill-color);\n",
              "      border-right-color: var(--fill-color);\n",
              "    }\n",
              "    40% {\n",
              "      border-color: transparent;\n",
              "      border-right-color: var(--fill-color);\n",
              "      border-top-color: var(--fill-color);\n",
              "    }\n",
              "    60% {\n",
              "      border-color: transparent;\n",
              "      border-right-color: var(--fill-color);\n",
              "    }\n",
              "    80% {\n",
              "      border-color: transparent;\n",
              "      border-right-color: var(--fill-color);\n",
              "      border-bottom-color: var(--fill-color);\n",
              "    }\n",
              "    90% {\n",
              "      border-color: transparent;\n",
              "      border-bottom-color: var(--fill-color);\n",
              "    }\n",
              "  }\n",
              "</style>\n",
              "\n",
              "  <script>\n",
              "    async function quickchart(key) {\n",
              "      const quickchartButtonEl =\n",
              "        document.querySelector('#' + key + ' button');\n",
              "      quickchartButtonEl.disabled = true;  // To prevent multiple clicks.\n",
              "      quickchartButtonEl.classList.add('colab-df-spinner');\n",
              "      try {\n",
              "        const charts = await google.colab.kernel.invokeFunction(\n",
              "            'suggestCharts', [key], {});\n",
              "      } catch (error) {\n",
              "        console.error('Error during call to suggestCharts:', error);\n",
              "      }\n",
              "      quickchartButtonEl.classList.remove('colab-df-spinner');\n",
              "      quickchartButtonEl.classList.add('colab-df-quickchart-complete');\n",
              "    }\n",
              "    (() => {\n",
              "      let quickchartButtonEl =\n",
              "        document.querySelector('#df-3d74350e-7c27-45cd-875e-80206813e226 button');\n",
              "      quickchartButtonEl.style.display =\n",
              "        google.colab.kernel.accessAllowed ? 'block' : 'none';\n",
              "    })();\n",
              "  </script>\n",
              "</div>\n",
              "    </div>\n",
              "  </div>\n"
            ]
          },
          "metadata": {},
          "execution_count": 6
        }
      ]
    },
    {
      "cell_type": "code",
      "source": [
        "prediction_df.columns"
      ],
      "metadata": {
        "colab": {
          "base_uri": "https://localhost:8080/",
          "height": 142
        },
        "id": "ILydWF97-1-6",
        "outputId": "b31707f2-dbd3-4fea-a895-e9a552bc72e5"
      },
      "execution_count": 7,
      "outputs": [
        {
          "output_type": "display_data",
          "data": {
            "text/plain": [
              "<IPython.core.display.HTML object>"
            ],
            "text/html": [
              "\n",
              "  <style>\n",
              "    pre {\n",
              "        white-space: pre-wrap;\n",
              "    }\n",
              "  </style>\n",
              "  "
            ]
          },
          "metadata": {}
        },
        {
          "output_type": "execute_result",
          "data": {
            "text/plain": [
              "Index(['author', 'title', 'label', 'description', 'nyt_author',\n",
              "       'school_friendship_and_love', 'award_winning_childrens',\n",
              "       'young_woman_protag', 'gender_and_sexuality', 'race_and_america',\n",
              "       'families_and_home', 'middle_and_high_school', 'classics',\n",
              "       'vampire_novel', 'boy_protagonist', 'fantasy', 'lgbtq_sexuality',\n",
              "       'girl_protagonist'],\n",
              "      dtype='object')"
            ]
          },
          "metadata": {},
          "execution_count": 7
        }
      ]
    },
    {
      "cell_type": "code",
      "source": [
        "prediction_df['label'].value_counts()"
      ],
      "metadata": {
        "colab": {
          "base_uri": "https://localhost:8080/",
          "height": 71
        },
        "id": "PEmwD4Id_XK6",
        "outputId": "f11f6fdc-0283-4fdc-f6a0-4634a4da0b3e"
      },
      "execution_count": 14,
      "outputs": [
        {
          "output_type": "display_data",
          "data": {
            "text/plain": [
              "<IPython.core.display.HTML object>"
            ],
            "text/html": [
              "\n",
              "  <style>\n",
              "    pre {\n",
              "        white-space: pre-wrap;\n",
              "    }\n",
              "  </style>\n",
              "  "
            ]
          },
          "metadata": {}
        },
        {
          "output_type": "execute_result",
          "data": {
            "text/plain": [
              "1    1043\n",
              "0     692\n",
              "Name: label, dtype: int64"
            ]
          },
          "metadata": {},
          "execution_count": 14
        }
      ]
    },
    {
      "cell_type": "code",
      "source": [
        "# baseline: if we predicted all banned, we'd get 60% accuracy\n",
        "\n",
        "1043/(1043+692)"
      ],
      "metadata": {
        "colab": {
          "base_uri": "https://localhost:8080/",
          "height": 35
        },
        "id": "rGwwlg99_ldw",
        "outputId": "6abcd813-35ca-4755-9a42-38095e905b8a"
      },
      "execution_count": 17,
      "outputs": [
        {
          "output_type": "display_data",
          "data": {
            "text/plain": [
              "<IPython.core.display.HTML object>"
            ],
            "text/html": [
              "\n",
              "  <style>\n",
              "    pre {\n",
              "        white-space: pre-wrap;\n",
              "    }\n",
              "  </style>\n",
              "  "
            ]
          },
          "metadata": {}
        },
        {
          "output_type": "execute_result",
          "data": {
            "text/plain": [
              "0.6011527377521614"
            ]
          },
          "metadata": {},
          "execution_count": 17
        }
      ]
    },
    {
      "cell_type": "code",
      "source": [
        "X = prediction_df.loc[:, 'nyt_author':]\n",
        "X"
      ],
      "metadata": {
        "colab": {
          "base_uri": "https://localhost:8080/",
          "height": 444
        },
        "id": "T7T1hIQ5-o2T",
        "outputId": "f830e80d-71d5-4d88-fc60-fee7f587828b"
      },
      "execution_count": 11,
      "outputs": [
        {
          "output_type": "display_data",
          "data": {
            "text/plain": [
              "<IPython.core.display.HTML object>"
            ],
            "text/html": [
              "\n",
              "  <style>\n",
              "    pre {\n",
              "        white-space: pre-wrap;\n",
              "    }\n",
              "  </style>\n",
              "  "
            ]
          },
          "metadata": {}
        },
        {
          "output_type": "execute_result",
          "data": {
            "text/plain": [
              "      nyt_author  school_friendship_and_love  award_winning_childrens  \\\n",
              "0        0.03352                     0.02454                  0.01418   \n",
              "1        0.01759                     0.00000                  0.27830   \n",
              "2        0.01759                     0.00000                  0.27830   \n",
              "3        0.01759                     0.00000                  0.27830   \n",
              "4        0.01759                     0.00000                  0.27830   \n",
              "...          ...                         ...                      ...   \n",
              "1730     0.01078                     0.07607                  0.00000   \n",
              "1731     0.00678                     0.10552                  0.01222   \n",
              "1732     0.03275                     0.00535                  0.02473   \n",
              "1733     0.00454                     0.00977                  0.00000   \n",
              "1734     0.00000                     0.00000                  0.00000   \n",
              "\n",
              "      young_woman_protag  gender_and_sexuality  race_and_america  \\\n",
              "0                0.00123               0.00000           0.00000   \n",
              "1                0.00000               0.00000           0.01119   \n",
              "2                0.00000               0.00000           0.01119   \n",
              "3                0.00000               0.00000           0.01119   \n",
              "4                0.00000               0.00000           0.01119   \n",
              "...                  ...                   ...               ...   \n",
              "1730             0.01401               0.01718           0.01964   \n",
              "1731             0.00000               0.00000           0.00244   \n",
              "1732             0.01480               0.00000           0.00000   \n",
              "1733             0.00000               0.01535           0.00000   \n",
              "1734             0.00000               0.00000           0.00000   \n",
              "\n",
              "      families_and_home  middle_and_high_school  classics  vampire_novel  \\\n",
              "0               0.08860                 0.00000   0.10248            0.0   \n",
              "1               0.00848                 0.00853   0.00000            0.0   \n",
              "2               0.00848                 0.00853   0.00000            0.0   \n",
              "3               0.00848                 0.00853   0.00000            0.0   \n",
              "4               0.00848                 0.00853   0.00000            0.0   \n",
              "...                 ...                     ...       ...            ...   \n",
              "1730            0.08449                 0.00000   0.00000            0.0   \n",
              "1731            0.00000                 0.00000   0.00000            0.0   \n",
              "1732            0.07097                 0.03407   0.02942            0.0   \n",
              "1733            0.00895                 0.00000   0.01380            0.0   \n",
              "1734            0.00000                 0.00000   0.29218            0.0   \n",
              "\n",
              "      boy_protagonist  fantasy  lgbtq_sexuality  girl_protagonist  \n",
              "0             0.02749  0.00000          0.00000           0.00032  \n",
              "1             0.00000  0.01092          0.00000           0.00000  \n",
              "2             0.00000  0.01092          0.00000           0.00000  \n",
              "3             0.00000  0.01092          0.00000           0.00000  \n",
              "4             0.00000  0.01092          0.00000           0.00000  \n",
              "...               ...      ...              ...               ...  \n",
              "1730          0.00000  0.00000          0.00000           0.00000  \n",
              "1731          0.00000  0.00000          0.00000           0.09311  \n",
              "1732          0.01365  0.00000          0.00000           0.03165  \n",
              "1733          0.00867  0.00000          0.02394           0.02217  \n",
              "1734          0.00000  0.00000          0.00000           0.00000  \n",
              "\n",
              "[1735 rows x 14 columns]"
            ],
            "text/html": [
              "\n",
              "  <div id=\"df-6cc07e47-3115-4bbf-a4dd-b61814d8a8dd\" class=\"colab-df-container\">\n",
              "    <div>\n",
              "<style scoped>\n",
              "    .dataframe tbody tr th:only-of-type {\n",
              "        vertical-align: middle;\n",
              "    }\n",
              "\n",
              "    .dataframe tbody tr th {\n",
              "        vertical-align: top;\n",
              "    }\n",
              "\n",
              "    .dataframe thead th {\n",
              "        text-align: right;\n",
              "    }\n",
              "</style>\n",
              "<table border=\"1\" class=\"dataframe\">\n",
              "  <thead>\n",
              "    <tr style=\"text-align: right;\">\n",
              "      <th></th>\n",
              "      <th>nyt_author</th>\n",
              "      <th>school_friendship_and_love</th>\n",
              "      <th>award_winning_childrens</th>\n",
              "      <th>young_woman_protag</th>\n",
              "      <th>gender_and_sexuality</th>\n",
              "      <th>race_and_america</th>\n",
              "      <th>families_and_home</th>\n",
              "      <th>middle_and_high_school</th>\n",
              "      <th>classics</th>\n",
              "      <th>vampire_novel</th>\n",
              "      <th>boy_protagonist</th>\n",
              "      <th>fantasy</th>\n",
              "      <th>lgbtq_sexuality</th>\n",
              "      <th>girl_protagonist</th>\n",
              "    </tr>\n",
              "  </thead>\n",
              "  <tbody>\n",
              "    <tr>\n",
              "      <th>0</th>\n",
              "      <td>0.03352</td>\n",
              "      <td>0.02454</td>\n",
              "      <td>0.01418</td>\n",
              "      <td>0.00123</td>\n",
              "      <td>0.00000</td>\n",
              "      <td>0.00000</td>\n",
              "      <td>0.08860</td>\n",
              "      <td>0.00000</td>\n",
              "      <td>0.10248</td>\n",
              "      <td>0.0</td>\n",
              "      <td>0.02749</td>\n",
              "      <td>0.00000</td>\n",
              "      <td>0.00000</td>\n",
              "      <td>0.00032</td>\n",
              "    </tr>\n",
              "    <tr>\n",
              "      <th>1</th>\n",
              "      <td>0.01759</td>\n",
              "      <td>0.00000</td>\n",
              "      <td>0.27830</td>\n",
              "      <td>0.00000</td>\n",
              "      <td>0.00000</td>\n",
              "      <td>0.01119</td>\n",
              "      <td>0.00848</td>\n",
              "      <td>0.00853</td>\n",
              "      <td>0.00000</td>\n",
              "      <td>0.0</td>\n",
              "      <td>0.00000</td>\n",
              "      <td>0.01092</td>\n",
              "      <td>0.00000</td>\n",
              "      <td>0.00000</td>\n",
              "    </tr>\n",
              "    <tr>\n",
              "      <th>2</th>\n",
              "      <td>0.01759</td>\n",
              "      <td>0.00000</td>\n",
              "      <td>0.27830</td>\n",
              "      <td>0.00000</td>\n",
              "      <td>0.00000</td>\n",
              "      <td>0.01119</td>\n",
              "      <td>0.00848</td>\n",
              "      <td>0.00853</td>\n",
              "      <td>0.00000</td>\n",
              "      <td>0.0</td>\n",
              "      <td>0.00000</td>\n",
              "      <td>0.01092</td>\n",
              "      <td>0.00000</td>\n",
              "      <td>0.00000</td>\n",
              "    </tr>\n",
              "    <tr>\n",
              "      <th>3</th>\n",
              "      <td>0.01759</td>\n",
              "      <td>0.00000</td>\n",
              "      <td>0.27830</td>\n",
              "      <td>0.00000</td>\n",
              "      <td>0.00000</td>\n",
              "      <td>0.01119</td>\n",
              "      <td>0.00848</td>\n",
              "      <td>0.00853</td>\n",
              "      <td>0.00000</td>\n",
              "      <td>0.0</td>\n",
              "      <td>0.00000</td>\n",
              "      <td>0.01092</td>\n",
              "      <td>0.00000</td>\n",
              "      <td>0.00000</td>\n",
              "    </tr>\n",
              "    <tr>\n",
              "      <th>4</th>\n",
              "      <td>0.01759</td>\n",
              "      <td>0.00000</td>\n",
              "      <td>0.27830</td>\n",
              "      <td>0.00000</td>\n",
              "      <td>0.00000</td>\n",
              "      <td>0.01119</td>\n",
              "      <td>0.00848</td>\n",
              "      <td>0.00853</td>\n",
              "      <td>0.00000</td>\n",
              "      <td>0.0</td>\n",
              "      <td>0.00000</td>\n",
              "      <td>0.01092</td>\n",
              "      <td>0.00000</td>\n",
              "      <td>0.00000</td>\n",
              "    </tr>\n",
              "    <tr>\n",
              "      <th>...</th>\n",
              "      <td>...</td>\n",
              "      <td>...</td>\n",
              "      <td>...</td>\n",
              "      <td>...</td>\n",
              "      <td>...</td>\n",
              "      <td>...</td>\n",
              "      <td>...</td>\n",
              "      <td>...</td>\n",
              "      <td>...</td>\n",
              "      <td>...</td>\n",
              "      <td>...</td>\n",
              "      <td>...</td>\n",
              "      <td>...</td>\n",
              "      <td>...</td>\n",
              "    </tr>\n",
              "    <tr>\n",
              "      <th>1730</th>\n",
              "      <td>0.01078</td>\n",
              "      <td>0.07607</td>\n",
              "      <td>0.00000</td>\n",
              "      <td>0.01401</td>\n",
              "      <td>0.01718</td>\n",
              "      <td>0.01964</td>\n",
              "      <td>0.08449</td>\n",
              "      <td>0.00000</td>\n",
              "      <td>0.00000</td>\n",
              "      <td>0.0</td>\n",
              "      <td>0.00000</td>\n",
              "      <td>0.00000</td>\n",
              "      <td>0.00000</td>\n",
              "      <td>0.00000</td>\n",
              "    </tr>\n",
              "    <tr>\n",
              "      <th>1731</th>\n",
              "      <td>0.00678</td>\n",
              "      <td>0.10552</td>\n",
              "      <td>0.01222</td>\n",
              "      <td>0.00000</td>\n",
              "      <td>0.00000</td>\n",
              "      <td>0.00244</td>\n",
              "      <td>0.00000</td>\n",
              "      <td>0.00000</td>\n",
              "      <td>0.00000</td>\n",
              "      <td>0.0</td>\n",
              "      <td>0.00000</td>\n",
              "      <td>0.00000</td>\n",
              "      <td>0.00000</td>\n",
              "      <td>0.09311</td>\n",
              "    </tr>\n",
              "    <tr>\n",
              "      <th>1732</th>\n",
              "      <td>0.03275</td>\n",
              "      <td>0.00535</td>\n",
              "      <td>0.02473</td>\n",
              "      <td>0.01480</td>\n",
              "      <td>0.00000</td>\n",
              "      <td>0.00000</td>\n",
              "      <td>0.07097</td>\n",
              "      <td>0.03407</td>\n",
              "      <td>0.02942</td>\n",
              "      <td>0.0</td>\n",
              "      <td>0.01365</td>\n",
              "      <td>0.00000</td>\n",
              "      <td>0.00000</td>\n",
              "      <td>0.03165</td>\n",
              "    </tr>\n",
              "    <tr>\n",
              "      <th>1733</th>\n",
              "      <td>0.00454</td>\n",
              "      <td>0.00977</td>\n",
              "      <td>0.00000</td>\n",
              "      <td>0.00000</td>\n",
              "      <td>0.01535</td>\n",
              "      <td>0.00000</td>\n",
              "      <td>0.00895</td>\n",
              "      <td>0.00000</td>\n",
              "      <td>0.01380</td>\n",
              "      <td>0.0</td>\n",
              "      <td>0.00867</td>\n",
              "      <td>0.00000</td>\n",
              "      <td>0.02394</td>\n",
              "      <td>0.02217</td>\n",
              "    </tr>\n",
              "    <tr>\n",
              "      <th>1734</th>\n",
              "      <td>0.00000</td>\n",
              "      <td>0.00000</td>\n",
              "      <td>0.00000</td>\n",
              "      <td>0.00000</td>\n",
              "      <td>0.00000</td>\n",
              "      <td>0.00000</td>\n",
              "      <td>0.00000</td>\n",
              "      <td>0.00000</td>\n",
              "      <td>0.29218</td>\n",
              "      <td>0.0</td>\n",
              "      <td>0.00000</td>\n",
              "      <td>0.00000</td>\n",
              "      <td>0.00000</td>\n",
              "      <td>0.00000</td>\n",
              "    </tr>\n",
              "  </tbody>\n",
              "</table>\n",
              "<p>1735 rows × 14 columns</p>\n",
              "</div>\n",
              "    <div class=\"colab-df-buttons\">\n",
              "\n",
              "  <div class=\"colab-df-container\">\n",
              "    <button class=\"colab-df-convert\" onclick=\"convertToInteractive('df-6cc07e47-3115-4bbf-a4dd-b61814d8a8dd')\"\n",
              "            title=\"Convert this dataframe to an interactive table.\"\n",
              "            style=\"display:none;\">\n",
              "\n",
              "  <svg xmlns=\"http://www.w3.org/2000/svg\" height=\"24px\" viewBox=\"0 -960 960 960\">\n",
              "    <path d=\"M120-120v-720h720v720H120Zm60-500h600v-160H180v160Zm220 220h160v-160H400v160Zm0 220h160v-160H400v160ZM180-400h160v-160H180v160Zm440 0h160v-160H620v160ZM180-180h160v-160H180v160Zm440 0h160v-160H620v160Z\"/>\n",
              "  </svg>\n",
              "    </button>\n",
              "\n",
              "  <style>\n",
              "    .colab-df-container {\n",
              "      display:flex;\n",
              "      gap: 12px;\n",
              "    }\n",
              "\n",
              "    .colab-df-convert {\n",
              "      background-color: #E8F0FE;\n",
              "      border: none;\n",
              "      border-radius: 50%;\n",
              "      cursor: pointer;\n",
              "      display: none;\n",
              "      fill: #1967D2;\n",
              "      height: 32px;\n",
              "      padding: 0 0 0 0;\n",
              "      width: 32px;\n",
              "    }\n",
              "\n",
              "    .colab-df-convert:hover {\n",
              "      background-color: #E2EBFA;\n",
              "      box-shadow: 0px 1px 2px rgba(60, 64, 67, 0.3), 0px 1px 3px 1px rgba(60, 64, 67, 0.15);\n",
              "      fill: #174EA6;\n",
              "    }\n",
              "\n",
              "    .colab-df-buttons div {\n",
              "      margin-bottom: 4px;\n",
              "    }\n",
              "\n",
              "    [theme=dark] .colab-df-convert {\n",
              "      background-color: #3B4455;\n",
              "      fill: #D2E3FC;\n",
              "    }\n",
              "\n",
              "    [theme=dark] .colab-df-convert:hover {\n",
              "      background-color: #434B5C;\n",
              "      box-shadow: 0px 1px 3px 1px rgba(0, 0, 0, 0.15);\n",
              "      filter: drop-shadow(0px 1px 2px rgba(0, 0, 0, 0.3));\n",
              "      fill: #FFFFFF;\n",
              "    }\n",
              "  </style>\n",
              "\n",
              "    <script>\n",
              "      const buttonEl =\n",
              "        document.querySelector('#df-6cc07e47-3115-4bbf-a4dd-b61814d8a8dd button.colab-df-convert');\n",
              "      buttonEl.style.display =\n",
              "        google.colab.kernel.accessAllowed ? 'block' : 'none';\n",
              "\n",
              "      async function convertToInteractive(key) {\n",
              "        const element = document.querySelector('#df-6cc07e47-3115-4bbf-a4dd-b61814d8a8dd');\n",
              "        const dataTable =\n",
              "          await google.colab.kernel.invokeFunction('convertToInteractive',\n",
              "                                                    [key], {});\n",
              "        if (!dataTable) return;\n",
              "\n",
              "        const docLinkHtml = 'Like what you see? Visit the ' +\n",
              "          '<a target=\"_blank\" href=https://colab.research.google.com/notebooks/data_table.ipynb>data table notebook</a>'\n",
              "          + ' to learn more about interactive tables.';\n",
              "        element.innerHTML = '';\n",
              "        dataTable['output_type'] = 'display_data';\n",
              "        await google.colab.output.renderOutput(dataTable, element);\n",
              "        const docLink = document.createElement('div');\n",
              "        docLink.innerHTML = docLinkHtml;\n",
              "        element.appendChild(docLink);\n",
              "      }\n",
              "    </script>\n",
              "  </div>\n",
              "\n",
              "\n",
              "<div id=\"df-80a53bb1-0e48-418a-949f-f7787bb04a40\">\n",
              "  <button class=\"colab-df-quickchart\" onclick=\"quickchart('df-80a53bb1-0e48-418a-949f-f7787bb04a40')\"\n",
              "            title=\"Suggest charts\"\n",
              "            style=\"display:none;\">\n",
              "\n",
              "<svg xmlns=\"http://www.w3.org/2000/svg\" height=\"24px\"viewBox=\"0 0 24 24\"\n",
              "     width=\"24px\">\n",
              "    <g>\n",
              "        <path d=\"M19 3H5c-1.1 0-2 .9-2 2v14c0 1.1.9 2 2 2h14c1.1 0 2-.9 2-2V5c0-1.1-.9-2-2-2zM9 17H7v-7h2v7zm4 0h-2V7h2v10zm4 0h-2v-4h2v4z\"/>\n",
              "    </g>\n",
              "</svg>\n",
              "  </button>\n",
              "\n",
              "<style>\n",
              "  .colab-df-quickchart {\n",
              "      --bg-color: #E8F0FE;\n",
              "      --fill-color: #1967D2;\n",
              "      --hover-bg-color: #E2EBFA;\n",
              "      --hover-fill-color: #174EA6;\n",
              "      --disabled-fill-color: #AAA;\n",
              "      --disabled-bg-color: #DDD;\n",
              "  }\n",
              "\n",
              "  [theme=dark] .colab-df-quickchart {\n",
              "      --bg-color: #3B4455;\n",
              "      --fill-color: #D2E3FC;\n",
              "      --hover-bg-color: #434B5C;\n",
              "      --hover-fill-color: #FFFFFF;\n",
              "      --disabled-bg-color: #3B4455;\n",
              "      --disabled-fill-color: #666;\n",
              "  }\n",
              "\n",
              "  .colab-df-quickchart {\n",
              "    background-color: var(--bg-color);\n",
              "    border: none;\n",
              "    border-radius: 50%;\n",
              "    cursor: pointer;\n",
              "    display: none;\n",
              "    fill: var(--fill-color);\n",
              "    height: 32px;\n",
              "    padding: 0;\n",
              "    width: 32px;\n",
              "  }\n",
              "\n",
              "  .colab-df-quickchart:hover {\n",
              "    background-color: var(--hover-bg-color);\n",
              "    box-shadow: 0 1px 2px rgba(60, 64, 67, 0.3), 0 1px 3px 1px rgba(60, 64, 67, 0.15);\n",
              "    fill: var(--button-hover-fill-color);\n",
              "  }\n",
              "\n",
              "  .colab-df-quickchart-complete:disabled,\n",
              "  .colab-df-quickchart-complete:disabled:hover {\n",
              "    background-color: var(--disabled-bg-color);\n",
              "    fill: var(--disabled-fill-color);\n",
              "    box-shadow: none;\n",
              "  }\n",
              "\n",
              "  .colab-df-spinner {\n",
              "    border: 2px solid var(--fill-color);\n",
              "    border-color: transparent;\n",
              "    border-bottom-color: var(--fill-color);\n",
              "    animation:\n",
              "      spin 1s steps(1) infinite;\n",
              "  }\n",
              "\n",
              "  @keyframes spin {\n",
              "    0% {\n",
              "      border-color: transparent;\n",
              "      border-bottom-color: var(--fill-color);\n",
              "      border-left-color: var(--fill-color);\n",
              "    }\n",
              "    20% {\n",
              "      border-color: transparent;\n",
              "      border-left-color: var(--fill-color);\n",
              "      border-top-color: var(--fill-color);\n",
              "    }\n",
              "    30% {\n",
              "      border-color: transparent;\n",
              "      border-left-color: var(--fill-color);\n",
              "      border-top-color: var(--fill-color);\n",
              "      border-right-color: var(--fill-color);\n",
              "    }\n",
              "    40% {\n",
              "      border-color: transparent;\n",
              "      border-right-color: var(--fill-color);\n",
              "      border-top-color: var(--fill-color);\n",
              "    }\n",
              "    60% {\n",
              "      border-color: transparent;\n",
              "      border-right-color: var(--fill-color);\n",
              "    }\n",
              "    80% {\n",
              "      border-color: transparent;\n",
              "      border-right-color: var(--fill-color);\n",
              "      border-bottom-color: var(--fill-color);\n",
              "    }\n",
              "    90% {\n",
              "      border-color: transparent;\n",
              "      border-bottom-color: var(--fill-color);\n",
              "    }\n",
              "  }\n",
              "</style>\n",
              "\n",
              "  <script>\n",
              "    async function quickchart(key) {\n",
              "      const quickchartButtonEl =\n",
              "        document.querySelector('#' + key + ' button');\n",
              "      quickchartButtonEl.disabled = true;  // To prevent multiple clicks.\n",
              "      quickchartButtonEl.classList.add('colab-df-spinner');\n",
              "      try {\n",
              "        const charts = await google.colab.kernel.invokeFunction(\n",
              "            'suggestCharts', [key], {});\n",
              "      } catch (error) {\n",
              "        console.error('Error during call to suggestCharts:', error);\n",
              "      }\n",
              "      quickchartButtonEl.classList.remove('colab-df-spinner');\n",
              "      quickchartButtonEl.classList.add('colab-df-quickchart-complete');\n",
              "    }\n",
              "    (() => {\n",
              "      let quickchartButtonEl =\n",
              "        document.querySelector('#df-80a53bb1-0e48-418a-949f-f7787bb04a40 button');\n",
              "      quickchartButtonEl.style.display =\n",
              "        google.colab.kernel.accessAllowed ? 'block' : 'none';\n",
              "    })();\n",
              "  </script>\n",
              "</div>\n",
              "    </div>\n",
              "  </div>\n"
            ]
          },
          "metadata": {},
          "execution_count": 11
        }
      ]
    },
    {
      "cell_type": "code",
      "source": [
        "y = prediction_df['label']\n",
        "y"
      ],
      "metadata": {
        "colab": {
          "base_uri": "https://localhost:8080/",
          "height": 231
        },
        "id": "gU_siwx_--aj",
        "outputId": "c984f3fd-3fec-4092-e677-58987a9c965f"
      },
      "execution_count": 9,
      "outputs": [
        {
          "output_type": "display_data",
          "data": {
            "text/plain": [
              "<IPython.core.display.HTML object>"
            ],
            "text/html": [
              "\n",
              "  <style>\n",
              "    pre {\n",
              "        white-space: pre-wrap;\n",
              "    }\n",
              "  </style>\n",
              "  "
            ]
          },
          "metadata": {}
        },
        {
          "output_type": "execute_result",
          "data": {
            "text/plain": [
              "0       1\n",
              "1       1\n",
              "2       1\n",
              "3       1\n",
              "4       1\n",
              "       ..\n",
              "1730    1\n",
              "1731    1\n",
              "1732    1\n",
              "1733    1\n",
              "1734    0\n",
              "Name: label, Length: 1735, dtype: int64"
            ]
          },
          "metadata": {},
          "execution_count": 9
        }
      ]
    },
    {
      "cell_type": "code",
      "source": [
        "# train test split\n",
        "\n",
        "from sklearn.model_selection import train_test_split\n",
        "X_train, X_test, y_train, y_test = train_test_split(X, y, test_size = .2)"
      ],
      "metadata": {
        "colab": {
          "base_uri": "https://localhost:8080/",
          "height": 17
        },
        "id": "hgrjEM2U_F1S",
        "outputId": "d7b5b4c5-53cc-475e-f3f7-496d3d63dc2d"
      },
      "execution_count": 12,
      "outputs": [
        {
          "output_type": "display_data",
          "data": {
            "text/plain": [
              "<IPython.core.display.HTML object>"
            ],
            "text/html": [
              "\n",
              "  <style>\n",
              "    pre {\n",
              "        white-space: pre-wrap;\n",
              "    }\n",
              "  </style>\n",
              "  "
            ]
          },
          "metadata": {}
        }
      ]
    },
    {
      "cell_type": "code",
      "source": [
        "from sklearn.dummy import DummyClassifier\n",
        "dummy = DummyClassifier(strategy=\"most_frequent\")\n",
        "dummy.fit(X_train, y_train)\n",
        "print(f\"Accuracy Score on Training Set for Dummy Classifier: {dummy.score(X_train, y_train):.3f}\")\n",
        "print(f\"Accuracy Score on Test Set for Dummy Classifier: {dummy.score(X_test, y_test):.3f}\")\n",
        "\n",
        "# the dummy classifier indeed gives 60%ish accuracy"
      ],
      "metadata": {
        "colab": {
          "base_uri": "https://localhost:8080/",
          "height": 53
        },
        "id": "HQVnniiiB3tC",
        "outputId": "0f259ff6-b56c-4403-ad40-7a8ebecf72fc"
      },
      "execution_count": 32,
      "outputs": [
        {
          "output_type": "display_data",
          "data": {
            "text/plain": [
              "<IPython.core.display.HTML object>"
            ],
            "text/html": [
              "\n",
              "  <style>\n",
              "    pre {\n",
              "        white-space: pre-wrap;\n",
              "    }\n",
              "  </style>\n",
              "  "
            ]
          },
          "metadata": {}
        },
        {
          "output_type": "stream",
          "name": "stdout",
          "text": [
            "Accuracy Score on Training Set for Dummy Classifier: 0.595\n",
            "Accuracy Score on Test Set for Dummy Classifier: 0.625\n"
          ]
        }
      ]
    },
    {
      "cell_type": "markdown",
      "source": [
        "## Logistic Regression"
      ],
      "metadata": {
        "id": "oHxz_zvE-Wfa"
      }
    },
    {
      "cell_type": "code",
      "source": [
        "from sklearn.linear_model import LogisticRegression\n",
        "from sklearn.model_selection import KFold, cross_val_score\n",
        "from sklearn.model_selection import RandomizedSearchCV\n",
        "from sklearn.metrics import confusion_matrix, ConfusionMatrixDisplay"
      ],
      "metadata": {
        "colab": {
          "base_uri": "https://localhost:8080/",
          "height": 17
        },
        "id": "YeTyHU-6-VJs",
        "outputId": "5def8ad2-8da4-4546-fc18-9991e5ada61a"
      },
      "execution_count": 5,
      "outputs": [
        {
          "output_type": "display_data",
          "data": {
            "text/plain": [
              "<IPython.core.display.HTML object>"
            ],
            "text/html": [
              "\n",
              "  <style>\n",
              "    pre {\n",
              "        white-space: pre-wrap;\n",
              "    }\n",
              "  </style>\n",
              "  "
            ]
          },
          "metadata": {}
        }
      ]
    },
    {
      "cell_type": "code",
      "source": [
        "# we'll use class_weight = \"balanced\"\n",
        "# since our data is not completely balanced\n",
        "\n",
        "logreg = LogisticRegression(class_weight='balanced')\n",
        "logreg.fit(X_train, y_train)\n",
        "print(f\"Accuracy Score on Training Set for Logistic Regression: {logreg.score(X_train, y_train):.3f}\")\n",
        "print(f\"Accuracy Score on Test Set for Logistic Regression: {logreg.score(X_test, y_test):.3f}\")\n",
        "\n",
        "# well at 76%-80%, this is already a lot better!"
      ],
      "metadata": {
        "colab": {
          "base_uri": "https://localhost:8080/",
          "height": 53
        },
        "id": "dSE3xst8_s7A",
        "outputId": "b95c3622-2fab-49f4-b386-db71a0ea841e"
      },
      "execution_count": 34,
      "outputs": [
        {
          "output_type": "display_data",
          "data": {
            "text/plain": [
              "<IPython.core.display.HTML object>"
            ],
            "text/html": [
              "\n",
              "  <style>\n",
              "    pre {\n",
              "        white-space: pre-wrap;\n",
              "    }\n",
              "  </style>\n",
              "  "
            ]
          },
          "metadata": {}
        },
        {
          "output_type": "stream",
          "name": "stdout",
          "text": [
            "Accuracy Score on Training Set for Logistic Regression: 0.804\n",
            "Accuracy Score on Test Set for Logistic Regression: 0.769\n"
          ]
        }
      ]
    },
    {
      "cell_type": "code",
      "source": [
        "# params for logreg: penalty = l2, C: 1, solver=lbfgs"
      ],
      "metadata": {
        "id": "qhu5eQOFKZ49"
      },
      "execution_count": null,
      "outputs": []
    },
    {
      "cell_type": "code",
      "source": [
        "# let's try finding best params with cv\n",
        "\n",
        "kf = KFold(n_splits=5, shuffle=True, random_state=111)\n",
        "\n",
        "params = {'C': [0.001, 0.01, 0.1, 1, 10, 100],\n",
        "          'solver': ['liblinear', 'newton-cg', 'lbfgs'],\n",
        "          \"class_weight\": ['balanced']}\n",
        "\n",
        "logreg_cv = RandomizedSearchCV(logreg, params, cv=kf)\n",
        "logreg_cv.fit(X_train, y_train)\n",
        "\n",
        "print(f\"Tuned Logistic Regression Parameters: {logreg_cv.best_params_}\")\n",
        "print(f\"Tuned Logistic Regression Best Accuracy Score: {logreg_cv.best_score_}\")\n",
        "print(f\"Tuned Logistic Regression Test Set Accuracy Score: {logreg_cv.score(X_test, y_test):.3f}\")\n",
        "\n",
        "# it's not a dramatic improvement\n",
        "# let's keep our earlier parameters but change C=0.1"
      ],
      "metadata": {
        "colab": {
          "base_uri": "https://localhost:8080/",
          "height": 71
        },
        "id": "BfiOavbAJY4n",
        "outputId": "0d140bc4-1ffb-4b80-b295-5061757ef5f3"
      },
      "execution_count": 49,
      "outputs": [
        {
          "output_type": "display_data",
          "data": {
            "text/plain": [
              "<IPython.core.display.HTML object>"
            ],
            "text/html": [
              "\n",
              "  <style>\n",
              "    pre {\n",
              "        white-space: pre-wrap;\n",
              "    }\n",
              "  </style>\n",
              "  "
            ]
          },
          "metadata": {}
        },
        {
          "output_type": "stream",
          "name": "stdout",
          "text": [
            "Tuned Logistic Regression Parameters: {'solver': 'liblinear', 'class_weight': 'balanced', 'C': 0.1}\n",
            "Tuned Logistic Regression Best Accuracy Score: 0.8033322078799054\n",
            "Tuned Logistic Regression Test Set Accuracy Score: 0.772\n"
          ]
        }
      ]
    },
    {
      "cell_type": "code",
      "source": [
        "# we'll keep our earlier parameters but change C=0.1\n",
        "# this is our final logreg model\n",
        "\n",
        "logreg = LogisticRegression(C=0.1, class_weight='balanced')\n",
        "logreg.fit(X_train, y_train)\n",
        "print(f\"Accuracy Score on Training Set for Logistic Regression: {logreg.score(X_train, y_train):.3f}\")\n",
        "print(f\"Accuracy Score on Test Set for Logistic Regression: {logreg.score(X_test, y_test):.3f}\")"
      ],
      "metadata": {
        "colab": {
          "base_uri": "https://localhost:8080/",
          "height": 53
        },
        "id": "ffUMzXhLLXf2",
        "outputId": "afa501b2-e1f5-4f61-f433-de9a375c6745"
      },
      "execution_count": 54,
      "outputs": [
        {
          "output_type": "display_data",
          "data": {
            "text/plain": [
              "<IPython.core.display.HTML object>"
            ],
            "text/html": [
              "\n",
              "  <style>\n",
              "    pre {\n",
              "        white-space: pre-wrap;\n",
              "    }\n",
              "  </style>\n",
              "  "
            ]
          },
          "metadata": {}
        },
        {
          "output_type": "stream",
          "name": "stdout",
          "text": [
            "Accuracy Score on Training Set for Logistic Regression: 0.805\n",
            "Accuracy Score on Test Set for Logistic Regression: 0.772\n"
          ]
        }
      ]
    },
    {
      "cell_type": "markdown",
      "source": [
        "## K Nearest Neighbors"
      ],
      "metadata": {
        "id": "2Vmk8FU8Oefx"
      }
    },
    {
      "cell_type": "code",
      "source": [
        "# no way to balance classes here\n",
        "\n",
        "from sklearn.neighbors import KNeighborsClassifier\n",
        "knn = KNeighborsClassifier()\n",
        "params = {\"n_neighbors\": np.arange(1, 50, 2),\n",
        "        \"weights\": ['uniform', 'distance'],\n",
        "         'p': [1, 2]}\n",
        "knn_cv = RandomizedSearchCV(knn, params, cv=5)\n",
        "knn_cv.fit(X_train, y_train)"
      ],
      "metadata": {
        "colab": {
          "base_uri": "https://localhost:8080/",
          "height": 118
        },
        "id": "gKohw0aoNH7W",
        "outputId": "51cd082b-e4fd-42e5-852f-cf1d020d9d6d"
      },
      "execution_count": 112,
      "outputs": [
        {
          "output_type": "display_data",
          "data": {
            "text/plain": [
              "<IPython.core.display.HTML object>"
            ],
            "text/html": [
              "\n",
              "  <style>\n",
              "    pre {\n",
              "        white-space: pre-wrap;\n",
              "    }\n",
              "  </style>\n",
              "  "
            ]
          },
          "metadata": {}
        },
        {
          "output_type": "execute_result",
          "data": {
            "text/plain": [
              "RandomizedSearchCV(cv=5, estimator=KNeighborsClassifier(),\n",
              "                   param_distributions={'n_neighbors': array([ 1,  3,  5,  7,  9, 11, 13, 15, 17, 19, 21, 23, 25, 27, 29, 31, 33,\n",
              "       35, 37, 39, 41, 43, 45, 47, 49]),\n",
              "                                        'p': [1, 2],\n",
              "                                        'weights': ['uniform', 'distance']})"
            ],
            "text/html": [
              "<style>#sk-container-id-1 {color: black;background-color: white;}#sk-container-id-1 pre{padding: 0;}#sk-container-id-1 div.sk-toggleable {background-color: white;}#sk-container-id-1 label.sk-toggleable__label {cursor: pointer;display: block;width: 100%;margin-bottom: 0;padding: 0.3em;box-sizing: border-box;text-align: center;}#sk-container-id-1 label.sk-toggleable__label-arrow:before {content: \"▸\";float: left;margin-right: 0.25em;color: #696969;}#sk-container-id-1 label.sk-toggleable__label-arrow:hover:before {color: black;}#sk-container-id-1 div.sk-estimator:hover label.sk-toggleable__label-arrow:before {color: black;}#sk-container-id-1 div.sk-toggleable__content {max-height: 0;max-width: 0;overflow: hidden;text-align: left;background-color: #f0f8ff;}#sk-container-id-1 div.sk-toggleable__content pre {margin: 0.2em;color: black;border-radius: 0.25em;background-color: #f0f8ff;}#sk-container-id-1 input.sk-toggleable__control:checked~div.sk-toggleable__content {max-height: 200px;max-width: 100%;overflow: auto;}#sk-container-id-1 input.sk-toggleable__control:checked~label.sk-toggleable__label-arrow:before {content: \"▾\";}#sk-container-id-1 div.sk-estimator input.sk-toggleable__control:checked~label.sk-toggleable__label {background-color: #d4ebff;}#sk-container-id-1 div.sk-label input.sk-toggleable__control:checked~label.sk-toggleable__label {background-color: #d4ebff;}#sk-container-id-1 input.sk-hidden--visually {border: 0;clip: rect(1px 1px 1px 1px);clip: rect(1px, 1px, 1px, 1px);height: 1px;margin: -1px;overflow: hidden;padding: 0;position: absolute;width: 1px;}#sk-container-id-1 div.sk-estimator {font-family: monospace;background-color: #f0f8ff;border: 1px dotted black;border-radius: 0.25em;box-sizing: border-box;margin-bottom: 0.5em;}#sk-container-id-1 div.sk-estimator:hover {background-color: #d4ebff;}#sk-container-id-1 div.sk-parallel-item::after {content: \"\";width: 100%;border-bottom: 1px solid gray;flex-grow: 1;}#sk-container-id-1 div.sk-label:hover label.sk-toggleable__label {background-color: #d4ebff;}#sk-container-id-1 div.sk-serial::before {content: \"\";position: absolute;border-left: 1px solid gray;box-sizing: border-box;top: 0;bottom: 0;left: 50%;z-index: 0;}#sk-container-id-1 div.sk-serial {display: flex;flex-direction: column;align-items: center;background-color: white;padding-right: 0.2em;padding-left: 0.2em;position: relative;}#sk-container-id-1 div.sk-item {position: relative;z-index: 1;}#sk-container-id-1 div.sk-parallel {display: flex;align-items: stretch;justify-content: center;background-color: white;position: relative;}#sk-container-id-1 div.sk-item::before, #sk-container-id-1 div.sk-parallel-item::before {content: \"\";position: absolute;border-left: 1px solid gray;box-sizing: border-box;top: 0;bottom: 0;left: 50%;z-index: -1;}#sk-container-id-1 div.sk-parallel-item {display: flex;flex-direction: column;z-index: 1;position: relative;background-color: white;}#sk-container-id-1 div.sk-parallel-item:first-child::after {align-self: flex-end;width: 50%;}#sk-container-id-1 div.sk-parallel-item:last-child::after {align-self: flex-start;width: 50%;}#sk-container-id-1 div.sk-parallel-item:only-child::after {width: 0;}#sk-container-id-1 div.sk-dashed-wrapped {border: 1px dashed gray;margin: 0 0.4em 0.5em 0.4em;box-sizing: border-box;padding-bottom: 0.4em;background-color: white;}#sk-container-id-1 div.sk-label label {font-family: monospace;font-weight: bold;display: inline-block;line-height: 1.2em;}#sk-container-id-1 div.sk-label-container {text-align: center;}#sk-container-id-1 div.sk-container {/* jupyter's `normalize.less` sets `[hidden] { display: none; }` but bootstrap.min.css set `[hidden] { display: none !important; }` so we also need the `!important` here to be able to override the default hidden behavior on the sphinx rendered scikit-learn.org. See: https://github.com/scikit-learn/scikit-learn/issues/21755 */display: inline-block !important;position: relative;}#sk-container-id-1 div.sk-text-repr-fallback {display: none;}</style><div id=\"sk-container-id-1\" class=\"sk-top-container\"><div class=\"sk-text-repr-fallback\"><pre>RandomizedSearchCV(cv=5, estimator=KNeighborsClassifier(),\n",
              "                   param_distributions={&#x27;n_neighbors&#x27;: array([ 1,  3,  5,  7,  9, 11, 13, 15, 17, 19, 21, 23, 25, 27, 29, 31, 33,\n",
              "       35, 37, 39, 41, 43, 45, 47, 49]),\n",
              "                                        &#x27;p&#x27;: [1, 2],\n",
              "                                        &#x27;weights&#x27;: [&#x27;uniform&#x27;, &#x27;distance&#x27;]})</pre><b>In a Jupyter environment, please rerun this cell to show the HTML representation or trust the notebook. <br />On GitHub, the HTML representation is unable to render, please try loading this page with nbviewer.org.</b></div><div class=\"sk-container\" hidden><div class=\"sk-item sk-dashed-wrapped\"><div class=\"sk-label-container\"><div class=\"sk-label sk-toggleable\"><input class=\"sk-toggleable__control sk-hidden--visually\" id=\"sk-estimator-id-1\" type=\"checkbox\" ><label for=\"sk-estimator-id-1\" class=\"sk-toggleable__label sk-toggleable__label-arrow\">RandomizedSearchCV</label><div class=\"sk-toggleable__content\"><pre>RandomizedSearchCV(cv=5, estimator=KNeighborsClassifier(),\n",
              "                   param_distributions={&#x27;n_neighbors&#x27;: array([ 1,  3,  5,  7,  9, 11, 13, 15, 17, 19, 21, 23, 25, 27, 29, 31, 33,\n",
              "       35, 37, 39, 41, 43, 45, 47, 49]),\n",
              "                                        &#x27;p&#x27;: [1, 2],\n",
              "                                        &#x27;weights&#x27;: [&#x27;uniform&#x27;, &#x27;distance&#x27;]})</pre></div></div></div><div class=\"sk-parallel\"><div class=\"sk-parallel-item\"><div class=\"sk-item\"><div class=\"sk-label-container\"><div class=\"sk-label sk-toggleable\"><input class=\"sk-toggleable__control sk-hidden--visually\" id=\"sk-estimator-id-2\" type=\"checkbox\" ><label for=\"sk-estimator-id-2\" class=\"sk-toggleable__label sk-toggleable__label-arrow\">estimator: KNeighborsClassifier</label><div class=\"sk-toggleable__content\"><pre>KNeighborsClassifier()</pre></div></div></div><div class=\"sk-serial\"><div class=\"sk-item\"><div class=\"sk-estimator sk-toggleable\"><input class=\"sk-toggleable__control sk-hidden--visually\" id=\"sk-estimator-id-3\" type=\"checkbox\" ><label for=\"sk-estimator-id-3\" class=\"sk-toggleable__label sk-toggleable__label-arrow\">KNeighborsClassifier</label><div class=\"sk-toggleable__content\"><pre>KNeighborsClassifier()</pre></div></div></div></div></div></div></div></div></div></div>"
            ]
          },
          "metadata": {},
          "execution_count": 112
        }
      ]
    },
    {
      "cell_type": "code",
      "source": [
        "print(f\"Tuned KNN Classifier Best Parameters: {knn_cv.best_params_}\")\n",
        "print(f\"Tuned KNN Classifier Best Accuracy Score: {knn_cv.best_score_:.3f}\")\n",
        "print(f\"Tuned KNN Classifier Best Accuracy on Test Set: {knn_cv.score(X_test, y_test):.3f}\")\n",
        "\n",
        "# accuracy scores are very close to LogReg"
      ],
      "metadata": {
        "colab": {
          "base_uri": "https://localhost:8080/",
          "height": 71
        },
        "id": "8EHWZaNeUEPF",
        "outputId": "1322cb6a-b7af-414b-e3df-0d87689443e5"
      },
      "execution_count": 120,
      "outputs": [
        {
          "output_type": "display_data",
          "data": {
            "text/plain": [
              "<IPython.core.display.HTML object>"
            ],
            "text/html": [
              "\n",
              "  <style>\n",
              "    pre {\n",
              "        white-space: pre-wrap;\n",
              "    }\n",
              "  </style>\n",
              "  "
            ]
          },
          "metadata": {}
        },
        {
          "output_type": "stream",
          "name": "stdout",
          "text": [
            "Tuned KNN Classifier Best Parameters: {'weights': 'distance', 'p': 1, 'n_neighbors': 35}\n",
            "Tuned KNN Classifier Best Accuracy Score: 0.790\n",
            "Tuned KNN Classifier Best Accuracy on Test Set: 0.772\n"
          ]
        }
      ]
    },
    {
      "cell_type": "code",
      "source": [
        "# saving our best model\n",
        "\n",
        "knn = knn_cv.best_estimator_"
      ],
      "metadata": {
        "colab": {
          "base_uri": "https://localhost:8080/",
          "height": 17
        },
        "id": "WiEqeLYJWDHC",
        "outputId": "80b175d2-794f-46c8-8d6f-9c2a056faf93"
      },
      "execution_count": 124,
      "outputs": [
        {
          "output_type": "display_data",
          "data": {
            "text/plain": [
              "<IPython.core.display.HTML object>"
            ],
            "text/html": [
              "\n",
              "  <style>\n",
              "    pre {\n",
              "        white-space: pre-wrap;\n",
              "    }\n",
              "  </style>\n",
              "  "
            ]
          },
          "metadata": {}
        }
      ]
    },
    {
      "cell_type": "code",
      "source": [
        "# we want to see if the feature coefficients are similar\n",
        "# but KNN doesn't have features in the same way\n",
        "\n",
        "from sklearn.inspection import permutation_importance\n",
        "perm_importance = permutation_importance(knn, X_test, y_test, n_repeats=30, random_state=42)\n",
        "perm_importance.importances_mean"
      ],
      "metadata": {
        "colab": {
          "base_uri": "https://localhost:8080/",
          "height": 71
        },
        "id": "cT_J1NQbV9Qv",
        "outputId": "81969887-e3f4-44fe-d780-bc4c13f9a3aa"
      },
      "execution_count": 130,
      "outputs": [
        {
          "output_type": "display_data",
          "data": {
            "text/plain": [
              "<IPython.core.display.HTML object>"
            ],
            "text/html": [
              "\n",
              "  <style>\n",
              "    pre {\n",
              "        white-space: pre-wrap;\n",
              "    }\n",
              "  </style>\n",
              "  "
            ]
          },
          "metadata": {}
        },
        {
          "output_type": "execute_result",
          "data": {
            "text/plain": [
              "array([0.00999039, 0.0326609 , 0.03717579, 0.01517771, 0.01373679,\n",
              "       0.02555235, 0.02007685, 0.03006724, 0.02497598, 0.01498559,\n",
              "       0.02776177, 0.00787704, 0.04178674, 0.03563881])"
            ]
          },
          "metadata": {},
          "execution_count": 130
        }
      ]
    },
    {
      "cell_type": "code",
      "source": [
        "knn_coefs = [x for x in perm_importance.importances_mean]\n",
        "knn_coefs"
      ],
      "metadata": {
        "colab": {
          "base_uri": "https://localhost:8080/",
          "height": 267
        },
        "id": "qEJH47oBW77V",
        "outputId": "30708330-a059-4c91-a511-d960082230b0"
      },
      "execution_count": 131,
      "outputs": [
        {
          "output_type": "display_data",
          "data": {
            "text/plain": [
              "<IPython.core.display.HTML object>"
            ],
            "text/html": [
              "\n",
              "  <style>\n",
              "    pre {\n",
              "        white-space: pre-wrap;\n",
              "    }\n",
              "  </style>\n",
              "  "
            ]
          },
          "metadata": {}
        },
        {
          "output_type": "execute_result",
          "data": {
            "text/plain": [
              "[0.009990393852065326,\n",
              " 0.032660902977905866,\n",
              " 0.03717579250720462,\n",
              " 0.015177713736791538,\n",
              " 0.013736791546589818,\n",
              " 0.025552353506243988,\n",
              " 0.02007684918347743,\n",
              " 0.030067243035542746,\n",
              " 0.024975984630163303,\n",
              " 0.014985590778097984,\n",
              " 0.02776176753121999,\n",
              " 0.007877041306436128,\n",
              " 0.04178674351585014,\n",
              " 0.035638808837656084]"
            ]
          },
          "metadata": {},
          "execution_count": 131
        }
      ]
    },
    {
      "cell_type": "code",
      "source": [
        "knn_feature_names = [x for x in knn.feature_names_in_]\n",
        "# knn_coefs = [x for x in perm_importance.importances_mean]\n",
        "\n",
        "knn_feats = {}\n",
        "\n",
        "for i in range(len(knn_feature_names)):\n",
        "  knn_feats[knn_feature_names[i]] = knn_coefs[i]\n",
        "\n",
        "knn_feats"
      ],
      "metadata": {
        "colab": {
          "base_uri": "https://localhost:8080/",
          "height": 267
        },
        "id": "59tqyMGEUXHF",
        "outputId": "45f6bf4b-f075-4e70-c77c-d91527c42a4f"
      },
      "execution_count": 132,
      "outputs": [
        {
          "output_type": "display_data",
          "data": {
            "text/plain": [
              "<IPython.core.display.HTML object>"
            ],
            "text/html": [
              "\n",
              "  <style>\n",
              "    pre {\n",
              "        white-space: pre-wrap;\n",
              "    }\n",
              "  </style>\n",
              "  "
            ]
          },
          "metadata": {}
        },
        {
          "output_type": "execute_result",
          "data": {
            "text/plain": [
              "{'nyt_author': 0.009990393852065326,\n",
              " 'school_friendship_and_love': 0.032660902977905866,\n",
              " 'award_winning_childrens': 0.03717579250720462,\n",
              " 'young_woman_protag': 0.015177713736791538,\n",
              " 'gender_and_sexuality': 0.013736791546589818,\n",
              " 'race_and_america': 0.025552353506243988,\n",
              " 'families_and_home': 0.02007684918347743,\n",
              " 'middle_and_high_school': 0.030067243035542746,\n",
              " 'classics': 0.024975984630163303,\n",
              " 'vampire_novel': 0.014985590778097984,\n",
              " 'boy_protagonist': 0.02776176753121999,\n",
              " 'fantasy': 0.007877041306436128,\n",
              " 'lgbtq_sexuality': 0.04178674351585014,\n",
              " 'girl_protagonist': 0.035638808837656084}"
            ]
          },
          "metadata": {},
          "execution_count": 132
        }
      ]
    },
    {
      "cell_type": "code",
      "source": [
        "names = list(knn_feats.keys())\n",
        "values = list(knn_feats.values())\n",
        "\n",
        "plt.barh(range(len(knn_feats)), values, tick_label=names)\n",
        "plt.title('Best Predictors for Banned Books (KNN)')\n",
        "plt.ylabel('Book Description Topics')\n",
        "# plt.savefig('Banned_KNN_Coefficients.png', bbox_inches='tight')\n",
        "plt.show()"
      ],
      "metadata": {
        "colab": {
          "base_uri": "https://localhost:8080/",
          "height": 452
        },
        "id": "g6_JOoivU2Is",
        "outputId": "3ec9607f-3552-4b21-c31b-9060c5628233"
      },
      "execution_count": 134,
      "outputs": [
        {
          "output_type": "display_data",
          "data": {
            "text/plain": [
              "<IPython.core.display.HTML object>"
            ],
            "text/html": [
              "\n",
              "  <style>\n",
              "    pre {\n",
              "        white-space: pre-wrap;\n",
              "    }\n",
              "  </style>\n",
              "  "
            ]
          },
          "metadata": {}
        },
        {
          "output_type": "display_data",
          "data": {
            "text/plain": [
              "<Figure size 640x480 with 1 Axes>"
            ],
            "image/png": "[encoded data removed]"
          },
          "metadata": {}
        }
      ]
    },
    {
      "cell_type": "code",
      "source": [
        "# interesting, these predictors are a bit different\n",
        "# lgbtq sexuality, award winning children's, girl protagonist seem the highest"
      ],
      "metadata": {
        "id": "DbD09FjCXglF"
      },
      "execution_count": null,
      "outputs": []
    },
    {
      "cell_type": "markdown",
      "source": [
        "## Decision Tree and Random Forest"
      ],
      "metadata": {
        "id": "QavK8QBOX80j"
      }
    },
    {
      "cell_type": "code",
      "source": [
        "from sklearn.tree import DecisionTreeClassifier\n",
        "dtc = DecisionTreeClassifier()\n",
        "params = {\"criterion\": ['gini', 'entropy', 'log_loss'],\n",
        "        \"splitter\": ['best', 'random'],\n",
        "         'max_depth': [5, 10, 25, 50, None]}\n",
        "dtc_cv = RandomizedSearchCV(dtc, params, cv=5)\n",
        "dtc_cv.fit(X_train, y_train)"
      ],
      "metadata": {
        "colab": {
          "base_uri": "https://localhost:8080/",
          "height": 118
        },
        "id": "nRgDBtzPX-Hg",
        "outputId": "3d6ca776-6168-4c51-ec36-08220dc3fe5a"
      },
      "execution_count": 136,
      "outputs": [
        {
          "output_type": "display_data",
          "data": {
            "text/plain": [
              "<IPython.core.display.HTML object>"
            ],
            "text/html": [
              "\n",
              "  <style>\n",
              "    pre {\n",
              "        white-space: pre-wrap;\n",
              "    }\n",
              "  </style>\n",
              "  "
            ]
          },
          "metadata": {}
        },
        {
          "output_type": "execute_result",
          "data": {
            "text/plain": [
              "RandomizedSearchCV(cv=5, estimator=DecisionTreeClassifier(),\n",
              "                   param_distributions={'criterion': ['gini', 'entropy',\n",
              "                                                      'log_loss'],\n",
              "                                        'max_depth': [5, 10, 25, 50, None],\n",
              "                                        'splitter': ['best', 'random']})"
            ],
            "text/html": [
              "<style>#sk-container-id-2 {color: black;background-color: white;}#sk-container-id-2 pre{padding: 0;}#sk-container-id-2 div.sk-toggleable {background-color: white;}#sk-container-id-2 label.sk-toggleable__label {cursor: pointer;display: block;width: 100%;margin-bottom: 0;padding: 0.3em;box-sizing: border-box;text-align: center;}#sk-container-id-2 label.sk-toggleable__label-arrow:before {content: \"▸\";float: left;margin-right: 0.25em;color: #696969;}#sk-container-id-2 label.sk-toggleable__label-arrow:hover:before {color: black;}#sk-container-id-2 div.sk-estimator:hover label.sk-toggleable__label-arrow:before {color: black;}#sk-container-id-2 div.sk-toggleable__content {max-height: 0;max-width: 0;overflow: hidden;text-align: left;background-color: #f0f8ff;}#sk-container-id-2 div.sk-toggleable__content pre {margin: 0.2em;color: black;border-radius: 0.25em;background-color: #f0f8ff;}#sk-container-id-2 input.sk-toggleable__control:checked~div.sk-toggleable__content {max-height: 200px;max-width: 100%;overflow: auto;}#sk-container-id-2 input.sk-toggleable__control:checked~label.sk-toggleable__label-arrow:before {content: \"▾\";}#sk-container-id-2 div.sk-estimator input.sk-toggleable__control:checked~label.sk-toggleable__label {background-color: #d4ebff;}#sk-container-id-2 div.sk-label input.sk-toggleable__control:checked~label.sk-toggleable__label {background-color: #d4ebff;}#sk-container-id-2 input.sk-hidden--visually {border: 0;clip: rect(1px 1px 1px 1px);clip: rect(1px, 1px, 1px, 1px);height: 1px;margin: -1px;overflow: hidden;padding: 0;position: absolute;width: 1px;}#sk-container-id-2 div.sk-estimator {font-family: monospace;background-color: #f0f8ff;border: 1px dotted black;border-radius: 0.25em;box-sizing: border-box;margin-bottom: 0.5em;}#sk-container-id-2 div.sk-estimator:hover {background-color: #d4ebff;}#sk-container-id-2 div.sk-parallel-item::after {content: \"\";width: 100%;border-bottom: 1px solid gray;flex-grow: 1;}#sk-container-id-2 div.sk-label:hover label.sk-toggleable__label {background-color: #d4ebff;}#sk-container-id-2 div.sk-serial::before {content: \"\";position: absolute;border-left: 1px solid gray;box-sizing: border-box;top: 0;bottom: 0;left: 50%;z-index: 0;}#sk-container-id-2 div.sk-serial {display: flex;flex-direction: column;align-items: center;background-color: white;padding-right: 0.2em;padding-left: 0.2em;position: relative;}#sk-container-id-2 div.sk-item {position: relative;z-index: 1;}#sk-container-id-2 div.sk-parallel {display: flex;align-items: stretch;justify-content: center;background-color: white;position: relative;}#sk-container-id-2 div.sk-item::before, #sk-container-id-2 div.sk-parallel-item::before {content: \"\";position: absolute;border-left: 1px solid gray;box-sizing: border-box;top: 0;bottom: 0;left: 50%;z-index: -1;}#sk-container-id-2 div.sk-parallel-item {display: flex;flex-direction: column;z-index: 1;position: relative;background-color: white;}#sk-container-id-2 div.sk-parallel-item:first-child::after {align-self: flex-end;width: 50%;}#sk-container-id-2 div.sk-parallel-item:last-child::after {align-self: flex-start;width: 50%;}#sk-container-id-2 div.sk-parallel-item:only-child::after {width: 0;}#sk-container-id-2 div.sk-dashed-wrapped {border: 1px dashed gray;margin: 0 0.4em 0.5em 0.4em;box-sizing: border-box;padding-bottom: 0.4em;background-color: white;}#sk-container-id-2 div.sk-label label {font-family: monospace;font-weight: bold;display: inline-block;line-height: 1.2em;}#sk-container-id-2 div.sk-label-container {text-align: center;}#sk-container-id-2 div.sk-container {/* jupyter's `normalize.less` sets `[hidden] { display: none; }` but bootstrap.min.css set `[hidden] { display: none !important; }` so we also need the `!important` here to be able to override the default hidden behavior on the sphinx rendered scikit-learn.org. See: https://github.com/scikit-learn/scikit-learn/issues/21755 */display: inline-block !important;position: relative;}#sk-container-id-2 div.sk-text-repr-fallback {display: none;}</style><div id=\"sk-container-id-2\" class=\"sk-top-container\"><div class=\"sk-text-repr-fallback\"><pre>RandomizedSearchCV(cv=5, estimator=DecisionTreeClassifier(),\n",
              "                   param_distributions={&#x27;criterion&#x27;: [&#x27;gini&#x27;, &#x27;entropy&#x27;,\n",
              "                                                      &#x27;log_loss&#x27;],\n",
              "                                        &#x27;max_depth&#x27;: [5, 10, 25, 50, None],\n",
              "                                        &#x27;splitter&#x27;: [&#x27;best&#x27;, &#x27;random&#x27;]})</pre><b>In a Jupyter environment, please rerun this cell to show the HTML representation or trust the notebook. <br />On GitHub, the HTML representation is unable to render, please try loading this page with nbviewer.org.</b></div><div class=\"sk-container\" hidden><div class=\"sk-item sk-dashed-wrapped\"><div class=\"sk-label-container\"><div class=\"sk-label sk-toggleable\"><input class=\"sk-toggleable__control sk-hidden--visually\" id=\"sk-estimator-id-4\" type=\"checkbox\" ><label for=\"sk-estimator-id-4\" class=\"sk-toggleable__label sk-toggleable__label-arrow\">RandomizedSearchCV</label><div class=\"sk-toggleable__content\"><pre>RandomizedSearchCV(cv=5, estimator=DecisionTreeClassifier(),\n",
              "                   param_distributions={&#x27;criterion&#x27;: [&#x27;gini&#x27;, &#x27;entropy&#x27;,\n",
              "                                                      &#x27;log_loss&#x27;],\n",
              "                                        &#x27;max_depth&#x27;: [5, 10, 25, 50, None],\n",
              "                                        &#x27;splitter&#x27;: [&#x27;best&#x27;, &#x27;random&#x27;]})</pre></div></div></div><div class=\"sk-parallel\"><div class=\"sk-parallel-item\"><div class=\"sk-item\"><div class=\"sk-label-container\"><div class=\"sk-label sk-toggleable\"><input class=\"sk-toggleable__control sk-hidden--visually\" id=\"sk-estimator-id-5\" type=\"checkbox\" ><label for=\"sk-estimator-id-5\" class=\"sk-toggleable__label sk-toggleable__label-arrow\">estimator: DecisionTreeClassifier</label><div class=\"sk-toggleable__content\"><pre>DecisionTreeClassifier()</pre></div></div></div><div class=\"sk-serial\"><div class=\"sk-item\"><div class=\"sk-estimator sk-toggleable\"><input class=\"sk-toggleable__control sk-hidden--visually\" id=\"sk-estimator-id-6\" type=\"checkbox\" ><label for=\"sk-estimator-id-6\" class=\"sk-toggleable__label sk-toggleable__label-arrow\">DecisionTreeClassifier</label><div class=\"sk-toggleable__content\"><pre>DecisionTreeClassifier()</pre></div></div></div></div></div></div></div></div></div></div>"
            ]
          },
          "metadata": {},
          "execution_count": 136
        }
      ]
    },
    {
      "cell_type": "code",
      "source": [
        "print(f\"Tuned Decision Tree Classifier Best Parameters: {dtc_cv.best_params_}\")\n",
        "print(f\"Tuned Decision Tree Classifier Best Accuracy Score: {dtc_cv.best_score_:.3f}\")\n",
        "print(f\"Tuned Decision Tree Classifier Best Accuracy on Test Set: {dtc_cv.score(X_test, y_test):.3f}\")\n",
        "\n",
        "# not as good as before!"
      ],
      "metadata": {
        "colab": {
          "base_uri": "https://localhost:8080/",
          "height": 71
        },
        "id": "KhSLcUVEYZd2",
        "outputId": "5ed92308-83e5-4b66-d00b-d056b5ff035e"
      },
      "execution_count": 138,
      "outputs": [
        {
          "output_type": "display_data",
          "data": {
            "text/plain": [
              "<IPython.core.display.HTML object>"
            ],
            "text/html": [
              "\n",
              "  <style>\n",
              "    pre {\n",
              "        white-space: pre-wrap;\n",
              "    }\n",
              "  </style>\n",
              "  "
            ]
          },
          "metadata": {}
        },
        {
          "output_type": "stream",
          "name": "stdout",
          "text": [
            "Tuned Decision Tree Classifier Best Parameters: {'splitter': 'random', 'max_depth': 10, 'criterion': 'gini'}\n",
            "Tuned Decision Tree Classifier Best Accuracy Score: 0.727\n",
            "Tuned Decision Tree Classifier Best Accuracy on Test Set: 0.712\n"
          ]
        }
      ]
    },
    {
      "cell_type": "code",
      "source": [
        "# can we get something much better with RF?\n",
        "\n",
        "from sklearn.ensemble import RandomForestClassifier\n",
        "RF = RandomForestClassifier(class_weight='balanced')\n",
        "RF.fit(X_train, y_train)"
      ],
      "metadata": {
        "colab": {
          "base_uri": "https://localhost:8080/",
          "height": 75
        },
        "id": "0hIO-ivHYsGe",
        "outputId": "23d4adf9-94f6-471f-fd53-fb8c6a0147d7"
      },
      "execution_count": 139,
      "outputs": [
        {
          "output_type": "display_data",
          "data": {
            "text/plain": [
              "<IPython.core.display.HTML object>"
            ],
            "text/html": [
              "\n",
              "  <style>\n",
              "    pre {\n",
              "        white-space: pre-wrap;\n",
              "    }\n",
              "  </style>\n",
              "  "
            ]
          },
          "metadata": {}
        },
        {
          "output_type": "execute_result",
          "data": {
            "text/plain": [
              "RandomForestClassifier()"
            ],
            "text/html": [
              "<style>#sk-container-id-3 {color: black;background-color: white;}#sk-container-id-3 pre{padding: 0;}#sk-container-id-3 div.sk-toggleable {background-color: white;}#sk-container-id-3 label.sk-toggleable__label {cursor: pointer;display: block;width: 100%;margin-bottom: 0;padding: 0.3em;box-sizing: border-box;text-align: center;}#sk-container-id-3 label.sk-toggleable__label-arrow:before {content: \"▸\";float: left;margin-right: 0.25em;color: #696969;}#sk-container-id-3 label.sk-toggleable__label-arrow:hover:before {color: black;}#sk-container-id-3 div.sk-estimator:hover label.sk-toggleable__label-arrow:before {color: black;}#sk-container-id-3 div.sk-toggleable__content {max-height: 0;max-width: 0;overflow: hidden;text-align: left;background-color: #f0f8ff;}#sk-container-id-3 div.sk-toggleable__content pre {margin: 0.2em;color: black;border-radius: 0.25em;background-color: #f0f8ff;}#sk-container-id-3 input.sk-toggleable__control:checked~div.sk-toggleable__content {max-height: 200px;max-width: 100%;overflow: auto;}#sk-container-id-3 input.sk-toggleable__control:checked~label.sk-toggleable__label-arrow:before {content: \"▾\";}#sk-container-id-3 div.sk-estimator input.sk-toggleable__control:checked~label.sk-toggleable__label {background-color: #d4ebff;}#sk-container-id-3 div.sk-label input.sk-toggleable__control:checked~label.sk-toggleable__label {background-color: #d4ebff;}#sk-container-id-3 input.sk-hidden--visually {border: 0;clip: rect(1px 1px 1px 1px);clip: rect(1px, 1px, 1px, 1px);height: 1px;margin: -1px;overflow: hidden;padding: 0;position: absolute;width: 1px;}#sk-container-id-3 div.sk-estimator {font-family: monospace;background-color: #f0f8ff;border: 1px dotted black;border-radius: 0.25em;box-sizing: border-box;margin-bottom: 0.5em;}#sk-container-id-3 div.sk-estimator:hover {background-color: #d4ebff;}#sk-container-id-3 div.sk-parallel-item::after {content: \"\";width: 100%;border-bottom: 1px solid gray;flex-grow: 1;}#sk-container-id-3 div.sk-label:hover label.sk-toggleable__label {background-color: #d4ebff;}#sk-container-id-3 div.sk-serial::before {content: \"\";position: absolute;border-left: 1px solid gray;box-sizing: border-box;top: 0;bottom: 0;left: 50%;z-index: 0;}#sk-container-id-3 div.sk-serial {display: flex;flex-direction: column;align-items: center;background-color: white;padding-right: 0.2em;padding-left: 0.2em;position: relative;}#sk-container-id-3 div.sk-item {position: relative;z-index: 1;}#sk-container-id-3 div.sk-parallel {display: flex;align-items: stretch;justify-content: center;background-color: white;position: relative;}#sk-container-id-3 div.sk-item::before, #sk-container-id-3 div.sk-parallel-item::before {content: \"\";position: absolute;border-left: 1px solid gray;box-sizing: border-box;top: 0;bottom: 0;left: 50%;z-index: -1;}#sk-container-id-3 div.sk-parallel-item {display: flex;flex-direction: column;z-index: 1;position: relative;background-color: white;}#sk-container-id-3 div.sk-parallel-item:first-child::after {align-self: flex-end;width: 50%;}#sk-container-id-3 div.sk-parallel-item:last-child::after {align-self: flex-start;width: 50%;}#sk-container-id-3 div.sk-parallel-item:only-child::after {width: 0;}#sk-container-id-3 div.sk-dashed-wrapped {border: 1px dashed gray;margin: 0 0.4em 0.5em 0.4em;box-sizing: border-box;padding-bottom: 0.4em;background-color: white;}#sk-container-id-3 div.sk-label label {font-family: monospace;font-weight: bold;display: inline-block;line-height: 1.2em;}#sk-container-id-3 div.sk-label-container {text-align: center;}#sk-container-id-3 div.sk-container {/* jupyter's `normalize.less` sets `[hidden] { display: none; }` but bootstrap.min.css set `[hidden] { display: none !important; }` so we also need the `!important` here to be able to override the default hidden behavior on the sphinx rendered scikit-learn.org. See: https://github.com/scikit-learn/scikit-learn/issues/21755 */display: inline-block !important;position: relative;}#sk-container-id-3 div.sk-text-repr-fallback {display: none;}</style><div id=\"sk-container-id-3\" class=\"sk-top-container\"><div class=\"sk-text-repr-fallback\"><pre>RandomForestClassifier()</pre><b>In a Jupyter environment, please rerun this cell to show the HTML representation or trust the notebook. <br />On GitHub, the HTML representation is unable to render, please try loading this page with nbviewer.org.</b></div><div class=\"sk-container\" hidden><div class=\"sk-item\"><div class=\"sk-estimator sk-toggleable\"><input class=\"sk-toggleable__control sk-hidden--visually\" id=\"sk-estimator-id-7\" type=\"checkbox\" checked><label for=\"sk-estimator-id-7\" class=\"sk-toggleable__label sk-toggleable__label-arrow\">RandomForestClassifier</label><div class=\"sk-toggleable__content\"><pre>RandomForestClassifier()</pre></div></div></div></div></div>"
            ]
          },
          "metadata": {},
          "execution_count": 139
        }
      ]
    },
    {
      "cell_type": "code",
      "source": [
        "print(f\"Tuned Random Forest Classifier Best Accuracy Score: {RF.score(X_train, y_train):.3f}\")\n",
        "print(f\"Tuned Random Forest Classifier Best Accuracy on Test Set: {RF.score(X_test, y_test):.3f}\")\n",
        "\n",
        "# overfits on training set!"
      ],
      "metadata": {
        "colab": {
          "base_uri": "https://localhost:8080/",
          "height": 53
        },
        "id": "IbBi5s8nY9H0",
        "outputId": "0153770d-e510-4dc9-dad9-d81d2dd4d38e"
      },
      "execution_count": 140,
      "outputs": [
        {
          "output_type": "display_data",
          "data": {
            "text/plain": [
              "<IPython.core.display.HTML object>"
            ],
            "text/html": [
              "\n",
              "  <style>\n",
              "    pre {\n",
              "        white-space: pre-wrap;\n",
              "    }\n",
              "  </style>\n",
              "  "
            ]
          },
          "metadata": {}
        },
        {
          "output_type": "stream",
          "name": "stdout",
          "text": [
            "Tuned Random Forest Classifier Best Accuracy Score: 1.000\n",
            "Tuned Random Forest Classifier Best Accuracy on Test Set: 0.769\n"
          ]
        }
      ]
    },
    {
      "cell_type": "code",
      "source": [
        "# RF with Randomized Search CV\n",
        "\n",
        "params = {\"criterion\": ['gini', 'entropy', 'log_loss'],\n",
        "        'max_depth': [5, 10, 25, 50, None],\n",
        "          'max_features': ['sqrt', 'log2', None],\n",
        "          'class_weight': ['balanced']}\n",
        "RF_cv = RandomizedSearchCV(RF, params, cv=5)\n",
        "RF_cv.fit(X_train, y_train)"
      ],
      "metadata": {
        "colab": {
          "base_uri": "https://localhost:8080/",
          "height": 118
        },
        "id": "zW8rXfblZa_L",
        "outputId": "f89fef99-b298-4d04-cbee-87ceb3664120"
      },
      "execution_count": 144,
      "outputs": [
        {
          "output_type": "display_data",
          "data": {
            "text/plain": [
              "<IPython.core.display.HTML object>"
            ],
            "text/html": [
              "\n",
              "  <style>\n",
              "    pre {\n",
              "        white-space: pre-wrap;\n",
              "    }\n",
              "  </style>\n",
              "  "
            ]
          },
          "metadata": {}
        },
        {
          "output_type": "execute_result",
          "data": {
            "text/plain": [
              "RandomizedSearchCV(cv=5, estimator=RandomForestClassifier(),\n",
              "                   param_distributions={'class_weight': ['balanced'],\n",
              "                                        'criterion': ['gini', 'entropy',\n",
              "                                                      'log_loss'],\n",
              "                                        'max_depth': [5, 10, 25, 50, None],\n",
              "                                        'max_features': ['sqrt', 'log2', None]})"
            ],
            "text/html": [
              "<style>#sk-container-id-4 {color: black;background-color: white;}#sk-container-id-4 pre{padding: 0;}#sk-container-id-4 div.sk-toggleable {background-color: white;}#sk-container-id-4 label.sk-toggleable__label {cursor: pointer;display: block;width: 100%;margin-bottom: 0;padding: 0.3em;box-sizing: border-box;text-align: center;}#sk-container-id-4 label.sk-toggleable__label-arrow:before {content: \"▸\";float: left;margin-right: 0.25em;color: #696969;}#sk-container-id-4 label.sk-toggleable__label-arrow:hover:before {color: black;}#sk-container-id-4 div.sk-estimator:hover label.sk-toggleable__label-arrow:before {color: black;}#sk-container-id-4 div.sk-toggleable__content {max-height: 0;max-width: 0;overflow: hidden;text-align: left;background-color: #f0f8ff;}#sk-container-id-4 div.sk-toggleable__content pre {margin: 0.2em;color: black;border-radius: 0.25em;background-color: #f0f8ff;}#sk-container-id-4 input.sk-toggleable__control:checked~div.sk-toggleable__content {max-height: 200px;max-width: 100%;overflow: auto;}#sk-container-id-4 input.sk-toggleable__control:checked~label.sk-toggleable__label-arrow:before {content: \"▾\";}#sk-container-id-4 div.sk-estimator input.sk-toggleable__control:checked~label.sk-toggleable__label {background-color: #d4ebff;}#sk-container-id-4 div.sk-label input.sk-toggleable__control:checked~label.sk-toggleable__label {background-color: #d4ebff;}#sk-container-id-4 input.sk-hidden--visually {border: 0;clip: rect(1px 1px 1px 1px);clip: rect(1px, 1px, 1px, 1px);height: 1px;margin: -1px;overflow: hidden;padding: 0;position: absolute;width: 1px;}#sk-container-id-4 div.sk-estimator {font-family: monospace;background-color: #f0f8ff;border: 1px dotted black;border-radius: 0.25em;box-sizing: border-box;margin-bottom: 0.5em;}#sk-container-id-4 div.sk-estimator:hover {background-color: #d4ebff;}#sk-container-id-4 div.sk-parallel-item::after {content: \"\";width: 100%;border-bottom: 1px solid gray;flex-grow: 1;}#sk-container-id-4 div.sk-label:hover label.sk-toggleable__label {background-color: #d4ebff;}#sk-container-id-4 div.sk-serial::before {content: \"\";position: absolute;border-left: 1px solid gray;box-sizing: border-box;top: 0;bottom: 0;left: 50%;z-index: 0;}#sk-container-id-4 div.sk-serial {display: flex;flex-direction: column;align-items: center;background-color: white;padding-right: 0.2em;padding-left: 0.2em;position: relative;}#sk-container-id-4 div.sk-item {position: relative;z-index: 1;}#sk-container-id-4 div.sk-parallel {display: flex;align-items: stretch;justify-content: center;background-color: white;position: relative;}#sk-container-id-4 div.sk-item::before, #sk-container-id-4 div.sk-parallel-item::before {content: \"\";position: absolute;border-left: 1px solid gray;box-sizing: border-box;top: 0;bottom: 0;left: 50%;z-index: -1;}#sk-container-id-4 div.sk-parallel-item {display: flex;flex-direction: column;z-index: 1;position: relative;background-color: white;}#sk-container-id-4 div.sk-parallel-item:first-child::after {align-self: flex-end;width: 50%;}#sk-container-id-4 div.sk-parallel-item:last-child::after {align-self: flex-start;width: 50%;}#sk-container-id-4 div.sk-parallel-item:only-child::after {width: 0;}#sk-container-id-4 div.sk-dashed-wrapped {border: 1px dashed gray;margin: 0 0.4em 0.5em 0.4em;box-sizing: border-box;padding-bottom: 0.4em;background-color: white;}#sk-container-id-4 div.sk-label label {font-family: monospace;font-weight: bold;display: inline-block;line-height: 1.2em;}#sk-container-id-4 div.sk-label-container {text-align: center;}#sk-container-id-4 div.sk-container {/* jupyter's `normalize.less` sets `[hidden] { display: none; }` but bootstrap.min.css set `[hidden] { display: none !important; }` so we also need the `!important` here to be able to override the default hidden behavior on the sphinx rendered scikit-learn.org. See: https://github.com/scikit-learn/scikit-learn/issues/21755 */display: inline-block !important;position: relative;}#sk-container-id-4 div.sk-text-repr-fallback {display: none;}</style><div id=\"sk-container-id-4\" class=\"sk-top-container\"><div class=\"sk-text-repr-fallback\"><pre>RandomizedSearchCV(cv=5, estimator=RandomForestClassifier(),\n",
              "                   param_distributions={&#x27;class_weight&#x27;: [&#x27;balanced&#x27;],\n",
              "                                        &#x27;criterion&#x27;: [&#x27;gini&#x27;, &#x27;entropy&#x27;,\n",
              "                                                      &#x27;log_loss&#x27;],\n",
              "                                        &#x27;max_depth&#x27;: [5, 10, 25, 50, None],\n",
              "                                        &#x27;max_features&#x27;: [&#x27;sqrt&#x27;, &#x27;log2&#x27;, None]})</pre><b>In a Jupyter environment, please rerun this cell to show the HTML representation or trust the notebook. <br />On GitHub, the HTML representation is unable to render, please try loading this page with nbviewer.org.</b></div><div class=\"sk-container\" hidden><div class=\"sk-item sk-dashed-wrapped\"><div class=\"sk-label-container\"><div class=\"sk-label sk-toggleable\"><input class=\"sk-toggleable__control sk-hidden--visually\" id=\"sk-estimator-id-8\" type=\"checkbox\" ><label for=\"sk-estimator-id-8\" class=\"sk-toggleable__label sk-toggleable__label-arrow\">RandomizedSearchCV</label><div class=\"sk-toggleable__content\"><pre>RandomizedSearchCV(cv=5, estimator=RandomForestClassifier(),\n",
              "                   param_distributions={&#x27;class_weight&#x27;: [&#x27;balanced&#x27;],\n",
              "                                        &#x27;criterion&#x27;: [&#x27;gini&#x27;, &#x27;entropy&#x27;,\n",
              "                                                      &#x27;log_loss&#x27;],\n",
              "                                        &#x27;max_depth&#x27;: [5, 10, 25, 50, None],\n",
              "                                        &#x27;max_features&#x27;: [&#x27;sqrt&#x27;, &#x27;log2&#x27;, None]})</pre></div></div></div><div class=\"sk-parallel\"><div class=\"sk-parallel-item\"><div class=\"sk-item\"><div class=\"sk-label-container\"><div class=\"sk-label sk-toggleable\"><input class=\"sk-toggleable__control sk-hidden--visually\" id=\"sk-estimator-id-9\" type=\"checkbox\" ><label for=\"sk-estimator-id-9\" class=\"sk-toggleable__label sk-toggleable__label-arrow\">estimator: RandomForestClassifier</label><div class=\"sk-toggleable__content\"><pre>RandomForestClassifier()</pre></div></div></div><div class=\"sk-serial\"><div class=\"sk-item\"><div class=\"sk-estimator sk-toggleable\"><input class=\"sk-toggleable__control sk-hidden--visually\" id=\"sk-estimator-id-10\" type=\"checkbox\" ><label for=\"sk-estimator-id-10\" class=\"sk-toggleable__label sk-toggleable__label-arrow\">RandomForestClassifier</label><div class=\"sk-toggleable__content\"><pre>RandomForestClassifier()</pre></div></div></div></div></div></div></div></div></div></div>"
            ]
          },
          "metadata": {},
          "execution_count": 144
        }
      ]
    },
    {
      "cell_type": "code",
      "source": [
        "print(f\"Tuned Decision Tree Classifier Best Parameters: {RF_cv.best_params_}\")\n",
        "print(f\"Tuned Random Forest Classifier Best Accuracy Score: {RF_cv.best_score_:.3f}\")\n",
        "print(f\"Tuned Random Forest Classifier Best Accuracy on Test Set: {RF_cv.score(X_test, y_test):.3f}\")"
      ],
      "metadata": {
        "colab": {
          "base_uri": "https://localhost:8080/",
          "height": 88
        },
        "id": "xKoc_EW0Zruc",
        "outputId": "5c49556c-76d5-4599-b3aa-6adf80a5aeb5"
      },
      "execution_count": 145,
      "outputs": [
        {
          "output_type": "display_data",
          "data": {
            "text/plain": [
              "<IPython.core.display.HTML object>"
            ],
            "text/html": [
              "\n",
              "  <style>\n",
              "    pre {\n",
              "        white-space: pre-wrap;\n",
              "    }\n",
              "  </style>\n",
              "  "
            ]
          },
          "metadata": {}
        },
        {
          "output_type": "stream",
          "name": "stdout",
          "text": [
            "Tuned Decision Tree Classifier Best Parameters: {'max_features': 'log2', 'max_depth': 10, 'criterion': 'log_loss', 'class_weight': 'balanced'}\n",
            "Tuned Random Forest Classifier Best Accuracy Score: 0.800\n",
            "Tuned Random Forest Classifier Best Accuracy on Test Set: 0.761\n"
          ]
        }
      ]
    },
    {
      "cell_type": "code",
      "source": [
        "# not too much of an improvement!\n",
        "# we'll stick with logreg for interpretability"
      ],
      "metadata": {
        "id": "HDA6-xlvaOBc"
      },
      "execution_count": null,
      "outputs": []
    },
    {
      "cell_type": "markdown",
      "source": [
        "## Exploring LogReg\n",
        "\n",
        "All of our models performed roughly the same. For maximum interpretability, we'll move forward with our Logreg model.\n",
        "\n",
        "*   Which features are most important?\n",
        "*   Which books in the test set were predicted incorrectly?\n",
        "\n"
      ],
      "metadata": {
        "id": "fuwMwHmnn9nJ"
      }
    },
    {
      "cell_type": "code",
      "source": [
        "print(logreg.feature_names_in_)\n",
        "print(logreg.coef_)"
      ],
      "metadata": {
        "colab": {
          "base_uri": "https://localhost:8080/",
          "height": 142
        },
        "id": "wxR8jeCpHZm_",
        "outputId": "15cd2623-c14a-4a1b-aaf2-20450fb36e76"
      },
      "execution_count": 56,
      "outputs": [
        {
          "output_type": "display_data",
          "data": {
            "text/plain": [
              "<IPython.core.display.HTML object>"
            ],
            "text/html": [
              "\n",
              "  <style>\n",
              "    pre {\n",
              "        white-space: pre-wrap;\n",
              "    }\n",
              "  </style>\n",
              "  "
            ]
          },
          "metadata": {}
        },
        {
          "output_type": "stream",
          "name": "stdout",
          "text": [
            "['nyt_author' 'school_friendship_and_love' 'award_winning_childrens'\n",
            " 'young_woman_protag' 'gender_and_sexuality' 'race_and_america'\n",
            " 'families_and_home' 'middle_and_high_school' 'classics' 'vampire_novel'\n",
            " 'boy_protagonist' 'fantasy' 'lgbtq_sexuality' 'girl_protagonist']\n",
            "[[-0.30446749  0.33390362  0.42006635 -0.14299132  0.47204904  0.30001912\n",
            "   0.16321329  0.43860227 -0.80645773 -0.54317355  0.35669574 -0.35093343\n",
            "   0.42230453  0.42310507]]\n"
          ]
        }
      ]
    },
    {
      "cell_type": "code",
      "source": [
        "logreg_feature_names = [x for x in logreg.feature_names_in_]\n",
        "logreg_coefs = [x for x in logreg.coef_]"
      ],
      "metadata": {
        "colab": {
          "base_uri": "https://localhost:8080/",
          "height": 17
        },
        "id": "HnoHmQM9GROf",
        "outputId": "9a669860-953d-4021-cc59-4bf13b25d92b"
      },
      "execution_count": 59,
      "outputs": [
        {
          "output_type": "display_data",
          "data": {
            "text/plain": [
              "<IPython.core.display.HTML object>"
            ],
            "text/html": [
              "\n",
              "  <style>\n",
              "    pre {\n",
              "        white-space: pre-wrap;\n",
              "    }\n",
              "  </style>\n",
              "  "
            ]
          },
          "metadata": {}
        }
      ]
    },
    {
      "cell_type": "code",
      "source": [
        "logreg_coefs[0][1]"
      ],
      "metadata": {
        "colab": {
          "base_uri": "https://localhost:8080/",
          "height": 35
        },
        "id": "7AZcYkqoMhup",
        "outputId": "1613212a-56f9-427f-94a1-1204c297dc72"
      },
      "execution_count": 67,
      "outputs": [
        {
          "output_type": "display_data",
          "data": {
            "text/plain": [
              "<IPython.core.display.HTML object>"
            ],
            "text/html": [
              "\n",
              "  <style>\n",
              "    pre {\n",
              "        white-space: pre-wrap;\n",
              "    }\n",
              "  </style>\n",
              "  "
            ]
          },
          "metadata": {}
        },
        {
          "output_type": "execute_result",
          "data": {
            "text/plain": [
              "0.33390361732064355"
            ]
          },
          "metadata": {},
          "execution_count": 67
        }
      ]
    },
    {
      "cell_type": "code",
      "source": [
        "logreg_feats = {}\n",
        "\n",
        "for i in range(len(logreg_feature_names)):\n",
        "  logreg_feats[logreg_feature_names[i]] = logreg_coefs[0][i]\n",
        "\n",
        "logreg_feats"
      ],
      "metadata": {
        "colab": {
          "base_uri": "https://localhost:8080/",
          "height": 267
        },
        "id": "_-zDdQUnEFn7",
        "outputId": "0e2f2c78-b185-4d67-dd5b-6999213c2ccb"
      },
      "execution_count": 68,
      "outputs": [
        {
          "output_type": "display_data",
          "data": {
            "text/plain": [
              "<IPython.core.display.HTML object>"
            ],
            "text/html": [
              "\n",
              "  <style>\n",
              "    pre {\n",
              "        white-space: pre-wrap;\n",
              "    }\n",
              "  </style>\n",
              "  "
            ]
          },
          "metadata": {}
        },
        {
          "output_type": "execute_result",
          "data": {
            "text/plain": [
              "{'nyt_author': -0.3044674910699949,\n",
              " 'school_friendship_and_love': 0.33390361732064355,\n",
              " 'award_winning_childrens': 0.4200663459980325,\n",
              " 'young_woman_protag': -0.14299132268283637,\n",
              " 'gender_and_sexuality': 0.47204904300675,\n",
              " 'race_and_america': 0.30001911921834995,\n",
              " 'families_and_home': 0.16321328731034643,\n",
              " 'middle_and_high_school': 0.43860226527218743,\n",
              " 'classics': -0.8064577332335722,\n",
              " 'vampire_novel': -0.5431735466943955,\n",
              " 'boy_protagonist': 0.3566957420509783,\n",
              " 'fantasy': -0.3509334336097347,\n",
              " 'lgbtq_sexuality': 0.4223045297514484,\n",
              " 'girl_protagonist': 0.42310507100886585}"
            ]
          },
          "metadata": {},
          "execution_count": 68
        }
      ]
    },
    {
      "cell_type": "code",
      "source": [
        "names = list(logreg_feats.keys())\n",
        "values = list(logreg_feats.values())\n",
        "\n",
        "plt.barh(range(len(logreg_feats)), values, tick_label=names,\n",
        "         color=('0.7',\n",
        "                '0.7',\n",
        "                '0.7',\n",
        "                '0.7',\n",
        "                'turquoise',\n",
        "                '0.7',\n",
        "                '0.7',\n",
        "                'turquoise',\n",
        "                'green',\n",
        "                'green',\n",
        "                '0.7',\n",
        "                '0.7',\n",
        "                '0.7',\n",
        "                '0.7'))\n",
        "plt.title('Best Predictors for Banned Books (Logreg)')\n",
        "plt.xlabel('Non-Banned Predictors (negative) vs. Banned Predictors (positive)')\n",
        "plt.ylabel('Book Description Topics')\n",
        "# plt.savefig('Banned_Logreg_Coefficients.png', bbox_inches='tight')\n",
        "plt.show()"
      ],
      "metadata": {
        "colab": {
          "base_uri": "https://localhost:8080/",
          "height": 472
        },
        "id": "LGs9XM1YMe7u",
        "outputId": "b3e39187-b720-40f8-b489-fa1c6e0f05b1"
      },
      "execution_count": 135,
      "outputs": [
        {
          "output_type": "display_data",
          "data": {
            "text/plain": [
              "<IPython.core.display.HTML object>"
            ],
            "text/html": [
              "\n",
              "  <style>\n",
              "    pre {\n",
              "        white-space: pre-wrap;\n",
              "    }\n",
              "  </style>\n",
              "  "
            ]
          },
          "metadata": {}
        },
        {
          "output_type": "display_data",
          "data": {
            "text/plain": [
              "<Figure size 640x480 with 1 Axes>"
            ],
            "image/png": "[encoded data removed]"
          },
          "metadata": {}
        }
      ]
    },
    {
      "cell_type": "code",
      "source": [
        "y_pred = logreg.predict(X_test)\n",
        "y_probs = logreg.predict_proba(X_test)\n",
        "confusion_matrix(y_test, y_pred)"
      ],
      "metadata": {
        "colab": {
          "base_uri": "https://localhost:8080/",
          "height": 53
        },
        "id": "l68dBsKpOlJU",
        "outputId": "009a27d5-a35c-4f82-9393-2307c9a7dd2b"
      },
      "execution_count": 73,
      "outputs": [
        {
          "output_type": "display_data",
          "data": {
            "text/plain": [
              "<IPython.core.display.HTML object>"
            ],
            "text/html": [
              "\n",
              "  <style>\n",
              "    pre {\n",
              "        white-space: pre-wrap;\n",
              "    }\n",
              "  </style>\n",
              "  "
            ]
          },
          "metadata": {}
        },
        {
          "output_type": "execute_result",
          "data": {
            "text/plain": [
              "array([[ 95,  35],\n",
              "       [ 44, 173]])"
            ]
          },
          "metadata": {},
          "execution_count": 73
        }
      ]
    },
    {
      "cell_type": "code",
      "source": [
        "# vis of confusion matrix\n",
        "cm = confusion_matrix(y_test, y_pred, labels=logreg.classes_)\n",
        "disp = ConfusionMatrixDisplay(confusion_matrix=cm, display_labels=logreg.classes_)\n",
        "disp.plot(cmap=plt.cm.Greens)\n",
        "plt.show()"
      ],
      "metadata": {
        "colab": {
          "base_uri": "https://localhost:8080/",
          "height": 449
        },
        "id": "J6cDkECDO71d",
        "outputId": "1ec7310b-0dc5-4a4e-d032-64d9e9c09874"
      },
      "execution_count": 74,
      "outputs": [
        {
          "output_type": "display_data",
          "data": {
            "text/plain": [
              "<IPython.core.display.HTML object>"
            ],
            "text/html": [
              "\n",
              "  <style>\n",
              "    pre {\n",
              "        white-space: pre-wrap;\n",
              "    }\n",
              "  </style>\n",
              "  "
            ]
          },
          "metadata": {}
        },
        {
          "output_type": "display_data",
          "data": {
            "text/plain": [
              "<Figure size 640x480 with 2 Axes>"
            ],
            "image/png": "[encoded data removed]"
          },
          "metadata": {}
        }
      ]
    },
    {
      "cell_type": "code",
      "source": [
        "y_probs"
      ],
      "metadata": {
        "colab": {
          "base_uri": "https://localhost:8080/",
          "height": 1000
        },
        "id": "Q4MGT1aJwPo3",
        "outputId": "fa11e73d-0156-42d4-e08a-c27d98e066ed"
      },
      "execution_count": 202,
      "outputs": [
        {
          "output_type": "display_data",
          "data": {
            "text/plain": [
              "<IPython.core.display.HTML object>"
            ],
            "text/html": [
              "\n",
              "  <style>\n",
              "    pre {\n",
              "        white-space: pre-wrap;\n",
              "    }\n",
              "  </style>\n",
              "  "
            ]
          },
          "metadata": {}
        },
        {
          "output_type": "execute_result",
          "data": {
            "text/plain": [
              "array([[0.48854006, 0.51145994],\n",
              "       [0.49743869, 0.50256131],\n",
              "       [0.51019136, 0.48980864],\n",
              "       [0.48460474, 0.51539526],\n",
              "       [0.5043484 , 0.4956516 ],\n",
              "       [0.48735199, 0.51264801],\n",
              "       [0.50158709, 0.49841291],\n",
              "       [0.51699069, 0.48300931],\n",
              "       [0.5042881 , 0.4957119 ],\n",
              "       [0.49801995, 0.50198005],\n",
              "       [0.48233105, 0.51766895],\n",
              "       [0.47237577, 0.52762423],\n",
              "       [0.49548384, 0.50451616],\n",
              "       [0.49607282, 0.50392718],\n",
              "       [0.48676726, 0.51323274],\n",
              "       [0.48849273, 0.51150727],\n",
              "       [0.49734902, 0.50265098],\n",
              "       [0.49165569, 0.50834431],\n",
              "       [0.49947358, 0.50052642],\n",
              "       [0.49657788, 0.50342212],\n",
              "       [0.51406879, 0.48593121],\n",
              "       [0.47489937, 0.52510063],\n",
              "       [0.52077597, 0.47922403],\n",
              "       [0.48439742, 0.51560258],\n",
              "       [0.48579015, 0.51420985],\n",
              "       [0.49445695, 0.50554305],\n",
              "       [0.4931214 , 0.5068786 ],\n",
              "       [0.49392605, 0.50607395],\n",
              "       [0.48295385, 0.51704615],\n",
              "       [0.49376712, 0.50623288],\n",
              "       [0.49839473, 0.50160527],\n",
              "       [0.45960675, 0.54039325],\n",
              "       [0.49648012, 0.50351988],\n",
              "       [0.50521872, 0.49478128],\n",
              "       [0.49069823, 0.50930177],\n",
              "       [0.47876235, 0.52123765],\n",
              "       [0.5050483 , 0.4949517 ],\n",
              "       [0.49046382, 0.50953618],\n",
              "       [0.49052894, 0.50947106],\n",
              "       [0.50187607, 0.49812393],\n",
              "       [0.49290837, 0.50709163],\n",
              "       [0.51396261, 0.48603739],\n",
              "       [0.51391247, 0.48608753],\n",
              "       [0.50595366, 0.49404634],\n",
              "       [0.48652161, 0.51347839],\n",
              "       [0.52333721, 0.47666279],\n",
              "       [0.49593667, 0.50406333],\n",
              "       [0.49040198, 0.50959802],\n",
              "       [0.48216515, 0.51783485],\n",
              "       [0.50148365, 0.49851635],\n",
              "       [0.49623104, 0.50376896],\n",
              "       [0.49345868, 0.50654132],\n",
              "       [0.51626568, 0.48373432],\n",
              "       [0.48695833, 0.51304167],\n",
              "       [0.50238608, 0.49761392],\n",
              "       [0.49307662, 0.50692338],\n",
              "       [0.49416488, 0.50583512],\n",
              "       [0.50577575, 0.49422425],\n",
              "       [0.51733785, 0.48266215],\n",
              "       [0.47835068, 0.52164932],\n",
              "       [0.50966833, 0.49033167],\n",
              "       [0.4831291 , 0.5168709 ],\n",
              "       [0.5101593 , 0.4898407 ],\n",
              "       [0.51555393, 0.48444607],\n",
              "       [0.49214895, 0.50785105],\n",
              "       [0.49120326, 0.50879674],\n",
              "       [0.50185278, 0.49814722],\n",
              "       [0.50563305, 0.49436695],\n",
              "       [0.48690319, 0.51309681],\n",
              "       [0.51395679, 0.48604321],\n",
              "       [0.49299651, 0.50700349],\n",
              "       [0.51293328, 0.48706672],\n",
              "       [0.47233755, 0.52766245],\n",
              "       [0.47796587, 0.52203413],\n",
              "       [0.48517714, 0.51482286],\n",
              "       [0.49721927, 0.50278073],\n",
              "       [0.47616702, 0.52383298],\n",
              "       [0.51933974, 0.48066026],\n",
              "       [0.46399234, 0.53600766],\n",
              "       [0.47707322, 0.52292678],\n",
              "       [0.53042327, 0.46957673],\n",
              "       [0.50346967, 0.49653033],\n",
              "       [0.49041967, 0.50958033],\n",
              "       [0.49870824, 0.50129176],\n",
              "       [0.50612908, 0.49387092],\n",
              "       [0.5076261 , 0.4923739 ],\n",
              "       [0.51086546, 0.48913454],\n",
              "       [0.49854647, 0.50145353],\n",
              "       [0.49042431, 0.50957569],\n",
              "       [0.48248189, 0.51751811],\n",
              "       [0.50672623, 0.49327377],\n",
              "       [0.50734002, 0.49265998],\n",
              "       [0.47658311, 0.52341689],\n",
              "       [0.4979502 , 0.5020498 ],\n",
              "       [0.49811492, 0.50188508],\n",
              "       [0.49850459, 0.50149541],\n",
              "       [0.48360743, 0.51639257],\n",
              "       [0.5160697 , 0.4839303 ],\n",
              "       [0.49261344, 0.50738656],\n",
              "       [0.50078257, 0.49921743],\n",
              "       [0.48613377, 0.51386623],\n",
              "       [0.49231452, 0.50768548],\n",
              "       [0.55433387, 0.44566613],\n",
              "       [0.52398681, 0.47601319],\n",
              "       [0.49116613, 0.50883387],\n",
              "       [0.49163047, 0.50836953],\n",
              "       [0.49627306, 0.50372694],\n",
              "       [0.50842594, 0.49157406],\n",
              "       [0.50507526, 0.49492474],\n",
              "       [0.48659451, 0.51340549],\n",
              "       [0.50910401, 0.49089599],\n",
              "       [0.47984535, 0.52015465],\n",
              "       [0.49317635, 0.50682365],\n",
              "       [0.50293326, 0.49706674],\n",
              "       [0.52753814, 0.47246186],\n",
              "       [0.55239217, 0.44760783],\n",
              "       [0.48567305, 0.51432695],\n",
              "       [0.47678566, 0.52321434],\n",
              "       [0.50010477, 0.49989523],\n",
              "       [0.49708017, 0.50291983],\n",
              "       [0.49571652, 0.50428348],\n",
              "       [0.50027959, 0.49972041],\n",
              "       [0.49692699, 0.50307301],\n",
              "       [0.4949101 , 0.5050899 ],\n",
              "       [0.50303984, 0.49696016],\n",
              "       [0.48766125, 0.51233875],\n",
              "       [0.5026038 , 0.4973962 ],\n",
              "       [0.51000719, 0.48999281],\n",
              "       [0.50656748, 0.49343252],\n",
              "       [0.49277744, 0.50722256],\n",
              "       [0.4835962 , 0.5164038 ],\n",
              "       [0.50425713, 0.49574287],\n",
              "       [0.52908595, 0.47091405],\n",
              "       [0.49511065, 0.50488935],\n",
              "       [0.49500702, 0.50499298],\n",
              "       [0.49492473, 0.50507527],\n",
              "       [0.50768349, 0.49231651],\n",
              "       [0.46766389, 0.53233611],\n",
              "       [0.48540182, 0.51459818],\n",
              "       [0.52597357, 0.47402643],\n",
              "       [0.48435509, 0.51564491],\n",
              "       [0.47291363, 0.52708637],\n",
              "       [0.49923481, 0.50076519],\n",
              "       [0.50868912, 0.49131088],\n",
              "       [0.51269542, 0.48730458],\n",
              "       [0.50258852, 0.49741148],\n",
              "       [0.48448933, 0.51551067],\n",
              "       [0.49973013, 0.50026987],\n",
              "       [0.50610979, 0.49389021],\n",
              "       [0.48669104, 0.51330896],\n",
              "       [0.49627792, 0.50372208],\n",
              "       [0.50378468, 0.49621532],\n",
              "       [0.49537515, 0.50462485],\n",
              "       [0.50286023, 0.49713977],\n",
              "       [0.50594485, 0.49405515],\n",
              "       [0.48881971, 0.51118029],\n",
              "       [0.5123445 , 0.4876555 ],\n",
              "       [0.49041969, 0.50958031],\n",
              "       [0.50122472, 0.49877528],\n",
              "       [0.48276283, 0.51723717],\n",
              "       [0.50016061, 0.49983939],\n",
              "       [0.50667039, 0.49332961],\n",
              "       [0.50084598, 0.49915402],\n",
              "       [0.47882875, 0.52117125],\n",
              "       [0.55324736, 0.44675264],\n",
              "       [0.51594982, 0.48405018],\n",
              "       [0.52305234, 0.47694766],\n",
              "       [0.5174248 , 0.4825752 ],\n",
              "       [0.50574786, 0.49425214],\n",
              "       [0.51470362, 0.48529638],\n",
              "       [0.50740113, 0.49259887],\n",
              "       [0.47976572, 0.52023428],\n",
              "       [0.49929469, 0.50070531],\n",
              "       [0.50486751, 0.49513249],\n",
              "       [0.4812973 , 0.5187027 ],\n",
              "       [0.47817174, 0.52182826],\n",
              "       [0.56335616, 0.43664384],\n",
              "       [0.49889527, 0.50110473],\n",
              "       [0.49898478, 0.50101522],\n",
              "       [0.497676  , 0.502324  ],\n",
              "       [0.49335052, 0.50664948],\n",
              "       [0.50946743, 0.49053257],\n",
              "       [0.49009347, 0.50990653],\n",
              "       [0.48842691, 0.51157309],\n",
              "       [0.49179781, 0.50820219],\n",
              "       [0.4927009 , 0.5072991 ],\n",
              "       [0.49080109, 0.50919891],\n",
              "       [0.48657292, 0.51342708],\n",
              "       [0.48327019, 0.51672981],\n",
              "       [0.52664932, 0.47335068],\n",
              "       [0.530793  , 0.469207  ],\n",
              "       [0.51422028, 0.48577972],\n",
              "       [0.48580585, 0.51419415],\n",
              "       [0.52167799, 0.47832201],\n",
              "       [0.47019367, 0.52980633],\n",
              "       [0.50037374, 0.49962626],\n",
              "       [0.4879993 , 0.5120007 ],\n",
              "       [0.47463307, 0.52536693],\n",
              "       [0.47420658, 0.52579342],\n",
              "       [0.50030876, 0.49969124],\n",
              "       [0.49004997, 0.50995003],\n",
              "       [0.48372082, 0.51627918],\n",
              "       [0.51645135, 0.48354865],\n",
              "       [0.49974841, 0.50025159],\n",
              "       [0.49722459, 0.50277541],\n",
              "       [0.52191342, 0.47808658],\n",
              "       [0.49435644, 0.50564356],\n",
              "       [0.50047612, 0.49952388],\n",
              "       [0.49130779, 0.50869221],\n",
              "       [0.50289559, 0.49710441],\n",
              "       [0.50123026, 0.49876974],\n",
              "       [0.49226713, 0.50773287],\n",
              "       [0.50127628, 0.49872372],\n",
              "       [0.50559026, 0.49440974],\n",
              "       [0.49904381, 0.50095619],\n",
              "       [0.51079937, 0.48920063],\n",
              "       [0.4858578 , 0.5141422 ],\n",
              "       [0.50971436, 0.49028564],\n",
              "       [0.52189968, 0.47810032],\n",
              "       [0.5301841 , 0.4698159 ],\n",
              "       [0.48368666, 0.51631334],\n",
              "       [0.48739385, 0.51260615],\n",
              "       [0.49513044, 0.50486956],\n",
              "       [0.492246  , 0.507754  ],\n",
              "       [0.49265132, 0.50734868],\n",
              "       [0.49457653, 0.50542347],\n",
              "       [0.50398789, 0.49601211],\n",
              "       [0.4810998 , 0.5189002 ],\n",
              "       [0.47265237, 0.52734763],\n",
              "       [0.50676369, 0.49323631],\n",
              "       [0.49280641, 0.50719359],\n",
              "       [0.50196042, 0.49803958],\n",
              "       [0.47708885, 0.52291115],\n",
              "       [0.5034888 , 0.4965112 ],\n",
              "       [0.50224223, 0.49775777],\n",
              "       [0.46750912, 0.53249088],\n",
              "       [0.48976833, 0.51023167],\n",
              "       [0.48642265, 0.51357735],\n",
              "       [0.49453727, 0.50546273],\n",
              "       [0.50243137, 0.49756863],\n",
              "       [0.50137471, 0.49862529],\n",
              "       [0.50248132, 0.49751868],\n",
              "       [0.49948747, 0.50051253],\n",
              "       [0.49019233, 0.50980767],\n",
              "       [0.49245775, 0.50754225],\n",
              "       [0.48727315, 0.51272685],\n",
              "       [0.48904485, 0.51095515],\n",
              "       [0.49549648, 0.50450352],\n",
              "       [0.4980147 , 0.5019853 ],\n",
              "       [0.51674586, 0.48325414],\n",
              "       [0.50487069, 0.49512931],\n",
              "       [0.50585318, 0.49414682],\n",
              "       [0.49948559, 0.50051441],\n",
              "       [0.47845043, 0.52154957],\n",
              "       [0.49940554, 0.50059446],\n",
              "       [0.48695842, 0.51304158],\n",
              "       [0.484432  , 0.515568  ],\n",
              "       [0.51993619, 0.48006381],\n",
              "       [0.496981  , 0.503019  ],\n",
              "       [0.47225256, 0.52774744],\n",
              "       [0.4824204 , 0.5175796 ],\n",
              "       [0.51158441, 0.48841559],\n",
              "       [0.52140634, 0.47859366],\n",
              "       [0.50901386, 0.49098614],\n",
              "       [0.4800327 , 0.5199673 ],\n",
              "       [0.50618627, 0.49381373],\n",
              "       [0.489594  , 0.510406  ],\n",
              "       [0.48423407, 0.51576593],\n",
              "       [0.50377372, 0.49622628],\n",
              "       [0.4991211 , 0.5008789 ],\n",
              "       [0.53057254, 0.46942746],\n",
              "       [0.50737116, 0.49262884],\n",
              "       [0.51105161, 0.48894839],\n",
              "       [0.4594963 , 0.5405037 ],\n",
              "       [0.49829854, 0.50170146],\n",
              "       [0.50151284, 0.49848716],\n",
              "       [0.4861681 , 0.5138319 ],\n",
              "       [0.49220981, 0.50779019],\n",
              "       [0.4764611 , 0.5235389 ],\n",
              "       [0.50824609, 0.49175391],\n",
              "       [0.49685617, 0.50314383],\n",
              "       [0.50733075, 0.49266925],\n",
              "       [0.47112798, 0.52887202],\n",
              "       [0.49964565, 0.50035435],\n",
              "       [0.49851839, 0.50148161],\n",
              "       [0.51885901, 0.48114099],\n",
              "       [0.50631078, 0.49368922],\n",
              "       [0.50404491, 0.49595509],\n",
              "       [0.50215412, 0.49784588],\n",
              "       [0.49957022, 0.50042978],\n",
              "       [0.50548891, 0.49451109],\n",
              "       [0.5075961 , 0.4924039 ],\n",
              "       [0.49439606, 0.50560394],\n",
              "       [0.49340412, 0.50659588],\n",
              "       [0.50311546, 0.49688454],\n",
              "       [0.49067465, 0.50932535],\n",
              "       [0.50410399, 0.49589601],\n",
              "       [0.49121199, 0.50878801],\n",
              "       [0.49746164, 0.50253836],\n",
              "       [0.49272763, 0.50727237],\n",
              "       [0.49182416, 0.50817584],\n",
              "       [0.53467737, 0.46532263],\n",
              "       [0.50755739, 0.49244261],\n",
              "       [0.5015529 , 0.4984471 ],\n",
              "       [0.49256176, 0.50743824],\n",
              "       [0.51248543, 0.48751457],\n",
              "       [0.49221102, 0.50778898],\n",
              "       [0.48187533, 0.51812467],\n",
              "       [0.49845564, 0.50154436],\n",
              "       [0.51145537, 0.48854463],\n",
              "       [0.48681493, 0.51318507],\n",
              "       [0.48901848, 0.51098152],\n",
              "       [0.513269  , 0.486731  ],\n",
              "       [0.51912272, 0.48087728],\n",
              "       [0.49638097, 0.50361903],\n",
              "       [0.52278993, 0.47721007],\n",
              "       [0.51402585, 0.48597415],\n",
              "       [0.48611583, 0.51388417],\n",
              "       [0.49090371, 0.50909629],\n",
              "       [0.49966766, 0.50033234],\n",
              "       [0.5017    , 0.4983    ],\n",
              "       [0.50381653, 0.49618347],\n",
              "       [0.49288854, 0.50711146],\n",
              "       [0.4613561 , 0.5386439 ],\n",
              "       [0.48838269, 0.51161731],\n",
              "       [0.5061602 , 0.4938398 ],\n",
              "       [0.50518876, 0.49481124],\n",
              "       [0.48925725, 0.51074275],\n",
              "       [0.49013117, 0.50986883],\n",
              "       [0.4806398 , 0.5193602 ],\n",
              "       [0.49763919, 0.50236081],\n",
              "       [0.4705355 , 0.5294645 ],\n",
              "       [0.49432378, 0.50567622],\n",
              "       [0.50329792, 0.49670208],\n",
              "       [0.48016789, 0.51983211],\n",
              "       [0.47995793, 0.52004207],\n",
              "       [0.49709966, 0.50290034],\n",
              "       [0.49850451, 0.50149549],\n",
              "       [0.48669958, 0.51330042],\n",
              "       [0.50066914, 0.49933086],\n",
              "       [0.49220609, 0.50779391],\n",
              "       [0.47292951, 0.52707049],\n",
              "       [0.49968562, 0.50031438],\n",
              "       [0.4613561 , 0.5386439 ],\n",
              "       [0.48560263, 0.51439737],\n",
              "       [0.48292018, 0.51707982],\n",
              "       [0.4902793 , 0.5097207 ]])"
            ]
          },
          "metadata": {},
          "execution_count": 202
        }
      ]
    },
    {
      "cell_type": "code",
      "source": [
        "y_proba = y_probs[:, 1]"
      ],
      "metadata": {
        "colab": {
          "base_uri": "https://localhost:8080/",
          "height": 17
        },
        "id": "AA8j0RO6wfGA",
        "outputId": "95dd0bd1-f81b-47b8-8bb3-f35909eb5272"
      },
      "execution_count": 204,
      "outputs": [
        {
          "output_type": "display_data",
          "data": {
            "text/plain": [
              "<IPython.core.display.HTML object>"
            ],
            "text/html": [
              "\n",
              "  <style>\n",
              "    pre {\n",
              "        white-space: pre-wrap;\n",
              "    }\n",
              "  </style>\n",
              "  "
            ]
          },
          "metadata": {}
        }
      ]
    },
    {
      "cell_type": "code",
      "source": [
        "from sklearn.metrics import accuracy_score, precision_score, recall_score, f1_score, roc_auc_score\n",
        "print(f\"Accuracy Score on Test Set for Logistic Regression Classifier: {accuracy_score(y_test, y_pred):.3f}\")\n",
        "print(f\"Precision Score on Test Set for Logistic Regression Classifier: {precision_score(y_test, y_pred):.3f}\")\n",
        "print(f\"Recall Score on Test Set for Logistic Regression Classifier: {recall_score(y_test, y_pred):.3f}\")\n",
        "print(f\"F1 Score on Test Set for Logistic Regression Classifier: {f1_score(y_test, y_pred):.3f}\")\n",
        "print(f\"ROC-AUC score on Test Set for Logistic Regression Classifier: {roc_auc_score(y_test, y_proba):.3f}\")"
      ],
      "metadata": {
        "colab": {
          "base_uri": "https://localhost:8080/",
          "height": 106
        },
        "id": "_t64px9tu9Fr",
        "outputId": "a52d04e3-19e8-47e2-8534-81c7fafa4aae"
      },
      "execution_count": 206,
      "outputs": [
        {
          "output_type": "display_data",
          "data": {
            "text/plain": [
              "<IPython.core.display.HTML object>"
            ],
            "text/html": [
              "\n",
              "  <style>\n",
              "    pre {\n",
              "        white-space: pre-wrap;\n",
              "    }\n",
              "  </style>\n",
              "  "
            ]
          },
          "metadata": {}
        },
        {
          "output_type": "stream",
          "name": "stdout",
          "text": [
            "Accuracy Score on Test Set for Logistic Regression Classifier: 0.772\n",
            "Precision Score on Test Set for Logistic Regression Classifier: 0.832\n",
            "Recall Score on Test Set for Logistic Regression Classifier: 0.797\n",
            "F1 Score on Test Set for Logistic Regression Classifier: 0.814\n",
            "ROC-AUC score on Test Set for Logistic Regression Classifier: 0.850\n"
          ]
        }
      ]
    },
    {
      "cell_type": "code",
      "source": [
        "from sklearn.metrics import auc\n",
        "roc_auc = auc(fpr, tpr)\n",
        "roc_auc"
      ],
      "metadata": {
        "colab": {
          "base_uri": "https://localhost:8080/",
          "height": 35
        },
        "id": "sQZDoODExKSC",
        "outputId": "1178df8b-21b3-4cde-b3ad-74231bb8be3d"
      },
      "execution_count": 211,
      "outputs": [
        {
          "output_type": "display_data",
          "data": {
            "text/plain": [
              "<IPython.core.display.HTML object>"
            ],
            "text/html": [
              "\n",
              "  <style>\n",
              "    pre {\n",
              "        white-space: pre-wrap;\n",
              "    }\n",
              "  </style>\n",
              "  "
            ]
          },
          "metadata": {}
        },
        {
          "output_type": "execute_result",
          "data": {
            "text/plain": [
              "0.8500177242112726"
            ]
          },
          "metadata": {},
          "execution_count": 211
        }
      ]
    },
    {
      "cell_type": "code",
      "source": [
        "from sklearn.metrics import roc_curve, auc\n",
        "\n",
        "fpr, tpr, thresholds = roc_curve(y_test, y_proba)\n",
        "roc_auc = auc(fpr, tpr)\n",
        "\n",
        "plt.figure(figsize=(8, 8))\n",
        "plt.plot(fpr, tpr, color='darkorange', lw=2, label=f'ROC curve (AUC = {roc_auc:.2f})')\n",
        "plt.plot([0, 1], [0, 1], color='navy', lw=2, linestyle='--', label='Random Guess')\n",
        "plt.xlabel('False Positive Rate')\n",
        "plt.ylabel('True Positive Rate')\n",
        "plt.title('Receiver Operating Characteristic (ROC) Curve')\n",
        "plt.legend(loc='lower right')\n",
        "plt.show()"
      ],
      "metadata": {
        "colab": {
          "base_uri": "https://localhost:8080/",
          "height": 718
        },
        "id": "RVm89Xeqw1PR",
        "outputId": "2bb5ccae-931c-4b39-a8cf-8c6014d143a3"
      },
      "execution_count": 212,
      "outputs": [
        {
          "output_type": "display_data",
          "data": {
            "text/plain": [
              "<IPython.core.display.HTML object>"
            ],
            "text/html": [
              "\n",
              "  <style>\n",
              "    pre {\n",
              "        white-space: pre-wrap;\n",
              "    }\n",
              "  </style>\n",
              "  "
            ]
          },
          "metadata": {}
        },
        {
          "output_type": "display_data",
          "data": {
            "text/plain": [
              "<Figure size 800x800 with 1 Axes>"
            ],
            "image/png": "[encoded data removed]"
          },
          "metadata": {}
        }
      ]
    },
    {
      "cell_type": "code",
      "source": [
        "optimal_idx = np.argmax(tpr - fpr)\n",
        "optimal_threshold = thresholds[optimal_idx]\n",
        "optimal_threshold\n",
        "\n",
        "# obviously this is extremely close to 0.5"
      ],
      "metadata": {
        "colab": {
          "base_uri": "https://localhost:8080/",
          "height": 35
        },
        "id": "Fk5MnoEcyZlt",
        "outputId": "71f8e699-5d22-4740-fd1b-9a436ba50834"
      },
      "execution_count": 218,
      "outputs": [
        {
          "output_type": "display_data",
          "data": {
            "text/plain": [
              "<IPython.core.display.HTML object>"
            ],
            "text/html": [
              "\n",
              "  <style>\n",
              "    pre {\n",
              "        white-space: pre-wrap;\n",
              "    }\n",
              "  </style>\n",
              "  "
            ]
          },
          "metadata": {}
        },
        {
          "output_type": "execute_result",
          "data": {
            "text/plain": [
              "0.5023608086591508"
            ]
          },
          "metadata": {},
          "execution_count": 218
        }
      ]
    },
    {
      "cell_type": "code",
      "source": [
        "y_pred_optimal = (y_proba > optimal_threshold).astype(int)\n",
        "y_pred_optimal"
      ],
      "metadata": {
        "colab": {
          "base_uri": "https://localhost:8080/",
          "height": 303
        },
        "id": "OhwWtaF7ySun",
        "outputId": "4f6d9cab-a156-4698-f25b-3307fea1c1c7"
      },
      "execution_count": 220,
      "outputs": [
        {
          "output_type": "display_data",
          "data": {
            "text/plain": [
              "<IPython.core.display.HTML object>"
            ],
            "text/html": [
              "\n",
              "  <style>\n",
              "    pre {\n",
              "        white-space: pre-wrap;\n",
              "    }\n",
              "  </style>\n",
              "  "
            ]
          },
          "metadata": {}
        },
        {
          "output_type": "execute_result",
          "data": {
            "text/plain": [
              "array([1, 1, 0, 1, 0, 1, 0, 0, 0, 0, 1, 1, 1, 1, 1, 1, 1, 1, 0, 1, 0, 1,\n",
              "       0, 1, 1, 1, 1, 1, 1, 1, 0, 1, 1, 0, 1, 1, 0, 1, 1, 0, 1, 0, 0, 0,\n",
              "       1, 0, 1, 1, 1, 0, 1, 1, 0, 1, 0, 1, 1, 0, 0, 1, 0, 1, 0, 0, 1, 1,\n",
              "       0, 0, 1, 0, 1, 0, 1, 1, 1, 1, 1, 0, 1, 1, 0, 0, 1, 0, 0, 0, 0, 0,\n",
              "       1, 1, 0, 0, 1, 0, 0, 0, 1, 0, 1, 0, 1, 1, 0, 0, 1, 1, 1, 0, 0, 1,\n",
              "       0, 1, 1, 0, 0, 0, 1, 1, 0, 1, 1, 0, 1, 1, 0, 1, 0, 0, 0, 1, 1, 0,\n",
              "       0, 1, 1, 1, 0, 1, 1, 0, 1, 1, 0, 0, 0, 0, 1, 0, 0, 1, 1, 0, 1, 0,\n",
              "       0, 1, 0, 1, 0, 1, 0, 0, 0, 1, 0, 0, 0, 0, 0, 0, 0, 1, 0, 0, 1, 1,\n",
              "       0, 0, 0, 0, 1, 0, 1, 1, 1, 1, 1, 1, 1, 0, 0, 0, 1, 0, 1, 0, 1, 1,\n",
              "       1, 0, 1, 1, 0, 0, 1, 0, 1, 0, 1, 0, 0, 1, 0, 0, 0, 0, 1, 0, 0, 0,\n",
              "       1, 1, 1, 1, 1, 1, 0, 1, 1, 0, 1, 0, 1, 0, 0, 1, 1, 1, 1, 0, 0, 0,\n",
              "       0, 1, 1, 1, 1, 1, 0, 0, 0, 0, 0, 1, 0, 1, 1, 0, 1, 1, 1, 0, 0, 0,\n",
              "       1, 0, 1, 1, 0, 0, 0, 0, 0, 1, 0, 0, 1, 1, 1, 0, 1, 0, 1, 0, 0, 0,\n",
              "       0, 0, 0, 0, 0, 0, 1, 1, 0, 1, 0, 1, 1, 1, 1, 0, 0, 0, 1, 0, 1, 1,\n",
              "       0, 0, 1, 1, 0, 0, 1, 0, 0, 1, 1, 0, 0, 0, 1, 1, 1, 0, 0, 1, 1, 1,\n",
              "       0, 1, 1, 0, 1, 1, 1, 0, 1, 0, 1, 1, 0, 1, 1, 1, 1])"
            ]
          },
          "metadata": {},
          "execution_count": 220
        }
      ]
    },
    {
      "cell_type": "code",
      "source": [
        "print(f\"Accuracy Score for LogReg with Optimal Threshold: {accuracy_score(y_test, y_pred_optimal):.3f}\")\n",
        "\n",
        "# this is actually a bit worse! we'll stick with our original model"
      ],
      "metadata": {
        "colab": {
          "base_uri": "https://localhost:8080/",
          "height": 35
        },
        "id": "-5Db5BWWzZel",
        "outputId": "50615e52-921d-41e3-deb8-fbaccb5dfc95"
      },
      "execution_count": 223,
      "outputs": [
        {
          "output_type": "display_data",
          "data": {
            "text/plain": [
              "<IPython.core.display.HTML object>"
            ],
            "text/html": [
              "\n",
              "  <style>\n",
              "    pre {\n",
              "        white-space: pre-wrap;\n",
              "    }\n",
              "  </style>\n",
              "  "
            ]
          },
          "metadata": {}
        },
        {
          "output_type": "stream",
          "name": "stdout",
          "text": [
            "Accuracy Score for LogReg with Optimal Threshold: 0.767\n"
          ]
        }
      ]
    },
    {
      "cell_type": "code",
      "source": [
        "# which books were incorrectly predicted in the test set?\n",
        "\n",
        "different_preds = [i for i, (true, pred) in enumerate(zip(y_test, y_pred)) if true != pred]\n",
        "different_preds"
      ],
      "metadata": {
        "colab": {
          "base_uri": "https://localhost:8080/",
          "height": 1000
        },
        "id": "iMdV1DkxQCZY",
        "outputId": "ee135ac3-650a-4962-ed77-9d604ce269f6"
      },
      "execution_count": 82,
      "outputs": [
        {
          "output_type": "display_data",
          "data": {
            "text/plain": [
              "<IPython.core.display.HTML object>"
            ],
            "text/html": [
              "\n",
              "  <style>\n",
              "    pre {\n",
              "        white-space: pre-wrap;\n",
              "    }\n",
              "  </style>\n",
              "  "
            ]
          },
          "metadata": {}
        },
        {
          "output_type": "execute_result",
          "data": {
            "text/plain": [
              "[1,\n",
              " 8,\n",
              " 18,\n",
              " 26,\n",
              " 27,\n",
              " 30,\n",
              " 33,\n",
              " 42,\n",
              " 49,\n",
              " 50,\n",
              " 54,\n",
              " 56,\n",
              " 60,\n",
              " 63,\n",
              " 67,\n",
              " 75,\n",
              " 85,\n",
              " 90,\n",
              " 91,\n",
              " 93,\n",
              " 97,\n",
              " 99,\n",
              " 103,\n",
              " 106,\n",
              " 114,\n",
              " 120,\n",
              " 123,\n",
              " 127,\n",
              " 129,\n",
              " 133,\n",
              " 147,\n",
              " 148,\n",
              " 151,\n",
              " 162,\n",
              " 167,\n",
              " 168,\n",
              " 171,\n",
              " 173,\n",
              " 177,\n",
              " 179,\n",
              " 180,\n",
              " 195,\n",
              " 199,\n",
              " 209,\n",
              " 212,\n",
              " 213,\n",
              " 214,\n",
              " 217,\n",
              " 224,\n",
              " 229,\n",
              " 234,\n",
              " 238,\n",
              " 239,\n",
              " 241,\n",
              " 243,\n",
              " 254,\n",
              " 258,\n",
              " 267,\n",
              " 274,\n",
              " 279,\n",
              " 281,\n",
              " 284,\n",
              " 288,\n",
              " 290,\n",
              " 294,\n",
              " 301,\n",
              " 302,\n",
              " 304,\n",
              " 305,\n",
              " 306,\n",
              " 308,\n",
              " 312,\n",
              " 319,\n",
              " 325,\n",
              " 333,\n",
              " 337,\n",
              " 339,\n",
              " 340,\n",
              " 342]"
            ]
          },
          "metadata": {},
          "execution_count": 82
        }
      ]
    },
    {
      "cell_type": "code",
      "source": [
        "# now we have to match these different predictions\n",
        "# to the correct index number in y_test\n",
        "\n",
        "y_test"
      ],
      "metadata": {
        "colab": {
          "base_uri": "https://localhost:8080/",
          "height": 231
        },
        "id": "FJgJZT5DQwky",
        "outputId": "61adc555-377d-46da-916f-4936431ffa17"
      },
      "execution_count": 95,
      "outputs": [
        {
          "output_type": "display_data",
          "data": {
            "text/plain": [
              "<IPython.core.display.HTML object>"
            ],
            "text/html": [
              "\n",
              "  <style>\n",
              "    pre {\n",
              "        white-space: pre-wrap;\n",
              "    }\n",
              "  </style>\n",
              "  "
            ]
          },
          "metadata": {}
        },
        {
          "output_type": "execute_result",
          "data": {
            "text/plain": [
              "1295    1\n",
              "1311    0\n",
              "437     0\n",
              "559     1\n",
              "1217    0\n",
              "       ..\n",
              "1213    0\n",
              "851     1\n",
              "1077    1\n",
              "1028    1\n",
              "1045    1\n",
              "Name: label, Length: 347, dtype: int64"
            ]
          },
          "metadata": {},
          "execution_count": 95
        }
      ]
    },
    {
      "cell_type": "code",
      "source": [
        "# here are all the index numbers in y_test\n",
        "\n",
        "y_list = list(y_test.index)\n",
        "y_list"
      ],
      "metadata": {
        "colab": {
          "base_uri": "https://localhost:8080/",
          "height": 1000
        },
        "id": "e8WRoDxfRk7p",
        "outputId": "b03a57d4-4b33-4b49-b2d0-eadefd4f7781"
      },
      "execution_count": 97,
      "outputs": [
        {
          "output_type": "display_data",
          "data": {
            "text/plain": [
              "<IPython.core.display.HTML object>"
            ],
            "text/html": [
              "\n",
              "  <style>\n",
              "    pre {\n",
              "        white-space: pre-wrap;\n",
              "    }\n",
              "  </style>\n",
              "  "
            ]
          },
          "metadata": {}
        },
        {
          "output_type": "execute_result",
          "data": {
            "text/plain": [
              "[1295,\n",
              " 1311,\n",
              " 437,\n",
              " 559,\n",
              " 1217,\n",
              " 1452,\n",
              " 896,\n",
              " 827,\n",
              " 1314,\n",
              " 1263,\n",
              " 1708,\n",
              " 1437,\n",
              " 1726,\n",
              " 1308,\n",
              " 39,\n",
              " 432,\n",
              " 572,\n",
              " 978,\n",
              " 299,\n",
              " 883,\n",
              " 1222,\n",
              " 382,\n",
              " 96,\n",
              " 268,\n",
              " 1078,\n",
              " 1589,\n",
              " 1454,\n",
              " 1428,\n",
              " 333,\n",
              " 1512,\n",
              " 1641,\n",
              " 124,\n",
              " 725,\n",
              " 623,\n",
              " 1272,\n",
              " 18,\n",
              " 54,\n",
              " 1144,\n",
              " 593,\n",
              " 553,\n",
              " 1354,\n",
              " 233,\n",
              " 339,\n",
              " 1125,\n",
              " 930,\n",
              " 1079,\n",
              " 1429,\n",
              " 1588,\n",
              " 449,\n",
              " 1185,\n",
              " 1572,\n",
              " 565,\n",
              " 630,\n",
              " 544,\n",
              " 454,\n",
              " 660,\n",
              " 842,\n",
              " 145,\n",
              " 1242,\n",
              " 548,\n",
              " 210,\n",
              " 1493,\n",
              " 1131,\n",
              " 1607,\n",
              " 1182,\n",
              " 902,\n",
              " 280,\n",
              " 1165,\n",
              " 1473,\n",
              " 13,\n",
              " 1608,\n",
              " 1488,\n",
              " 588,\n",
              " 170,\n",
              " 541,\n",
              " 1155,\n",
              " 1334,\n",
              " 1420,\n",
              " 1679,\n",
              " 1629,\n",
              " 1410,\n",
              " 1424,\n",
              " 1661,\n",
              " 102,\n",
              " 777,\n",
              " 563,\n",
              " 979,\n",
              " 938,\n",
              " 159,\n",
              " 306,\n",
              " 775,\n",
              " 1000,\n",
              " 1307,\n",
              " 733,\n",
              " 1087,\n",
              " 1218,\n",
              " 1517,\n",
              " 791,\n",
              " 965,\n",
              " 62,\n",
              " 1136,\n",
              " 1409,\n",
              " 1383,\n",
              " 483,\n",
              " 363,\n",
              " 1075,\n",
              " 1669,\n",
              " 1639,\n",
              " 243,\n",
              " 1219,\n",
              " 669,\n",
              " 74,\n",
              " 1564,\n",
              " 950,\n",
              " 1143,\n",
              " 1207,\n",
              " 136,\n",
              " 576,\n",
              " 224,\n",
              " 1267,\n",
              " 1648,\n",
              " 81,\n",
              " 895,\n",
              " 764,\n",
              " 199,\n",
              " 568,\n",
              " 503,\n",
              " 1258,\n",
              " 1529,\n",
              " 149,\n",
              " 15,\n",
              " 220,\n",
              " 803,\n",
              " 727,\n",
              " 696,\n",
              " 1097,\n",
              " 1358,\n",
              " 1294,\n",
              " 155,\n",
              " 579,\n",
              " 730,\n",
              " 242,\n",
              " 216,\n",
              " 1704,\n",
              " 717,\n",
              " 1120,\n",
              " 323,\n",
              " 1046,\n",
              " 1073,\n",
              " 1113,\n",
              " 1306,\n",
              " 680,\n",
              " 1019,\n",
              " 1707,\n",
              " 909,\n",
              " 521,\n",
              " 107,\n",
              " 840,\n",
              " 1208,\n",
              " 972,\n",
              " 1472,\n",
              " 1685,\n",
              " 723,\n",
              " 624,\n",
              " 698,\n",
              " 865,\n",
              " 636,\n",
              " 1705,\n",
              " 1519,\n",
              " 1711,\n",
              " 1533,\n",
              " 1501,\n",
              " 969,\n",
              " 49,\n",
              " 986,\n",
              " 33,\n",
              " 1274,\n",
              " 648,\n",
              " 554,\n",
              " 316,\n",
              " 833,\n",
              " 560,\n",
              " 770,\n",
              " 1108,\n",
              " 676,\n",
              " 1232,\n",
              " 1548,\n",
              " 1330,\n",
              " 475,\n",
              " 1059,\n",
              " 1065,\n",
              " 1298,\n",
              " 1703,\n",
              " 963,\n",
              " 1524,\n",
              " 45,\n",
              " 1156,\n",
              " 3,\n",
              " 67,\n",
              " 1048,\n",
              " 1503,\n",
              " 105,\n",
              " 1430,\n",
              " 1536,\n",
              " 518,\n",
              " 829,\n",
              " 337,\n",
              " 1446,\n",
              " 525,\n",
              " 1543,\n",
              " 324,\n",
              " 156,\n",
              " 1251,\n",
              " 340,\n",
              " 1680,\n",
              " 450,\n",
              " 75,\n",
              " 1128,\n",
              " 1683,\n",
              " 1177,\n",
              " 1527,\n",
              " 1202,\n",
              " 657,\n",
              " 435,\n",
              " 202,\n",
              " 217,\n",
              " 1221,\n",
              " 1305,\n",
              " 151,\n",
              " 181,\n",
              " 1658,\n",
              " 262,\n",
              " 607,\n",
              " 459,\n",
              " 1138,\n",
              " 761,\n",
              " 481,\n",
              " 409,\n",
              " 186,\n",
              " 277,\n",
              " 17,\n",
              " 599,\n",
              " 820,\n",
              " 1196,\n",
              " 1304,\n",
              " 1668,\n",
              " 1698,\n",
              " 66,\n",
              " 1489,\n",
              " 846,\n",
              " 1542,\n",
              " 838,\n",
              " 958,\n",
              " 1443,\n",
              " 1360,\n",
              " 1275,\n",
              " 984,\n",
              " 1702,\n",
              " 1408,\n",
              " 787,\n",
              " 941,\n",
              " 1421,\n",
              " 245,\n",
              " 1398,\n",
              " 258,\n",
              " 870,\n",
              " 1018,\n",
              " 1696,\n",
              " 907,\n",
              " 460,\n",
              " 1014,\n",
              " 1686,\n",
              " 996,\n",
              " 519,\n",
              " 57,\n",
              " 1110,\n",
              " 83,\n",
              " 1255,\n",
              " 843,\n",
              " 1200,\n",
              " 1389,\n",
              " 456,\n",
              " 1695,\n",
              " 350,\n",
              " 1109,\n",
              " 683,\n",
              " 813,\n",
              " 1377,\n",
              " 1210,\n",
              " 1289,\n",
              " 289,\n",
              " 122,\n",
              " 1101,\n",
              " 1049,\n",
              " 1492,\n",
              " 1297,\n",
              " 1462,\n",
              " 375,\n",
              " 715,\n",
              " 433,\n",
              " 1341,\n",
              " 598,\n",
              " 1281,\n",
              " 1622,\n",
              " 120,\n",
              " 934,\n",
              " 893,\n",
              " 185,\n",
              " 918,\n",
              " 1547,\n",
              " 1204,\n",
              " 1148,\n",
              " 1084,\n",
              " 982,\n",
              " 174,\n",
              " 1326,\n",
              " 215,\n",
              " 806,\n",
              " 1613,\n",
              " 478,\n",
              " 782,\n",
              " 113,\n",
              " 1379,\n",
              " 855,\n",
              " 706,\n",
              " 604,\n",
              " 180,\n",
              " 1674,\n",
              " 702,\n",
              " 1423,\n",
              " 1709,\n",
              " 1440,\n",
              " 931,\n",
              " 1197,\n",
              " 1530,\n",
              " 538,\n",
              " 790,\n",
              " 671,\n",
              " 1689,\n",
              " 1347,\n",
              " 876,\n",
              " 1700,\n",
              " 1213,\n",
              " 851,\n",
              " 1077,\n",
              " 1028,\n",
              " 1045]"
            ]
          },
          "metadata": {},
          "execution_count": 97
        }
      ]
    },
    {
      "cell_type": "code",
      "source": [
        "# now we want the index numbers in y_test (put into the list y_list)\n",
        "# which were predicted to be a different result\n",
        "\n",
        "different_inds = []\n",
        "\n",
        "for i in different_preds:\n",
        "  different_inds.append(y_list[i])\n",
        "\n",
        "different_inds"
      ],
      "metadata": {
        "colab": {
          "base_uri": "https://localhost:8080/",
          "height": 1000
        },
        "id": "kOVi4BglQbAF",
        "outputId": "40cf2f4a-1734-41db-f8b7-9af11807bd34"
      },
      "execution_count": 98,
      "outputs": [
        {
          "output_type": "display_data",
          "data": {
            "text/plain": [
              "<IPython.core.display.HTML object>"
            ],
            "text/html": [
              "\n",
              "  <style>\n",
              "    pre {\n",
              "        white-space: pre-wrap;\n",
              "    }\n",
              "  </style>\n",
              "  "
            ]
          },
          "metadata": {}
        },
        {
          "output_type": "execute_result",
          "data": {
            "text/plain": [
              "[1311,\n",
              " 1314,\n",
              " 299,\n",
              " 1454,\n",
              " 1428,\n",
              " 1641,\n",
              " 623,\n",
              " 339,\n",
              " 1185,\n",
              " 1572,\n",
              " 454,\n",
              " 842,\n",
              " 210,\n",
              " 1607,\n",
              " 1165,\n",
              " 1155,\n",
              " 563,\n",
              " 775,\n",
              " 1000,\n",
              " 733,\n",
              " 791,\n",
              " 62,\n",
              " 483,\n",
              " 1669,\n",
              " 1143,\n",
              " 1648,\n",
              " 764,\n",
              " 1258,\n",
              " 149,\n",
              " 727,\n",
              " 1046,\n",
              " 1073,\n",
              " 680,\n",
              " 723,\n",
              " 1705,\n",
              " 1519,\n",
              " 1501,\n",
              " 49,\n",
              " 648,\n",
              " 316,\n",
              " 833,\n",
              " 45,\n",
              " 1048,\n",
              " 1543,\n",
              " 1251,\n",
              " 340,\n",
              " 1680,\n",
              " 1128,\n",
              " 202,\n",
              " 181,\n",
              " 1138,\n",
              " 186,\n",
              " 277,\n",
              " 599,\n",
              " 1196,\n",
              " 1360,\n",
              " 1408,\n",
              " 1696,\n",
              " 57,\n",
              " 1200,\n",
              " 456,\n",
              " 1109,\n",
              " 1210,\n",
              " 289,\n",
              " 1492,\n",
              " 598,\n",
              " 1281,\n",
              " 120,\n",
              " 934,\n",
              " 893,\n",
              " 918,\n",
              " 1084,\n",
              " 478,\n",
              " 604,\n",
              " 1197,\n",
              " 671,\n",
              " 1347,\n",
              " 876,\n",
              " 1213]"
            ]
          },
          "metadata": {},
          "execution_count": 98
        }
      ]
    },
    {
      "cell_type": "code",
      "source": [
        "print(len(different_preds))\n",
        "print(len(y_test))\n",
        "print(len(y_list))\n",
        "print(len(different_inds))"
      ],
      "metadata": {
        "colab": {
          "base_uri": "https://localhost:8080/",
          "height": 88
        },
        "id": "pKXCSPRQSK9u",
        "outputId": "bda8881d-6427-440f-d527-d9659ec9c861"
      },
      "execution_count": 99,
      "outputs": [
        {
          "output_type": "display_data",
          "data": {
            "text/plain": [
              "<IPython.core.display.HTML object>"
            ],
            "text/html": [
              "\n",
              "  <style>\n",
              "    pre {\n",
              "        white-space: pre-wrap;\n",
              "    }\n",
              "  </style>\n",
              "  "
            ]
          },
          "metadata": {}
        },
        {
          "output_type": "stream",
          "name": "stdout",
          "text": [
            "79\n",
            "347\n",
            "347\n",
            "79\n"
          ]
        }
      ]
    },
    {
      "cell_type": "code",
      "source": [
        "# these are the books in y_test that were incorrectly predicted\n",
        "# by the logreg classifier"
      ],
      "metadata": {
        "id": "d_gGDFmfTsJc"
      },
      "execution_count": null,
      "outputs": []
    },
    {
      "cell_type": "code",
      "source": [
        "different_books = []\n",
        "\n",
        "for i in different_inds:\n",
        "  different_books.append((prediction_df.loc[i].author, prediction_df.loc[i].title))\n",
        "\n",
        "different_books"
      ],
      "metadata": {
        "colab": {
          "base_uri": "https://localhost:8080/",
          "height": 1000
        },
        "id": "NL-9TtuSTdcq",
        "outputId": "771655b9-7fdd-404c-d85e-221620edcb79"
      },
      "execution_count": 111,
      "outputs": [
        {
          "output_type": "display_data",
          "data": {
            "text/plain": [
              "<IPython.core.display.HTML object>"
            ],
            "text/html": [
              "\n",
              "  <style>\n",
              "    pre {\n",
              "        white-space: pre-wrap;\n",
              "    }\n",
              "  </style>\n",
              "  "
            ]
          },
          "metadata": {}
        },
        {
          "output_type": "execute_result",
          "data": {
            "text/plain": [
              "[('Plato', 'The Republic'),\n",
              " ('Ruth Behar', 'Lucky Broken Girl'),\n",
              " ('David McCullough', 'John Adams'),\n",
              " ('Jamie McGuire', 'Beautiful Disaster'),\n",
              " ('Malcolm Gladwell', 'Blink'),\n",
              " ('Muriel Barberry', 'The Elegance of the Hedgehog'),\n",
              " ('Lesa Cline-Ransome', 'Before She Was Harriet'),\n",
              " ('Francene Sabin', 'Elizabeth Blackwell, the First Woman Doctor'),\n",
              " ('Simon J. Ortiz', 'The People Shall Continue'),\n",
              " ('Ann Patchett', 'Commonwealth'),\n",
              " ('Robin Stevenson', 'En el bosque'),\n",
              " ('Nicholas Sparks', 'The Rescue'),\n",
              " ('John Irving', 'The Cider House Rules'),\n",
              " ('Justin Richardson', 'And Tango Makes Three'),\n",
              " ('F. T. Lukens', 'In Deeper Waters'),\n",
              " ('Rainbow Rowell', 'Carry On'),\n",
              " ('Cynthia Chin-Lee', 'Amelia to Zora'),\n",
              " ('Sara Gruen', 'Water for Elephants'),\n",
              " ('Jonathan Safran Foer', 'Extremely Loud & Incredibly Close'),\n",
              " ('Francine Rivers', 'Redeeming Love'),\n",
              " ('Lorraine Hansberry', 'A Raisin in the Sun'),\n",
              " ('Eric Devine', 'Look Past'),\n",
              " ('Emma Donoghue', 'The Pull of the Stars'),\n",
              " ('John Green', 'Will Grayson, Will Grayson'),\n",
              " ('Brent R. Sherrard', 'Final Takedown'),\n",
              " ('Kate Morton', 'The Forgotten Garden'),\n",
              " ('Laura Wilder', 'Little House in the Big Woods'),\n",
              " ('Laurie Wallmark', 'Ada Byron Lovelace and the Thinking Machine'),\n",
              " ('John Grisham', 'A Time to Kill'),\n",
              " ('Katherine Applegate', 'The One and Only Ivan'),\n",
              " ('Malcolm Gladwell', 'Outliers'),\n",
              " ('Katherine Applegate', 'Wishtree'),\n",
              " ('Jaye Robin Brown', 'The Meaning of Birds'),\n",
              " ('Duchess Harris', 'Political Resistance in the Current Age'),\n",
              " ('Paulo Freire', 'Pedagogy of the Oppressed'),\n",
              " ('Amy Rose Capetta', 'Once & Future'),\n",
              " ('Dennis Lehane', 'Mystic River'),\n",
              " ('Kim Taylor Blakemore', 'Bowery Girl'),\n",
              " ('William Shakespeare', 'Twelth Night'),\n",
              " ('Mark Manson', 'The Subtle Art of Not Giving a F*ck'),\n",
              " ('Gayle Forman', 'If I Stay'),\n",
              " ('Eric Braun', 'Protest Movements'),\n",
              " ('Surishtha Sehgal', 'Festival of Colors'),\n",
              " ('Laban Carrick Hill', 'When the Beat Was Born'),\n",
              " ('Ellen Levine', \"Henry's Freedom Box\"),\n",
              " ('Malinda Lo', 'Ash'),\n",
              " ('Nicholas Sparks', 'The Choice'),\n",
              " ('Alice Seabold', 'Lucky'),\n",
              " ('Neal Shusterman', 'Unwind'),\n",
              " ('Gillian Flynn', 'Gone Girl'),\n",
              " ('Joy McCullough', 'Blood Water Paint'),\n",
              " ('Sarah Dessen', 'Just Listen'),\n",
              " ('Susan Meyers', 'Everywhere Babies'),\n",
              " ('Garth Stein', 'The Art of Racing in the Rain'),\n",
              " ('Barbara Kingsolver', 'The Bean Trees'),\n",
              " ('Christopher McDougall', 'Born to Run'),\n",
              " ('Rebecca Wells', 'Divine Secrets of the Ya-Ya Sisterhood'),\n",
              " ('Jeffrey Eugenides', 'The Virgin Suicides'),\n",
              " ('P.C. Cast and Kristin Cast', 'Burned'),\n",
              " ('Lauren Groff', 'Fates and Furies'),\n",
              " ('Cassandra Clare', 'The Red Scrolls of Magic'),\n",
              " ('Naomi Novik', 'Uprooted'),\n",
              " ('Rigoberto González', 'What Drowns the Flowers in Your Mouth'),\n",
              " ('Tim Floreen', 'Tattoo Atlas'),\n",
              " ('Meg Medina', 'Burn Baby Burn'),\n",
              " ('Audre Lorde', 'Sister Outsider'),\n",
              " ('Robert Sharenow', 'The Berlin Boxing Club'),\n",
              " ('Sophie Kinsella', 'Twenties Girl'),\n",
              " (\"Tim O'Brien\", 'The Things They Carried'),\n",
              " ('Jodi Picoult', 'The Storyteller'),\n",
              " ('Jennifer Weiner', 'In Her Shoes'),\n",
              " ('Marissa Meyer', 'Fairest'),\n",
              " ('Janet Evanovich', 'High Five'),\n",
              " ('Phil Bildner', 'Marvelous Cornelius'),\n",
              " ('Charlie Ogden', 'Identity and Gender'),\n",
              " ('Lisa See', 'Snow Flower and the Secret Fan'),\n",
              " ('Lane Fredrickson', 'Monster Trouble!'),\n",
              " ('Napoleon Hill', 'Think and Grow Rich'),\n",
              " ('Lois Lowry', 'Gathering Blue')]"
            ]
          },
          "metadata": {},
          "execution_count": 111
        }
      ]
    },
    {
      "cell_type": "code",
      "source": [
        "prediction_df[prediction_df.index.isin(different_inds)]"
      ],
      "metadata": {
        "colab": {
          "base_uri": "https://localhost:8080/",
          "height": 1000
        },
        "id": "hM-eEfRAfTBU",
        "outputId": "4adb1e98-63b9-4a0d-a0ee-0eadbdb13bb0"
      },
      "execution_count": 185,
      "outputs": [
        {
          "output_type": "display_data",
          "data": {
            "text/plain": [
              "<IPython.core.display.HTML object>"
            ],
            "text/html": [
              "\n",
              "  <style>\n",
              "    pre {\n",
              "        white-space: pre-wrap;\n",
              "    }\n",
              "  </style>\n",
              "  "
            ]
          },
          "metadata": {}
        },
        {
          "output_type": "execute_result",
          "data": {
            "text/plain": [
              "                          author                       title  label  \\\n",
              "45                    Eric Braun           Protest Movements      1   \n",
              "49          Kim Taylor Blakemore                 Bowery Girl      1   \n",
              "57    P.C. Cast and Kristin Cast                      Burned      0   \n",
              "62                   Eric Devine                   Look Past      1   \n",
              "120              Sophie Kinsella               Twenties Girl      0   \n",
              "...                          ...                         ...    ...   \n",
              "1648                 Kate Morton        The Forgotten Garden      0   \n",
              "1669                  John Green  Will Grayson, Will Grayson      0   \n",
              "1680             Nicholas Sparks                  The Choice      0   \n",
              "1696           Jeffrey Eugenides         The Virgin Suicides      0   \n",
              "1705                Paulo Freire   Pedagogy of the Oppressed      1   \n",
              "\n",
              "                                            description  nyt_author  \\\n",
              "45      discus main concern protest movement amazon com     0.00000   \n",
              "49    willa award author taylor blakemore poignant h...     0.04877   \n",
              "57    zoey fate hang balance friend otherworld serio...     0.00000   \n",
              "62    someone mary mathison daughter prominent conse...     0.00279   \n",
              "120   lara lington overactive imagination imaginatio...     0.00590   \n",
              "...                                                 ...         ...   \n",
              "1648  child first world war little girl ship austral...     0.00000   \n",
              "1669  cold night unlikely corner chicago grayson cro...     0.01940   \n",
              "1680  opposite new york time love medical student ma...     0.04161   \n",
              "1696  virgin suicide story disintegration american f...     0.00000   \n",
              "1705  portuguese pedagogy english methodology late p...     0.02218   \n",
              "\n",
              "      school_friendship_and_love  award_winning_childrens  young_woman_protag  \\\n",
              "45                       0.00459                  0.00000             0.00017   \n",
              "49                       0.00875                  0.01480             0.10701   \n",
              "57                       0.06377                  0.00000             0.00000   \n",
              "62                       0.00411                  0.00000             0.02748   \n",
              "120                      0.01708                  0.01430             0.05520   \n",
              "...                          ...                      ...                 ...   \n",
              "1648                     0.02267                  0.01685             0.13145   \n",
              "1669                     0.05170                  0.00000             0.00865   \n",
              "1680                     0.08434                  0.00000             0.05688   \n",
              "1696                     0.00000                  0.00000             0.00000   \n",
              "1705                     0.00000                  0.01236             0.00000   \n",
              "\n",
              "      gender_and_sexuality  race_and_america  families_and_home  \\\n",
              "45                 0.00000           0.03289            0.00000   \n",
              "49                 0.00680           0.00000            0.00299   \n",
              "57                 0.00079           0.00304            0.00000   \n",
              "62                 0.05243           0.00000            0.00227   \n",
              "120                0.00000           0.00562            0.03415   \n",
              "...                    ...               ...                ...   \n",
              "1648               0.00000           0.00000            0.00816   \n",
              "1669               0.00000           0.00000            0.00000   \n",
              "1680               0.00534           0.00000            0.04023   \n",
              "1696               0.00000           0.03155            0.09121   \n",
              "1705               0.00000           0.02059            0.00548   \n",
              "\n",
              "      middle_and_high_school  classics  vampire_novel  boy_protagonist  \\\n",
              "45                   0.00000   0.00000        0.00000          0.00142   \n",
              "49                   0.00292   0.02466        0.00000          0.00000   \n",
              "57                   0.00000   0.00000        0.00123          0.00000   \n",
              "62                   0.00111   0.00000        0.04317          0.02825   \n",
              "120                  0.00000   0.00306        0.00000          0.00165   \n",
              "...                      ...       ...            ...              ...   \n",
              "1648                 0.00000   0.00953        0.00148          0.00000   \n",
              "1669                 0.05903   0.00252        0.00133          0.00000   \n",
              "1680                 0.00360   0.00000        0.00175          0.00391   \n",
              "1696                 0.00000   0.00000        0.00000          0.13969   \n",
              "1705                 0.01334   0.10307        0.00000          0.00000   \n",
              "\n",
              "      fantasy  lgbtq_sexuality  girl_protagonist  \n",
              "45    0.00000          0.00300           0.00000  \n",
              "49    0.00000          0.00000           0.07349  \n",
              "57    0.00131          0.00000           0.00000  \n",
              "62    0.00000          0.00636           0.00000  \n",
              "120   0.00888          0.00000           0.09481  \n",
              "...       ...              ...               ...  \n",
              "1648  0.00000          0.00000           0.10183  \n",
              "1669  0.01285          0.00191           0.00000  \n",
              "1680  0.00000          0.00000           0.00000  \n",
              "1696  0.00000          0.00000           0.00839  \n",
              "1705  0.00000          0.03949           0.00000  \n",
              "\n",
              "[79 rows x 18 columns]"
            ],
            "text/html": [
              "\n",
              "  <div id=\"df-5cc5a8ec-3ca7-415c-8e95-7a152c842049\" class=\"colab-df-container\">\n",
              "    <div>\n",
              "<style scoped>\n",
              "    .dataframe tbody tr th:only-of-type {\n",
              "        vertical-align: middle;\n",
              "    }\n",
              "\n",
              "    .dataframe tbody tr th {\n",
              "        vertical-align: top;\n",
              "    }\n",
              "\n",
              "    .dataframe thead th {\n",
              "        text-align: right;\n",
              "    }\n",
              "</style>\n",
              "<table border=\"1\" class=\"dataframe\">\n",
              "  <thead>\n",
              "    <tr style=\"text-align: right;\">\n",
              "      <th></th>\n",
              "      <th>author</th>\n",
              "      <th>title</th>\n",
              "      <th>label</th>\n",
              "      <th>description</th>\n",
              "      <th>nyt_author</th>\n",
              "      <th>school_friendship_and_love</th>\n",
              "      <th>award_winning_childrens</th>\n",
              "      <th>young_woman_protag</th>\n",
              "      <th>gender_and_sexuality</th>\n",
              "      <th>race_and_america</th>\n",
              "      <th>families_and_home</th>\n",
              "      <th>middle_and_high_school</th>\n",
              "      <th>classics</th>\n",
              "      <th>vampire_novel</th>\n",
              "      <th>boy_protagonist</th>\n",
              "      <th>fantasy</th>\n",
              "      <th>lgbtq_sexuality</th>\n",
              "      <th>girl_protagonist</th>\n",
              "    </tr>\n",
              "  </thead>\n",
              "  <tbody>\n",
              "    <tr>\n",
              "      <th>45</th>\n",
              "      <td>Eric Braun</td>\n",
              "      <td>Protest Movements</td>\n",
              "      <td>1</td>\n",
              "      <td>discus main concern protest movement amazon com</td>\n",
              "      <td>0.00000</td>\n",
              "      <td>0.00459</td>\n",
              "      <td>0.00000</td>\n",
              "      <td>0.00017</td>\n",
              "      <td>0.00000</td>\n",
              "      <td>0.03289</td>\n",
              "      <td>0.00000</td>\n",
              "      <td>0.00000</td>\n",
              "      <td>0.00000</td>\n",
              "      <td>0.00000</td>\n",
              "      <td>0.00142</td>\n",
              "      <td>0.00000</td>\n",
              "      <td>0.00300</td>\n",
              "      <td>0.00000</td>\n",
              "    </tr>\n",
              "    <tr>\n",
              "      <th>49</th>\n",
              "      <td>Kim Taylor Blakemore</td>\n",
              "      <td>Bowery Girl</td>\n",
              "      <td>1</td>\n",
              "      <td>willa award author taylor blakemore poignant h...</td>\n",
              "      <td>0.04877</td>\n",
              "      <td>0.00875</td>\n",
              "      <td>0.01480</td>\n",
              "      <td>0.10701</td>\n",
              "      <td>0.00680</td>\n",
              "      <td>0.00000</td>\n",
              "      <td>0.00299</td>\n",
              "      <td>0.00292</td>\n",
              "      <td>0.02466</td>\n",
              "      <td>0.00000</td>\n",
              "      <td>0.00000</td>\n",
              "      <td>0.00000</td>\n",
              "      <td>0.00000</td>\n",
              "      <td>0.07349</td>\n",
              "    </tr>\n",
              "    <tr>\n",
              "      <th>57</th>\n",
              "      <td>P.C. Cast and Kristin Cast</td>\n",
              "      <td>Burned</td>\n",
              "      <td>0</td>\n",
              "      <td>zoey fate hang balance friend otherworld serio...</td>\n",
              "      <td>0.00000</td>\n",
              "      <td>0.06377</td>\n",
              "      <td>0.00000</td>\n",
              "      <td>0.00000</td>\n",
              "      <td>0.00079</td>\n",
              "      <td>0.00304</td>\n",
              "      <td>0.00000</td>\n",
              "      <td>0.00000</td>\n",
              "      <td>0.00000</td>\n",
              "      <td>0.00123</td>\n",
              "      <td>0.00000</td>\n",
              "      <td>0.00131</td>\n",
              "      <td>0.00000</td>\n",
              "      <td>0.00000</td>\n",
              "    </tr>\n",
              "    <tr>\n",
              "      <th>62</th>\n",
              "      <td>Eric Devine</td>\n",
              "      <td>Look Past</td>\n",
              "      <td>1</td>\n",
              "      <td>someone mary mathison daughter prominent conse...</td>\n",
              "      <td>0.00279</td>\n",
              "      <td>0.00411</td>\n",
              "      <td>0.00000</td>\n",
              "      <td>0.02748</td>\n",
              "      <td>0.05243</td>\n",
              "      <td>0.00000</td>\n",
              "      <td>0.00227</td>\n",
              "      <td>0.00111</td>\n",
              "      <td>0.00000</td>\n",
              "      <td>0.04317</td>\n",
              "      <td>0.02825</td>\n",
              "      <td>0.00000</td>\n",
              "      <td>0.00636</td>\n",
              "      <td>0.00000</td>\n",
              "    </tr>\n",
              "    <tr>\n",
              "      <th>120</th>\n",
              "      <td>Sophie Kinsella</td>\n",
              "      <td>Twenties Girl</td>\n",
              "      <td>0</td>\n",
              "      <td>lara lington overactive imagination imaginatio...</td>\n",
              "      <td>0.00590</td>\n",
              "      <td>0.01708</td>\n",
              "      <td>0.01430</td>\n",
              "      <td>0.05520</td>\n",
              "      <td>0.00000</td>\n",
              "      <td>0.00562</td>\n",
              "      <td>0.03415</td>\n",
              "      <td>0.00000</td>\n",
              "      <td>0.00306</td>\n",
              "      <td>0.00000</td>\n",
              "      <td>0.00165</td>\n",
              "      <td>0.00888</td>\n",
              "      <td>0.00000</td>\n",
              "      <td>0.09481</td>\n",
              "    </tr>\n",
              "    <tr>\n",
              "      <th>...</th>\n",
              "      <td>...</td>\n",
              "      <td>...</td>\n",
              "      <td>...</td>\n",
              "      <td>...</td>\n",
              "      <td>...</td>\n",
              "      <td>...</td>\n",
              "      <td>...</td>\n",
              "      <td>...</td>\n",
              "      <td>...</td>\n",
              "      <td>...</td>\n",
              "      <td>...</td>\n",
              "      <td>...</td>\n",
              "      <td>...</td>\n",
              "      <td>...</td>\n",
              "      <td>...</td>\n",
              "      <td>...</td>\n",
              "      <td>...</td>\n",
              "      <td>...</td>\n",
              "    </tr>\n",
              "    <tr>\n",
              "      <th>1648</th>\n",
              "      <td>Kate Morton</td>\n",
              "      <td>The Forgotten Garden</td>\n",
              "      <td>0</td>\n",
              "      <td>child first world war little girl ship austral...</td>\n",
              "      <td>0.00000</td>\n",
              "      <td>0.02267</td>\n",
              "      <td>0.01685</td>\n",
              "      <td>0.13145</td>\n",
              "      <td>0.00000</td>\n",
              "      <td>0.00000</td>\n",
              "      <td>0.00816</td>\n",
              "      <td>0.00000</td>\n",
              "      <td>0.00953</td>\n",
              "      <td>0.00148</td>\n",
              "      <td>0.00000</td>\n",
              "      <td>0.00000</td>\n",
              "      <td>0.00000</td>\n",
              "      <td>0.10183</td>\n",
              "    </tr>\n",
              "    <tr>\n",
              "      <th>1669</th>\n",
              "      <td>John Green</td>\n",
              "      <td>Will Grayson, Will Grayson</td>\n",
              "      <td>0</td>\n",
              "      <td>cold night unlikely corner chicago grayson cro...</td>\n",
              "      <td>0.01940</td>\n",
              "      <td>0.05170</td>\n",
              "      <td>0.00000</td>\n",
              "      <td>0.00865</td>\n",
              "      <td>0.00000</td>\n",
              "      <td>0.00000</td>\n",
              "      <td>0.00000</td>\n",
              "      <td>0.05903</td>\n",
              "      <td>0.00252</td>\n",
              "      <td>0.00133</td>\n",
              "      <td>0.00000</td>\n",
              "      <td>0.01285</td>\n",
              "      <td>0.00191</td>\n",
              "      <td>0.00000</td>\n",
              "    </tr>\n",
              "    <tr>\n",
              "      <th>1680</th>\n",
              "      <td>Nicholas Sparks</td>\n",
              "      <td>The Choice</td>\n",
              "      <td>0</td>\n",
              "      <td>opposite new york time love medical student ma...</td>\n",
              "      <td>0.04161</td>\n",
              "      <td>0.08434</td>\n",
              "      <td>0.00000</td>\n",
              "      <td>0.05688</td>\n",
              "      <td>0.00534</td>\n",
              "      <td>0.00000</td>\n",
              "      <td>0.04023</td>\n",
              "      <td>0.00360</td>\n",
              "      <td>0.00000</td>\n",
              "      <td>0.00175</td>\n",
              "      <td>0.00391</td>\n",
              "      <td>0.00000</td>\n",
              "      <td>0.00000</td>\n",
              "      <td>0.00000</td>\n",
              "    </tr>\n",
              "    <tr>\n",
              "      <th>1696</th>\n",
              "      <td>Jeffrey Eugenides</td>\n",
              "      <td>The Virgin Suicides</td>\n",
              "      <td>0</td>\n",
              "      <td>virgin suicide story disintegration american f...</td>\n",
              "      <td>0.00000</td>\n",
              "      <td>0.00000</td>\n",
              "      <td>0.00000</td>\n",
              "      <td>0.00000</td>\n",
              "      <td>0.00000</td>\n",
              "      <td>0.03155</td>\n",
              "      <td>0.09121</td>\n",
              "      <td>0.00000</td>\n",
              "      <td>0.00000</td>\n",
              "      <td>0.00000</td>\n",
              "      <td>0.13969</td>\n",
              "      <td>0.00000</td>\n",
              "      <td>0.00000</td>\n",
              "      <td>0.00839</td>\n",
              "    </tr>\n",
              "    <tr>\n",
              "      <th>1705</th>\n",
              "      <td>Paulo Freire</td>\n",
              "      <td>Pedagogy of the Oppressed</td>\n",
              "      <td>1</td>\n",
              "      <td>portuguese pedagogy english methodology late p...</td>\n",
              "      <td>0.02218</td>\n",
              "      <td>0.00000</td>\n",
              "      <td>0.01236</td>\n",
              "      <td>0.00000</td>\n",
              "      <td>0.00000</td>\n",
              "      <td>0.02059</td>\n",
              "      <td>0.00548</td>\n",
              "      <td>0.01334</td>\n",
              "      <td>0.10307</td>\n",
              "      <td>0.00000</td>\n",
              "      <td>0.00000</td>\n",
              "      <td>0.00000</td>\n",
              "      <td>0.03949</td>\n",
              "      <td>0.00000</td>\n",
              "    </tr>\n",
              "  </tbody>\n",
              "</table>\n",
              "<p>79 rows × 18 columns</p>\n",
              "</div>\n",
              "    <div class=\"colab-df-buttons\">\n",
              "\n",
              "  <div class=\"colab-df-container\">\n",
              "    <button class=\"colab-df-convert\" onclick=\"convertToInteractive('df-5cc5a8ec-3ca7-415c-8e95-7a152c842049')\"\n",
              "            title=\"Convert this dataframe to an interactive table.\"\n",
              "            style=\"display:none;\">\n",
              "\n",
              "  <svg xmlns=\"http://www.w3.org/2000/svg\" height=\"24px\" viewBox=\"0 -960 960 960\">\n",
              "    <path d=\"M120-120v-720h720v720H120Zm60-500h600v-160H180v160Zm220 220h160v-160H400v160Zm0 220h160v-160H400v160ZM180-400h160v-160H180v160Zm440 0h160v-160H620v160ZM180-180h160v-160H180v160Zm440 0h160v-160H620v160Z\"/>\n",
              "  </svg>\n",
              "    </button>\n",
              "\n",
              "  <style>\n",
              "    .colab-df-container {\n",
              "      display:flex;\n",
              "      gap: 12px;\n",
              "    }\n",
              "\n",
              "    .colab-df-convert {\n",
              "      background-color: #E8F0FE;\n",
              "      border: none;\n",
              "      border-radius: 50%;\n",
              "      cursor: pointer;\n",
              "      display: none;\n",
              "      fill: #1967D2;\n",
              "      height: 32px;\n",
              "      padding: 0 0 0 0;\n",
              "      width: 32px;\n",
              "    }\n",
              "\n",
              "    .colab-df-convert:hover {\n",
              "      background-color: #E2EBFA;\n",
              "      box-shadow: 0px 1px 2px rgba(60, 64, 67, 0.3), 0px 1px 3px 1px rgba(60, 64, 67, 0.15);\n",
              "      fill: #174EA6;\n",
              "    }\n",
              "\n",
              "    .colab-df-buttons div {\n",
              "      margin-bottom: 4px;\n",
              "    }\n",
              "\n",
              "    [theme=dark] .colab-df-convert {\n",
              "      background-color: #3B4455;\n",
              "      fill: #D2E3FC;\n",
              "    }\n",
              "\n",
              "    [theme=dark] .colab-df-convert:hover {\n",
              "      background-color: #434B5C;\n",
              "      box-shadow: 0px 1px 3px 1px rgba(0, 0, 0, 0.15);\n",
              "      filter: drop-shadow(0px 1px 2px rgba(0, 0, 0, 0.3));\n",
              "      fill: #FFFFFF;\n",
              "    }\n",
              "  </style>\n",
              "\n",
              "    <script>\n",
              "      const buttonEl =\n",
              "        document.querySelector('#df-5cc5a8ec-3ca7-415c-8e95-7a152c842049 button.colab-df-convert');\n",
              "      buttonEl.style.display =\n",
              "        google.colab.kernel.accessAllowed ? 'block' : 'none';\n",
              "\n",
              "      async function convertToInteractive(key) {\n",
              "        const element = document.querySelector('#df-5cc5a8ec-3ca7-415c-8e95-7a152c842049');\n",
              "        const dataTable =\n",
              "          await google.colab.kernel.invokeFunction('convertToInteractive',\n",
              "                                                    [key], {});\n",
              "        if (!dataTable) return;\n",
              "\n",
              "        const docLinkHtml = 'Like what you see? Visit the ' +\n",
              "          '<a target=\"_blank\" href=https://colab.research.google.com/notebooks/data_table.ipynb>data table notebook</a>'\n",
              "          + ' to learn more about interactive tables.';\n",
              "        element.innerHTML = '';\n",
              "        dataTable['output_type'] = 'display_data';\n",
              "        await google.colab.output.renderOutput(dataTable, element);\n",
              "        const docLink = document.createElement('div');\n",
              "        docLink.innerHTML = docLinkHtml;\n",
              "        element.appendChild(docLink);\n",
              "      }\n",
              "    </script>\n",
              "  </div>\n",
              "\n",
              "\n",
              "<div id=\"df-a940a334-1d63-4e35-b2bf-6b38304fb46e\">\n",
              "  <button class=\"colab-df-quickchart\" onclick=\"quickchart('df-a940a334-1d63-4e35-b2bf-6b38304fb46e')\"\n",
              "            title=\"Suggest charts\"\n",
              "            style=\"display:none;\">\n",
              "\n",
              "<svg xmlns=\"http://www.w3.org/2000/svg\" height=\"24px\"viewBox=\"0 0 24 24\"\n",
              "     width=\"24px\">\n",
              "    <g>\n",
              "        <path d=\"M19 3H5c-1.1 0-2 .9-2 2v14c0 1.1.9 2 2 2h14c1.1 0 2-.9 2-2V5c0-1.1-.9-2-2-2zM9 17H7v-7h2v7zm4 0h-2V7h2v10zm4 0h-2v-4h2v4z\"/>\n",
              "    </g>\n",
              "</svg>\n",
              "  </button>\n",
              "\n",
              "<style>\n",
              "  .colab-df-quickchart {\n",
              "      --bg-color: #E8F0FE;\n",
              "      --fill-color: #1967D2;\n",
              "      --hover-bg-color: #E2EBFA;\n",
              "      --hover-fill-color: #174EA6;\n",
              "      --disabled-fill-color: #AAA;\n",
              "      --disabled-bg-color: #DDD;\n",
              "  }\n",
              "\n",
              "  [theme=dark] .colab-df-quickchart {\n",
              "      --bg-color: #3B4455;\n",
              "      --fill-color: #D2E3FC;\n",
              "      --hover-bg-color: #434B5C;\n",
              "      --hover-fill-color: #FFFFFF;\n",
              "      --disabled-bg-color: #3B4455;\n",
              "      --disabled-fill-color: #666;\n",
              "  }\n",
              "\n",
              "  .colab-df-quickchart {\n",
              "    background-color: var(--bg-color);\n",
              "    border: none;\n",
              "    border-radius: 50%;\n",
              "    cursor: pointer;\n",
              "    display: none;\n",
              "    fill: var(--fill-color);\n",
              "    height: 32px;\n",
              "    padding: 0;\n",
              "    width: 32px;\n",
              "  }\n",
              "\n",
              "  .colab-df-quickchart:hover {\n",
              "    background-color: var(--hover-bg-color);\n",
              "    box-shadow: 0 1px 2px rgba(60, 64, 67, 0.3), 0 1px 3px 1px rgba(60, 64, 67, 0.15);\n",
              "    fill: var(--button-hover-fill-color);\n",
              "  }\n",
              "\n",
              "  .colab-df-quickchart-complete:disabled,\n",
              "  .colab-df-quickchart-complete:disabled:hover {\n",
              "    background-color: var(--disabled-bg-color);\n",
              "    fill: var(--disabled-fill-color);\n",
              "    box-shadow: none;\n",
              "  }\n",
              "\n",
              "  .colab-df-spinner {\n",
              "    border: 2px solid var(--fill-color);\n",
              "    border-color: transparent;\n",
              "    border-bottom-color: var(--fill-color);\n",
              "    animation:\n",
              "      spin 1s steps(1) infinite;\n",
              "  }\n",
              "\n",
              "  @keyframes spin {\n",
              "    0% {\n",
              "      border-color: transparent;\n",
              "      border-bottom-color: var(--fill-color);\n",
              "      border-left-color: var(--fill-color);\n",
              "    }\n",
              "    20% {\n",
              "      border-color: transparent;\n",
              "      border-left-color: var(--fill-color);\n",
              "      border-top-color: var(--fill-color);\n",
              "    }\n",
              "    30% {\n",
              "      border-color: transparent;\n",
              "      border-left-color: var(--fill-color);\n",
              "      border-top-color: var(--fill-color);\n",
              "      border-right-color: var(--fill-color);\n",
              "    }\n",
              "    40% {\n",
              "      border-color: transparent;\n",
              "      border-right-color: var(--fill-color);\n",
              "      border-top-color: var(--fill-color);\n",
              "    }\n",
              "    60% {\n",
              "      border-color: transparent;\n",
              "      border-right-color: var(--fill-color);\n",
              "    }\n",
              "    80% {\n",
              "      border-color: transparent;\n",
              "      border-right-color: var(--fill-color);\n",
              "      border-bottom-color: var(--fill-color);\n",
              "    }\n",
              "    90% {\n",
              "      border-color: transparent;\n",
              "      border-bottom-color: var(--fill-color);\n",
              "    }\n",
              "  }\n",
              "</style>\n",
              "\n",
              "  <script>\n",
              "    async function quickchart(key) {\n",
              "      const quickchartButtonEl =\n",
              "        document.querySelector('#' + key + ' button');\n",
              "      quickchartButtonEl.disabled = true;  // To prevent multiple clicks.\n",
              "      quickchartButtonEl.classList.add('colab-df-spinner');\n",
              "      try {\n",
              "        const charts = await google.colab.kernel.invokeFunction(\n",
              "            'suggestCharts', [key], {});\n",
              "      } catch (error) {\n",
              "        console.error('Error during call to suggestCharts:', error);\n",
              "      }\n",
              "      quickchartButtonEl.classList.remove('colab-df-spinner');\n",
              "      quickchartButtonEl.classList.add('colab-df-quickchart-complete');\n",
              "    }\n",
              "    (() => {\n",
              "      let quickchartButtonEl =\n",
              "        document.querySelector('#df-a940a334-1d63-4e35-b2bf-6b38304fb46e button');\n",
              "      quickchartButtonEl.style.display =\n",
              "        google.colab.kernel.accessAllowed ? 'block' : 'none';\n",
              "    })();\n",
              "  </script>\n",
              "</div>\n",
              "    </div>\n",
              "  </div>\n"
            ]
          },
          "metadata": {},
          "execution_count": 185
        }
      ]
    },
    {
      "cell_type": "code",
      "source": [
        "wrong_test_preds = prediction_df[prediction_df.index.isin(different_inds)]\n",
        "wrong_test_preds = wrong_test_preds.loc[:, ['author', 'title', 'label']]\n",
        "wrong_test_preds"
      ],
      "metadata": {
        "colab": {
          "base_uri": "https://localhost:8080/",
          "height": 424
        },
        "id": "GSuiL2MEcws4",
        "outputId": "3af67553-0a2e-4ffd-b5ed-6fb94090dee5"
      },
      "execution_count": 192,
      "outputs": [
        {
          "output_type": "display_data",
          "data": {
            "text/plain": [
              "<IPython.core.display.HTML object>"
            ],
            "text/html": [
              "\n",
              "  <style>\n",
              "    pre {\n",
              "        white-space: pre-wrap;\n",
              "    }\n",
              "  </style>\n",
              "  "
            ]
          },
          "metadata": {}
        },
        {
          "output_type": "execute_result",
          "data": {
            "text/plain": [
              "                          author                       title  label\n",
              "45                    Eric Braun           Protest Movements      1\n",
              "49          Kim Taylor Blakemore                 Bowery Girl      1\n",
              "57    P.C. Cast and Kristin Cast                      Burned      0\n",
              "62                   Eric Devine                   Look Past      1\n",
              "120              Sophie Kinsella               Twenties Girl      0\n",
              "...                          ...                         ...    ...\n",
              "1648                 Kate Morton        The Forgotten Garden      0\n",
              "1669                  John Green  Will Grayson, Will Grayson      0\n",
              "1680             Nicholas Sparks                  The Choice      0\n",
              "1696           Jeffrey Eugenides         The Virgin Suicides      0\n",
              "1705                Paulo Freire   Pedagogy of the Oppressed      1\n",
              "\n",
              "[79 rows x 3 columns]"
            ],
            "text/html": [
              "\n",
              "  <div id=\"df-99fcb7fb-65f3-4a48-a8a7-f2af6b0e5177\" class=\"colab-df-container\">\n",
              "    <div>\n",
              "<style scoped>\n",
              "    .dataframe tbody tr th:only-of-type {\n",
              "        vertical-align: middle;\n",
              "    }\n",
              "\n",
              "    .dataframe tbody tr th {\n",
              "        vertical-align: top;\n",
              "    }\n",
              "\n",
              "    .dataframe thead th {\n",
              "        text-align: right;\n",
              "    }\n",
              "</style>\n",
              "<table border=\"1\" class=\"dataframe\">\n",
              "  <thead>\n",
              "    <tr style=\"text-align: right;\">\n",
              "      <th></th>\n",
              "      <th>author</th>\n",
              "      <th>title</th>\n",
              "      <th>label</th>\n",
              "    </tr>\n",
              "  </thead>\n",
              "  <tbody>\n",
              "    <tr>\n",
              "      <th>45</th>\n",
              "      <td>Eric Braun</td>\n",
              "      <td>Protest Movements</td>\n",
              "      <td>1</td>\n",
              "    </tr>\n",
              "    <tr>\n",
              "      <th>49</th>\n",
              "      <td>Kim Taylor Blakemore</td>\n",
              "      <td>Bowery Girl</td>\n",
              "      <td>1</td>\n",
              "    </tr>\n",
              "    <tr>\n",
              "      <th>57</th>\n",
              "      <td>P.C. Cast and Kristin Cast</td>\n",
              "      <td>Burned</td>\n",
              "      <td>0</td>\n",
              "    </tr>\n",
              "    <tr>\n",
              "      <th>62</th>\n",
              "      <td>Eric Devine</td>\n",
              "      <td>Look Past</td>\n",
              "      <td>1</td>\n",
              "    </tr>\n",
              "    <tr>\n",
              "      <th>120</th>\n",
              "      <td>Sophie Kinsella</td>\n",
              "      <td>Twenties Girl</td>\n",
              "      <td>0</td>\n",
              "    </tr>\n",
              "    <tr>\n",
              "      <th>...</th>\n",
              "      <td>...</td>\n",
              "      <td>...</td>\n",
              "      <td>...</td>\n",
              "    </tr>\n",
              "    <tr>\n",
              "      <th>1648</th>\n",
              "      <td>Kate Morton</td>\n",
              "      <td>The Forgotten Garden</td>\n",
              "      <td>0</td>\n",
              "    </tr>\n",
              "    <tr>\n",
              "      <th>1669</th>\n",
              "      <td>John Green</td>\n",
              "      <td>Will Grayson, Will Grayson</td>\n",
              "      <td>0</td>\n",
              "    </tr>\n",
              "    <tr>\n",
              "      <th>1680</th>\n",
              "      <td>Nicholas Sparks</td>\n",
              "      <td>The Choice</td>\n",
              "      <td>0</td>\n",
              "    </tr>\n",
              "    <tr>\n",
              "      <th>1696</th>\n",
              "      <td>Jeffrey Eugenides</td>\n",
              "      <td>The Virgin Suicides</td>\n",
              "      <td>0</td>\n",
              "    </tr>\n",
              "    <tr>\n",
              "      <th>1705</th>\n",
              "      <td>Paulo Freire</td>\n",
              "      <td>Pedagogy of the Oppressed</td>\n",
              "      <td>1</td>\n",
              "    </tr>\n",
              "  </tbody>\n",
              "</table>\n",
              "<p>79 rows × 3 columns</p>\n",
              "</div>\n",
              "    <div class=\"colab-df-buttons\">\n",
              "\n",
              "  <div class=\"colab-df-container\">\n",
              "    <button class=\"colab-df-convert\" onclick=\"convertToInteractive('df-99fcb7fb-65f3-4a48-a8a7-f2af6b0e5177')\"\n",
              "            title=\"Convert this dataframe to an interactive table.\"\n",
              "            style=\"display:none;\">\n",
              "\n",
              "  <svg xmlns=\"http://www.w3.org/2000/svg\" height=\"24px\" viewBox=\"0 -960 960 960\">\n",
              "    <path d=\"M120-120v-720h720v720H120Zm60-500h600v-160H180v160Zm220 220h160v-160H400v160Zm0 220h160v-160H400v160ZM180-400h160v-160H180v160Zm440 0h160v-160H620v160ZM180-180h160v-160H180v160Zm440 0h160v-160H620v160Z\"/>\n",
              "  </svg>\n",
              "    </button>\n",
              "\n",
              "  <style>\n",
              "    .colab-df-container {\n",
              "      display:flex;\n",
              "      gap: 12px;\n",
              "    }\n",
              "\n",
              "    .colab-df-convert {\n",
              "      background-color: #E8F0FE;\n",
              "      border: none;\n",
              "      border-radius: 50%;\n",
              "      cursor: pointer;\n",
              "      display: none;\n",
              "      fill: #1967D2;\n",
              "      height: 32px;\n",
              "      padding: 0 0 0 0;\n",
              "      width: 32px;\n",
              "    }\n",
              "\n",
              "    .colab-df-convert:hover {\n",
              "      background-color: #E2EBFA;\n",
              "      box-shadow: 0px 1px 2px rgba(60, 64, 67, 0.3), 0px 1px 3px 1px rgba(60, 64, 67, 0.15);\n",
              "      fill: #174EA6;\n",
              "    }\n",
              "\n",
              "    .colab-df-buttons div {\n",
              "      margin-bottom: 4px;\n",
              "    }\n",
              "\n",
              "    [theme=dark] .colab-df-convert {\n",
              "      background-color: #3B4455;\n",
              "      fill: #D2E3FC;\n",
              "    }\n",
              "\n",
              "    [theme=dark] .colab-df-convert:hover {\n",
              "      background-color: #434B5C;\n",
              "      box-shadow: 0px 1px 3px 1px rgba(0, 0, 0, 0.15);\n",
              "      filter: drop-shadow(0px 1px 2px rgba(0, 0, 0, 0.3));\n",
              "      fill: #FFFFFF;\n",
              "    }\n",
              "  </style>\n",
              "\n",
              "    <script>\n",
              "      const buttonEl =\n",
              "        document.querySelector('#df-99fcb7fb-65f3-4a48-a8a7-f2af6b0e5177 button.colab-df-convert');\n",
              "      buttonEl.style.display =\n",
              "        google.colab.kernel.accessAllowed ? 'block' : 'none';\n",
              "\n",
              "      async function convertToInteractive(key) {\n",
              "        const element = document.querySelector('#df-99fcb7fb-65f3-4a48-a8a7-f2af6b0e5177');\n",
              "        const dataTable =\n",
              "          await google.colab.kernel.invokeFunction('convertToInteractive',\n",
              "                                                    [key], {});\n",
              "        if (!dataTable) return;\n",
              "\n",
              "        const docLinkHtml = 'Like what you see? Visit the ' +\n",
              "          '<a target=\"_blank\" href=https://colab.research.google.com/notebooks/data_table.ipynb>data table notebook</a>'\n",
              "          + ' to learn more about interactive tables.';\n",
              "        element.innerHTML = '';\n",
              "        dataTable['output_type'] = 'display_data';\n",
              "        await google.colab.output.renderOutput(dataTable, element);\n",
              "        const docLink = document.createElement('div');\n",
              "        docLink.innerHTML = docLinkHtml;\n",
              "        element.appendChild(docLink);\n",
              "      }\n",
              "    </script>\n",
              "  </div>\n",
              "\n",
              "\n",
              "<div id=\"df-d553d13b-cfa4-42cb-86ab-b40ae43881f7\">\n",
              "  <button class=\"colab-df-quickchart\" onclick=\"quickchart('df-d553d13b-cfa4-42cb-86ab-b40ae43881f7')\"\n",
              "            title=\"Suggest charts\"\n",
              "            style=\"display:none;\">\n",
              "\n",
              "<svg xmlns=\"http://www.w3.org/2000/svg\" height=\"24px\"viewBox=\"0 0 24 24\"\n",
              "     width=\"24px\">\n",
              "    <g>\n",
              "        <path d=\"M19 3H5c-1.1 0-2 .9-2 2v14c0 1.1.9 2 2 2h14c1.1 0 2-.9 2-2V5c0-1.1-.9-2-2-2zM9 17H7v-7h2v7zm4 0h-2V7h2v10zm4 0h-2v-4h2v4z\"/>\n",
              "    </g>\n",
              "</svg>\n",
              "  </button>\n",
              "\n",
              "<style>\n",
              "  .colab-df-quickchart {\n",
              "      --bg-color: #E8F0FE;\n",
              "      --fill-color: #1967D2;\n",
              "      --hover-bg-color: #E2EBFA;\n",
              "      --hover-fill-color: #174EA6;\n",
              "      --disabled-fill-color: #AAA;\n",
              "      --disabled-bg-color: #DDD;\n",
              "  }\n",
              "\n",
              "  [theme=dark] .colab-df-quickchart {\n",
              "      --bg-color: #3B4455;\n",
              "      --fill-color: #D2E3FC;\n",
              "      --hover-bg-color: #434B5C;\n",
              "      --hover-fill-color: #FFFFFF;\n",
              "      --disabled-bg-color: #3B4455;\n",
              "      --disabled-fill-color: #666;\n",
              "  }\n",
              "\n",
              "  .colab-df-quickchart {\n",
              "    background-color: var(--bg-color);\n",
              "    border: none;\n",
              "    border-radius: 50%;\n",
              "    cursor: pointer;\n",
              "    display: none;\n",
              "    fill: var(--fill-color);\n",
              "    height: 32px;\n",
              "    padding: 0;\n",
              "    width: 32px;\n",
              "  }\n",
              "\n",
              "  .colab-df-quickchart:hover {\n",
              "    background-color: var(--hover-bg-color);\n",
              "    box-shadow: 0 1px 2px rgba(60, 64, 67, 0.3), 0 1px 3px 1px rgba(60, 64, 67, 0.15);\n",
              "    fill: var(--button-hover-fill-color);\n",
              "  }\n",
              "\n",
              "  .colab-df-quickchart-complete:disabled,\n",
              "  .colab-df-quickchart-complete:disabled:hover {\n",
              "    background-color: var(--disabled-bg-color);\n",
              "    fill: var(--disabled-fill-color);\n",
              "    box-shadow: none;\n",
              "  }\n",
              "\n",
              "  .colab-df-spinner {\n",
              "    border: 2px solid var(--fill-color);\n",
              "    border-color: transparent;\n",
              "    border-bottom-color: var(--fill-color);\n",
              "    animation:\n",
              "      spin 1s steps(1) infinite;\n",
              "  }\n",
              "\n",
              "  @keyframes spin {\n",
              "    0% {\n",
              "      border-color: transparent;\n",
              "      border-bottom-color: var(--fill-color);\n",
              "      border-left-color: var(--fill-color);\n",
              "    }\n",
              "    20% {\n",
              "      border-color: transparent;\n",
              "      border-left-color: var(--fill-color);\n",
              "      border-top-color: var(--fill-color);\n",
              "    }\n",
              "    30% {\n",
              "      border-color: transparent;\n",
              "      border-left-color: var(--fill-color);\n",
              "      border-top-color: var(--fill-color);\n",
              "      border-right-color: var(--fill-color);\n",
              "    }\n",
              "    40% {\n",
              "      border-color: transparent;\n",
              "      border-right-color: var(--fill-color);\n",
              "      border-top-color: var(--fill-color);\n",
              "    }\n",
              "    60% {\n",
              "      border-color: transparent;\n",
              "      border-right-color: var(--fill-color);\n",
              "    }\n",
              "    80% {\n",
              "      border-color: transparent;\n",
              "      border-right-color: var(--fill-color);\n",
              "      border-bottom-color: var(--fill-color);\n",
              "    }\n",
              "    90% {\n",
              "      border-color: transparent;\n",
              "      border-bottom-color: var(--fill-color);\n",
              "    }\n",
              "  }\n",
              "</style>\n",
              "\n",
              "  <script>\n",
              "    async function quickchart(key) {\n",
              "      const quickchartButtonEl =\n",
              "        document.querySelector('#' + key + ' button');\n",
              "      quickchartButtonEl.disabled = true;  // To prevent multiple clicks.\n",
              "      quickchartButtonEl.classList.add('colab-df-spinner');\n",
              "      try {\n",
              "        const charts = await google.colab.kernel.invokeFunction(\n",
              "            'suggestCharts', [key], {});\n",
              "      } catch (error) {\n",
              "        console.error('Error during call to suggestCharts:', error);\n",
              "      }\n",
              "      quickchartButtonEl.classList.remove('colab-df-spinner');\n",
              "      quickchartButtonEl.classList.add('colab-df-quickchart-complete');\n",
              "    }\n",
              "    (() => {\n",
              "      let quickchartButtonEl =\n",
              "        document.querySelector('#df-d553d13b-cfa4-42cb-86ab-b40ae43881f7 button');\n",
              "      quickchartButtonEl.style.display =\n",
              "        google.colab.kernel.accessAllowed ? 'block' : 'none';\n",
              "    })();\n",
              "  </script>\n",
              "</div>\n",
              "    </div>\n",
              "  </div>\n"
            ]
          },
          "metadata": {},
          "execution_count": 192
        }
      ]
    },
    {
      "cell_type": "code",
      "source": [
        "wrong_test_preds.to_csv('wrong_test_preds.csv', index=False)"
      ],
      "metadata": {
        "colab": {
          "base_uri": "https://localhost:8080/",
          "height": 17
        },
        "id": "5TeKfA7Wk-8l",
        "outputId": "a4fb5273-e366-4f9f-eff5-70ed1bced2fa"
      },
      "execution_count": 193,
      "outputs": [
        {
          "output_type": "display_data",
          "data": {
            "text/plain": [
              "<IPython.core.display.HTML object>"
            ],
            "text/html": [
              "\n",
              "  <style>\n",
              "    pre {\n",
              "        white-space: pre-wrap;\n",
              "    }\n",
              "  </style>\n",
              "  "
            ]
          },
          "metadata": {}
        }
      ]
    },
    {
      "cell_type": "code",
      "source": [
        "wrong_test_preds_full = prediction_df[prediction_df.index.isin(different_inds)]\n",
        "wrong_test_preds_full.to_csv('wrong_test_preds_full.csv', index=False)\n",
        "\n",
        "# in case we want to explore further"
      ],
      "metadata": {
        "colab": {
          "base_uri": "https://localhost:8080/",
          "height": 17
        },
        "id": "ByO1Wq3_lz6y",
        "outputId": "0bfea51f-a846-4a60-a8d1-f36758113e43"
      },
      "execution_count": 194,
      "outputs": [
        {
          "output_type": "display_data",
          "data": {
            "text/plain": [
              "<IPython.core.display.HTML object>"
            ],
            "text/html": [
              "\n",
              "  <style>\n",
              "    pre {\n",
              "        white-space: pre-wrap;\n",
              "    }\n",
              "  </style>\n",
              "  "
            ]
          },
          "metadata": {}
        }
      ]
    },
    {
      "cell_type": "markdown",
      "source": [
        "## Conclusion\n",
        "\n",
        "Our dummy classifier gave us 60% accuracy or under, our Logistic Regression model gives 77% on the test set. Moreover our other metrics also do well.\n",
        "\n",
        "Parameters: penalty = l2, C = 0.1, solver = lbfgs, class_weights = balanced"
      ],
      "metadata": {
        "id": "4siH_ehhbOiN"
      }
    },
    {
      "cell_type": "code",
      "source": [
        "print(f\"Accuracy Score on Training Set for Logistic Regression: {logreg.score(X_train, y_train):.3f}\")\n",
        "print(f\"Accuracy Score on Test Set for Logistic Regression: {logreg.score(X_test, y_test):.3f}\")\n",
        "\n",
        "# params for logreg: penalty = l2, C: 0.1, solver=lbfgs, class_weights=balanced"
      ],
      "metadata": {
        "colab": {
          "base_uri": "https://localhost:8080/",
          "height": 53
        },
        "id": "VljKTsypt0P6",
        "outputId": "783e5efe-1727-4e6f-f051-b8a84c14f91b"
      },
      "execution_count": 196,
      "outputs": [
        {
          "output_type": "display_data",
          "data": {
            "text/plain": [
              "<IPython.core.display.HTML object>"
            ],
            "text/html": [
              "\n",
              "  <style>\n",
              "    pre {\n",
              "        white-space: pre-wrap;\n",
              "    }\n",
              "  </style>\n",
              "  "
            ]
          },
          "metadata": {}
        },
        {
          "output_type": "stream",
          "name": "stdout",
          "text": [
            "Accuracy Score on Training Set for Logistic Regression: 0.805\n",
            "Accuracy Score on Test Set for Logistic Regression: 0.772\n"
          ]
        }
      ]
    },
    {
      "cell_type": "code",
      "source": [
        "# from sklearn.metrics import accuracy_score, precision_score, recall_score, f1_score, roc_auc_score\n",
        "print(f\"Accuracy Score on Test Set for Logistic Regression Classifier: {accuracy_score(y_test, y_pred):.3f}\")\n",
        "print(f\"Precision Score on Test Set for Logistic Regression Classifier: {precision_score(y_test, y_pred):.3f}\")\n",
        "print(f\"Recall Score on Test Set for Logistic Regression Classifier: {recall_score(y_test, y_pred):.3f}\")\n",
        "print(f\"F1 Score on Test Set for Logistic Regression Classifier: {f1_score(y_test, y_pred):.3f}\")\n",
        "print(f\"ROC-AUC score on Test Set for Logistic Regression Classifier: {roc_auc_score(y_test, y_proba):.3f}\")"
      ],
      "metadata": {
        "colab": {
          "base_uri": "https://localhost:8080/",
          "height": 106
        },
        "id": "GRaXCj1w0G3O",
        "outputId": "348e48f2-3562-4943-b8f2-e2137aa6fc94"
      },
      "execution_count": 224,
      "outputs": [
        {
          "output_type": "display_data",
          "data": {
            "text/plain": [
              "<IPython.core.display.HTML object>"
            ],
            "text/html": [
              "\n",
              "  <style>\n",
              "    pre {\n",
              "        white-space: pre-wrap;\n",
              "    }\n",
              "  </style>\n",
              "  "
            ]
          },
          "metadata": {}
        },
        {
          "output_type": "stream",
          "name": "stdout",
          "text": [
            "Accuracy Score on Test Set for Logistic Regression Classifier: 0.772\n",
            "Precision Score on Test Set for Logistic Regression Classifier: 0.832\n",
            "Recall Score on Test Set for Logistic Regression Classifier: 0.797\n",
            "F1 Score on Test Set for Logistic Regression Classifier: 0.814\n",
            "ROC-AUC score on Test Set for Logistic Regression Classifier: 0.850\n"
          ]
        }
      ]
    },
    {
      "cell_type": "code",
      "source": [
        "# save this model\n",
        "\n",
        "from sklearn import __version__ as sklearn_version\n",
        "import datetime\n",
        "import pickle\n",
        "logreg.version = 1.0\n",
        "logreg.pandas_version = pd.__version__\n",
        "logreg.numpy_version = np.__version__\n",
        "logreg.sklearn_version = sklearn_version\n",
        "logreg.X_columns = [col for col in X_train.columns]\n",
        "logreg.build_datetime = datetime.datetime.now()"
      ],
      "metadata": {
        "colab": {
          "base_uri": "https://localhost:8080/",
          "height": 17
        },
        "id": "OLbRH_3-auaQ",
        "outputId": "39979808-81b3-45a1-815c-160382825b9f"
      },
      "execution_count": 146,
      "outputs": [
        {
          "output_type": "display_data",
          "data": {
            "text/plain": [
              "<IPython.core.display.HTML object>"
            ],
            "text/html": [
              "\n",
              "  <style>\n",
              "    pre {\n",
              "        white-space: pre-wrap;\n",
              "    }\n",
              "  </style>\n",
              "  "
            ]
          },
          "metadata": {}
        }
      ]
    },
    {
      "cell_type": "code",
      "source": [
        "savedmodel = 'banned_logreg_predictions.pkl'\n",
        "pickle.dump(logreg, open(savedmodel, 'wb'))"
      ],
      "metadata": {
        "id": "2aXcV2ajbIE-"
      },
      "execution_count": null,
      "outputs": []
    }
  ]
}